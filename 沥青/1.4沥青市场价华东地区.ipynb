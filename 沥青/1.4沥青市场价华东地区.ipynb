{
 "cells": [
  {
   "cell_type": "code",
   "execution_count": 1,
   "metadata": {
    "execution": {
     "iopub.execute_input": "2025-10-25T02:58:57.525435Z",
     "iopub.status.busy": "2025-10-25T02:58:57.525435Z",
     "iopub.status.idle": "2025-10-25T02:58:58.195486Z",
     "shell.execute_reply": "2025-10-25T02:58:58.195486Z"
    }
   },
   "outputs": [],
   "source": [
    "import pandas as pd\n",
    "import numpy as np\n",
    "import os\n",
    "import matplotlib.pyplot as plt\n",
    "from sklearn.linear_model import LinearRegression\n",
    "from sklearn.metrics import mean_squared_error, r2_score, mean_absolute_error\n",
    "import numpy as np"
   ]
  },
  {
   "cell_type": "code",
   "execution_count": 2,
   "metadata": {
    "execution": {
     "iopub.execute_input": "2025-10-25T02:58:58.196588Z",
     "iopub.status.busy": "2025-10-25T02:58:58.196588Z",
     "iopub.status.idle": "2025-10-25T02:58:58.198904Z",
     "shell.execute_reply": "2025-10-25T02:58:58.198904Z"
    }
   },
   "outputs": [],
   "source": [
    "# 设置字体为 SimHei（黑体），或者其他支持中文的字体\n",
    "plt.rcParams['font.sans-serif'] = ['SimHei']  # 设置字体\n",
    "plt.rcParams['axes.unicode_minus'] = False  # 正常显示负号"
   ]
  },
  {
   "cell_type": "code",
   "execution_count": 3,
   "metadata": {
    "execution": {
     "iopub.execute_input": "2025-10-25T02:58:58.199928Z",
     "iopub.status.busy": "2025-10-25T02:58:58.199928Z",
     "iopub.status.idle": "2025-10-25T02:58:58.299190Z",
     "shell.execute_reply": "2025-10-25T02:58:58.299190Z"
    }
   },
   "outputs": [],
   "source": [
    "# 获取当前文件所在目录的父目录\n",
    "import os\n",
    "import sys\n",
    "\n",
    "current_dir = os.getcwd()\n",
    "parent_dir = os.path.dirname(current_dir)\n",
    "\n",
    "if parent_dir not in sys.path:\n",
    "    sys.path.append(parent_dir)\n",
    "\n",
    "\n",
    "from Dtool import fill_missing_values, plot_factors_by_pattern, plot_comparison_multiple, reverse_column, plot_feature_importance,plot_predictions\n"
   ]
  },
  {
   "cell_type": "code",
   "execution_count": 4,
   "metadata": {
    "execution": {
     "iopub.execute_input": "2025-10-25T02:58:58.300831Z",
     "iopub.status.busy": "2025-10-25T02:58:58.300831Z",
     "iopub.status.idle": "2025-10-25T02:58:58.478732Z",
     "shell.execute_reply": "2025-10-25T02:58:58.478732Z"
    }
   },
   "outputs": [
    {
     "data": {
      "text/html": [
       "<div>\n",
       "<style scoped>\n",
       "    .dataframe tbody tr th:only-of-type {\n",
       "        vertical-align: middle;\n",
       "    }\n",
       "\n",
       "    .dataframe tbody tr th {\n",
       "        vertical-align: top;\n",
       "    }\n",
       "\n",
       "    .dataframe thead th {\n",
       "        text-align: right;\n",
       "    }\n",
       "</style>\n",
       "<table border=\"1\" class=\"dataframe\">\n",
       "  <thead>\n",
       "    <tr style=\"text-align: right;\">\n",
       "      <th></th>\n",
       "      <th>市场价（主流价）:沥青（重交沥青）：华东地区</th>\n",
       "      <th>Brent原油期货价格</th>\n",
       "      <th>市场价（主流价）:沥青（重交沥青）：华东地区拟合残差/Brent原油期货价格</th>\n",
       "    </tr>\n",
       "  </thead>\n",
       "  <tbody>\n",
       "    <tr>\n",
       "      <th>2025-11-17</th>\n",
       "      <td>NaN</td>\n",
       "      <td>NaN</td>\n",
       "      <td>NaN</td>\n",
       "    </tr>\n",
       "    <tr>\n",
       "      <th>2025-11-18</th>\n",
       "      <td>NaN</td>\n",
       "      <td>NaN</td>\n",
       "      <td>NaN</td>\n",
       "    </tr>\n",
       "    <tr>\n",
       "      <th>2025-11-19</th>\n",
       "      <td>NaN</td>\n",
       "      <td>NaN</td>\n",
       "      <td>NaN</td>\n",
       "    </tr>\n",
       "    <tr>\n",
       "      <th>2025-11-20</th>\n",
       "      <td>NaN</td>\n",
       "      <td>NaN</td>\n",
       "      <td>NaN</td>\n",
       "    </tr>\n",
       "    <tr>\n",
       "      <th>2025-11-21</th>\n",
       "      <td>NaN</td>\n",
       "      <td>NaN</td>\n",
       "      <td>NaN</td>\n",
       "    </tr>\n",
       "  </tbody>\n",
       "</table>\n",
       "</div>"
      ],
      "text/plain": [
       "            市场价（主流价）:沥青（重交沥青）：华东地区  Brent原油期货价格  \\\n",
       "2025-11-17                     NaN          NaN   \n",
       "2025-11-18                     NaN          NaN   \n",
       "2025-11-19                     NaN          NaN   \n",
       "2025-11-20                     NaN          NaN   \n",
       "2025-11-21                     NaN          NaN   \n",
       "\n",
       "            市场价（主流价）:沥青（重交沥青）：华东地区拟合残差/Brent原油期货价格  \n",
       "2025-11-17                                     NaN  \n",
       "2025-11-18                                     NaN  \n",
       "2025-11-19                                     NaN  \n",
       "2025-11-20                                     NaN  \n",
       "2025-11-21                                     NaN  "
      ]
     },
     "execution_count": 4,
     "metadata": {},
     "output_type": "execute_result"
    }
   ],
   "source": [
    "sheet = pd.read_excel('data_input/沥青市场价华东地区.xlsx', sheet_name='Sheet1').rename(columns={'DataTime': 'Date'})\n",
    "sheet = sheet.set_index('Date')\n",
    "last_day = sheet['市场价（主流价）:沥青（重交沥青）：华东地区'].last_valid_index()                        \n",
    "\n",
    "future_data_30days = sheet[sheet.index > last_day]\n",
    "target_days = pd.date_range(start=last_day+ pd.DateOffset(1), periods=20, freq='B')\n",
    "target_end = target_days[-1]\n",
    "new_index = pd.date_range(start=last_day+ pd.DateOffset(1), end=target_end, freq='B')\n",
    "sheet = sheet.reindex(sheet.index.union(new_index))\n",
    "sheet = sheet[sheet.index <= target_end]\n",
    "\n",
    "sheet.tail()\n"
   ]
  },
  {
   "cell_type": "code",
   "execution_count": 5,
   "metadata": {
    "execution": {
     "iopub.execute_input": "2025-10-25T02:58:58.497042Z",
     "iopub.status.busy": "2025-10-25T02:58:58.497042Z",
     "iopub.status.idle": "2025-10-25T02:58:58.518301Z",
     "shell.execute_reply": "2025-10-25T02:58:58.518301Z"
    }
   },
   "outputs": [
    {
     "data": {
      "text/html": [
       "<div>\n",
       "<style scoped>\n",
       "    .dataframe tbody tr th:only-of-type {\n",
       "        vertical-align: middle;\n",
       "    }\n",
       "\n",
       "    .dataframe tbody tr th {\n",
       "        vertical-align: top;\n",
       "    }\n",
       "\n",
       "    .dataframe thead th {\n",
       "        text-align: right;\n",
       "    }\n",
       "</style>\n",
       "<table border=\"1\" class=\"dataframe\">\n",
       "  <thead>\n",
       "    <tr style=\"text-align: right;\">\n",
       "      <th></th>\n",
       "      <th>Date</th>\n",
       "      <th>预测值</th>\n",
       "    </tr>\n",
       "  </thead>\n",
       "  <tbody>\n",
       "    <tr>\n",
       "      <th>4</th>\n",
       "      <td>2025-11-17</td>\n",
       "      <td>208.5</td>\n",
       "    </tr>\n",
       "    <tr>\n",
       "      <th>3</th>\n",
       "      <td>2025-11-18</td>\n",
       "      <td>181.4</td>\n",
       "    </tr>\n",
       "    <tr>\n",
       "      <th>2</th>\n",
       "      <td>2025-11-19</td>\n",
       "      <td>187.7</td>\n",
       "    </tr>\n",
       "    <tr>\n",
       "      <th>1</th>\n",
       "      <td>2025-11-20</td>\n",
       "      <td>208.1</td>\n",
       "    </tr>\n",
       "    <tr>\n",
       "      <th>0</th>\n",
       "      <td>2025-11-21</td>\n",
       "      <td>213.4</td>\n",
       "    </tr>\n",
       "  </tbody>\n",
       "</table>\n",
       "</div>"
      ],
      "text/plain": [
       "        Date    预测值\n",
       "4 2025-11-17  208.5\n",
       "3 2025-11-18  181.4\n",
       "2 2025-11-19  187.7\n",
       "1 2025-11-20  208.1\n",
       "0 2025-11-21  213.4"
      ]
     },
     "execution_count": 5,
     "metadata": {},
     "output_type": "execute_result"
    }
   ],
   "source": [
    "file_path1 = os.path.expanduser(\"eta/市场价沥青华东地区拟合残差-Brent原油期货价格_合并数据.xlsx\") \n",
    "sheet1 = pd.ExcelFile(file_path1).parse('Sheet1')\n",
    "sheet1['Date'] = pd.to_datetime(sheet1['Date'], errors='coerce')    \n",
    "sheet1 = sheet1.drop(columns=['真实值'])\n",
    "sheet1 = sheet1.dropna()\n",
    "\n",
    "sheet1 = sheet1.sort_values('Date', ascending=True)\n",
    "sheet1.tail()"
   ]
  },
  {
   "cell_type": "code",
   "execution_count": 6,
   "metadata": {
    "execution": {
     "iopub.execute_input": "2025-10-25T02:58:58.518807Z",
     "iopub.status.busy": "2025-10-25T02:58:58.518807Z",
     "iopub.status.idle": "2025-10-25T02:58:58.537010Z",
     "shell.execute_reply": "2025-10-25T02:58:58.537010Z"
    }
   },
   "outputs": [],
   "source": [
    "# 尝试多个可能的文件路径\n",
    "file_paths3 = [\n",
    "    os.path.expanduser(\"~/Desktop/X-BASE/wti模型3.0/eta/Brent原油价格_合并数据.xlsx\"),   \n",
    "    os.path.expanduser(\"~/Desktop/弘则研究/Horizon-Insights/X-base/wti模型3.0/eta/Brent原油价格_合并数据.xlsx\")\n",
    "]\n",
    "\n",
    "file_path3 = None\n",
    "for path in file_paths3:\n",
    "    if os.path.isfile(path):  # 确保是文件而不是目录\n",
    "        file_path3 = path   \n",
    "        break\n",
    "\n",
    "if file_path3 is None:\n",
    "    raise FileNotFoundError(\"未找到数据文件\")\n",
    "\n",
    "try:\n",
    "    sheet3 = pd.read_excel(file_path3, sheet_name='Sheet1')\n",
    "    sheet3['Date'] = pd.to_datetime(sheet3['Date'], errors='coerce')\n",
    "    sheet3 = sheet3.drop(columns=['布伦特原油期货价格'])\n",
    "    sheet3 = sheet3.dropna()\n",
    "    sheet3 = sheet3.sort_values('Date', ascending=True)\n",
    "    sheet3.head()\n",
    "except Exception as e:\n",
    "    raise Exception(f\"读取文件时出错: {str(e)}\")"
   ]
  },
  {
   "cell_type": "code",
   "execution_count": 7,
   "metadata": {
    "execution": {
     "iopub.execute_input": "2025-10-25T02:58:58.537519Z",
     "iopub.status.busy": "2025-10-25T02:58:58.537519Z",
     "iopub.status.idle": "2025-10-25T02:58:58.540385Z",
     "shell.execute_reply": "2025-10-25T02:58:58.540385Z"
    }
   },
   "outputs": [
    {
     "data": {
      "text/plain": [
       "Index(['市场价（主流价）:沥青（重交沥青）：华东地区', 'Brent原油期货价格',\n",
       "       '市场价（主流价）:沥青（重交沥青）：华东地区拟合残差/Brent原油期货价格'],\n",
       "      dtype='object')"
      ]
     },
     "execution_count": 7,
     "metadata": {},
     "output_type": "execute_result"
    }
   ],
   "source": [
    "sheet.columns"
   ]
  },
  {
   "cell_type": "code",
   "execution_count": 8,
   "metadata": {
    "execution": {
     "iopub.execute_input": "2025-10-25T02:58:58.540892Z",
     "iopub.status.busy": "2025-10-25T02:58:58.540892Z",
     "iopub.status.idle": "2025-10-25T02:58:58.548318Z",
     "shell.execute_reply": "2025-10-25T02:58:58.548318Z"
    }
   },
   "outputs": [
    {
     "data": {
      "text/html": [
       "<div>\n",
       "<style scoped>\n",
       "    .dataframe tbody tr th:only-of-type {\n",
       "        vertical-align: middle;\n",
       "    }\n",
       "\n",
       "    .dataframe tbody tr th {\n",
       "        vertical-align: top;\n",
       "    }\n",
       "\n",
       "    .dataframe thead th {\n",
       "        text-align: right;\n",
       "    }\n",
       "</style>\n",
       "<table border=\"1\" class=\"dataframe\">\n",
       "  <thead>\n",
       "    <tr style=\"text-align: right;\">\n",
       "      <th></th>\n",
       "      <th>Date</th>\n",
       "      <th>市场价（主流价）:沥青（重交沥青）：华东地区</th>\n",
       "      <th>Brent原油期货价格</th>\n",
       "      <th>市场价（主流价）:沥青（重交沥青）：华东地区拟合残差/Brent原油期货价格</th>\n",
       "    </tr>\n",
       "  </thead>\n",
       "  <tbody>\n",
       "    <tr>\n",
       "      <th>4428</th>\n",
       "      <td>2025-11-10</td>\n",
       "      <td>NaN</td>\n",
       "      <td>60.74</td>\n",
       "      <td>153.3</td>\n",
       "    </tr>\n",
       "    <tr>\n",
       "      <th>4429</th>\n",
       "      <td>2025-11-11</td>\n",
       "      <td>NaN</td>\n",
       "      <td>57.53</td>\n",
       "      <td>180.5</td>\n",
       "    </tr>\n",
       "    <tr>\n",
       "      <th>4430</th>\n",
       "      <td>2025-11-12</td>\n",
       "      <td>NaN</td>\n",
       "      <td>53.25</td>\n",
       "      <td>218.3</td>\n",
       "    </tr>\n",
       "    <tr>\n",
       "      <th>4431</th>\n",
       "      <td>2025-11-13</td>\n",
       "      <td>NaN</td>\n",
       "      <td>51.26</td>\n",
       "      <td>222.0</td>\n",
       "    </tr>\n",
       "    <tr>\n",
       "      <th>4432</th>\n",
       "      <td>2025-11-14</td>\n",
       "      <td>NaN</td>\n",
       "      <td>49.94</td>\n",
       "      <td>231.8</td>\n",
       "    </tr>\n",
       "    <tr>\n",
       "      <th>4433</th>\n",
       "      <td>2025-11-17</td>\n",
       "      <td>NaN</td>\n",
       "      <td>50.53</td>\n",
       "      <td>208.5</td>\n",
       "    </tr>\n",
       "    <tr>\n",
       "      <th>4434</th>\n",
       "      <td>2025-11-18</td>\n",
       "      <td>NaN</td>\n",
       "      <td>53.53</td>\n",
       "      <td>181.4</td>\n",
       "    </tr>\n",
       "    <tr>\n",
       "      <th>4435</th>\n",
       "      <td>2025-11-19</td>\n",
       "      <td>NaN</td>\n",
       "      <td>52.06</td>\n",
       "      <td>187.7</td>\n",
       "    </tr>\n",
       "    <tr>\n",
       "      <th>4436</th>\n",
       "      <td>2025-11-20</td>\n",
       "      <td>NaN</td>\n",
       "      <td>53.88</td>\n",
       "      <td>208.1</td>\n",
       "    </tr>\n",
       "    <tr>\n",
       "      <th>4437</th>\n",
       "      <td>2025-11-21</td>\n",
       "      <td>NaN</td>\n",
       "      <td>53.96</td>\n",
       "      <td>213.4</td>\n",
       "    </tr>\n",
       "  </tbody>\n",
       "</table>\n",
       "</div>"
      ],
      "text/plain": [
       "           Date  市场价（主流价）:沥青（重交沥青）：华东地区  Brent原油期货价格  \\\n",
       "4428 2025-11-10                     NaN        60.74   \n",
       "4429 2025-11-11                     NaN        57.53   \n",
       "4430 2025-11-12                     NaN        53.25   \n",
       "4431 2025-11-13                     NaN        51.26   \n",
       "4432 2025-11-14                     NaN        49.94   \n",
       "4433 2025-11-17                     NaN        50.53   \n",
       "4434 2025-11-18                     NaN        53.53   \n",
       "4435 2025-11-19                     NaN        52.06   \n",
       "4436 2025-11-20                     NaN        53.88   \n",
       "4437 2025-11-21                     NaN        53.96   \n",
       "\n",
       "      市场价（主流价）:沥青（重交沥青）：华东地区拟合残差/Brent原油期货价格  \n",
       "4428                                   153.3  \n",
       "4429                                   180.5  \n",
       "4430                                   218.3  \n",
       "4431                                   222.0  \n",
       "4432                                   231.8  \n",
       "4433                                   208.5  \n",
       "4434                                   181.4  \n",
       "4435                                   187.7  \n",
       "4436                                   208.1  \n",
       "4437                                   213.4  "
      ]
     },
     "execution_count": 8,
     "metadata": {},
     "output_type": "execute_result"
    }
   ],
   "source": [
    "# 合并 sheet1 和 sheet2 的数据到 sheet\n",
    "sheet_daily = sheet.copy()\n",
    "sheet_daily.index.name = 'Date'\n",
    "sheet_daily = sheet_daily.reset_index()\n",
    "\n",
    "# 合并 sheet1 的美国10年通胀预期数据\n",
    "sheet_daily = pd.merge(\n",
    "    sheet_daily,\n",
    "    sheet1[['Date', '预测值']],\n",
    "    on='Date',\n",
    "    how='left'\n",
    ")\n",
    "sheet_daily['市场价（主流价）:沥青（重交沥青）：华东地区拟合残差/Brent原油期货价格'] = sheet_daily['市场价（主流价）:沥青（重交沥青）：华东地区拟合残差/Brent原油期货价格'].fillna(sheet_daily['预测值'])\n",
    "sheet_daily = sheet_daily.drop(columns=['预测值'])\n",
    "\n",
    "# sheet 3\n",
    "sheet_daily = pd.merge(\n",
    "    sheet_daily,\n",
    "    sheet3[['Date', 'Brent原油期货价格预测']],\n",
    "    on='Date',\n",
    "    how='left'\n",
    ")\n",
    "sheet_daily['Brent原油期货价格'] = sheet_daily['Brent原油期货价格'].fillna(sheet_daily['Brent原油期货价格预测'])\n",
    "sheet_daily = sheet_daily.drop(columns=['Brent原油期货价格预测'])\n",
    "\n",
    "sheet_daily.tail(10)"
   ]
  },
  {
   "cell_type": "code",
   "execution_count": 9,
   "metadata": {
    "execution": {
     "iopub.execute_input": "2025-10-25T02:58:58.549442Z",
     "iopub.status.busy": "2025-10-25T02:58:58.549442Z",
     "iopub.status.idle": "2025-10-25T02:58:58.554049Z",
     "shell.execute_reply": "2025-10-25T02:58:58.554049Z"
    }
   },
   "outputs": [
    {
     "data": {
      "text/html": [
       "<div>\n",
       "<style scoped>\n",
       "    .dataframe tbody tr th:only-of-type {\n",
       "        vertical-align: middle;\n",
       "    }\n",
       "\n",
       "    .dataframe tbody tr th {\n",
       "        vertical-align: top;\n",
       "    }\n",
       "\n",
       "    .dataframe thead th {\n",
       "        text-align: right;\n",
       "    }\n",
       "</style>\n",
       "<table border=\"1\" class=\"dataframe\">\n",
       "  <thead>\n",
       "    <tr style=\"text-align: right;\">\n",
       "      <th></th>\n",
       "      <th>Date</th>\n",
       "      <th>市场价（主流价）:沥青（重交沥青）：华东地区</th>\n",
       "      <th>Brent原油期货价格</th>\n",
       "      <th>市场价（主流价）:沥青（重交沥青）：华东地区拟合残差/Brent原油期货价格</th>\n",
       "      <th>市场价（主流价）:沥青（重交沥青）：华东地区_预测</th>\n",
       "    </tr>\n",
       "  </thead>\n",
       "  <tbody>\n",
       "    <tr>\n",
       "      <th>4428</th>\n",
       "      <td>2025-11-10</td>\n",
       "      <td>NaN</td>\n",
       "      <td>60.74</td>\n",
       "      <td>153.3</td>\n",
       "      <td>3307.593282</td>\n",
       "    </tr>\n",
       "    <tr>\n",
       "      <th>4429</th>\n",
       "      <td>2025-11-11</td>\n",
       "      <td>NaN</td>\n",
       "      <td>57.53</td>\n",
       "      <td>180.5</td>\n",
       "      <td>3234.852179</td>\n",
       "    </tr>\n",
       "    <tr>\n",
       "      <th>4430</th>\n",
       "      <td>2025-11-12</td>\n",
       "      <td>NaN</td>\n",
       "      <td>53.25</td>\n",
       "      <td>218.3</td>\n",
       "      <td>3139.397375</td>\n",
       "    </tr>\n",
       "    <tr>\n",
       "      <th>4431</th>\n",
       "      <td>2025-11-13</td>\n",
       "      <td>NaN</td>\n",
       "      <td>51.26</td>\n",
       "      <td>222.0</td>\n",
       "      <td>3081.140118</td>\n",
       "    </tr>\n",
       "    <tr>\n",
       "      <th>4432</th>\n",
       "      <td>2025-11-14</td>\n",
       "      <td>NaN</td>\n",
       "      <td>49.94</td>\n",
       "      <td>231.8</td>\n",
       "      <td>3049.842842</td>\n",
       "    </tr>\n",
       "    <tr>\n",
       "      <th>4433</th>\n",
       "      <td>2025-11-17</td>\n",
       "      <td>NaN</td>\n",
       "      <td>50.53</td>\n",
       "      <td>208.5</td>\n",
       "      <td>3044.912079</td>\n",
       "    </tr>\n",
       "    <tr>\n",
       "      <th>4434</th>\n",
       "      <td>2025-11-18</td>\n",
       "      <td>NaN</td>\n",
       "      <td>53.53</td>\n",
       "      <td>181.4</td>\n",
       "      <td>3111.214979</td>\n",
       "    </tr>\n",
       "    <tr>\n",
       "      <th>4435</th>\n",
       "      <td>2025-11-19</td>\n",
       "      <td>NaN</td>\n",
       "      <td>52.06</td>\n",
       "      <td>187.7</td>\n",
       "      <td>3071.747558</td>\n",
       "    </tr>\n",
       "    <tr>\n",
       "      <th>4436</th>\n",
       "      <td>2025-11-20</td>\n",
       "      <td>NaN</td>\n",
       "      <td>53.88</td>\n",
       "      <td>208.1</td>\n",
       "      <td>3148.811984</td>\n",
       "    </tr>\n",
       "    <tr>\n",
       "      <th>4437</th>\n",
       "      <td>2025-11-21</td>\n",
       "      <td>NaN</td>\n",
       "      <td>53.96</td>\n",
       "      <td>213.4</td>\n",
       "      <td>3156.602728</td>\n",
       "    </tr>\n",
       "  </tbody>\n",
       "</table>\n",
       "</div>"
      ],
      "text/plain": [
       "           Date  市场价（主流价）:沥青（重交沥青）：华东地区  Brent原油期货价格  \\\n",
       "4428 2025-11-10                     NaN        60.74   \n",
       "4429 2025-11-11                     NaN        57.53   \n",
       "4430 2025-11-12                     NaN        53.25   \n",
       "4431 2025-11-13                     NaN        51.26   \n",
       "4432 2025-11-14                     NaN        49.94   \n",
       "4433 2025-11-17                     NaN        50.53   \n",
       "4434 2025-11-18                     NaN        53.53   \n",
       "4435 2025-11-19                     NaN        52.06   \n",
       "4436 2025-11-20                     NaN        53.88   \n",
       "4437 2025-11-21                     NaN        53.96   \n",
       "\n",
       "      市场价（主流价）:沥青（重交沥青）：华东地区拟合残差/Brent原油期货价格  市场价（主流价）:沥青（重交沥青）：华东地区_预测  \n",
       "4428                                   153.3                3307.593282  \n",
       "4429                                   180.5                3234.852179  \n",
       "4430                                   218.3                3139.397375  \n",
       "4431                                   222.0                3081.140118  \n",
       "4432                                   231.8                3049.842842  \n",
       "4433                                   208.5                3044.912079  \n",
       "4434                                   181.4                3111.214979  \n",
       "4435                                   187.7                3071.747558  \n",
       "4436                                   208.1                3148.811984  \n",
       "4437                                   213.4                3156.602728  "
      ]
     },
     "execution_count": 9,
     "metadata": {},
     "output_type": "execute_result"
    }
   ],
   "source": [
    "# 添加新列 主焦煤价格/临汾_预测\n",
    "sheet_daily['市场价（主流价）:沥青（重交沥青）：华东地区_预测'] = 31.1343*sheet_daily['Brent原油期货价格']+ 1263.1959 + sheet_daily['市场价（主流价）:沥青（重交沥青）：华东地区拟合残差/Brent原油期货价格']\n",
    "sheet_daily.tail(10)\n"
   ]
  },
  {
   "cell_type": "markdown",
   "metadata": {},
   "source": [
    "---"
   ]
  },
  {
   "cell_type": "code",
   "execution_count": 10,
   "metadata": {
    "execution": {
     "iopub.execute_input": "2025-10-25T02:58:58.554556Z",
     "iopub.status.busy": "2025-10-25T02:58:58.554556Z",
     "iopub.status.idle": "2025-10-25T02:58:58.639888Z",
     "shell.execute_reply": "2025-10-25T02:58:58.639888Z"
    }
   },
   "outputs": [
    {
     "data": {
      "text/html": [
       "<div>\n",
       "<style scoped>\n",
       "    .dataframe tbody tr th:only-of-type {\n",
       "        vertical-align: middle;\n",
       "    }\n",
       "\n",
       "    .dataframe tbody tr th {\n",
       "        vertical-align: top;\n",
       "    }\n",
       "\n",
       "    .dataframe thead th {\n",
       "        text-align: right;\n",
       "    }\n",
       "</style>\n",
       "<table border=\"1\" class=\"dataframe\">\n",
       "  <thead>\n",
       "    <tr style=\"text-align: right;\">\n",
       "      <th></th>\n",
       "      <th>Date</th>\n",
       "      <th>市场价（主流价）:沥青（重交沥青）：华东地区</th>\n",
       "      <th>市场价（主流价）:沥青（重交沥青）：华东地区_预测</th>\n",
       "    </tr>\n",
       "  </thead>\n",
       "  <tbody>\n",
       "    <tr>\n",
       "      <th>4437</th>\n",
       "      <td>2025/11/21</td>\n",
       "      <td>NaN</td>\n",
       "      <td>3156.602728</td>\n",
       "    </tr>\n",
       "    <tr>\n",
       "      <th>4436</th>\n",
       "      <td>2025/11/20</td>\n",
       "      <td>NaN</td>\n",
       "      <td>3148.811984</td>\n",
       "    </tr>\n",
       "    <tr>\n",
       "      <th>4435</th>\n",
       "      <td>2025/11/19</td>\n",
       "      <td>NaN</td>\n",
       "      <td>3071.747558</td>\n",
       "    </tr>\n",
       "    <tr>\n",
       "      <th>4434</th>\n",
       "      <td>2025/11/18</td>\n",
       "      <td>NaN</td>\n",
       "      <td>3111.214979</td>\n",
       "    </tr>\n",
       "    <tr>\n",
       "      <th>4433</th>\n",
       "      <td>2025/11/17</td>\n",
       "      <td>NaN</td>\n",
       "      <td>3044.912079</td>\n",
       "    </tr>\n",
       "  </tbody>\n",
       "</table>\n",
       "</div>"
      ],
      "text/plain": [
       "            Date  市场价（主流价）:沥青（重交沥青）：华东地区  市场价（主流价）:沥青（重交沥青）：华东地区_预测\n",
       "4437  2025/11/21                     NaN                3156.602728\n",
       "4436  2025/11/20                     NaN                3148.811984\n",
       "4435  2025/11/19                     NaN                3071.747558\n",
       "4434  2025/11/18                     NaN                3111.214979\n",
       "4433  2025/11/17                     NaN                3044.912079"
      ]
     },
     "execution_count": 10,
     "metadata": {},
     "output_type": "execute_result"
    }
   ],
   "source": [
    "# 创建历史数据部分\n",
    "historical = sheet_daily[sheet_daily['Date'] <= last_day][['Date', '市场价（主流价）:沥青（重交沥青）：华东地区']]\n",
    "historical.columns = ['Date', '市场价（主流价）:沥青（重交沥青）：华东地区']\n",
    "\n",
    "# 创建预测数据部分 \n",
    "forecast = sheet_daily[sheet_daily['Date'] > last_day][['Date', '市场价（主流价）:沥青（重交沥青）：华东地区_预测']]\n",
    "forecast.columns = ['Date', '市场价（主流价）:沥青（重交沥青）：华东地区_预测']\n",
    "\n",
    "\n",
    "# 合并历史和预测数据\n",
    "merged_df_daily = pd.concat([historical, forecast], axis=0, join='outer')\n",
    "merged_df_daily = merged_df_daily.sort_values('Date').reset_index(drop=True)\n",
    "merged_df_daily = merged_df_daily.sort_values(by='Date', ascending=False)\n",
    "merged_df_daily['Date'] = merged_df_daily['Date'].dt.strftime('%Y/%m/%d')\n",
    "# 去除两列均为空值的行\n",
    "merged_df_daily = merged_df_daily.dropna(subset=['市场价（主流价）:沥青（重交沥青）：华东地区', '市场价（主流价）:沥青（重交沥青）：华东地区_预测'], how='all')\n",
    "\n",
    "\n",
    "\n",
    "merged_df_daily.to_excel('eta/市场价（主流价）-沥青（重交沥青）-华东地区_合并数据.xlsx', index=False,float_format='%.6f')\n",
    "merged_df_daily.head()"
   ]
  },
  {
   "cell_type": "code",
   "execution_count": 11,
   "metadata": {
    "execution": {
     "iopub.execute_input": "2025-10-25T02:58:58.641023Z",
     "iopub.status.busy": "2025-10-25T02:58:58.641023Z",
     "iopub.status.idle": "2025-10-25T02:58:58.761255Z",
     "shell.execute_reply": "2025-10-25T02:58:58.761255Z"
    }
   },
   "outputs": [
    {
     "data": {
      "image/png": "[encoded data removed]",
      "text/plain": [
       "<Figure size 3000x800 with 1 Axes>"
      ]
     },
     "metadata": {},
     "output_type": "display_data"
    }
   ],
   "source": [
    "# 设置图形大小\n",
    "plt.figure(figsize=(30, 8))\n",
    "\n",
    "merged_df_daily_plot_pf = merged_df_daily.copy()\n",
    "merged_df_daily_plot_pf['Date'] = pd.to_datetime(merged_df_daily_plot_pf['Date'])\n",
    "\n",
    "# 筛选2023年及以后的数据\n",
    "merged_df_daily_plot_pf = merged_df_daily_plot_pf[merged_df_daily_plot_pf['Date'] >= '2021-01-01']\n",
    "\n",
    "# 绘制真实值曲线(蓝色)\n",
    "plt.plot(merged_df_daily_plot_pf['Date'], merged_df_daily_plot_pf['市场价（主流价）:沥青（重交沥青）：华东地区'], color='blue', label='真实值')\n",
    "plt.plot(merged_df_daily_plot_pf['Date'], merged_df_daily_plot_pf['市场价（主流价）:沥青（重交沥青）：华东地区_预测'], color='red', label='预测值')\n",
    "\n",
    "avline_date = pd.to_datetime(last_day)\n",
    "plt.axvline(x=avline_date, color='black', linestyle='--')\n",
    "\n",
    "# 设置图例\n",
    "plt.legend()\n",
    "\n",
    "# 设置标题和标签\n",
    "plt.title('市场价（主流价）:沥青（重交沥青）：华东地区')\n",
    "plt.xlabel('日期')\n",
    "plt.ylabel('值')\n",
    "plt.grid(True)\n",
    "plt.tight_layout()\n",
    "plt.show()"
   ]
  },
  {
   "cell_type": "code",
   "execution_count": 12,
   "metadata": {
    "execution": {
     "iopub.execute_input": "2025-10-25T02:58:58.762275Z",
     "iopub.status.busy": "2025-10-25T02:58:58.762275Z",
     "iopub.status.idle": "2025-10-25T02:58:58.781057Z",
     "shell.execute_reply": "2025-10-25T02:58:58.781057Z"
    }
   },
   "outputs": [
    {
     "data": {
      "text/html": [
       "<div>\n",
       "<style scoped>\n",
       "    .dataframe tbody tr th:only-of-type {\n",
       "        vertical-align: middle;\n",
       "    }\n",
       "\n",
       "    .dataframe tbody tr th {\n",
       "        vertical-align: top;\n",
       "    }\n",
       "\n",
       "    .dataframe thead th {\n",
       "        text-align: right;\n",
       "    }\n",
       "</style>\n",
       "<table border=\"1\" class=\"dataframe\">\n",
       "  <thead>\n",
       "    <tr style=\"text-align: right;\">\n",
       "      <th></th>\n",
       "      <th>Date</th>\n",
       "      <th>市场价（主流价）:沥青（重交沥青）：华东地区</th>\n",
       "      <th>市场价（主流价）:沥青（重交沥青）：华东地区_预测</th>\n",
       "    </tr>\n",
       "  </thead>\n",
       "  <tbody>\n",
       "    <tr>\n",
       "      <th>205</th>\n",
       "      <td>2025/11/30</td>\n",
       "      <td>NaN</td>\n",
       "      <td>3235.0</td>\n",
       "    </tr>\n",
       "    <tr>\n",
       "      <th>204</th>\n",
       "      <td>2025/10/31</td>\n",
       "      <td>3509.0</td>\n",
       "      <td>3486.0</td>\n",
       "    </tr>\n",
       "    <tr>\n",
       "      <th>203</th>\n",
       "      <td>2025/09/30</td>\n",
       "      <td>3622.0</td>\n",
       "      <td>3625.0</td>\n",
       "    </tr>\n",
       "    <tr>\n",
       "      <th>202</th>\n",
       "      <td>2025/08/31</td>\n",
       "      <td>3737.0</td>\n",
       "      <td>3737.0</td>\n",
       "    </tr>\n",
       "    <tr>\n",
       "      <th>201</th>\n",
       "      <td>2025/07/31</td>\n",
       "      <td>3789.0</td>\n",
       "      <td>3789.0</td>\n",
       "    </tr>\n",
       "    <tr>\n",
       "      <th>...</th>\n",
       "      <td>...</td>\n",
       "      <td>...</td>\n",
       "      <td>...</td>\n",
       "    </tr>\n",
       "    <tr>\n",
       "      <th>4</th>\n",
       "      <td>2009/02/28</td>\n",
       "      <td>NaN</td>\n",
       "      <td>NaN</td>\n",
       "    </tr>\n",
       "    <tr>\n",
       "      <th>3</th>\n",
       "      <td>2009/01/31</td>\n",
       "      <td>NaN</td>\n",
       "      <td>NaN</td>\n",
       "    </tr>\n",
       "    <tr>\n",
       "      <th>2</th>\n",
       "      <td>2008/12/31</td>\n",
       "      <td>NaN</td>\n",
       "      <td>NaN</td>\n",
       "    </tr>\n",
       "    <tr>\n",
       "      <th>1</th>\n",
       "      <td>2008/11/30</td>\n",
       "      <td>NaN</td>\n",
       "      <td>NaN</td>\n",
       "    </tr>\n",
       "    <tr>\n",
       "      <th>0</th>\n",
       "      <td>2008/10/31</td>\n",
       "      <td>NaN</td>\n",
       "      <td>NaN</td>\n",
       "    </tr>\n",
       "  </tbody>\n",
       "</table>\n",
       "<p>206 rows × 3 columns</p>\n",
       "</div>"
      ],
      "text/plain": [
       "           Date  市场价（主流价）:沥青（重交沥青）：华东地区  市场价（主流价）:沥青（重交沥青）：华东地区_预测\n",
       "205  2025/11/30                     NaN                     3235.0\n",
       "204  2025/10/31                  3509.0                     3486.0\n",
       "203  2025/09/30                  3622.0                     3625.0\n",
       "202  2025/08/31                  3737.0                     3737.0\n",
       "201  2025/07/31                  3789.0                     3789.0\n",
       "..          ...                     ...                        ...\n",
       "4    2009/02/28                     NaN                        NaN\n",
       "3    2009/01/31                     NaN                        NaN\n",
       "2    2008/12/31                     NaN                        NaN\n",
       "1    2008/11/30                     NaN                        NaN\n",
       "0    2008/10/31                     NaN                        NaN\n",
       "\n",
       "[206 rows x 3 columns]"
      ]
     },
     "execution_count": 12,
     "metadata": {},
     "output_type": "execute_result"
    }
   ],
   "source": [
    "# 创建历史数据部分\n",
    "historical_monthly = sheet_daily[sheet_daily['Date'] <= last_day][['Date', '市场价（主流价）:沥青（重交沥青）：华东地区']]\n",
    "historical_monthly.columns = ['Date', '市场价（主流价）:沥青（重交沥青）：华东地区']\n",
    "\n",
    "# 创建预测数据部分 \n",
    "forecast_monthly = sheet_daily[sheet_daily['Date'] >= pd.Timestamp('2024-10-01')][['Date', '市场价（主流价）:沥青（重交沥青）：华东地区_预测']]\n",
    "forecast_monthly.columns = ['Date', '市场价（主流价）:沥青（重交沥青）：华东地区_预测']\n",
    "\n",
    "merged_df_monthly = pd.merge(historical_monthly, forecast_monthly, on='Date', how='outer')\n",
    "merged_df_monthly.set_index('Date', inplace=True)\n",
    "merged_df_monthly = merged_df_monthly.resample('ME').mean()\n",
    "merged_df_monthly.reset_index(inplace=True)\n",
    "merged_df_monthly =merged_df_monthly.sort_values('Date', ascending=False)\n",
    "merged_df_monthly['Date'] = merged_df_monthly['Date'].dt.strftime('%Y/%m/%d')\n",
    "# 将数值列保留2位小数\n",
    "merged_df_monthly['市场价（主流价）:沥青（重交沥青）：华东地区'] = merged_df_monthly['市场价（主流价）:沥青（重交沥青）：华东地区'].round(0)\n",
    "merged_df_monthly['市场价（主流价）:沥青（重交沥青）：华东地区_预测'] = merged_df_monthly['市场价（主流价）:沥青（重交沥青）：华东地区_预测'].round(0)\n",
    "\n",
    "merged_df_monthly.to_excel('eta/市场价（主流价）-沥青（重交沥青）-华东地区_月度数据.xlsx', index=False,float_format= '%.4f')            \n",
    "merged_df_monthly"
   ]
  },
  {
   "cell_type": "markdown",
   "metadata": {},
   "source": [
    "---"
   ]
  },
  {
   "cell_type": "code",
   "execution_count": 13,
   "metadata": {
    "execution": {
     "iopub.execute_input": "2025-10-25T02:58:58.781563Z",
     "iopub.status.busy": "2025-10-25T02:58:58.781563Z",
     "iopub.status.idle": "2025-10-25T02:58:59.326886Z",
     "shell.execute_reply": "2025-10-25T02:58:59.326886Z"
    }
   },
   "outputs": [
    {
     "name": "stdout",
     "output_type": "stream",
     "text": [
      "成功更新 日度数据表 中的数据\n",
      "数据已成功更新到Excel文件\n"
     ]
    }
   ],
   "source": [
    "from Dcel import update_excel_data\n",
    "# 使用示例\n",
    "file_path = \"eta/1.沥青_数据上传.xlsx\"\n",
    "sheet_name = \"日度数据表\"\n",
    "identifier = \"市场价（主流价）:沥青（重交沥青）：华东地区\"\n",
    "\n",
    "# 调用函数更新数据\n",
    "success = update_excel_data(merged_df_daily, file_path, sheet_name, identifier)\n",
    "\n",
    "if success:\n",
    "    print(\"数据已成功更新到Excel文件\")\n",
    "else:\n",
    "    print(\"数据更新失败，请检查错误信息\")"
   ]
  },
  {
   "cell_type": "code",
   "execution_count": 14,
   "metadata": {
    "execution": {
     "iopub.execute_input": "2025-10-25T02:58:59.328548Z",
     "iopub.status.busy": "2025-10-25T02:58:59.328548Z",
     "iopub.status.idle": "2025-10-25T02:58:59.476927Z",
     "shell.execute_reply": "2025-10-25T02:58:59.476419Z"
    }
   },
   "outputs": [
    {
     "name": "stdout",
     "output_type": "stream",
     "text": [
      "数据过滤完成: 保留 23 条数据（2024/01/31 之后），按时间倒序排列\n",
      "已完成：插入/更新数据，并重新计算'方向/偏差率' (protected_date = 2025/10/31, cutoff_date = 2024/01/31)\n",
      "数据已成功更新到Excel文件\n"
     ]
    }
   ],
   "source": [
    "from Lcel import update_excel_data\n",
    "file_path = \"eta/1.沥青_数据上传.xlsx\"\n",
    "sheet_name = \"详情页\"\n",
    "identifier = \"市场价（主流价）:沥青（重交沥青）：华东地区\"       # NEW: 新增日期标识符列的抬头\n",
    "# 调用函数更新数据\n",
    "success = update_excel_data(merged_df_monthly, file_path, sheet_name, identifier)\n",
    "\n",
    "if success:\n",
    "    print(\"数据已成功更新到Excel文件\")\n",
    "else:\n",
    "    print(\"数据更新失败，请检查错误信息\")"
   ]
  }
 ],
 "metadata": {
  "kernelspec": {
   "display_name": "Python 3",
   "language": "python",
   "name": "python3"
  },
  "language_info": {
   "codemirror_mode": {
    "name": "ipython",
    "version": 3
   },
   "file_extension": ".py",
   "mimetype": "text/x-python",
   "name": "python",
   "nbconvert_exporter": "python",
   "pygments_lexer": "ipython3",
   "version": "3.12.4"
  }
 },
 "nbformat": 4,
 "nbformat_minor": 2
}
