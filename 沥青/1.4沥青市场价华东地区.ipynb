{
 "cells": [
  {
   "cell_type": "code",
   "execution_count": 1,
   "metadata": {
    "execution": {
     "iopub.execute_input": "2025-10-29T08:10:56.265349Z",
     "iopub.status.busy": "2025-10-29T08:10:56.264910Z",
     "iopub.status.idle": "2025-10-29T08:10:58.075756Z",
     "shell.execute_reply": "2025-10-29T08:10:58.074962Z"
    }
   },
   "outputs": [],
   "source": [
    "import pandas as pd\n",
    "import numpy as np\n",
    "import os\n",
    "import matplotlib.pyplot as plt\n",
    "from sklearn.linear_model import LinearRegression\n",
    "from sklearn.metrics import mean_squared_error, r2_score, mean_absolute_error\n",
    "import numpy as np"
   ]
  },
  {
   "cell_type": "code",
   "execution_count": 2,
   "metadata": {
    "execution": {
     "iopub.execute_input": "2025-10-29T08:10:58.077808Z",
     "iopub.status.busy": "2025-10-29T08:10:58.077596Z",
     "iopub.status.idle": "2025-10-29T08:10:58.081014Z",
     "shell.execute_reply": "2025-10-29T08:10:58.080578Z"
    }
   },
   "outputs": [],
   "source": [
    "# 设置字体为 SimHei（黑体），或者其他支持中文的字体\n",
    "plt.rcParams['font.sans-serif'] = ['SimHei']  # 设置字体\n",
    "plt.rcParams['axes.unicode_minus'] = False  # 正常显示负号"
   ]
  },
  {
   "cell_type": "code",
   "execution_count": 3,
   "metadata": {
    "execution": {
     "iopub.execute_input": "2025-10-29T08:10:58.083301Z",
     "iopub.status.busy": "2025-10-29T08:10:58.083126Z",
     "iopub.status.idle": "2025-10-29T08:10:58.329964Z",
     "shell.execute_reply": "2025-10-29T08:10:58.329004Z"
    }
   },
   "outputs": [],
   "source": [
    "# 获取当前文件所在目录的父目录\n",
    "import os\n",
    "import sys\n",
    "\n",
    "current_dir = os.getcwd()\n",
    "parent_dir = os.path.dirname(current_dir)\n",
    "\n",
    "if parent_dir not in sys.path:\n",
    "    sys.path.append(parent_dir)\n",
    "\n",
    "\n",
    "from Dtool import fill_missing_values, plot_factors_by_pattern, plot_comparison_multiple, reverse_column, plot_feature_importance,plot_predictions\n"
   ]
  },
  {
   "cell_type": "code",
   "execution_count": 4,
   "metadata": {
    "execution": {
     "iopub.execute_input": "2025-10-29T08:10:58.332094Z",
     "iopub.status.busy": "2025-10-29T08:10:58.331886Z",
     "iopub.status.idle": "2025-10-29T08:10:58.685342Z",
     "shell.execute_reply": "2025-10-29T08:10:58.684396Z"
    }
   },
   "outputs": [
    {
     "data": {
      "text/html": [
       "<div>\n",
       "<style scoped>\n",
       "    .dataframe tbody tr th:only-of-type {\n",
       "        vertical-align: middle;\n",
       "    }\n",
       "\n",
       "    .dataframe tbody tr th {\n",
       "        vertical-align: top;\n",
       "    }\n",
       "\n",
       "    .dataframe thead th {\n",
       "        text-align: right;\n",
       "    }\n",
       "</style>\n",
       "<table border=\"1\" class=\"dataframe\">\n",
       "  <thead>\n",
       "    <tr style=\"text-align: right;\">\n",
       "      <th></th>\n",
       "      <th>市场价（主流价）:沥青（重交沥青）：华东地区</th>\n",
       "      <th>Brent原油期货价格</th>\n",
       "      <th>市场价（主流价）:沥青（重交沥青）：华东地区拟合残差/Brent原油期货价格</th>\n",
       "    </tr>\n",
       "  </thead>\n",
       "  <tbody>\n",
       "    <tr>\n",
       "      <th>2025-11-19</th>\n",
       "      <td>NaN</td>\n",
       "      <td>NaN</td>\n",
       "      <td>NaN</td>\n",
       "    </tr>\n",
       "    <tr>\n",
       "      <th>2025-11-20</th>\n",
       "      <td>NaN</td>\n",
       "      <td>NaN</td>\n",
       "      <td>NaN</td>\n",
       "    </tr>\n",
       "    <tr>\n",
       "      <th>2025-11-21</th>\n",
       "      <td>NaN</td>\n",
       "      <td>NaN</td>\n",
       "      <td>NaN</td>\n",
       "    </tr>\n",
       "    <tr>\n",
       "      <th>2025-11-24</th>\n",
       "      <td>NaN</td>\n",
       "      <td>NaN</td>\n",
       "      <td>NaN</td>\n",
       "    </tr>\n",
       "    <tr>\n",
       "      <th>2025-11-25</th>\n",
       "      <td>NaN</td>\n",
       "      <td>NaN</td>\n",
       "      <td>NaN</td>\n",
       "    </tr>\n",
       "  </tbody>\n",
       "</table>\n",
       "</div>"
      ],
      "text/plain": [
       "            市场价（主流价）:沥青（重交沥青）：华东地区  Brent原油期货价格  \\\n",
       "2025-11-19                     NaN          NaN   \n",
       "2025-11-20                     NaN          NaN   \n",
       "2025-11-21                     NaN          NaN   \n",
       "2025-11-24                     NaN          NaN   \n",
       "2025-11-25                     NaN          NaN   \n",
       "\n",
       "            市场价（主流价）:沥青（重交沥青）：华东地区拟合残差/Brent原油期货价格  \n",
       "2025-11-19                                     NaN  \n",
       "2025-11-20                                     NaN  \n",
       "2025-11-21                                     NaN  \n",
       "2025-11-24                                     NaN  \n",
       "2025-11-25                                     NaN  "
      ]
     },
     "execution_count": 4,
     "metadata": {},
     "output_type": "execute_result"
    }
   ],
   "source": [
    "sheet = pd.read_excel('data_input/沥青市场价华东地区.xlsx', sheet_name='Sheet1').rename(columns={'DataTime': 'Date'})\n",
    "sheet = sheet.set_index('Date')\n",
    "last_day = sheet['市场价（主流价）:沥青（重交沥青）：华东地区'].last_valid_index()                        \n",
    "\n",
    "future_data_30days = sheet[sheet.index > last_day]\n",
    "target_days = pd.date_range(start=last_day+ pd.DateOffset(1), periods=20, freq='B')\n",
    "target_end = target_days[-1]\n",
    "new_index = pd.date_range(start=last_day+ pd.DateOffset(1), end=target_end, freq='B')\n",
    "sheet = sheet.reindex(sheet.index.union(new_index))\n",
    "sheet = sheet[sheet.index <= target_end]\n",
    "\n",
    "sheet.tail()\n"
   ]
  },
  {
   "cell_type": "code",
   "execution_count": 5,
   "metadata": {
    "execution": {
     "iopub.execute_input": "2025-10-29T08:10:58.717377Z",
     "iopub.status.busy": "2025-10-29T08:10:58.717162Z",
     "iopub.status.idle": "2025-10-29T08:10:58.771511Z",
     "shell.execute_reply": "2025-10-29T08:10:58.769992Z"
    }
   },
   "outputs": [
    {
     "data": {
      "text/html": [
       "<div>\n",
       "<style scoped>\n",
       "    .dataframe tbody tr th:only-of-type {\n",
       "        vertical-align: middle;\n",
       "    }\n",
       "\n",
       "    .dataframe tbody tr th {\n",
       "        vertical-align: top;\n",
       "    }\n",
       "\n",
       "    .dataframe thead th {\n",
       "        text-align: right;\n",
       "    }\n",
       "</style>\n",
       "<table border=\"1\" class=\"dataframe\">\n",
       "  <thead>\n",
       "    <tr style=\"text-align: right;\">\n",
       "      <th></th>\n",
       "      <th>Date</th>\n",
       "      <th>预测值</th>\n",
       "    </tr>\n",
       "  </thead>\n",
       "  <tbody>\n",
       "    <tr>\n",
       "      <th>4</th>\n",
       "      <td>2025-11-18</td>\n",
       "      <td>79.7</td>\n",
       "    </tr>\n",
       "    <tr>\n",
       "      <th>3</th>\n",
       "      <td>2025-11-19</td>\n",
       "      <td>74.2</td>\n",
       "    </tr>\n",
       "    <tr>\n",
       "      <th>2</th>\n",
       "      <td>2025-11-20</td>\n",
       "      <td>63.5</td>\n",
       "    </tr>\n",
       "    <tr>\n",
       "      <th>1</th>\n",
       "      <td>2025-11-21</td>\n",
       "      <td>50.0</td>\n",
       "    </tr>\n",
       "    <tr>\n",
       "      <th>0</th>\n",
       "      <td>2025-11-24</td>\n",
       "      <td>90.1</td>\n",
       "    </tr>\n",
       "  </tbody>\n",
       "</table>\n",
       "</div>"
      ],
      "text/plain": [
       "        Date   预测值\n",
       "4 2025-11-18  79.7\n",
       "3 2025-11-19  74.2\n",
       "2 2025-11-20  63.5\n",
       "1 2025-11-21  50.0\n",
       "0 2025-11-24  90.1"
      ]
     },
     "execution_count": 5,
     "metadata": {},
     "output_type": "execute_result"
    }
   ],
   "source": [
    "file_path1 = os.path.expanduser(\"eta/市场价沥青华东地区拟合残差-Brent原油期货价格_合并数据.xlsx\") \n",
    "sheet1 = pd.ExcelFile(file_path1).parse('Sheet1')\n",
    "sheet1['Date'] = pd.to_datetime(sheet1['Date'], errors='coerce')    \n",
    "sheet1 = sheet1.drop(columns=['真实值'])\n",
    "sheet1 = sheet1.dropna()\n",
    "\n",
    "sheet1 = sheet1.sort_values('Date', ascending=True)\n",
    "sheet1.tail()"
   ]
  },
  {
   "cell_type": "code",
   "execution_count": 6,
   "metadata": {
    "execution": {
     "iopub.execute_input": "2025-10-29T08:10:58.774107Z",
     "iopub.status.busy": "2025-10-29T08:10:58.773946Z",
     "iopub.status.idle": "2025-10-29T08:10:58.809113Z",
     "shell.execute_reply": "2025-10-29T08:10:58.807649Z"
    }
   },
   "outputs": [],
   "source": [
    "# 尝试多个可能的文件路径\n",
    "file_paths3 = [\n",
    "    os.path.expanduser(\"~/Desktop/X-BASE/wti模型3.0/eta/Brent原油价格_合并数据.xlsx\"),   \n",
    "    os.path.expanduser(\"~/Desktop/弘则研究/Horizon-Insights/X-base/wti模型3.0/eta/Brent原油价格_合并数据.xlsx\"),\n",
    "    os.path.expanduser(\"~/Downloads/hongze/wti模型3.0/eta/Brent原油价格_合并数据.xlsx\")\n",
    "]\n",
    "\n",
    "file_path3 = None\n",
    "for path in file_paths3:\n",
    "    if os.path.isfile(path):  # 确保是文件而不是目录\n",
    "        file_path3 = path   \n",
    "        break\n",
    "\n",
    "if file_path3 is None:\n",
    "    raise FileNotFoundError(\"未找到数据文件\")\n",
    "\n",
    "try:\n",
    "    sheet3 = pd.read_excel(file_path3, sheet_name='Sheet1')\n",
    "    sheet3['Date'] = pd.to_datetime(sheet3['Date'], errors='coerce')\n",
    "    sheet3 = sheet3.drop(columns=['布伦特原油期货价格'])\n",
    "    sheet3 = sheet3.dropna()\n",
    "    sheet3 = sheet3.sort_values('Date', ascending=True)\n",
    "    sheet3.head()\n",
    "except Exception as e:\n",
    "    raise Exception(f\"读取文件时出错: {str(e)}\")"
   ]
  },
  {
   "cell_type": "code",
   "execution_count": 7,
   "metadata": {
    "execution": {
     "iopub.execute_input": "2025-10-29T08:10:58.813286Z",
     "iopub.status.busy": "2025-10-29T08:10:58.812627Z",
     "iopub.status.idle": "2025-10-29T08:10:58.821351Z",
     "shell.execute_reply": "2025-10-29T08:10:58.819730Z"
    }
   },
   "outputs": [
    {
     "data": {
      "text/plain": [
       "Index(['市场价（主流价）:沥青（重交沥青）：华东地区', 'Brent原油期货价格',\n",
       "       '市场价（主流价）:沥青（重交沥青）：华东地区拟合残差/Brent原油期货价格'],\n",
       "      dtype='object')"
      ]
     },
     "execution_count": 7,
     "metadata": {},
     "output_type": "execute_result"
    }
   ],
   "source": [
    "sheet.columns"
   ]
  },
  {
   "cell_type": "code",
   "execution_count": 8,
   "metadata": {
    "execution": {
     "iopub.execute_input": "2025-10-29T08:10:58.824640Z",
     "iopub.status.busy": "2025-10-29T08:10:58.824309Z",
     "iopub.status.idle": "2025-10-29T08:10:58.836719Z",
     "shell.execute_reply": "2025-10-29T08:10:58.836056Z"
    }
   },
   "outputs": [
    {
     "data": {
      "text/html": [
       "<div>\n",
       "<style scoped>\n",
       "    .dataframe tbody tr th:only-of-type {\n",
       "        vertical-align: middle;\n",
       "    }\n",
       "\n",
       "    .dataframe tbody tr th {\n",
       "        vertical-align: top;\n",
       "    }\n",
       "\n",
       "    .dataframe thead th {\n",
       "        text-align: right;\n",
       "    }\n",
       "</style>\n",
       "<table border=\"1\" class=\"dataframe\">\n",
       "  <thead>\n",
       "    <tr style=\"text-align: right;\">\n",
       "      <th></th>\n",
       "      <th>Date</th>\n",
       "      <th>市场价（主流价）:沥青（重交沥青）：华东地区</th>\n",
       "      <th>Brent原油期货价格</th>\n",
       "      <th>市场价（主流价）:沥青（重交沥青）：华东地区拟合残差/Brent原油期货价格</th>\n",
       "    </tr>\n",
       "  </thead>\n",
       "  <tbody>\n",
       "    <tr>\n",
       "      <th>4430</th>\n",
       "      <td>2025-11-12</td>\n",
       "      <td>NaN</td>\n",
       "      <td>78.72</td>\n",
       "      <td>76.1</td>\n",
       "    </tr>\n",
       "    <tr>\n",
       "      <th>4431</th>\n",
       "      <td>2025-11-13</td>\n",
       "      <td>NaN</td>\n",
       "      <td>78.82</td>\n",
       "      <td>80.3</td>\n",
       "    </tr>\n",
       "    <tr>\n",
       "      <th>4432</th>\n",
       "      <td>2025-11-14</td>\n",
       "      <td>NaN</td>\n",
       "      <td>78.24</td>\n",
       "      <td>79.4</td>\n",
       "    </tr>\n",
       "    <tr>\n",
       "      <th>4433</th>\n",
       "      <td>2025-11-17</td>\n",
       "      <td>NaN</td>\n",
       "      <td>78.11</td>\n",
       "      <td>85.0</td>\n",
       "    </tr>\n",
       "    <tr>\n",
       "      <th>4434</th>\n",
       "      <td>2025-11-18</td>\n",
       "      <td>NaN</td>\n",
       "      <td>80.16</td>\n",
       "      <td>79.7</td>\n",
       "    </tr>\n",
       "    <tr>\n",
       "      <th>4435</th>\n",
       "      <td>2025-11-19</td>\n",
       "      <td>NaN</td>\n",
       "      <td>82.20</td>\n",
       "      <td>74.2</td>\n",
       "    </tr>\n",
       "    <tr>\n",
       "      <th>4436</th>\n",
       "      <td>2025-11-20</td>\n",
       "      <td>NaN</td>\n",
       "      <td>81.78</td>\n",
       "      <td>63.5</td>\n",
       "    </tr>\n",
       "    <tr>\n",
       "      <th>4437</th>\n",
       "      <td>2025-11-21</td>\n",
       "      <td>NaN</td>\n",
       "      <td>81.46</td>\n",
       "      <td>50.0</td>\n",
       "    </tr>\n",
       "    <tr>\n",
       "      <th>4438</th>\n",
       "      <td>2025-11-24</td>\n",
       "      <td>NaN</td>\n",
       "      <td>78.77</td>\n",
       "      <td>90.1</td>\n",
       "    </tr>\n",
       "    <tr>\n",
       "      <th>4439</th>\n",
       "      <td>2025-11-25</td>\n",
       "      <td>NaN</td>\n",
       "      <td>78.78</td>\n",
       "      <td>NaN</td>\n",
       "    </tr>\n",
       "  </tbody>\n",
       "</table>\n",
       "</div>"
      ],
      "text/plain": [
       "           Date  市场价（主流价）:沥青（重交沥青）：华东地区  Brent原油期货价格  \\\n",
       "4430 2025-11-12                     NaN        78.72   \n",
       "4431 2025-11-13                     NaN        78.82   \n",
       "4432 2025-11-14                     NaN        78.24   \n",
       "4433 2025-11-17                     NaN        78.11   \n",
       "4434 2025-11-18                     NaN        80.16   \n",
       "4435 2025-11-19                     NaN        82.20   \n",
       "4436 2025-11-20                     NaN        81.78   \n",
       "4437 2025-11-21                     NaN        81.46   \n",
       "4438 2025-11-24                     NaN        78.77   \n",
       "4439 2025-11-25                     NaN        78.78   \n",
       "\n",
       "      市场价（主流价）:沥青（重交沥青）：华东地区拟合残差/Brent原油期货价格  \n",
       "4430                                    76.1  \n",
       "4431                                    80.3  \n",
       "4432                                    79.4  \n",
       "4433                                    85.0  \n",
       "4434                                    79.7  \n",
       "4435                                    74.2  \n",
       "4436                                    63.5  \n",
       "4437                                    50.0  \n",
       "4438                                    90.1  \n",
       "4439                                     NaN  "
      ]
     },
     "execution_count": 8,
     "metadata": {},
     "output_type": "execute_result"
    }
   ],
   "source": [
    "# 合并 sheet1 和 sheet2 的数据到 sheet\n",
    "sheet_daily = sheet.copy()\n",
    "sheet_daily.index.name = 'Date'\n",
    "sheet_daily = sheet_daily.reset_index()\n",
    "\n",
    "# 合并 sheet1 的美国10年通胀预期数据\n",
    "sheet_daily = pd.merge(\n",
    "    sheet_daily,\n",
    "    sheet1[['Date', '预测值']],\n",
    "    on='Date',\n",
    "    how='left'\n",
    ")\n",
    "sheet_daily['市场价（主流价）:沥青（重交沥青）：华东地区拟合残差/Brent原油期货价格'] = sheet_daily['市场价（主流价）:沥青（重交沥青）：华东地区拟合残差/Brent原油期货价格'].fillna(sheet_daily['预测值'])\n",
    "sheet_daily = sheet_daily.drop(columns=['预测值'])\n",
    "\n",
    "# sheet 3\n",
    "sheet_daily = pd.merge(\n",
    "    sheet_daily,\n",
    "    sheet3[['Date', 'Brent原油期货价格预测']],\n",
    "    on='Date',\n",
    "    how='left'\n",
    ")\n",
    "sheet_daily['Brent原油期货价格'] = sheet_daily['Brent原油期货价格'].fillna(sheet_daily['Brent原油期货价格预测'])\n",
    "sheet_daily = sheet_daily.drop(columns=['Brent原油期货价格预测'])\n",
    "\n",
    "sheet_daily.tail(10)"
   ]
  },
  {
   "cell_type": "code",
   "execution_count": 9,
   "metadata": {
    "execution": {
     "iopub.execute_input": "2025-10-29T08:10:58.839101Z",
     "iopub.status.busy": "2025-10-29T08:10:58.838946Z",
     "iopub.status.idle": "2025-10-29T08:10:58.846937Z",
     "shell.execute_reply": "2025-10-29T08:10:58.845992Z"
    }
   },
   "outputs": [
    {
     "data": {
      "text/html": [
       "<div>\n",
       "<style scoped>\n",
       "    .dataframe tbody tr th:only-of-type {\n",
       "        vertical-align: middle;\n",
       "    }\n",
       "\n",
       "    .dataframe tbody tr th {\n",
       "        vertical-align: top;\n",
       "    }\n",
       "\n",
       "    .dataframe thead th {\n",
       "        text-align: right;\n",
       "    }\n",
       "</style>\n",
       "<table border=\"1\" class=\"dataframe\">\n",
       "  <thead>\n",
       "    <tr style=\"text-align: right;\">\n",
       "      <th></th>\n",
       "      <th>Date</th>\n",
       "      <th>市场价（主流价）:沥青（重交沥青）：华东地区</th>\n",
       "      <th>Brent原油期货价格</th>\n",
       "      <th>市场价（主流价）:沥青（重交沥青）：华东地区拟合残差/Brent原油期货价格</th>\n",
       "      <th>市场价（主流价）:沥青（重交沥青）：华东地区_预测</th>\n",
       "    </tr>\n",
       "  </thead>\n",
       "  <tbody>\n",
       "    <tr>\n",
       "      <th>4430</th>\n",
       "      <td>2025-11-12</td>\n",
       "      <td>NaN</td>\n",
       "      <td>78.72</td>\n",
       "      <td>76.1</td>\n",
       "      <td>3790.187996</td>\n",
       "    </tr>\n",
       "    <tr>\n",
       "      <th>4431</th>\n",
       "      <td>2025-11-13</td>\n",
       "      <td>NaN</td>\n",
       "      <td>78.82</td>\n",
       "      <td>80.3</td>\n",
       "      <td>3797.501426</td>\n",
       "    </tr>\n",
       "    <tr>\n",
       "      <th>4432</th>\n",
       "      <td>2025-11-14</td>\n",
       "      <td>NaN</td>\n",
       "      <td>78.24</td>\n",
       "      <td>79.4</td>\n",
       "      <td>3778.543532</td>\n",
       "    </tr>\n",
       "    <tr>\n",
       "      <th>4433</th>\n",
       "      <td>2025-11-17</td>\n",
       "      <td>NaN</td>\n",
       "      <td>78.11</td>\n",
       "      <td>85.0</td>\n",
       "      <td>3780.096073</td>\n",
       "    </tr>\n",
       "    <tr>\n",
       "      <th>4434</th>\n",
       "      <td>2025-11-18</td>\n",
       "      <td>NaN</td>\n",
       "      <td>80.16</td>\n",
       "      <td>79.7</td>\n",
       "      <td>3838.621388</td>\n",
       "    </tr>\n",
       "    <tr>\n",
       "      <th>4435</th>\n",
       "      <td>2025-11-19</td>\n",
       "      <td>NaN</td>\n",
       "      <td>82.20</td>\n",
       "      <td>74.2</td>\n",
       "      <td>3896.635360</td>\n",
       "    </tr>\n",
       "    <tr>\n",
       "      <th>4436</th>\n",
       "      <td>2025-11-20</td>\n",
       "      <td>NaN</td>\n",
       "      <td>81.78</td>\n",
       "      <td>63.5</td>\n",
       "      <td>3872.858954</td>\n",
       "    </tr>\n",
       "    <tr>\n",
       "      <th>4437</th>\n",
       "      <td>2025-11-21</td>\n",
       "      <td>NaN</td>\n",
       "      <td>81.46</td>\n",
       "      <td>50.0</td>\n",
       "      <td>3849.395978</td>\n",
       "    </tr>\n",
       "    <tr>\n",
       "      <th>4438</th>\n",
       "      <td>2025-11-24</td>\n",
       "      <td>NaN</td>\n",
       "      <td>78.77</td>\n",
       "      <td>90.1</td>\n",
       "      <td>3805.744711</td>\n",
       "    </tr>\n",
       "    <tr>\n",
       "      <th>4439</th>\n",
       "      <td>2025-11-25</td>\n",
       "      <td>NaN</td>\n",
       "      <td>78.78</td>\n",
       "      <td>NaN</td>\n",
       "      <td>NaN</td>\n",
       "    </tr>\n",
       "  </tbody>\n",
       "</table>\n",
       "</div>"
      ],
      "text/plain": [
       "           Date  市场价（主流价）:沥青（重交沥青）：华东地区  Brent原油期货价格  \\\n",
       "4430 2025-11-12                     NaN        78.72   \n",
       "4431 2025-11-13                     NaN        78.82   \n",
       "4432 2025-11-14                     NaN        78.24   \n",
       "4433 2025-11-17                     NaN        78.11   \n",
       "4434 2025-11-18                     NaN        80.16   \n",
       "4435 2025-11-19                     NaN        82.20   \n",
       "4436 2025-11-20                     NaN        81.78   \n",
       "4437 2025-11-21                     NaN        81.46   \n",
       "4438 2025-11-24                     NaN        78.77   \n",
       "4439 2025-11-25                     NaN        78.78   \n",
       "\n",
       "      市场价（主流价）:沥青（重交沥青）：华东地区拟合残差/Brent原油期货价格  市场价（主流价）:沥青（重交沥青）：华东地区_预测  \n",
       "4430                                    76.1                3790.187996  \n",
       "4431                                    80.3                3797.501426  \n",
       "4432                                    79.4                3778.543532  \n",
       "4433                                    85.0                3780.096073  \n",
       "4434                                    79.7                3838.621388  \n",
       "4435                                    74.2                3896.635360  \n",
       "4436                                    63.5                3872.858954  \n",
       "4437                                    50.0                3849.395978  \n",
       "4438                                    90.1                3805.744711  \n",
       "4439                                     NaN                        NaN  "
      ]
     },
     "execution_count": 9,
     "metadata": {},
     "output_type": "execute_result"
    }
   ],
   "source": [
    "# 添加新列 主焦煤价格/临汾_预测\n",
    "sheet_daily['市场价（主流价）:沥青（重交沥青）：华东地区_预测'] = 31.1343*sheet_daily['Brent原油期货价格']+ 1263.1959 + sheet_daily['市场价（主流价）:沥青（重交沥青）：华东地区拟合残差/Brent原油期货价格']\n",
    "sheet_daily.tail(10)\n"
   ]
  },
  {
   "cell_type": "markdown",
   "metadata": {},
   "source": [
    "---"
   ]
  },
  {
   "cell_type": "code",
   "execution_count": 10,
   "metadata": {
    "execution": {
     "iopub.execute_input": "2025-10-29T08:10:58.849398Z",
     "iopub.status.busy": "2025-10-29T08:10:58.849184Z",
     "iopub.status.idle": "2025-10-29T08:10:59.045818Z",
     "shell.execute_reply": "2025-10-29T08:10:59.045415Z"
    }
   },
   "outputs": [
    {
     "data": {
      "text/html": [
       "<div>\n",
       "<style scoped>\n",
       "    .dataframe tbody tr th:only-of-type {\n",
       "        vertical-align: middle;\n",
       "    }\n",
       "\n",
       "    .dataframe tbody tr th {\n",
       "        vertical-align: top;\n",
       "    }\n",
       "\n",
       "    .dataframe thead th {\n",
       "        text-align: right;\n",
       "    }\n",
       "</style>\n",
       "<table border=\"1\" class=\"dataframe\">\n",
       "  <thead>\n",
       "    <tr style=\"text-align: right;\">\n",
       "      <th></th>\n",
       "      <th>Date</th>\n",
       "      <th>市场价（主流价）:沥青（重交沥青）：华东地区</th>\n",
       "      <th>市场价（主流价）:沥青（重交沥青）：华东地区_预测</th>\n",
       "    </tr>\n",
       "  </thead>\n",
       "  <tbody>\n",
       "    <tr>\n",
       "      <th>4438</th>\n",
       "      <td>2025/11/24</td>\n",
       "      <td>NaN</td>\n",
       "      <td>3805.744711</td>\n",
       "    </tr>\n",
       "    <tr>\n",
       "      <th>4437</th>\n",
       "      <td>2025/11/21</td>\n",
       "      <td>NaN</td>\n",
       "      <td>3849.395978</td>\n",
       "    </tr>\n",
       "    <tr>\n",
       "      <th>4436</th>\n",
       "      <td>2025/11/20</td>\n",
       "      <td>NaN</td>\n",
       "      <td>3872.858954</td>\n",
       "    </tr>\n",
       "    <tr>\n",
       "      <th>4435</th>\n",
       "      <td>2025/11/19</td>\n",
       "      <td>NaN</td>\n",
       "      <td>3896.635360</td>\n",
       "    </tr>\n",
       "    <tr>\n",
       "      <th>4434</th>\n",
       "      <td>2025/11/18</td>\n",
       "      <td>NaN</td>\n",
       "      <td>3838.621388</td>\n",
       "    </tr>\n",
       "  </tbody>\n",
       "</table>\n",
       "</div>"
      ],
      "text/plain": [
       "            Date  市场价（主流价）:沥青（重交沥青）：华东地区  市场价（主流价）:沥青（重交沥青）：华东地区_预测\n",
       "4438  2025/11/24                     NaN                3805.744711\n",
       "4437  2025/11/21                     NaN                3849.395978\n",
       "4436  2025/11/20                     NaN                3872.858954\n",
       "4435  2025/11/19                     NaN                3896.635360\n",
       "4434  2025/11/18                     NaN                3838.621388"
      ]
     },
     "execution_count": 10,
     "metadata": {},
     "output_type": "execute_result"
    }
   ],
   "source": [
    "# 创建历史数据部分\n",
    "historical = sheet_daily[sheet_daily['Date'] <= last_day][['Date', '市场价（主流价）:沥青（重交沥青）：华东地区']]\n",
    "historical.columns = ['Date', '市场价（主流价）:沥青（重交沥青）：华东地区']\n",
    "\n",
    "# 创建预测数据部分 \n",
    "forecast = sheet_daily[sheet_daily['Date'] > last_day][['Date', '市场价（主流价）:沥青（重交沥青）：华东地区_预测']]\n",
    "forecast.columns = ['Date', '市场价（主流价）:沥青（重交沥青）：华东地区_预测']\n",
    "\n",
    "\n",
    "# 合并历史和预测数据\n",
    "merged_df_daily = pd.concat([historical, forecast], axis=0, join='outer')\n",
    "merged_df_daily = merged_df_daily.sort_values('Date').reset_index(drop=True)\n",
    "merged_df_daily = merged_df_daily.sort_values(by='Date', ascending=False)\n",
    "merged_df_daily['Date'] = merged_df_daily['Date'].dt.strftime('%Y/%m/%d')\n",
    "# 去除两列均为空值的行\n",
    "merged_df_daily = merged_df_daily.dropna(subset=['市场价（主流价）:沥青（重交沥青）：华东地区', '市场价（主流价）:沥青（重交沥青）：华东地区_预测'], how='all')\n",
    "\n",
    "\n",
    "\n",
    "merged_df_daily.to_excel('eta/市场价（主流价）-沥青（重交沥青）-华东地区_合并数据.xlsx', index=False,float_format='%.6f')\n",
    "merged_df_daily.head()"
   ]
  },
  {
   "cell_type": "code",
   "execution_count": 11,
   "metadata": {
    "execution": {
     "iopub.execute_input": "2025-10-29T08:10:59.047467Z",
     "iopub.status.busy": "2025-10-29T08:10:59.047307Z",
     "iopub.status.idle": "2025-10-29T08:10:59.321504Z",
     "shell.execute_reply": "2025-10-29T08:10:59.320505Z"
    }
   },
   "outputs": [
    {
     "data": {
      "image/png": "[encoded data removed]",
      "text/plain": [
       "<Figure size 3000x800 with 1 Axes>"
      ]
     },
     "metadata": {},
     "output_type": "display_data"
    }
   ],
   "source": [
    "# 设置图形大小\n",
    "plt.figure(figsize=(30, 8))\n",
    "\n",
    "merged_df_daily_plot_pf = merged_df_daily.copy()\n",
    "merged_df_daily_plot_pf['Date'] = pd.to_datetime(merged_df_daily_plot_pf['Date'])\n",
    "\n",
    "# 筛选2023年及以后的数据\n",
    "merged_df_daily_plot_pf = merged_df_daily_plot_pf[merged_df_daily_plot_pf['Date'] >= '2021-01-01']\n",
    "\n",
    "# 绘制真实值曲线(蓝色)\n",
    "plt.plot(merged_df_daily_plot_pf['Date'], merged_df_daily_plot_pf['市场价（主流价）:沥青（重交沥青）：华东地区'], color='blue', label='真实值')\n",
    "plt.plot(merged_df_daily_plot_pf['Date'], merged_df_daily_plot_pf['市场价（主流价）:沥青（重交沥青）：华东地区_预测'], color='red', label='预测值')\n",
    "\n",
    "avline_date = pd.to_datetime(last_day)\n",
    "plt.axvline(x=avline_date, color='black', linestyle='--')\n",
    "\n",
    "# 设置图例\n",
    "plt.legend()\n",
    "\n",
    "# 设置标题和标签\n",
    "plt.title('市场价（主流价）:沥青（重交沥青）：华东地区')\n",
    "plt.xlabel('日期')\n",
    "plt.ylabel('值')\n",
    "plt.grid(True)\n",
    "plt.tight_layout()\n",
    "plt.show()"
   ]
  },
  {
   "cell_type": "code",
   "execution_count": 12,
   "metadata": {
    "execution": {
     "iopub.execute_input": "2025-10-29T08:10:59.323907Z",
     "iopub.status.busy": "2025-10-29T08:10:59.323745Z",
     "iopub.status.idle": "2025-10-29T08:10:59.373589Z",
     "shell.execute_reply": "2025-10-29T08:10:59.373054Z"
    }
   },
   "outputs": [
    {
     "data": {
      "text/html": [
       "<div>\n",
       "<style scoped>\n",
       "    .dataframe tbody tr th:only-of-type {\n",
       "        vertical-align: middle;\n",
       "    }\n",
       "\n",
       "    .dataframe tbody tr th {\n",
       "        vertical-align: top;\n",
       "    }\n",
       "\n",
       "    .dataframe thead th {\n",
       "        text-align: right;\n",
       "    }\n",
       "</style>\n",
       "<table border=\"1\" class=\"dataframe\">\n",
       "  <thead>\n",
       "    <tr style=\"text-align: right;\">\n",
       "      <th></th>\n",
       "      <th>Date</th>\n",
       "      <th>市场价（主流价）:沥青（重交沥青）：华东地区</th>\n",
       "      <th>市场价（主流价）:沥青（重交沥青）：华东地区_预测</th>\n",
       "    </tr>\n",
       "  </thead>\n",
       "  <tbody>\n",
       "    <tr>\n",
       "      <th>205</th>\n",
       "      <td>2025/11/30</td>\n",
       "      <td>NaN</td>\n",
       "      <td>3814.0</td>\n",
       "    </tr>\n",
       "    <tr>\n",
       "      <th>204</th>\n",
       "      <td>2025/10/31</td>\n",
       "      <td>3504.0</td>\n",
       "      <td>3550.0</td>\n",
       "    </tr>\n",
       "    <tr>\n",
       "      <th>203</th>\n",
       "      <td>2025/09/30</td>\n",
       "      <td>3622.0</td>\n",
       "      <td>3625.0</td>\n",
       "    </tr>\n",
       "    <tr>\n",
       "      <th>202</th>\n",
       "      <td>2025/08/31</td>\n",
       "      <td>3737.0</td>\n",
       "      <td>3737.0</td>\n",
       "    </tr>\n",
       "    <tr>\n",
       "      <th>201</th>\n",
       "      <td>2025/07/31</td>\n",
       "      <td>3789.0</td>\n",
       "      <td>3789.0</td>\n",
       "    </tr>\n",
       "    <tr>\n",
       "      <th>...</th>\n",
       "      <td>...</td>\n",
       "      <td>...</td>\n",
       "      <td>...</td>\n",
       "    </tr>\n",
       "    <tr>\n",
       "      <th>4</th>\n",
       "      <td>2009/02/28</td>\n",
       "      <td>NaN</td>\n",
       "      <td>NaN</td>\n",
       "    </tr>\n",
       "    <tr>\n",
       "      <th>3</th>\n",
       "      <td>2009/01/31</td>\n",
       "      <td>NaN</td>\n",
       "      <td>NaN</td>\n",
       "    </tr>\n",
       "    <tr>\n",
       "      <th>2</th>\n",
       "      <td>2008/12/31</td>\n",
       "      <td>NaN</td>\n",
       "      <td>NaN</td>\n",
       "    </tr>\n",
       "    <tr>\n",
       "      <th>1</th>\n",
       "      <td>2008/11/30</td>\n",
       "      <td>NaN</td>\n",
       "      <td>NaN</td>\n",
       "    </tr>\n",
       "    <tr>\n",
       "      <th>0</th>\n",
       "      <td>2008/10/31</td>\n",
       "      <td>NaN</td>\n",
       "      <td>NaN</td>\n",
       "    </tr>\n",
       "  </tbody>\n",
       "</table>\n",
       "<p>206 rows × 3 columns</p>\n",
       "</div>"
      ],
      "text/plain": [
       "           Date  市场价（主流价）:沥青（重交沥青）：华东地区  市场价（主流价）:沥青（重交沥青）：华东地区_预测\n",
       "205  2025/11/30                     NaN                     3814.0\n",
       "204  2025/10/31                  3504.0                     3550.0\n",
       "203  2025/09/30                  3622.0                     3625.0\n",
       "202  2025/08/31                  3737.0                     3737.0\n",
       "201  2025/07/31                  3789.0                     3789.0\n",
       "..          ...                     ...                        ...\n",
       "4    2009/02/28                     NaN                        NaN\n",
       "3    2009/01/31                     NaN                        NaN\n",
       "2    2008/12/31                     NaN                        NaN\n",
       "1    2008/11/30                     NaN                        NaN\n",
       "0    2008/10/31                     NaN                        NaN\n",
       "\n",
       "[206 rows x 3 columns]"
      ]
     },
     "execution_count": 12,
     "metadata": {},
     "output_type": "execute_result"
    }
   ],
   "source": [
    "# 创建历史数据部分\n",
    "historical_monthly = sheet_daily[sheet_daily['Date'] <= last_day][['Date', '市场价（主流价）:沥青（重交沥青）：华东地区']]\n",
    "historical_monthly.columns = ['Date', '市场价（主流价）:沥青（重交沥青）：华东地区']\n",
    "\n",
    "# 创建预测数据部分 \n",
    "forecast_monthly = sheet_daily[sheet_daily['Date'] >= pd.Timestamp('2024-10-01')][['Date', '市场价（主流价）:沥青（重交沥青）：华东地区_预测']]\n",
    "forecast_monthly.columns = ['Date', '市场价（主流价）:沥青（重交沥青）：华东地区_预测']\n",
    "\n",
    "merged_df_monthly = pd.merge(historical_monthly, forecast_monthly, on='Date', how='outer')\n",
    "merged_df_monthly.set_index('Date', inplace=True)\n",
    "merged_df_monthly = merged_df_monthly.resample('ME').mean()\n",
    "merged_df_monthly.reset_index(inplace=True)\n",
    "merged_df_monthly =merged_df_monthly.sort_values('Date', ascending=False)\n",
    "merged_df_monthly['Date'] = merged_df_monthly['Date'].dt.strftime('%Y/%m/%d')\n",
    "# 将数值列保留2位小数\n",
    "merged_df_monthly['市场价（主流价）:沥青（重交沥青）：华东地区'] = merged_df_monthly['市场价（主流价）:沥青（重交沥青）：华东地区'].round(0)\n",
    "merged_df_monthly['市场价（主流价）:沥青（重交沥青）：华东地区_预测'] = merged_df_monthly['市场价（主流价）:沥青（重交沥青）：华东地区_预测'].round(0)\n",
    "\n",
    "merged_df_monthly.to_excel('eta/市场价（主流价）-沥青（重交沥青）-华东地区_月度数据.xlsx', index=False,float_format= '%.4f')            \n",
    "merged_df_monthly"
   ]
  },
  {
   "cell_type": "markdown",
   "metadata": {},
   "source": [
    "---"
   ]
  },
  {
   "cell_type": "code",
   "execution_count": 13,
   "metadata": {
    "execution": {
     "iopub.execute_input": "2025-10-29T08:10:59.375372Z",
     "iopub.status.busy": "2025-10-29T08:10:59.375222Z",
     "iopub.status.idle": "2025-10-29T08:11:00.575313Z",
     "shell.execute_reply": "2025-10-29T08:11:00.574815Z"
    }
   },
   "outputs": [
    {
     "name": "stdout",
     "output_type": "stream",
     "text": [
      "成功更新 日度数据表 中的数据\n",
      "数据已成功更新到Excel文件\n"
     ]
    }
   ],
   "source": [
    "from Dcel import update_excel_data\n",
    "# 使用示例\n",
    "file_path = \"eta/1.沥青_数据上传.xlsx\"\n",
    "sheet_name = \"日度数据表\"\n",
    "identifier = \"市场价（主流价）:沥青（重交沥青）：华东地区\"\n",
    "\n",
    "# 调用函数更新数据\n",
    "success = update_excel_data(merged_df_daily, file_path, sheet_name, identifier)\n",
    "\n",
    "if success:\n",
    "    print(\"数据已成功更新到Excel文件\")\n",
    "else:\n",
    "    print(\"数据更新失败，请检查错误信息\")"
   ]
  },
  {
   "cell_type": "code",
   "execution_count": 14,
   "metadata": {
    "execution": {
     "iopub.execute_input": "2025-10-29T08:11:00.577007Z",
     "iopub.status.busy": "2025-10-29T08:11:00.576839Z",
     "iopub.status.idle": "2025-10-29T08:11:00.965463Z",
     "shell.execute_reply": "2025-10-29T08:11:00.964825Z"
    }
   },
   "outputs": [
    {
     "name": "stdout",
     "output_type": "stream",
     "text": [
      "数据过滤完成: 保留 23 条数据（2024/01/31 之后），按时间倒序排列\n"
     ]
    },
    {
     "name": "stdout",
     "output_type": "stream",
     "text": [
      "已完成：插入/更新数据，并重新计算'方向/偏差率' (protected_date = 2025/10/31, cutoff_date = 2024/01/31)\n",
      "数据已成功更新到Excel文件\n"
     ]
    }
   ],
   "source": [
    "from Lcel import update_excel_data\n",
    "file_path = \"eta/1.沥青_数据上传.xlsx\"\n",
    "sheet_name = \"详情页\"\n",
    "identifier = \"市场价（主流价）:沥青（重交沥青）：华东地区\"       # NEW: 新增日期标识符列的抬头\n",
    "# 调用函数更新数据\n",
    "success = update_excel_data(merged_df_monthly, file_path, sheet_name, identifier)\n",
    "\n",
    "if success:\n",
    "    print(\"数据已成功更新到Excel文件\")\n",
    "else:\n",
    "    print(\"数据更新失败，请检查错误信息\")"
   ]
  }
 ],
 "metadata": {
  "kernelspec": {
   "display_name": "myenv",
   "language": "python",
   "name": "python3"
  },
  "language_info": {
   "codemirror_mode": {
    "name": "ipython",
    "version": 3
   },
   "file_extension": ".py",
   "mimetype": "text/x-python",
   "name": "python",
   "nbconvert_exporter": "python",
   "pygments_lexer": "ipython3",
   "version": "3.13.0"
  }
 },
 "nbformat": 4,
 "nbformat_minor": 2
}
