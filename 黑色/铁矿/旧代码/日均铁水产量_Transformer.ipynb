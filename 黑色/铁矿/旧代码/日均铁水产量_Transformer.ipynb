{
 "cells": [
  {
   "cell_type": "code",
   "execution_count": 1,
   "metadata": {},
   "outputs": [
    {
     "ename": "ModuleNotFoundError",
     "evalue": "No module named 'Dtool'",
     "output_type": "error",
     "traceback": [
      "\u001b[1;31m---------------------------------------------------------------------------\u001b[0m",
      "\u001b[1;31mModuleNotFoundError\u001b[0m                       Traceback (most recent call last)",
      "Cell \u001b[1;32mIn[1], line 13\u001b[0m\n\u001b[0;32m     11\u001b[0m \u001b[38;5;28;01mimport\u001b[39;00m \u001b[38;5;21;01mjson\u001b[39;00m\n\u001b[0;32m     12\u001b[0m \u001b[38;5;28;01mfrom\u001b[39;00m \u001b[38;5;21;01mtransformers\u001b[39;00m \u001b[38;5;28;01mimport\u001b[39;00m AutoModelForSequenceClassification, AutoTokenizer\n\u001b[1;32m---> 13\u001b[0m \u001b[38;5;28;01mfrom\u001b[39;00m \u001b[38;5;21;01mDtool\u001b[39;00m \u001b[38;5;28;01mimport\u001b[39;00m fill_missing_values, plot_factors_by_pattern, plot_comparison_multiple, reverse_column, plot_feature_importance\n",
      "\u001b[1;31mModuleNotFoundError\u001b[0m: No module named 'Dtool'"
     ]
    }
   ],
   "source": [
    "import pandas as pd\n",
    "import numpy as np\n",
    "import matplotlib.pyplot as plt\n",
    "from sklearn.preprocessing import StandardScaler\n",
    "from sklearn.metrics import mean_squared_error, r2_score\n",
    "import tensorflow as tf\n",
    "from tensorflow.keras.models import Model\n",
    "from tensorflow.keras.layers import Input, Dense, LayerNormalization, Dropout\n",
    "from tensorflow.keras.layers import MultiHeadAttention, GlobalAveragePooling1D\n",
    "from tensorflow.keras.callbacks import EarlyStopping\n",
    "import json\n",
    "from transformers import AutoModelForSequenceClassification, AutoTokenizer\n",
    "from Dtool import fill_missing_values, plot_factors_by_pattern, plot_comparison_multiple, reverse_column, plot_feature_importance"
   ]
  },
  {
   "cell_type": "code",
   "execution_count": 2,
   "metadata": {},
   "outputs": [],
   "source": [
    "# pip install urllib3"
   ]
  },
  {
   "cell_type": "code",
   "execution_count": 3,
   "metadata": {},
   "outputs": [],
   "source": [
    "# pip install boto3"
   ]
  },
  {
   "cell_type": "code",
   "execution_count": 4,
   "metadata": {},
   "outputs": [],
   "source": [
    "# pip install requests"
   ]
  },
  {
   "cell_type": "code",
   "execution_count": 5,
   "metadata": {},
   "outputs": [],
   "source": [
    "# pip install transformers"
   ]
  },
  {
   "cell_type": "code",
   "execution_count": 6,
   "metadata": {},
   "outputs": [],
   "source": [
    "# pip install tensorflow"
   ]
  },
  {
   "cell_type": "code",
   "execution_count": 7,
   "metadata": {},
   "outputs": [],
   "source": [
    "# 读取数据\n",
    "sheet = pd.read_excel('data_input/日均铁水产量.xlsx', sheet_name='Sheet1').rename(columns={'DataTime': 'Date'})\n",
    "sheet = sheet.set_index('Date')\n",
    "sheet.index.freq = None\n",
    "last_day = sheet['日均铁水产量'].last_valid_index()\n",
    "\n",
    "# 获取last_day之后的数据\n",
    "future_data_30days = sheet[sheet.index > last_day]\n",
    "# 计算需要的31个工作日\n",
    "target_days = pd.date_range(start=last_day + pd.DateOffset(1), periods=20, freq='B')\n",
    "target_end = target_days[-1]\n",
    "\n",
    "if len(future_data_30days) == 0:\n",
    "    new_index = pd.date_range(start=last_day + pd.DateOffset(1), end=target_end, freq='B')\n",
    "    sheet = sheet.reindex(sheet.index.union(new_index))\n",
    "\n",
    "elif future_data_30days.index.max() > target_end:\n",
    "    sheet = sheet[sheet.index <= target_end]\n",
    "    new_index = pd.date_range(start=last_day + pd.DateOffset(1), end=target_end, freq='B')\n",
    "    sheet = sheet.reindex(sheet.index.union(new_index))\n",
    "\n",
    "else:\n",
    "    max_future_date = future_data_30days.index.max() if len(future_data_30days) > 0 else last_day\n",
    "    new_index = pd.date_range(start=max_future_date + pd.DateOffset(1), end=target_end, freq='B')\n",
    "    sheet = sheet.reindex(sheet.index.union(new_index))\n",
    "\n",
    "sheet = sheet.sort_index()\n",
    "\n",
    "# 填充缺失值\n",
    "fill_methods = {\n",
    "    '日均铁水产量模拟值(预测/装置跟踪)': 'interpolate',\n",
    "    '螺纹高炉利润/上海/即期': 'interpolate',\n",
    "    '热卷高炉利润/上海/即期': 'interpolate',\n",
    "    '247家钢铁企业盈利率':'interpolate',\n",
    "    '热卷厂内/社会库存比值':'interpolate',\n",
    "    '螺纹盘面利润':'interpolate',\n",
    "    '铁矿钢厂库存Trend/F0.1':'interpolate',\n",
    "    '铁矿基差率':'interpolate',\n",
    "    '焦炭基差率':'interpolate',\n",
    "    '五大钢材周度表需(预测/3年季节性/20期)':'interpolate'\n",
    "} \n",
    "sheet = fill_missing_values(sheet, fill_methods, return_only_filled=False)\n",
    "sheet.loc[:last_day, '日均铁水产量'] = sheet.loc[:last_day, '日均铁水产量'].interpolate(method='linear')\n",
    "\n",
    "# 创建特征\n",
    "sheet['螺纹高炉利润/上海/即期_提前35天'] = sheet['螺纹高炉利润/上海/即期'].shift(35)\n",
    "sheet['热卷高炉利润/上海/即期_提前35天'] = sheet['热卷高炉利润/上海/即期'].shift(35)\n",
    "sheet['247家钢铁企业盈利率_提前28天'] = sheet['247家钢铁企业盈利率'].shift(28)\n",
    "sheet['热卷厂内/社会库存比值_提前42天'] = sheet['热卷厂内/社会库存比值'].shift(42)\n",
    "sheet['螺纹盘面利润_提前56天'] = sheet['螺纹盘面利润'].shift(56)\n",
    "sheet['铁矿钢厂库存Trend/F0.1_提前56天'] = sheet['铁矿钢厂库存Trend/F0.1'].shift(56)\n",
    "sheet['铁矿基差率_提前28天'] = sheet['铁矿基差率'].shift(28)\n",
    "\n",
    "sheet['热卷厂内/社会库存比值_提前42天_逆序'] = reverse_column(sheet, '热卷厂内/社会库存比值_提前42天')\n",
    "sheet['铁矿基差率_提前28天_逆序'] = reverse_column(sheet, '铁矿基差率_提前28天')\n",
    "sheet['铁矿钢厂库存Trend/F0.1_提前56天_逆序'] = reverse_column(sheet, '铁矿钢厂库存Trend/F0.1_提前56天')\n",
    "\n",
    "sheet['铁矿基差率_提前28天_逆序_2024-01-01之后'] = np.where(\n",
    "    sheet.index >= pd.Timestamp('2024-01-01'),\n",
    "    sheet['铁矿基差率_提前28天_逆序'],\n",
    "    np.nan\n",
    ")\n",
    "\n",
    "# 数据筛选\n",
    "sheet_daily = sheet.reset_index().rename(columns={'index': 'Date'})\n",
    "sheet_daily['Date'] = pd.to_datetime(sheet_daily['Date'])\n",
    "sheet_daily = sheet_daily[sheet_daily['Date'] >= pd.Timestamp('2024-02-20')]\n",
    "sheet_daily = sheet_daily.reset_index(drop=True)\n",
    "\n",
    "# 删除空值\n",
    "sheet_daily = sheet_daily[\n",
    "    (sheet_daily['Date'] > last_day) | \n",
    "    (sheet_daily['日均铁水产量'].notna())\n",
    "]\n"
   ]
  },
  {
   "cell_type": "code",
   "execution_count": 8,
   "metadata": {},
   "outputs": [],
   "source": [
    "# 划分数据\n",
    "train_data = sheet_daily[sheet_daily['Date'] <= last_day].copy()\n",
    "test_period = 10\n",
    "test_data = train_data[-test_period:].copy() \n",
    "train_data = train_data[:-test_period].copy()\n",
    "future_data = sheet_daily[sheet_daily['Date'] > last_day].copy()\n",
    "\n",
    "feature_columns = [\n",
    "    '日均铁水产量模拟值(预测/装置跟踪)', '螺纹高炉利润/上海/即期_提前35天', \n",
    "    '热卷高炉利润/上海/即期_提前35天','247家钢铁企业盈利率_提前28天', \n",
    "    '热卷厂内/社会库存比值_提前42天_逆序', '螺纹盘面利润_提前56天', \n",
    "    '铁矿钢厂库存Trend/F0.1_提前56天_逆序', '铁矿基差率_提前28天_逆序_2024-01-01之后'\n",
    "]\n",
    "\n",
    "predict_column = '日均铁水产量'\n",
    "\n",
    "X_train = train_data[feature_columns]\n",
    "y_train = train_data[predict_column]\n",
    "\n",
    "X_test = test_data[feature_columns]\n",
    "y_test = test_data[predict_column]\n",
    "\n",
    "X_future = future_data[feature_columns]\n",
    "\n",
    "# 标准化\n",
    "scaler = StandardScaler()\n",
    "X_train_scaled = scaler.fit_transform(X_train)\n",
    "X_test_scaled = scaler.transform(X_test)\n",
    "X_future_scaled = scaler.transform(X_future)"
   ]
  },
  {
   "cell_type": "code",
   "execution_count": 9,
   "metadata": {},
   "outputs": [],
   "source": [
    "# 创建Transformer模型\n",
    "def build_transformer_model(input_shape, output_steps):\n",
    "    inputs = Input(shape=input_shape)\n",
    "    x = MultiHeadAttention(num_heads=4, key_dim=64)(inputs, inputs)\n",
    "    x = Dropout(0.2)(x)\n",
    "    x = LayerNormalization()(x)\n",
    "    x = GlobalAveragePooling1D()(x)\n",
    "    x = Dense(64, activation='relu')(x)\n",
    "    x = Dense(output_steps)(x)\n",
    "    \n",
    "    model = Model(inputs=inputs, outputs=x)\n",
    "    model.compile(optimizer='adam', loss='mean_squared_error')\n",
    "    return model"
   ]
  },
  {
   "cell_type": "code",
   "execution_count": 10,
   "metadata": {},
   "outputs": [
    {
     "ename": "ValueError",
     "evalue": "Unrecognized model identifier in huggingface/autoformer. Should contains one of 'bert', 'xlnet', 'xlm', 'roberta'",
     "output_type": "error",
     "traceback": [
      "\u001b[0;31m---------------------------------------------------------------------------\u001b[0m",
      "\u001b[0;31mValueError\u001b[0m                                Traceback (most recent call last)",
      "Cell \u001b[0;32mIn[10], line 10\u001b[0m\n\u001b[1;32m      7\u001b[0m model_name \u001b[38;5;241m=\u001b[39m \u001b[38;5;124m\"\u001b[39m\u001b[38;5;124mhuggingface/autoformer\u001b[39m\u001b[38;5;124m\"\u001b[39m  \u001b[38;5;66;03m# 替换为适合时间序列的模型名称\u001b[39;00m\n\u001b[1;32m      9\u001b[0m \u001b[38;5;66;03m# 加载模型\u001b[39;00m\n\u001b[0;32m---> 10\u001b[0m model \u001b[38;5;241m=\u001b[39m AutoModelForSequenceClassification\u001b[38;5;241m.\u001b[39mfrom_pretrained(model_name)\n\u001b[1;32m     12\u001b[0m \u001b[38;5;66;03m# 编译模型\u001b[39;00m\n\u001b[1;32m     13\u001b[0m model\u001b[38;5;241m.\u001b[39mcompile(optimizer\u001b[38;5;241m=\u001b[39m\u001b[38;5;124m'\u001b[39m\u001b[38;5;124madam\u001b[39m\u001b[38;5;124m'\u001b[39m, loss\u001b[38;5;241m=\u001b[39m\u001b[38;5;124m'\u001b[39m\u001b[38;5;124mmean_squared_error\u001b[39m\u001b[38;5;124m'\u001b[39m)\n",
      "File \u001b[0;32m~/anaconda3/lib/python3.11/site-packages/transformers/modeling_auto.py:395\u001b[0m, in \u001b[0;36mAutoModelForSequenceClassification.from_pretrained\u001b[0;34m(cls, pretrained_model_name_or_path, *model_args, **kwargs)\u001b[0m\n\u001b[1;32m    392\u001b[0m \u001b[38;5;28;01melif\u001b[39;00m \u001b[38;5;124m'\u001b[39m\u001b[38;5;124mxlm\u001b[39m\u001b[38;5;124m'\u001b[39m \u001b[38;5;129;01min\u001b[39;00m pretrained_model_name_or_path:\n\u001b[1;32m    393\u001b[0m     \u001b[38;5;28;01mreturn\u001b[39;00m XLMForSequenceClassification\u001b[38;5;241m.\u001b[39mfrom_pretrained(pretrained_model_name_or_path, \u001b[38;5;241m*\u001b[39mmodel_args, \u001b[38;5;241m*\u001b[39m\u001b[38;5;241m*\u001b[39mkwargs)\n\u001b[0;32m--> 395\u001b[0m \u001b[38;5;28;01mraise\u001b[39;00m \u001b[38;5;167;01mValueError\u001b[39;00m(\u001b[38;5;124m\"\u001b[39m\u001b[38;5;124mUnrecognized model identifier in \u001b[39m\u001b[38;5;132;01m{}\u001b[39;00m\u001b[38;5;124m. Should contains one of \u001b[39m\u001b[38;5;124m\"\u001b[39m\n\u001b[1;32m    396\u001b[0m                  \u001b[38;5;124m\"\u001b[39m\u001b[38;5;124m'\u001b[39m\u001b[38;5;124mbert\u001b[39m\u001b[38;5;124m'\u001b[39m\u001b[38;5;124m, \u001b[39m\u001b[38;5;124m'\u001b[39m\u001b[38;5;124mxlnet\u001b[39m\u001b[38;5;124m'\u001b[39m\u001b[38;5;124m, \u001b[39m\u001b[38;5;124m'\u001b[39m\u001b[38;5;124mxlm\u001b[39m\u001b[38;5;124m'\u001b[39m\u001b[38;5;124m, \u001b[39m\u001b[38;5;124m'\u001b[39m\u001b[38;5;124mroberta\u001b[39m\u001b[38;5;124m'\u001b[39m\u001b[38;5;124m\"\u001b[39m\u001b[38;5;241m.\u001b[39mformat(pretrained_model_name_or_path))\n",
      "\u001b[0;31mValueError\u001b[0m: Unrecognized model identifier in huggingface/autoformer. Should contains one of 'bert', 'xlnet', 'xlm', 'roberta'"
     ]
    }
   ],
   "source": [
    "# 重塑输入数据为Transformer需要的格式 (samples, timesteps, features)\n",
    "X_train_reshaped = X_train_scaled.reshape((X_train_scaled.shape[0], 1, X_train_scaled.shape[1]))\n",
    "X_test_reshaped = X_test_scaled.reshape((X_test_scaled.shape[0], 1, X_test_scaled.shape[1]))\n",
    "X_future_reshaped = X_future_scaled.reshape((X_future_scaled.shape[0], 1, X_future_scaled.shape[1]))\n",
    "\n",
    "# 选择预训练的模型\n",
    "model_name = \"huggingface/autoformer\"  # 替换为适合时间序列的模型名称\n",
    "\n",
    "# 加载模型\n",
    "model = AutoModelForSequenceClassification.from_pretrained(model_name)\n",
    "\n",
    "# 编译模型\n",
    "model.compile(optimizer='adam', loss='mean_squared_error')\n",
    "\n",
    "# 早停策略\n",
    "early_stopping = EarlyStopping(monitor='val_loss', patience=50, restore_best_weights=True)\n",
    "\n",
    "# 微调模型\n",
    "transformer_history = model.fit(\n",
    "    X_train_reshaped, y_train, epochs=5000, batch_size=32, \n",
    "    validation_data=(X_test_reshaped, y_test), callbacks=[early_stopping]\n",
    ")\n",
    "\n",
    "# 预测训练集、测试集和未来数据\n",
    "y_train_pred = model.predict(X_train_reshaped)\n",
    "y_test_pred = model.predict(X_test_reshaped)\n",
    "y_future_pred = model.predict(X_future_reshaped)\n",
    "\n",
    "# 评估模型\n",
    "train_mse = mean_squared_error(y_train, y_train_pred)\n",
    "test_mse = mean_squared_error(y_test, y_test_pred)\n",
    "train_r2 = r2_score(y_train, y_train_pred)\n",
    "test_r2 = r2_score(y_test, y_test_pred)\n",
    "\n",
    "print(f\"训练集 MSE: {train_mse}, 训练集 R²: {train_r2}\")\n",
    "print(f\"测试集 MSE: {test_mse}, 测试集 R²: {test_r2}\")\n",
    "\n",
    "# 存储预测结果\n",
    "test_data['预测值'] = y_test_pred\n",
    "future_data['预测值'] = y_future_pred\n",
    "\n",
    "# 存储模型权重\n",
    "model.save_weights('model_parameters/transformer_weights.h5')\n",
    "\n",
    "# 存储超参数\n",
    "params = {'epochs': 5000, 'batch_size': 32, 'learning_rate': 0.001}\n",
    "with open('model_parameters/hyperparameters.json', 'w') as f:\n",
    "    json.dump(params, f)\n",
    "\n",
    "# 继续微调\n",
    "model.load_weights('model_parameters/transformer_weights.h5')\n",
    "\n",
    "# 微调模型\n",
    "transformer_history_finetune = model.fit(\n",
    "    X_train_reshaped, y_train, epochs=200, batch_size=32, \n",
    "    validation_data=(X_test_reshaped, y_test), callbacks=[early_stopping]\n",
    ")"
   ]
  },
  {
   "cell_type": "code",
   "execution_count": null,
   "metadata": {},
   "outputs": [],
   "source": [
    "# 绘制训练损失和验证损失变化\n",
    "plt.figure(figsize=(12, 6))\n",
    "plt.plot(transformer_history.history['loss'], label='Train Loss', color='blue')\n",
    "plt.plot(transformer_history.history['val_loss'], label='Val Loss', color='red')\n",
    "plt.title('Transformer Model Loss')\n",
    "plt.xlabel('Epochs')\n",
    "plt.ylabel('Loss')\n",
    "plt.legend()\n",
    "plt.grid(True)\n",
    "plt.grid(True)\n",
    "plt.show()"
   ]
  },
  {
   "cell_type": "code",
   "execution_count": null,
   "metadata": {},
   "outputs": [],
   "source": [
    "# 绘制预测结果\n",
    "plt.figure(figsize=(30, 8))\n",
    "\n",
    "plt.plot(train_data['Date'], y_train, label='训练集—真实值', color='blue')\n",
    "plt.plot(train_data['Date'], y_train_pred, label='训练集-预测', color='green')\n",
    "plt.plot(test_data['Date'], y_test, label='测试集-真实值', color='blue', alpha=0.7)\n",
    "plt.plot(test_data['Date'], y_test_pred, label='测试集-预测', color='purple')\n",
    "plt.plot(future_data['Date'], future_data['预测值'], label='未来预测', color='red')\n",
    "plt.plot(future_data['Date'], future_data['预测值'], label='未来预测(用全部数据训练)', color='black')\n",
    "\n",
    "# 添加分割线\n",
    "plt.axvline(x=test_data['Date'].iloc[0], color='black', linestyle='--', label='Train/Test Split')\n",
    "plt.axvline(x=last_day, color='black', linestyle='--', label='Future Split')\n",
    "\n",
    "# 设置标题和图例\n",
    "plt.title('日均铁水产量预测（Transformer模型）')\n",
    "plt.legend()\n",
    "plt.grid(True)\n",
    "\n",
    "# 展示图表\n",
    "plt.show()"
   ]
  },
  {
   "cell_type": "code",
   "execution_count": null,
   "metadata": {},
   "outputs": [],
   "source": []
  }
 ],
 "metadata": {
  "kernelspec": {
   "display_name": "Python 3",
   "language": "python",
   "name": "python3"
  },
  "language_info": {
   "codemirror_mode": {
    "name": "ipython",
    "version": 3
   },
   "file_extension": ".py",
   "mimetype": "text/x-python",
   "name": "python",
   "nbconvert_exporter": "python",
   "pygments_lexer": "ipython3",
   "version": "3.12.4"
  }
 },
 "nbformat": 4,
 "nbformat_minor": 2
}
