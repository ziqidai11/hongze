{
 "cells": [
  {
   "cell_type": "code",
   "execution_count": null,
   "metadata": {
    "execution": {
     "iopub.execute_input": "2025-10-25T02:45:36.386034Z",
     "iopub.status.busy": "2025-10-25T02:45:36.386034Z",
     "iopub.status.idle": "2025-10-25T02:45:37.053872Z",
     "shell.execute_reply": "2025-10-25T02:45:37.053366Z"
    }
   },
   "outputs": [],
   "source": [
    "import pandas as pd \n",
    "import numpy as np\n",
    "import matplotlib.pyplot as plt\n",
    "import xgboost as xgb\n",
    "from calendar import c\n",
    "from sklearn.preprocessing import StandardScaler\n",
    "from sklearn.metrics import mean_squared_error, r2_score\n"
   ]
  },
  {
   "cell_type": "code",
   "execution_count": null,
   "metadata": {
    "execution": {
     "iopub.execute_input": "2025-10-25T02:45:37.055340Z",
     "iopub.status.busy": "2025-10-25T02:45:37.055340Z",
     "iopub.status.idle": "2025-10-25T02:45:37.057565Z",
     "shell.execute_reply": "2025-10-25T02:45:37.057565Z"
    }
   },
   "outputs": [],
   "source": [
    "# 设置字体为 SimHei（黑体），或者其他支持中文的字体\n",
    "plt.rcParams['font.sans-serif'] = ['SimHei']  # 设置字体\n",
    "plt.rcParams['axes.unicode_minus'] = False  # 正常显示负号"
   ]
  },
  {
   "cell_type": "code",
   "execution_count": null,
   "metadata": {
    "execution": {
     "iopub.execute_input": "2025-10-25T02:45:37.058892Z",
     "iopub.status.busy": "2025-10-25T02:45:37.057565Z",
     "iopub.status.idle": "2025-10-25T02:45:37.146687Z",
     "shell.execute_reply": "2025-10-25T02:45:37.146687Z"
    }
   },
   "outputs": [],
   "source": [
    "# 获取当前文件所在目录的父目录的父目录\n",
    "import os\n",
    "import sys\n",
    "\n",
    "current_dir = os.getcwd()\n",
    "parent_dir = os.path.dirname(current_dir)\n",
    "parent_parent_dir = os.path.dirname(parent_dir)\n",
    "\n",
    "if parent_parent_dir not in sys.path:\n",
    "    sys.path.append(parent_parent_dir)\n",
    "\n",
    "from Dtool import fill_missing_values, plot_factors_by_pattern, plot_comparison_multiple, reverse_column, plot_feature_importance,plot_predictions, plot_xgb_feature_importance\n"
   ]
  },
  {
   "cell_type": "code",
   "execution_count": null,
   "metadata": {
    "execution": {
     "iopub.execute_input": "2025-10-25T02:45:37.147737Z",
     "iopub.status.busy": "2025-10-25T02:45:37.147737Z",
     "iopub.status.idle": "2025-10-25T02:45:37.547342Z",
     "shell.execute_reply": "2025-10-25T02:45:37.547342Z"
    }
   },
   "outputs": [],
   "source": [
    "sheet = pd.read_excel('data_input/玻璃期货价格拟合残差-玻璃企业库存.xlsx', sheet_name='Sheet1').rename(columns={'DataTime': 'Date'})\n",
    "sheet = sheet.set_index('Date')\n",
    "last_day = sheet['玻璃期货价格拟合残差/玻璃企业库存'].last_valid_index()\n",
    "\n",
    "future_data_30days = sheet[sheet.index > last_day]\n",
    "target_days = pd.date_range(start=last_day+ pd.DateOffset(1), periods=20, freq='B')\n",
    "target_end = target_days[-1]\n",
    "new_index = pd.date_range(start=last_day+ pd.DateOffset(1), end=target_end, freq='B')\n",
    "sheet = sheet.reindex(sheet.index.union(new_index))\n",
    "sheet = sheet[sheet.index <= target_end]\n",
    "\n",
    "sheet.tail()"
   ]
  },
  {
   "cell_type": "code",
   "execution_count": null,
   "metadata": {
    "execution": {
     "iopub.execute_input": "2025-10-25T02:45:37.566326Z",
     "iopub.status.busy": "2025-10-25T02:45:37.565172Z",
     "iopub.status.idle": "2025-10-25T02:45:37.585969Z",
     "shell.execute_reply": "2025-10-25T02:45:37.585969Z"
    }
   },
   "outputs": [],
   "source": [
    "# 尝试多个可能的文件路径\n",
    "file_paths1 = [\n",
    "    os.path.expanduser(\"~/Desktop/X-BASE/宏观经济/eta/中国10年期国债收益率Non-Trend_合并数据.xlsx\"),\n",
    "    os.path.expanduser(\"~/Desktop/弘则研究/Horizon-Insights/X-base/宏观经济/eta/中国10年期国债收益率Non-Trend_合并数据.xlsx\")\n",
    "]\n",
    "\n",
    "file_path1 = None\n",
    "for path in file_paths1:\n",
    "    if os.path.isfile(path):  # 确保是文件而不是目录\n",
    "        file_path1 = path\n",
    "        break\n",
    "\n",
    "if file_path1 is None:\n",
    "    raise FileNotFoundError(\"未找到数据文件\")\n",
    "\n",
    "try:\n",
    "    sheet1 = pd.ExcelFile(file_path1).parse('Sheet1')\n",
    "    sheet1['Date'] = pd.to_datetime(sheet1['Date'], errors='coerce')\n",
    "    sheet1 = sheet1.drop(columns=['实际值'])\n",
    "    sheet1 = sheet1.dropna()\n",
    "    sheet1 = sheet1.sort_values('Date', ascending=True)\n",
    "except Exception as e:\n",
    "    raise Exception(f\"读取文件时出错: {str(e)}\")\n",
    "\n",
    "sheet1.head()"
   ]
  },
  {
   "cell_type": "code",
   "execution_count": null,
   "metadata": {
    "execution": {
     "iopub.execute_input": "2025-10-25T02:45:37.586981Z",
     "iopub.status.busy": "2025-10-25T02:45:37.586981Z",
     "iopub.status.idle": "2025-10-25T02:45:37.592426Z",
     "shell.execute_reply": "2025-10-25T02:45:37.592426Z"
    }
   },
   "outputs": [],
   "source": [
    "# 合并 sheet1 和 sheet2 的数据到 sheet\n",
    "sheet_daily = sheet.copy()\n",
    "sheet_daily.index.name = 'Date'\n",
    "sheet_daily = sheet_daily.reset_index()\n",
    "\n",
    "# 合并 sheet1 的美国10年通胀预期数据\n",
    "sheet_daily = pd.merge(\n",
    "    sheet_daily,\n",
    "    sheet1[['Date', '预测值_全量']],\n",
    "    on='Date',\n",
    "    how='left'\n",
    ")\n",
    "sheet_daily['中国10年期国债收益率Non-Trend/F0.2'] = sheet_daily['中国10年期国债收益率Non-Trend/F0.2'].fillna(sheet_daily['预测值_全量'])\n",
    "sheet_daily = sheet_daily.drop(columns=['预测值_全量'])\n",
    "\n",
    "# 将 sheet_daily 重新赋值给 sheet\n",
    "sheet = sheet_daily.copy()\n",
    "sheet = sheet.set_index('Date')"
   ]
  },
  {
   "cell_type": "code",
   "execution_count": null,
   "metadata": {
    "execution": {
     "iopub.execute_input": "2025-10-25T02:45:37.593437Z",
     "iopub.status.busy": "2025-10-25T02:45:37.593437Z",
     "iopub.status.idle": "2025-10-25T02:45:37.595984Z",
     "shell.execute_reply": "2025-10-25T02:45:37.595984Z"
    }
   },
   "outputs": [],
   "source": [
    "sheet.columns"
   ]
  },
  {
   "cell_type": "code",
   "execution_count": null,
   "metadata": {
    "execution": {
     "iopub.execute_input": "2025-10-25T02:45:37.596489Z",
     "iopub.status.busy": "2025-10-25T02:45:37.596489Z",
     "iopub.status.idle": "2025-10-25T02:45:37.599617Z",
     "shell.execute_reply": "2025-10-25T02:45:37.599617Z"
    }
   },
   "outputs": [],
   "source": [
    "import pandas as pd\n",
    "import numpy as np\n",
    "from statsmodels.tsa.seasonal import STL\n",
    "\n",
    "def get_stl_residual(sheet, col_name):\n",
    "    # 将数据转换为时间序列\n",
    "    ts = sheet[col_name].dropna()\n",
    "    # 确保索引是日期类型\n",
    "    if not isinstance(ts.index, pd.DatetimeIndex):\n",
    "        ts.index = pd.to_datetime(ts.index)\n",
    "    # 使用STL分解,period=365表示按年度周期分解\n",
    "    try:\n",
    "        stl = STL(ts, period=365)\n",
    "        result = stl.fit()\n",
    "        # 获取残差部分\n",
    "        residual = result.resid \n",
    "        # 创建新的Series,保持原始索引\n",
    "        residual_series = pd.Series(residual, index=ts.index)\n",
    "        # 将结果合并回原始DataFrame\n",
    "        sheet[f'{col_name}_residual'] = residual_series       \n",
    "    except Exception as e:\n",
    "        print(f\"STL分解出错: {str(e)}\")\n",
    "        sheet[f'{col_name}_residual'] = np.nan\n",
    "    return sheet"
   ]
  },
  {
   "cell_type": "code",
   "execution_count": null,
   "metadata": {
    "execution": {
     "iopub.execute_input": "2025-10-25T02:45:37.600652Z",
     "iopub.status.busy": "2025-10-25T02:45:37.600652Z",
     "iopub.status.idle": "2025-10-25T02:45:38.091785Z",
     "shell.execute_reply": "2025-10-25T02:45:38.091280Z"
    }
   },
   "outputs": [],
   "source": [
    "################################# 处理缺失值 #################################\n",
    "fill_methods = {\n",
    "'中国10年期国债收益率Non-Trend/F0.2':'interpolate', \n",
    "'玻璃现货基差（指数）':'interpolate',\n",
    "'30大中城市商品房成交面积/7DMATrend/F0.05':'interpolate', \n",
    "'玻璃社会库存/沙河超季节性/3年':'interpolate', \n",
    "'70大中城市新房房价环比':'interpolate',\n",
    "'每日建材成交/66DMA同比':'interpolate', \n",
    "'玻璃区域价差（华中-西南）':'interpolate', \n",
    "'玻璃企业库存(日熔调整/表需季节性预测)1周环差超季节性/3年':'interpolate',\n",
    "'新增人民币贷款/居民/中长期/3MMA':'interpolate',\n",
    "'玻璃区域价差（华东-华中）':'interpolate', \n",
    "'玻璃深加工企业订单天数同差':'interpolate',\n",
    "'玻璃周度表需（新）(预测，需求-7.5%)':'interpolate',\n",
    "'新增人民币贷款/居民/12MMA': 'interpolate',\n",
    "'玻璃企业库存(日熔调整/表需季节性预测)1周环差超季节性/3年/4WMA':'interpolate',\n",
    "} \n",
    "sheet= fill_missing_values(sheet, fill_methods, return_only_filled=False)\n",
    "sheet.loc[:last_day, '玻璃期货价格拟合残差/玻璃企业库存'] = sheet.loc[:last_day, '玻璃期货价格拟合残差/玻璃企业库存'].interpolate(method='linear')\n",
    "\n",
    "#################################  因子处理  #################################\n",
    "sheet = get_stl_residual(sheet, '玻璃周度表需（新）(预测，需求-7.5%)')\n",
    "\n",
    "sheet['玻璃现货基差（指数）_提前60天'] = sheet['玻璃现货基差（指数）'].shift(60)\n",
    "sheet['30大中城市商品房成交面积/7DMATrend/F0.05_提前100天'] = sheet['30大中城市商品房成交面积/7DMATrend/F0.05'].shift(200)\n",
    "sheet['玻璃社会库存/沙河超季节性/3年_提前20天'] = sheet['玻璃社会库存/沙河超季节性/3年'].shift(20)\n",
    "sheet['70大中城市新房房价环比_提前30天'] = sheet['70大中城市新房房价环比'].shift(30)\n",
    "sheet['每日建材成交/66DMA同比_提前90天'] = sheet['每日建材成交/66DMA同比'].shift(90)\n",
    "sheet['玻璃区域价差（华中-西南）_提前15天'] = sheet['玻璃区域价差（华中-西南）'].shift(15)\n",
    "sheet['新增人民币贷款/居民/中长期/3MMA_提前80天'] = sheet['新增人民币贷款/居民/中长期/3MMA'].shift(80)\n",
    "sheet['玻璃区域价差（华东-华中）_提前5天'] = sheet['玻璃区域价差（华东-华中）'].shift(5)\n",
    "sheet['玻璃深加工企业订单天数同差_提前140天'] = sheet['玻璃深加工企业订单天数同差'].shift(140)\n",
    "sheet['新增人民币贷款/居民/12MMA_提前60天'] = sheet['新增人民币贷款/居民/12MMA'].shift(60)\n",
    "\n",
    "\n",
    "sheet['玻璃社会库存/沙河超季节性/3年_提前20天_逆序'] = reverse_column(sheet, '玻璃社会库存/沙河超季节性/3年_提前20天')\n",
    "sheet['玻璃企业库存(日熔调整/表需季节性预测)1周环差超季节性/3年_逆序'] = reverse_column(sheet, '玻璃企业库存(日熔调整/表需季节性预测)1周环差超季节性/3年')\n",
    "sheet['玻璃区域价差（华中-西南）_提前15天_逆序'] = reverse_column(sheet, '玻璃区域价差（华中-西南）_提前15天')\n",
    "sheet['玻璃企业库存(日熔调整/表需季节性预测)1周环差超季节性/3年/4WMA_逆序'] = reverse_column(sheet, '玻璃企业库存(日熔调整/表需季节性预测)1周环差超季节性/3年/4WMA')\n",
    "\n",
    "sheet['中国10年期国债收益率Non-Trend/F0.2_2023-01-03之后'] = np.where(sheet.index >= pd.Timestamp('2023-01-03'),sheet['中国10年期国债收益率Non-Trend/F0.2'],np.nan)\n",
    "sheet['玻璃企业库存(日熔调整/表需季节性预测)1周环差超季节性/3年_逆序_2023-01-06之后'] = np.where(sheet.index >= pd.Timestamp('2023-01-06'),sheet['玻璃企业库存(日熔调整/表需季节性预测)1周环差超季节性/3年_逆序'],np.nan)\n",
    "sheet['玻璃周度表需（新）(预测，需求-7.5%)_residual_2024-01-05之后'] = np.where(sheet.index >= pd.Timestamp('2024-01-05'),sheet['玻璃周度表需（新）(预测，需求-7.5%)_residual'],np.nan)\n",
    "sheet['玻璃社会库存/沙河超季节性/3年_提前20天_逆序_2024-04-02之后'] = np.where(sheet.index >= pd.Timestamp('2024-01-01'),sheet['玻璃社会库存/沙河超季节性/3年_提前20天_逆序'],np.nan)\n",
    "sheet['30大中城市商品房成交面积/7DMATrend/F0.05_提前100天_2021-06-01之后'] = np.where(sheet.index >= pd.Timestamp('2021-06-01'),sheet['30大中城市商品房成交面积/7DMATrend/F0.05_提前100天'],np.nan)\n",
    "\n",
    "sheet['玻璃区域价差（华东-华中）_提前5天_2023-01-03之后'] = np.where(sheet.index >= pd.Timestamp('2023-01-03'),sheet['玻璃区域价差（华东-华中）_提前5天'],np.nan)\n",
    "sheet['玻璃深加工企业订单天数同差_提前140天_2023-05-30之后'] = np.where(sheet.index >= pd.Timestamp('2023-05-30'),sheet['玻璃深加工企业订单天数同差_提前140天'],np.nan)\n",
    "sheet['每日建材成交/66DMA同比_提前90天_2023-05-29之后'] = np.where(sheet.index >= pd.Timestamp('2023-05-29'),sheet['每日建材成交/66DMA同比_提前90天'],np.nan)\n",
    "sheet['玻璃区域价差（华中-西南）_提前15天_逆序_2023-05-04之后'] = np.where(sheet.index >= pd.Timestamp('2023-05-04'),sheet['玻璃区域价差（华中-西南）_提前15天_逆序'],np.nan)\n",
    "sheet['玻璃现货基差（指数）_提前60天_2024-04-03之后'] = np.where(sheet.index >= pd.Timestamp('2024-04-03'),sheet['玻璃现货基差（指数）_提前60天'],np.nan)\n",
    "################################# 数据筛选  #################################\n",
    "\n",
    "sheet_daily = sheet.reset_index().rename(columns={'index': 'Date'})\n",
    "sheet_daily['Date'] = pd.to_datetime(sheet_daily['Date'])\n",
    "\n",
    "sheet_daily = sheet_daily[sheet_daily['Date'] >= pd.Timestamp('2023-01-30')]\n",
    "\n",
    "sheet_daily = sheet_daily.reset_index(drop=True)\n",
    "sheet_daily = sheet_daily[\n",
    "    (sheet_daily['Date'] > last_day) | \n",
    "    (sheet_daily['玻璃期货价格拟合残差/玻璃企业库存'].notna())\n",
    "]\n",
    "\n",
    "################################# 数据 读取-处理 结束 #################################"
   ]
  },
  {
   "cell_type": "code",
   "execution_count": null,
   "metadata": {
    "execution": {
     "iopub.execute_input": "2025-10-25T02:45:38.092791Z",
     "iopub.status.busy": "2025-10-25T02:45:38.092791Z",
     "iopub.status.idle": "2025-10-25T02:45:39.414459Z",
     "shell.execute_reply": "2025-10-25T02:45:39.414459Z"
    }
   },
   "outputs": [],
   "source": [
    "sheet_daily_plot = sheet_daily.set_index('Date')\n",
    "sheet_daily_plot = sheet_daily_plot['2020':]\n",
    "\n",
    "plot_comparison_multiple(\n",
    "    sheet_daily_plot, \n",
    "    main_col='玻璃期货价格拟合残差/玻璃企业库存', \n",
    "    compare_cols=[\n",
    "        '新增人民币贷款/居民/中长期/3MMA_提前80天',\n",
    "        '中国10年期国债收益率Non-Trend/F0.2_2023-01-03之后',\n",
    "        '玻璃企业库存(日熔调整/表需季节性预测)1周环差超季节性/3年_逆序_2023-01-06之后',\n",
    "        '玻璃区域价差（华中-西南）_提前15天_逆序_2023-05-04之后',\n",
    "        '玻璃区域价差（华东-华中）_提前5天_2023-01-03之后',\n",
    "        '玻璃深加工企业订单天数同差_提前140天_2023-05-30之后',\n",
    "        '每日建材成交/66DMA同比_提前90天_2023-05-29之后',\n",
    "        '玻璃现货基差（指数）_提前60天_2024-04-03之后',\n",
    "        '玻璃周度表需（新）(预测，需求-7.5%)_residual_2024-01-05之后',\n",
    "        '玻璃社会库存/沙河超季节性/3年_提前20天_逆序_2024-04-02之后',\n",
    "        '30大中城市商品房成交面积/7DMATrend/F0.05_提前100天_2021-06-01之后',\n",
    "        '新增人民币贷款/居民/12MMA_提前60天',\n",
    "        '玻璃企业库存(日熔调整/表需季节性预测)1周环差超季节性/3年/4WMA_逆序'\n",
    "        ]\n",
    ")"
   ]
  },
  {
   "cell_type": "code",
   "execution_count": null,
   "metadata": {
    "execution": {
     "iopub.execute_input": "2025-10-25T02:45:39.415621Z",
     "iopub.status.busy": "2025-10-25T02:45:39.415621Z",
     "iopub.status.idle": "2025-10-25T02:45:39.812123Z",
     "shell.execute_reply": "2025-10-25T02:45:39.812123Z"
    }
   },
   "outputs": [],
   "source": [
    "################################# 划分 数据 训练 测试 预测 #################################\n",
    "# 划分训练集、测试集和未来数据、设置测试集长度\n",
    "train_data = sheet_daily[sheet_daily['Date'] <= last_day].copy()\n",
    "test_period = 20\n",
    "test_data = train_data[-test_period:].copy() \n",
    "train_data = train_data[:-test_period].copy()\n",
    "future_data = sheet_daily[sheet_daily['Date'] > last_day].copy()\n",
    "\n",
    "feature_columns = [\n",
    "#        '新增人民币贷款/居民/中长期/3MMA_提前80天',\n",
    "        '中国10年期国债收益率Non-Trend/F0.2_2023-01-03之后',\n",
    "        '玻璃企业库存(日熔调整/表需季节性预测)1周环差超季节性/3年_逆序_2023-01-06之后',\n",
    "        '玻璃区域价差（华中-西南）_提前15天_逆序_2023-05-04之后',\n",
    "        '玻璃区域价差（华东-华中）_提前5天_2023-01-03之后',\n",
    "        '玻璃深加工企业订单天数同差_提前140天_2023-05-30之后',\n",
    "        '每日建材成交/66DMA同比_提前90天_2023-05-29之后',\n",
    "        '玻璃现货基差（指数）_提前60天_2024-04-03之后',\n",
    "        '玻璃周度表需（新）(预测，需求-7.5%)_residual_2024-01-05之后',\n",
    "        '玻璃社会库存/沙河超季节性/3年_提前20天_逆序_2024-04-02之后',\n",
    "        '30大中城市商品房成交面积/7DMATrend/F0.05_提前100天_2021-06-01之后',\n",
    "        '新增人民币贷款/居民/12MMA_提前60天',\n",
    "        '玻璃企业库存(日熔调整/表需季节性预测)1周环差超季节性/3年/4WMA_逆序'\n",
    "]\n",
    "\n",
    "predict_column = '玻璃期货价格拟合残差/玻璃企业库存'\n",
    "\n",
    "X_train = train_data[feature_columns]\n",
    "y_train = train_data[predict_column]\n",
    "\n",
    "X_test = test_data[feature_columns]\n",
    "y_test = test_data[predict_column]\n",
    "\n",
    "X_future = future_data[feature_columns]\n",
    "\n",
    "################################# Xgboost 模型 训练 测试 预测 #################################\n",
    "\n",
    "scaler = StandardScaler()\n",
    "X_train_scaled = scaler.fit_transform(X_train)\n",
    "X_test_scaled = scaler.transform(X_test)\n",
    "X_future_scaled = scaler.transform(X_future)\n",
    "\n",
    "train_dmatrix_huber = xgb.DMatrix(X_train_scaled, label=y_train)\n",
    "train_dmatrix_zscore = xgb.DMatrix(X_train_scaled, label=y_train)\n",
    "test_dmatrix = xgb.DMatrix(X_test_scaled, label=y_test)\n",
    "future_dmatrix = xgb.DMatrix(X_future_scaled)\n",
    "\n",
    "# 计算样本权重 - 使用Huber损失函数的思想降低异常值影响\n",
    "residuals = np.abs(y_train - y_train.mean())\n",
    "delta = np.percentile(residuals, 95)  # 使用90%分位数作为阈值\n",
    "sample_weights_huber = np.where(residuals <= delta, 1.0, delta/residuals)\n",
    "train_dmatrix_huber.set_weight(sample_weights_huber)\n",
    "\n",
    "# 使用z-score思路计算样本权重\n",
    "z_scores = np.abs((y_train - y_train.mean()) / y_train.std())\n",
    "z_threshold = 2.0  # 设置z-score阈值为2个标准差\n",
    "sample_weights_zscore = np.where(z_scores <= z_threshold, 1.0, z_threshold/z_scores)\n",
    "train_dmatrix_zscore.set_weight(sample_weights_zscore)\n",
    "\n",
    "# 设置XGBoost参数\n",
    "params = {\n",
    "    'objective': 'reg:squarederror',  # 回归任务\n",
    "    'learning_rate': 0.08,  # 学习率\n",
    "    'max_depth': 12,  # 树的最大深度\n",
    "    'min_child_weight': 2,  # 最小子节点权重\n",
    "    'subsample': 0.8,  # 样本采样比例\n",
    "    'colsample_bytree': 0.8,  # 特征采样比例\n",
    "    'gamma': 0,  # 最小分裂损失\n",
    "    'reg_alpha': 1,  # L1正则化\n",
    "    'reg_lambda': 1,  # L2正则化\n",
    "    'eval_metric': 'rmse',  # 评估指标\n",
    "    'seed': 42  # 随机种子\n",
    "}\n",
    "\n",
    "\n",
    "\n",
    "num_boost_round = 200\n",
    "evals_result = {}\n",
    "\n",
    "# 模型训练\n",
    "model = xgb.train(\n",
    "    params,\n",
    "    train_dmatrix_huber,  # 使用带权重的DMatrix\n",
    "    num_boost_round, # 训练最大轮数\n",
    "    evals=[(test_dmatrix, 'eval'), (train_dmatrix_huber, 'train')],  # 更新评估数据集\n",
    "    early_stopping_rounds=100,  # 早停策略：若连续50轮验证集的误差没有改善，则停止训练\n",
    "    evals_result=evals_result,  # 保存训练过程中的评估结果\n",
    "    verbose_eval=500 # 每100轮输出一次评估信息\n",
    ")\n",
    "\n",
    "\n",
    "y_train_pred_dmatrix = model.predict(train_dmatrix_huber)\n",
    "y_test_pred_dmatrix = model.predict(test_dmatrix)\n",
    "\n",
    "train_mse = mean_squared_error(y_train, y_train_pred_dmatrix)\n",
    "test_mse = mean_squared_error(y_test, y_test_pred_dmatrix)\n",
    "train_r2 = r2_score(y_train, y_train_pred_dmatrix)\n",
    "test_r2 = r2_score(y_test, y_test_pred_dmatrix)\n",
    "print(f\"训练集 MSE (DMatrix): {round(train_mse, 4)}, 训练集 R² (DMatrix): {round(train_r2, 4)}\")\n",
    "print(f\"测试集 MSE (DMatrix): {round(test_mse, 4)}, 测试集 R² (DMatrix): {round(test_r2, 4)}\")\n",
    "\n",
    "##### 预测未来 非全部数据 和 结果存储（y_test,y_future） #####\n",
    "y_future_pred_dmatrix = model.predict(future_dmatrix)\n",
    "test_data.loc[:, '预测值'] = y_test_pred_dmatrix\n",
    "future_data.loc[:, '预测值'] = y_future_pred_dmatrix"
   ]
  },
  {
   "cell_type": "markdown",
   "metadata": {},
   "source": []
  },
  {
   "cell_type": "code",
   "execution_count": null,
   "metadata": {
    "execution": {
     "iopub.execute_input": "2025-10-25T02:45:39.813135Z",
     "iopub.status.busy": "2025-10-25T02:45:39.813135Z",
     "iopub.status.idle": "2025-10-25T02:45:39.889530Z",
     "shell.execute_reply": "2025-10-25T02:45:39.889530Z"
    }
   },
   "outputs": [],
   "source": [
    "# 可视化训练过程中的评估指标\n",
    "plt.figure(figsize=(10, 6))\n",
    "train_rmse = np.sqrt(evals_result['train']['rmse'])\n",
    "test_rmse = np.sqrt(evals_result['eval']['rmse'])\n",
    "\n",
    "epochs = len(train_rmse)\n",
    "x_axis = range(epochs)\n",
    "\n",
    "plt.plot(x_axis, train_rmse, label='训练集 RMSE', color='blue')\n",
    "plt.plot(x_axis, test_rmse, label='测试集 RMSE', color='red')\n",
    "\n",
    "plt.xlabel('迭代次数')\n",
    "plt.ylabel('RMSE')\n",
    "plt.title('XGBoost 模型训练过程中的 RMSE')\n",
    "plt.legend()\n",
    "plt.grid(True)\n",
    "plt.show()"
   ]
  },
  {
   "cell_type": "code",
   "execution_count": null,
   "metadata": {
    "execution": {
     "iopub.execute_input": "2025-10-25T02:45:39.890904Z",
     "iopub.status.busy": "2025-10-25T02:45:39.890904Z",
     "iopub.status.idle": "2025-10-25T02:45:40.198464Z",
     "shell.execute_reply": "2025-10-25T02:45:40.198464Z"
    }
   },
   "outputs": [],
   "source": [
    "################################# Xgboost 模型 训练 测试 预测 所有数据 #################################\n",
    "X_all = pd.concat([X_train, X_test]).reset_index(drop=True)\n",
    "y_all = pd.concat([y_train, y_test]).reset_index(drop=True)\n",
    "\n",
    "X_all_scaled = scaler.transform(X_all)\n",
    "X_future_scaled = scaler.transform(X_future)\n",
    "\n",
    "# 创建 DMatrix 对象\n",
    "all_data_dmatrix = xgb.DMatrix(X_all_scaled, label=y_all)\n",
    "future_dmatrix_all = xgb.DMatrix(X_future_scaled)\n",
    "\n",
    "# 计算所有数据的样本权重\n",
    "residuals_all = np.abs(y_all - y_all.mean())\n",
    "sample_weights_all = np.where(residuals_all <= delta, 1.0, delta / residuals_all)\n",
    "\n",
    "all_data_dmatrix.set_weight(sample_weights_all)  # 加入样本权重\n",
    "\n",
    "# 训练模型\n",
    "model_all = xgb.train(\n",
    "    params,\n",
    "    all_data_dmatrix,\n",
    "    num_boost_round,\n",
    "    evals=[(all_data_dmatrix, 'train')],\n",
    "    early_stopping_rounds=100,\n",
    "    evals_result=evals_result,\n",
    "    verbose_eval=500\n",
    ")\n",
    "\n",
    "y_all_pred = model_all.predict(all_data_dmatrix)\n",
    "y_future_pred_all = model_all.predict(future_dmatrix_all)\n",
    "\n",
    "all_mse = mean_squared_error(y_all, y_all_pred)\n",
    "all_r2 = r2_score(y_all, y_all_pred)\n",
    "\n",
    "print(f\"全部数据 MSE: {round(all_mse, 4)}, 全部数据 R²: {round(all_r2, 4)}\")\n",
    "\n",
    "# 存储全部数据的预测结果\n",
    "all_data = pd.concat([train_data, test_data]).reset_index(drop=True)\n",
    "all_data.loc[:, '预测值_全量'] = y_all_pred\n",
    "future_data.loc[:, '预测值_全量'] = y_future_pred_all"
   ]
  },
  {
   "cell_type": "code",
   "execution_count": null,
   "metadata": {
    "execution": {
     "iopub.execute_input": "2025-10-25T02:45:40.200020Z",
     "iopub.status.busy": "2025-10-25T02:45:40.200020Z",
     "iopub.status.idle": "2025-10-25T02:45:40.336896Z",
     "shell.execute_reply": "2025-10-25T02:45:40.336896Z"
    }
   },
   "outputs": [],
   "source": [
    "\n",
    "\n",
    "\n",
    "plt.figure(figsize=(30, 8))\n",
    "# 绘制主要数据\n",
    "future_data = plot_predictions(y_test, future_data, col=False, label=True)\n",
    "plt.plot(train_data['Date'], y_train, label='训练集—真实值', color='blue')\n",
    "plt.plot(train_data['Date'], y_train_pred_dmatrix, label='训练集-预测', color='green')\n",
    "plt.plot(test_data['Date'], y_test, label='测试集-真实值', color='blue', alpha=0.7)\n",
    "plt.plot(test_data['Date'], y_test_pred_dmatrix, label='测试集-预测', color='purple')\n",
    "plt.plot(future_data['Date'], future_data['预测值'], label='未来预测', color='red')\n",
    "plt.plot(future_data['Date'], future_data['预测值_全量'], label='未来预测(用全部数据训练)', color='black')\n",
    "\n",
    "# 添加分割线\n",
    "plt.axvline(x=test_data['Date'].iloc[0], color='black', linestyle='--', label='Train/Test Split')\n",
    "plt.axvline(x=last_day, color='black', linestyle='--', label='Future Split')\n",
    "\n",
    "# 设置标题和图例\n",
    "plt.title('玻璃期货价格拟合残差/玻璃企业库存')\n",
    "plt.legend()\n",
    "plt.grid(True)\n",
    "plt.show()"
   ]
  },
  {
   "cell_type": "code",
   "execution_count": null,
   "metadata": {
    "execution": {
     "iopub.execute_input": "2025-10-25T02:45:40.337905Z",
     "iopub.status.busy": "2025-10-25T02:45:40.337905Z",
     "iopub.status.idle": "2025-10-25T02:45:40.507708Z",
     "shell.execute_reply": "2025-10-25T02:45:40.507708Z"
    }
   },
   "outputs": [],
   "source": [
    "#绘制因子重要\n",
    "plot_xgb_feature_importance(model_all, X_train)"
   ]
  },
  {
   "cell_type": "markdown",
   "metadata": {},
   "source": [
    "---"
   ]
  },
  {
   "cell_type": "code",
   "execution_count": null,
   "metadata": {
    "execution": {
     "iopub.execute_input": "2025-10-25T02:45:40.508215Z",
     "iopub.status.busy": "2025-10-25T02:45:40.508215Z",
     "iopub.status.idle": "2025-10-25T02:45:40.546775Z",
     "shell.execute_reply": "2025-10-25T02:45:40.546269Z"
    }
   },
   "outputs": [],
   "source": [
    "################################# 训练预测数据 excel格式输出  #################################\n",
    "'''\n",
    "1. 日度数据 （真实值 和 预测值）\n",
    "2. 月度数据 （真实值、训练值、预测值）\n",
    "'''\n",
    "\n",
    "############ 日度 数据 ############\n",
    "# 创建日度数据框\n",
    "historical_actual_daily = pd.DataFrame({\n",
    "    'Date': pd.concat([train_data['Date'], test_data['Date']]),\n",
    "    '真实值': pd.concat([y_train, y_test])\n",
    "})\n",
    "# 只保留2023年之后的数据\n",
    "historical_actual_daily = historical_actual_daily[historical_actual_daily['Date'].dt.year >= 2023]\n",
    "# 创建预测数据框\n",
    "future_pred_daily = pd.DataFrame({\n",
    "    'Date': future_data['Date'],\n",
    "    '预测值': future_data['预测值']\n",
    "})\n",
    "\n",
    "\n",
    "merged_df_daily = pd.merge(historical_actual_daily, future_pred_daily, on='Date', how='outer')\n",
    "merged_df_daily = merged_df_daily.sort_values('Date', ascending=False)\n",
    "merged_df_daily['Date'] = merged_df_daily['Date'].dt.strftime('%Y/%m/%d')\n",
    "merged_df_daily.to_excel('eta/玻璃期货价格拟合残差-玻璃企业库存_合并数据.xlsx', index=False,float_format='%.1f')\n",
    "\n",
    "merged_df_daily"
   ]
  },
  {
   "cell_type": "code",
   "execution_count": null,
   "metadata": {
    "execution": {
     "iopub.execute_input": "2025-10-25T02:45:40.547785Z",
     "iopub.status.busy": "2025-10-25T02:45:40.547785Z",
     "iopub.status.idle": "2025-10-25T02:45:40.561733Z",
     "shell.execute_reply": "2025-10-25T02:45:40.561733Z"
    }
   },
   "outputs": [],
   "source": [
    "############ 月度 数据 ############\n",
    "# 历史真实值\n",
    "historical_actual_monthly = pd.DataFrame({\n",
    "    'Date': pd.concat([train_data['Date'], test_data['Date']]),\n",
    "    '真实值': pd.concat([y_train, y_test])\n",
    "})\n",
    "# 真实数据 只保留2023年之后的\n",
    "historical_actual_monthly = historical_actual_monthly[historical_actual_monthly['Date'].dt.year >= 2023]\n",
    "# 2024年及以后训练集预测值\n",
    "train_pred_2024 = pd.DataFrame({\n",
    "    'Date': train_data[train_data['Date'].dt.year >= 2024]['Date'],\n",
    "    '预测值': y_train_pred_dmatrix[train_data['Date'].dt.year >= 2024]\n",
    "})\n",
    "# 2024年及以后c测试集集预测值\n",
    "test_pred_2024 = test_data[['Date', '预测值']].copy()\n",
    "# 未来预测值 \n",
    "future_pred_2024 = pd.DataFrame({\n",
    "    'Date': future_data['Date'],\n",
    "    '预测值': future_data['预测值']\n",
    "})\n",
    "# 合并 训练集预测+测试集预测+未来预测\n",
    "future_pred_monthly = pd.concat([\n",
    "    train_pred_2024, \n",
    "    test_pred_2024, \n",
    "    future_pred_2024\n",
    "    ], axis=0).sort_values('Date')\n",
    "\n",
    "# 合并历史真实值和预测值\n",
    "merged_df_monthly = pd.merge(historical_actual_monthly, future_pred_monthly, on='Date', how='outer')\n",
    "merged_df_monthly.set_index('Date', inplace=True)\n",
    "merged_df_monthly = merged_df_monthly.resample('ME').mean()\n",
    "merged_df_monthly.reset_index(inplace=True)\n",
    "merged_df_monthly =merged_df_monthly.sort_values('Date', ascending=False)\n",
    "merged_df_monthly['Date'] = merged_df_monthly['Date'].dt.strftime('%Y/%m/%d')\n",
    "# 保存成excel\n",
    "merged_df_monthly.to_excel('eta/玻璃期货价格拟合残差-玻璃企业库存_月度数据.xlsx', index=False, float_format='%.1f')\n",
    "merged_df_monthly.head()"
   ]
  },
  {
   "cell_type": "code",
   "execution_count": null,
   "metadata": {
    "execution": {
     "iopub.execute_input": "2025-10-25T02:45:40.562238Z",
     "iopub.status.busy": "2025-10-25T02:45:40.562238Z",
     "iopub.status.idle": "2025-10-25T02:45:40.755770Z",
     "shell.execute_reply": "2025-10-25T02:45:40.755770Z"
    }
   },
   "outputs": [],
   "source": [
    "from Dcel import update_excel_data\n",
    "# 使用示例\n",
    "file_path = \"eta/1.玻璃纯碱_数据上传.xlsx\"\n",
    "sheet_name = \"日度数据表\"\n",
    "identifier = \"玻璃期货价格拟合残差/玻璃企业库存\"\n",
    "\n",
    "# 调用函数更新数据\n",
    "success = update_excel_data(merged_df_daily, file_path, sheet_name, identifier)\n",
    "\n",
    "if success:\n",
    "    print(\"数据已成功更新到Excel文件\")\n",
    "else:\n",
    "    print(\"数据更新失败，请检查错误信息\")"
   ]
  },
  {
   "cell_type": "code",
   "execution_count": null,
   "metadata": {
    "execution": {
     "iopub.execute_input": "2025-10-25T02:45:40.756275Z",
     "iopub.status.busy": "2025-10-25T02:45:40.756275Z",
     "iopub.status.idle": "2025-10-25T02:45:40.867001Z",
     "shell.execute_reply": "2025-10-25T02:45:40.867001Z"
    }
   },
   "outputs": [],
   "source": [
    "from Lcel import update_excel_data\n",
    "file_path = \"eta/1.玻璃纯碱_数据上传.xlsx\"\n",
    "sheet_name = \"详情页\"\n",
    "identifier = \"玻璃期货价格拟合残差/玻璃企业库存\"\n",
    "# 调用函数更新数据\n",
    "success = update_excel_data(merged_df_monthly, file_path, sheet_name, identifier)\n",
    "\n",
    "if success:\n",
    "    print(\"数据已成功更新到Excel文件\")\n",
    "else:\n",
    "    print(\"数据更新失败，请检查错误信息\")\n"
   ]
  },
  {
   "cell_type": "code",
   "execution_count": null,
   "metadata": {},
   "outputs": [],
   "source": []
  }
 ],
 "metadata": {
  "kernelspec": {
   "display_name": "base",
   "language": "python",
   "name": "python3"
  },
  "language_info": {
   "codemirror_mode": {
    "name": "ipython",
    "version": 3
   },
   "file_extension": ".py",
   "mimetype": "text/x-python",
   "name": "python",
   "nbconvert_exporter": "python",
   "pygments_lexer": "ipython3",
   "version": "3.12.4"
  }
 },
 "nbformat": 4,
 "nbformat_minor": 2
}
