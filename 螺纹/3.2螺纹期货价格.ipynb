{
 "cells": [
  {
   "cell_type": "code",
   "execution_count": 1,
   "metadata": {
    "execution": {
     "iopub.execute_input": "2025-10-29T08:12:19.037674Z",
     "iopub.status.busy": "2025-10-29T08:12:19.036795Z",
     "iopub.status.idle": "2025-10-29T08:12:20.894324Z",
     "shell.execute_reply": "2025-10-29T08:12:20.893860Z"
    }
   },
   "outputs": [],
   "source": [
    "import pandas as pd\n",
    "import numpy as np\n",
    "import os\n",
    "import matplotlib.pyplot as plt\n",
    "from sklearn.linear_model import LinearRegression\n",
    "from sklearn.metrics import mean_squared_error, r2_score, mean_absolute_error\n",
    "import numpy as np\n"
   ]
  },
  {
   "cell_type": "code",
   "execution_count": 2,
   "metadata": {
    "execution": {
     "iopub.execute_input": "2025-10-29T08:12:20.896357Z",
     "iopub.status.busy": "2025-10-29T08:12:20.896136Z",
     "iopub.status.idle": "2025-10-29T08:12:20.898871Z",
     "shell.execute_reply": "2025-10-29T08:12:20.898424Z"
    }
   },
   "outputs": [],
   "source": [
    "# 设置字体为 SimHei（黑体），或者其他支持中文的字体\n",
    "plt.rcParams['font.sans-serif'] = ['SimHei']  # 设置字体\n",
    "plt.rcParams['axes.unicode_minus'] = False  # 正常显示负号"
   ]
  },
  {
   "cell_type": "code",
   "execution_count": 3,
   "metadata": {
    "execution": {
     "iopub.execute_input": "2025-10-29T08:12:20.900436Z",
     "iopub.status.busy": "2025-10-29T08:12:20.900291Z",
     "iopub.status.idle": "2025-10-29T08:12:21.166582Z",
     "shell.execute_reply": "2025-10-29T08:12:21.165831Z"
    }
   },
   "outputs": [],
   "source": [
    "# 获取当前文件所在目录的父目录\n",
    "import os\n",
    "import sys\n",
    "\n",
    "current_dir = os.getcwd()\n",
    "parent_dir = os.path.dirname(current_dir)\n",
    "\n",
    "if parent_dir not in sys.path:\n",
    "    sys.path.append(parent_dir)\n",
    "\n",
    "\n",
    "from Dtool import fill_missing_values, plot_factors_by_pattern, plot_comparison_multiple, reverse_column, plot_feature_importance,plot_predictions\n"
   ]
  },
  {
   "cell_type": "code",
   "execution_count": 4,
   "metadata": {
    "execution": {
     "iopub.execute_input": "2025-10-29T08:12:21.168472Z",
     "iopub.status.busy": "2025-10-29T08:12:21.168224Z",
     "iopub.status.idle": "2025-10-29T08:12:21.488339Z",
     "shell.execute_reply": "2025-10-29T08:12:21.487676Z"
    }
   },
   "outputs": [
    {
     "data": {
      "text/html": [
       "<div>\n",
       "<style scoped>\n",
       "    .dataframe tbody tr th:only-of-type {\n",
       "        vertical-align: middle;\n",
       "    }\n",
       "\n",
       "    .dataframe tbody tr th {\n",
       "        vertical-align: top;\n",
       "    }\n",
       "\n",
       "    .dataframe thead th {\n",
       "        text-align: right;\n",
       "    }\n",
       "</style>\n",
       "<table border=\"1\" class=\"dataframe\">\n",
       "  <thead>\n",
       "    <tr style=\"text-align: right;\">\n",
       "      <th></th>\n",
       "      <th>螺纹盘面成本</th>\n",
       "      <th>螺纹盘面利润</th>\n",
       "      <th>螺纹期货价格</th>\n",
       "    </tr>\n",
       "  </thead>\n",
       "  <tbody>\n",
       "    <tr>\n",
       "      <th>2025-11-19</th>\n",
       "      <td>NaN</td>\n",
       "      <td>NaN</td>\n",
       "      <td>NaN</td>\n",
       "    </tr>\n",
       "    <tr>\n",
       "      <th>2025-11-20</th>\n",
       "      <td>NaN</td>\n",
       "      <td>NaN</td>\n",
       "      <td>NaN</td>\n",
       "    </tr>\n",
       "    <tr>\n",
       "      <th>2025-11-21</th>\n",
       "      <td>NaN</td>\n",
       "      <td>NaN</td>\n",
       "      <td>NaN</td>\n",
       "    </tr>\n",
       "    <tr>\n",
       "      <th>2025-11-24</th>\n",
       "      <td>NaN</td>\n",
       "      <td>NaN</td>\n",
       "      <td>NaN</td>\n",
       "    </tr>\n",
       "    <tr>\n",
       "      <th>2025-11-25</th>\n",
       "      <td>NaN</td>\n",
       "      <td>NaN</td>\n",
       "      <td>NaN</td>\n",
       "    </tr>\n",
       "  </tbody>\n",
       "</table>\n",
       "</div>"
      ],
      "text/plain": [
       "            螺纹盘面成本  螺纹盘面利润  螺纹期货价格\n",
       "2025-11-19     NaN     NaN     NaN\n",
       "2025-11-20     NaN     NaN     NaN\n",
       "2025-11-21     NaN     NaN     NaN\n",
       "2025-11-24     NaN     NaN     NaN\n",
       "2025-11-25     NaN     NaN     NaN"
      ]
     },
     "execution_count": 4,
     "metadata": {},
     "output_type": "execute_result"
    }
   ],
   "source": [
    "sheet = pd.read_excel('data_input/螺纹期货价格.xlsx', sheet_name='Sheet1').rename(columns={'DataTime': 'Date'})\n",
    "sheet = sheet.set_index('Date')\n",
    "last_day = sheet['螺纹期货价格'].last_valid_index()\n",
    "\n",
    "future_data_30days = sheet[sheet.index > last_day]\n",
    "target_days = pd.date_range(start=last_day+ pd.DateOffset(1), periods=20, freq='B')\n",
    "target_end = target_days[-1]\n",
    "new_index = pd.date_range(start=last_day+ pd.DateOffset(1), end=target_end, freq='B')\n",
    "sheet = sheet.reindex(sheet.index.union(new_index))\n",
    "sheet = sheet[sheet.index <= target_end]\n",
    "\n",
    "sheet.tail()\n"
   ]
  },
  {
   "cell_type": "code",
   "execution_count": 5,
   "metadata": {
    "execution": {
     "iopub.execute_input": "2025-10-29T08:12:21.524493Z",
     "iopub.status.busy": "2025-10-29T08:12:21.524265Z",
     "iopub.status.idle": "2025-10-29T08:12:21.574679Z",
     "shell.execute_reply": "2025-10-29T08:12:21.574223Z"
    }
   },
   "outputs": [
    {
     "data": {
      "text/html": [
       "<div>\n",
       "<style scoped>\n",
       "    .dataframe tbody tr th:only-of-type {\n",
       "        vertical-align: middle;\n",
       "    }\n",
       "\n",
       "    .dataframe tbody tr th {\n",
       "        vertical-align: top;\n",
       "    }\n",
       "\n",
       "    .dataframe thead th {\n",
       "        text-align: right;\n",
       "    }\n",
       "</style>\n",
       "<table border=\"1\" class=\"dataframe\">\n",
       "  <thead>\n",
       "    <tr style=\"text-align: right;\">\n",
       "      <th></th>\n",
       "      <th>Date</th>\n",
       "      <th>预测值</th>\n",
       "    </tr>\n",
       "  </thead>\n",
       "  <tbody>\n",
       "    <tr>\n",
       "      <th>4</th>\n",
       "      <td>2025-11-19</td>\n",
       "      <td>-228.4</td>\n",
       "    </tr>\n",
       "    <tr>\n",
       "      <th>3</th>\n",
       "      <td>2025-11-20</td>\n",
       "      <td>-228.3</td>\n",
       "    </tr>\n",
       "    <tr>\n",
       "      <th>2</th>\n",
       "      <td>2025-11-21</td>\n",
       "      <td>-229.0</td>\n",
       "    </tr>\n",
       "    <tr>\n",
       "      <th>1</th>\n",
       "      <td>2025-11-24</td>\n",
       "      <td>-226.7</td>\n",
       "    </tr>\n",
       "    <tr>\n",
       "      <th>0</th>\n",
       "      <td>2025-11-25</td>\n",
       "      <td>-226.8</td>\n",
       "    </tr>\n",
       "  </tbody>\n",
       "</table>\n",
       "</div>"
      ],
      "text/plain": [
       "        Date    预测值\n",
       "4 2025-11-19 -228.4\n",
       "3 2025-11-20 -228.3\n",
       "2 2025-11-21 -229.0\n",
       "1 2025-11-24 -226.7\n",
       "0 2025-11-25 -226.8"
      ]
     },
     "execution_count": 5,
     "metadata": {},
     "output_type": "execute_result"
    }
   ],
   "source": [
    "file_path1 = os.path.expanduser(\"eta/螺纹盘面利润_合并数据.xlsx\") \n",
    "sheet1 = pd.ExcelFile(file_path1).parse('Sheet1')\n",
    "sheet1['Date'] = pd.to_datetime(sheet1['Date'], errors='coerce')\n",
    "sheet1 = sheet1.drop(columns=['真实值'])\n",
    "sheet1 = sheet1.dropna()\n",
    "\n",
    "sheet1 = sheet1.sort_values('Date', ascending=True)\n",
    "sheet1.tail()"
   ]
  },
  {
   "cell_type": "code",
   "execution_count": 6,
   "metadata": {
    "execution": {
     "iopub.execute_input": "2025-10-29T08:12:21.576614Z",
     "iopub.status.busy": "2025-10-29T08:12:21.576459Z",
     "iopub.status.idle": "2025-10-29T08:12:21.622353Z",
     "shell.execute_reply": "2025-10-29T08:12:21.621884Z"
    }
   },
   "outputs": [
    {
     "data": {
      "text/html": [
       "<div>\n",
       "<style scoped>\n",
       "    .dataframe tbody tr th:only-of-type {\n",
       "        vertical-align: middle;\n",
       "    }\n",
       "\n",
       "    .dataframe tbody tr th {\n",
       "        vertical-align: top;\n",
       "    }\n",
       "\n",
       "    .dataframe thead th {\n",
       "        text-align: right;\n",
       "    }\n",
       "</style>\n",
       "<table border=\"1\" class=\"dataframe\">\n",
       "  <thead>\n",
       "    <tr style=\"text-align: right;\">\n",
       "      <th></th>\n",
       "      <th>Date</th>\n",
       "      <th>螺纹盘面成本_预测</th>\n",
       "    </tr>\n",
       "  </thead>\n",
       "  <tbody>\n",
       "    <tr>\n",
       "      <th>20</th>\n",
       "      <td>2025-10-29</td>\n",
       "      <td>3406.157896</td>\n",
       "    </tr>\n",
       "    <tr>\n",
       "      <th>19</th>\n",
       "      <td>2025-10-29</td>\n",
       "      <td>3416.708266</td>\n",
       "    </tr>\n",
       "    <tr>\n",
       "      <th>18</th>\n",
       "      <td>2025-10-30</td>\n",
       "      <td>3504.147650</td>\n",
       "    </tr>\n",
       "    <tr>\n",
       "      <th>17</th>\n",
       "      <td>2025-10-31</td>\n",
       "      <td>3618.120494</td>\n",
       "    </tr>\n",
       "    <tr>\n",
       "      <th>16</th>\n",
       "      <td>2025-11-03</td>\n",
       "      <td>3615.501156</td>\n",
       "    </tr>\n",
       "  </tbody>\n",
       "</table>\n",
       "</div>"
      ],
      "text/plain": [
       "         Date    螺纹盘面成本_预测\n",
       "20 2025-10-29  3406.157896\n",
       "19 2025-10-29  3416.708266\n",
       "18 2025-10-30  3504.147650\n",
       "17 2025-10-31  3618.120494\n",
       "16 2025-11-03  3615.501156"
      ]
     },
     "execution_count": 6,
     "metadata": {},
     "output_type": "execute_result"
    }
   ],
   "source": [
    "file_path2 = os.path.expanduser(\"eta/螺纹盘面成本_合并数据.xlsx\") \n",
    "sheet2 = pd.ExcelFile(file_path2).parse('Sheet1')\n",
    "sheet2['Date'] = pd.to_datetime(sheet2['Date'], errors='coerce')\n",
    "sheet2 = sheet2.drop(columns=['螺纹盘面成本'])\n",
    "sheet2 = sheet2.dropna()\n",
    "\n",
    "sheet2 = sheet2.sort_values('Date', ascending=True)\n",
    "sheet2.head()"
   ]
  },
  {
   "cell_type": "code",
   "execution_count": 7,
   "metadata": {
    "execution": {
     "iopub.execute_input": "2025-10-29T08:12:21.625582Z",
     "iopub.status.busy": "2025-10-29T08:12:21.624915Z",
     "iopub.status.idle": "2025-10-29T08:12:21.644203Z",
     "shell.execute_reply": "2025-10-29T08:12:21.643286Z"
    }
   },
   "outputs": [
    {
     "data": {
      "text/html": [
       "<div>\n",
       "<style scoped>\n",
       "    .dataframe tbody tr th:only-of-type {\n",
       "        vertical-align: middle;\n",
       "    }\n",
       "\n",
       "    .dataframe tbody tr th {\n",
       "        vertical-align: top;\n",
       "    }\n",
       "\n",
       "    .dataframe thead th {\n",
       "        text-align: right;\n",
       "    }\n",
       "</style>\n",
       "<table border=\"1\" class=\"dataframe\">\n",
       "  <thead>\n",
       "    <tr style=\"text-align: right;\">\n",
       "      <th></th>\n",
       "      <th>Date</th>\n",
       "      <th>螺纹盘面成本</th>\n",
       "      <th>螺纹盘面利润</th>\n",
       "      <th>螺纹期货价格</th>\n",
       "    </tr>\n",
       "  </thead>\n",
       "  <tbody>\n",
       "    <tr>\n",
       "      <th>4041</th>\n",
       "      <td>2025-11-12</td>\n",
       "      <td>3619.418305</td>\n",
       "      <td>-227.0</td>\n",
       "      <td>NaN</td>\n",
       "    </tr>\n",
       "    <tr>\n",
       "      <th>4042</th>\n",
       "      <td>2025-11-13</td>\n",
       "      <td>3572.194325</td>\n",
       "      <td>-227.3</td>\n",
       "      <td>NaN</td>\n",
       "    </tr>\n",
       "    <tr>\n",
       "      <th>4043</th>\n",
       "      <td>2025-11-14</td>\n",
       "      <td>3587.005485</td>\n",
       "      <td>-227.0</td>\n",
       "      <td>NaN</td>\n",
       "    </tr>\n",
       "    <tr>\n",
       "      <th>4044</th>\n",
       "      <td>2025-11-17</td>\n",
       "      <td>3608.524831</td>\n",
       "      <td>-227.5</td>\n",
       "      <td>NaN</td>\n",
       "    </tr>\n",
       "    <tr>\n",
       "      <th>4045</th>\n",
       "      <td>2025-11-18</td>\n",
       "      <td>3578.546257</td>\n",
       "      <td>-227.8</td>\n",
       "      <td>NaN</td>\n",
       "    </tr>\n",
       "    <tr>\n",
       "      <th>4046</th>\n",
       "      <td>2025-11-19</td>\n",
       "      <td>3580.423083</td>\n",
       "      <td>-228.4</td>\n",
       "      <td>NaN</td>\n",
       "    </tr>\n",
       "    <tr>\n",
       "      <th>4047</th>\n",
       "      <td>2025-11-20</td>\n",
       "      <td>3575.815530</td>\n",
       "      <td>-228.3</td>\n",
       "      <td>NaN</td>\n",
       "    </tr>\n",
       "    <tr>\n",
       "      <th>4048</th>\n",
       "      <td>2025-11-21</td>\n",
       "      <td>3592.616536</td>\n",
       "      <td>-229.0</td>\n",
       "      <td>NaN</td>\n",
       "    </tr>\n",
       "    <tr>\n",
       "      <th>4049</th>\n",
       "      <td>2025-11-24</td>\n",
       "      <td>3597.737236</td>\n",
       "      <td>-226.7</td>\n",
       "      <td>NaN</td>\n",
       "    </tr>\n",
       "    <tr>\n",
       "      <th>4050</th>\n",
       "      <td>2025-11-25</td>\n",
       "      <td>3603.275236</td>\n",
       "      <td>-226.8</td>\n",
       "      <td>NaN</td>\n",
       "    </tr>\n",
       "  </tbody>\n",
       "</table>\n",
       "</div>"
      ],
      "text/plain": [
       "           Date       螺纹盘面成本  螺纹盘面利润  螺纹期货价格\n",
       "4041 2025-11-12  3619.418305  -227.0     NaN\n",
       "4042 2025-11-13  3572.194325  -227.3     NaN\n",
       "4043 2025-11-14  3587.005485  -227.0     NaN\n",
       "4044 2025-11-17  3608.524831  -227.5     NaN\n",
       "4045 2025-11-18  3578.546257  -227.8     NaN\n",
       "4046 2025-11-19  3580.423083  -228.4     NaN\n",
       "4047 2025-11-20  3575.815530  -228.3     NaN\n",
       "4048 2025-11-21  3592.616536  -229.0     NaN\n",
       "4049 2025-11-24  3597.737236  -226.7     NaN\n",
       "4050 2025-11-25  3603.275236  -226.8     NaN"
      ]
     },
     "execution_count": 7,
     "metadata": {},
     "output_type": "execute_result"
    }
   ],
   "source": [
    "# 合并 sheet1 和 sheet2 的数据到 sheet\n",
    "sheet_daily = sheet.copy()\n",
    "sheet_daily.index.name = 'Date'\n",
    "sheet_daily = sheet_daily.reset_index()\n",
    "\n",
    "# 合并 sheet1 的美国10年通胀预期数据\n",
    "sheet_daily = pd.merge(\n",
    "    sheet_daily,\n",
    "    sheet1[['Date', '预测值']],\n",
    "    on='Date',\n",
    "    how='left'\n",
    ")\n",
    "sheet_daily['螺纹盘面利润'] = sheet_daily['螺纹盘面利润'].fillna(sheet_daily['预测值'])\n",
    "sheet_daily = sheet_daily.drop(columns=['预测值'])\n",
    "\n",
    "# 合并 sheet2 的美元指数数据 \n",
    "sheet_daily = pd.merge(\n",
    "    sheet_daily,\n",
    "    sheet2[['Date', '螺纹盘面成本_预测']],\n",
    "    on='Date',\n",
    "    how='left'\n",
    ")\n",
    "sheet_daily['螺纹盘面成本'] = sheet_daily['螺纹盘面成本'].fillna(sheet_daily['螺纹盘面成本_预测'])\n",
    "sheet_daily = sheet_daily.drop(columns=['螺纹盘面成本_预测'])\n",
    "\n",
    "\n",
    "sheet_daily = sheet_daily[sheet_daily['Date'] >= pd.Timestamp('2023-06-01')]\n",
    "sheet_daily.tail(10)"
   ]
  },
  {
   "cell_type": "code",
   "execution_count": 8,
   "metadata": {
    "execution": {
     "iopub.execute_input": "2025-10-29T08:12:21.646949Z",
     "iopub.status.busy": "2025-10-29T08:12:21.646621Z",
     "iopub.status.idle": "2025-10-29T08:12:21.655461Z",
     "shell.execute_reply": "2025-10-29T08:12:21.654709Z"
    }
   },
   "outputs": [
    {
     "data": {
      "text/html": [
       "<div>\n",
       "<style scoped>\n",
       "    .dataframe tbody tr th:only-of-type {\n",
       "        vertical-align: middle;\n",
       "    }\n",
       "\n",
       "    .dataframe tbody tr th {\n",
       "        vertical-align: top;\n",
       "    }\n",
       "\n",
       "    .dataframe thead th {\n",
       "        text-align: right;\n",
       "    }\n",
       "</style>\n",
       "<table border=\"1\" class=\"dataframe\">\n",
       "  <thead>\n",
       "    <tr style=\"text-align: right;\">\n",
       "      <th></th>\n",
       "      <th>Date</th>\n",
       "      <th>螺纹盘面成本</th>\n",
       "      <th>螺纹盘面利润</th>\n",
       "      <th>螺纹期货价格</th>\n",
       "      <th>螺纹期货价格_预测</th>\n",
       "    </tr>\n",
       "  </thead>\n",
       "  <tbody>\n",
       "    <tr>\n",
       "      <th>4046</th>\n",
       "      <td>2025-11-19</td>\n",
       "      <td>3580.423083</td>\n",
       "      <td>-228.4</td>\n",
       "      <td>NaN</td>\n",
       "      <td>3352.023083</td>\n",
       "    </tr>\n",
       "    <tr>\n",
       "      <th>4047</th>\n",
       "      <td>2025-11-20</td>\n",
       "      <td>3575.815530</td>\n",
       "      <td>-228.3</td>\n",
       "      <td>NaN</td>\n",
       "      <td>3347.515530</td>\n",
       "    </tr>\n",
       "    <tr>\n",
       "      <th>4048</th>\n",
       "      <td>2025-11-21</td>\n",
       "      <td>3592.616536</td>\n",
       "      <td>-229.0</td>\n",
       "      <td>NaN</td>\n",
       "      <td>3363.616536</td>\n",
       "    </tr>\n",
       "    <tr>\n",
       "      <th>4049</th>\n",
       "      <td>2025-11-24</td>\n",
       "      <td>3597.737236</td>\n",
       "      <td>-226.7</td>\n",
       "      <td>NaN</td>\n",
       "      <td>3371.037236</td>\n",
       "    </tr>\n",
       "    <tr>\n",
       "      <th>4050</th>\n",
       "      <td>2025-11-25</td>\n",
       "      <td>3603.275236</td>\n",
       "      <td>-226.8</td>\n",
       "      <td>NaN</td>\n",
       "      <td>3376.475236</td>\n",
       "    </tr>\n",
       "  </tbody>\n",
       "</table>\n",
       "</div>"
      ],
      "text/plain": [
       "           Date       螺纹盘面成本  螺纹盘面利润  螺纹期货价格    螺纹期货价格_预测\n",
       "4046 2025-11-19  3580.423083  -228.4     NaN  3352.023083\n",
       "4047 2025-11-20  3575.815530  -228.3     NaN  3347.515530\n",
       "4048 2025-11-21  3592.616536  -229.0     NaN  3363.616536\n",
       "4049 2025-11-24  3597.737236  -226.7     NaN  3371.037236\n",
       "4050 2025-11-25  3603.275236  -226.8     NaN  3376.475236"
      ]
     },
     "execution_count": 8,
     "metadata": {},
     "output_type": "execute_result"
    }
   ],
   "source": [
    "# 添加新列 山东汽油裂解差_预测\n",
    "sheet_daily['螺纹期货价格_预测'] = sheet_daily['螺纹盘面利润']  + sheet_daily['螺纹盘面成本']\n",
    "sheet_daily.tail()"
   ]
  },
  {
   "cell_type": "code",
   "execution_count": 9,
   "metadata": {
    "execution": {
     "iopub.execute_input": "2025-10-29T08:12:21.657903Z",
     "iopub.status.busy": "2025-10-29T08:12:21.657697Z",
     "iopub.status.idle": "2025-10-29T08:12:21.661341Z",
     "shell.execute_reply": "2025-10-29T08:12:21.660364Z"
    }
   },
   "outputs": [],
   "source": [
    "last_day = sheet_daily['Date'][sheet_daily['螺纹期货价格'].last_valid_index()]"
   ]
  },
  {
   "cell_type": "markdown",
   "metadata": {},
   "source": [
    "---"
   ]
  },
  {
   "cell_type": "code",
   "execution_count": 10,
   "metadata": {
    "execution": {
     "iopub.execute_input": "2025-10-29T08:12:21.663563Z",
     "iopub.status.busy": "2025-10-29T08:12:21.663368Z",
     "iopub.status.idle": "2025-10-29T08:12:21.742578Z",
     "shell.execute_reply": "2025-10-29T08:12:21.741374Z"
    }
   },
   "outputs": [
    {
     "data": {
      "text/html": [
       "<div>\n",
       "<style scoped>\n",
       "    .dataframe tbody tr th:only-of-type {\n",
       "        vertical-align: middle;\n",
       "    }\n",
       "\n",
       "    .dataframe tbody tr th {\n",
       "        vertical-align: top;\n",
       "    }\n",
       "\n",
       "    .dataframe thead th {\n",
       "        text-align: right;\n",
       "    }\n",
       "</style>\n",
       "<table border=\"1\" class=\"dataframe\">\n",
       "  <thead>\n",
       "    <tr style=\"text-align: right;\">\n",
       "      <th></th>\n",
       "      <th>Date</th>\n",
       "      <th>螺纹期货价格</th>\n",
       "      <th>螺纹期货价格_预测</th>\n",
       "    </tr>\n",
       "  </thead>\n",
       "  <tbody>\n",
       "    <tr>\n",
       "      <th>603</th>\n",
       "      <td>2025/11/25</td>\n",
       "      <td>NaN</td>\n",
       "      <td>3376.475236</td>\n",
       "    </tr>\n",
       "    <tr>\n",
       "      <th>602</th>\n",
       "      <td>2025/11/24</td>\n",
       "      <td>NaN</td>\n",
       "      <td>3371.037236</td>\n",
       "    </tr>\n",
       "    <tr>\n",
       "      <th>601</th>\n",
       "      <td>2025/11/21</td>\n",
       "      <td>NaN</td>\n",
       "      <td>3363.616536</td>\n",
       "    </tr>\n",
       "    <tr>\n",
       "      <th>600</th>\n",
       "      <td>2025/11/20</td>\n",
       "      <td>NaN</td>\n",
       "      <td>3347.515530</td>\n",
       "    </tr>\n",
       "    <tr>\n",
       "      <th>599</th>\n",
       "      <td>2025/11/19</td>\n",
       "      <td>NaN</td>\n",
       "      <td>3352.023083</td>\n",
       "    </tr>\n",
       "  </tbody>\n",
       "</table>\n",
       "</div>"
      ],
      "text/plain": [
       "           Date  螺纹期货价格    螺纹期货价格_预测\n",
       "603  2025/11/25     NaN  3376.475236\n",
       "602  2025/11/24     NaN  3371.037236\n",
       "601  2025/11/21     NaN  3363.616536\n",
       "600  2025/11/20     NaN  3347.515530\n",
       "599  2025/11/19     NaN  3352.023083"
      ]
     },
     "execution_count": 10,
     "metadata": {},
     "output_type": "execute_result"
    }
   ],
   "source": [
    "# 创建历史数据部分\n",
    "historical = sheet_daily[sheet_daily['Date'] <= last_day][['Date', '螺纹期货价格']]\n",
    "historical.columns = ['Date', '螺纹期货价格']\n",
    "\n",
    "# 创建预测数据部分 \n",
    "forecast = sheet_daily[sheet_daily['Date'] > last_day][['Date', '螺纹期货价格_预测']]\n",
    "forecast.columns = ['Date', '螺纹期货价格_预测']\n",
    "\n",
    "# 合并历史和预测数据\n",
    "merged_df_daily = pd.concat([historical, forecast], axis=0, join='outer')\n",
    "merged_df_daily = merged_df_daily.sort_values('Date').reset_index(drop=True)\n",
    "merged_df_daily = merged_df_daily.sort_values(by='Date', ascending=False)\n",
    "merged_df_daily['Date'] = merged_df_daily['Date'].dt.strftime('%Y/%m/%d')\n",
    "merged_df_daily.to_excel('eta/螺纹期货价格_合并数据.xlsx', index=False,float_format='%.6f')\n",
    "merged_df_daily.head() "
   ]
  },
  {
   "cell_type": "code",
   "execution_count": 11,
   "metadata": {
    "execution": {
     "iopub.execute_input": "2025-10-29T08:12:21.744424Z",
     "iopub.status.busy": "2025-10-29T08:12:21.744268Z",
     "iopub.status.idle": "2025-10-29T08:12:21.780386Z",
     "shell.execute_reply": "2025-10-29T08:12:21.779736Z"
    }
   },
   "outputs": [
    {
     "data": {
      "text/html": [
       "<div>\n",
       "<style scoped>\n",
       "    .dataframe tbody tr th:only-of-type {\n",
       "        vertical-align: middle;\n",
       "    }\n",
       "\n",
       "    .dataframe tbody tr th {\n",
       "        vertical-align: top;\n",
       "    }\n",
       "\n",
       "    .dataframe thead th {\n",
       "        text-align: right;\n",
       "    }\n",
       "</style>\n",
       "<table border=\"1\" class=\"dataframe\">\n",
       "  <thead>\n",
       "    <tr style=\"text-align: right;\">\n",
       "      <th></th>\n",
       "      <th>Date</th>\n",
       "      <th>螺纹期货价格</th>\n",
       "      <th>螺纹期货价格_预测</th>\n",
       "    </tr>\n",
       "  </thead>\n",
       "  <tbody>\n",
       "    <tr>\n",
       "      <th>29</th>\n",
       "      <td>2025/11/30</td>\n",
       "      <td>NaN</td>\n",
       "      <td>3372.915281</td>\n",
       "    </tr>\n",
       "    <tr>\n",
       "      <th>28</th>\n",
       "      <td>2025/10/31</td>\n",
       "      <td>3066.500000</td>\n",
       "      <td>3111.229684</td>\n",
       "    </tr>\n",
       "    <tr>\n",
       "      <th>27</th>\n",
       "      <td>2025/09/30</td>\n",
       "      <td>3132.909091</td>\n",
       "      <td>3132.909091</td>\n",
       "    </tr>\n",
       "    <tr>\n",
       "      <th>26</th>\n",
       "      <td>2025/08/31</td>\n",
       "      <td>3174.238095</td>\n",
       "      <td>3174.238095</td>\n",
       "    </tr>\n",
       "    <tr>\n",
       "      <th>25</th>\n",
       "      <td>2025/07/31</td>\n",
       "      <td>3168.130435</td>\n",
       "      <td>3168.130435</td>\n",
       "    </tr>\n",
       "  </tbody>\n",
       "</table>\n",
       "</div>"
      ],
      "text/plain": [
       "          Date       螺纹期货价格    螺纹期货价格_预测\n",
       "29  2025/11/30          NaN  3372.915281\n",
       "28  2025/10/31  3066.500000  3111.229684\n",
       "27  2025/09/30  3132.909091  3132.909091\n",
       "26  2025/08/31  3174.238095  3174.238095\n",
       "25  2025/07/31  3168.130435  3168.130435"
      ]
     },
     "execution_count": 11,
     "metadata": {},
     "output_type": "execute_result"
    }
   ],
   "source": [
    "# 创建历史数据部分\n",
    "historical_monthly = sheet_daily[sheet_daily['Date'] <= last_day][['Date', '螺纹期货价格']]\n",
    "historical_monthly.columns = ['Date', '螺纹期货价格']\n",
    "\n",
    "# 创建预测数据部分 \n",
    "forecast_monthly = sheet_daily[sheet_daily['Date'] >= pd.Timestamp('2024-10-01')][['Date', '螺纹期货价格_预测']]\n",
    "forecast_monthly.columns = ['Date', '螺纹期货价格_预测']\n",
    "\n",
    "merged_df_monthly = pd.merge(historical_monthly, forecast_monthly, on='Date', how='outer')\n",
    "merged_df_monthly.set_index('Date', inplace=True)\n",
    "merged_df_monthly = merged_df_monthly.resample('ME').mean()\n",
    "merged_df_monthly.reset_index(inplace=True)\n",
    "merged_df_monthly =merged_df_monthly.sort_values('Date', ascending=False)\n",
    "merged_df_monthly['Date'] = merged_df_monthly['Date'].dt.strftime('%Y/%m/%d')\n",
    "merged_df_monthly.to_excel('eta/螺纹期货价格_月度数据.xlsx', index=False,float_format= '%.4f')\n",
    "merged_df_monthly.head()"
   ]
  },
  {
   "cell_type": "code",
   "execution_count": 12,
   "metadata": {
    "execution": {
     "iopub.execute_input": "2025-10-29T08:12:21.782138Z",
     "iopub.status.busy": "2025-10-29T08:12:21.781985Z",
     "iopub.status.idle": "2025-10-29T08:12:22.086386Z",
     "shell.execute_reply": "2025-10-29T08:12:22.085654Z"
    }
   },
   "outputs": [
    {
     "data": {
      "image/png": "[encoded data removed]",
      "text/plain": [
       "<Figure size 3000x800 with 1 Axes>"
      ]
     },
     "metadata": {},
     "output_type": "display_data"
    }
   ],
   "source": [
    "# 设置图形大小\n",
    "plt.figure(figsize=(30, 8))\n",
    "\n",
    "merged_df_daily_plot = merged_df_daily.copy()\n",
    "merged_df_daily_plot['Date'] = pd.to_datetime(merged_df_daily_plot['Date'])\n",
    "\n",
    "# 绘制真实值曲线(蓝色)\n",
    "plt.plot(merged_df_daily_plot['Date'], merged_df_daily_plot['螺纹期货价格'], color='blue', label='真实值')\n",
    "plt.plot(merged_df_daily_plot['Date'], merged_df_daily_plot['螺纹期货价格_预测'], color='red', label='预测值')\n",
    "\n",
    "avline_date = pd.to_datetime(last_day)\n",
    "plt.axvline(x=avline_date, color='black', linestyle='--')\n",
    "\n",
    "# 设置图例\n",
    "plt.legend()\n",
    "\n",
    "# 设置标题和标签\n",
    "plt.title('螺纹期货价格')\n",
    "plt.xlabel('日期')\n",
    "plt.ylabel('值')\n",
    "plt.grid(True)\n",
    "plt.tight_layout()\n",
    "plt.show()"
   ]
  },
  {
   "cell_type": "markdown",
   "metadata": {},
   "source": [
    "---"
   ]
  },
  {
   "cell_type": "code",
   "execution_count": 13,
   "metadata": {
    "execution": {
     "iopub.execute_input": "2025-10-29T08:12:22.088124Z",
     "iopub.status.busy": "2025-10-29T08:12:22.087962Z",
     "iopub.status.idle": "2025-10-29T08:12:22.459975Z",
     "shell.execute_reply": "2025-10-29T08:12:22.459357Z"
    }
   },
   "outputs": [
    {
     "name": "stdout",
     "output_type": "stream",
     "text": [
      "成功更新 日度数据表 中的数据\n",
      "数据已成功更新到Excel文件\n"
     ]
    }
   ],
   "source": [
    "from Dcel import update_excel_data\n",
    "# 使用示例\n",
    "file_path = \"eta/1.螺纹_数据上传.xlsx\"\n",
    "sheet_name = \"日度数据表\"\n",
    "identifier = \"螺纹期货价格\"\n",
    "\n",
    "# 调用函数更新数据\n",
    "success = update_excel_data(merged_df_daily, file_path, sheet_name, identifier)\n",
    "\n",
    "if success:\n",
    "    print(\"数据已成功更新到Excel文件\")\n",
    "else:\n",
    "    print(\"数据更新失败，请检查错误信息\")"
   ]
  },
  {
   "cell_type": "code",
   "execution_count": 14,
   "metadata": {
    "execution": {
     "iopub.execute_input": "2025-10-29T08:12:22.461837Z",
     "iopub.status.busy": "2025-10-29T08:12:22.461673Z",
     "iopub.status.idle": "2025-10-29T08:12:22.771552Z",
     "shell.execute_reply": "2025-10-29T08:12:22.771099Z"
    }
   },
   "outputs": [
    {
     "name": "stdout",
     "output_type": "stream",
     "text": [
      "数据过滤完成: 保留 23 条数据（2024/01/31 之后），按时间倒序排列\n"
     ]
    },
    {
     "name": "stdout",
     "output_type": "stream",
     "text": [
      "已完成：插入/更新数据，并重新计算'方向/偏差率' (protected_date = 2025/10/31, cutoff_date = 2024/01/31)\n",
      "数据已成功更新到Excel文件\n"
     ]
    }
   ],
   "source": [
    "from Lcel import update_excel_data\n",
    "file_path = \"eta/1.螺纹_数据上传.xlsx\"\n",
    "sheet_name = \"详情页\"\n",
    "identifier = \"螺纹期货价格\"       # NEW: 新增日期标识符列的抬头\n",
    "# 调用函数更新数据\n",
    "success = update_excel_data(merged_df_monthly, file_path, sheet_name, identifier)\n",
    "\n",
    "if success:\n",
    "    print(\"数据已成功更新到Excel文件\")\n",
    "else:\n",
    "    print(\"数据更新失败，请检查错误信息\")"
   ]
  },
  {
   "cell_type": "code",
   "execution_count": null,
   "metadata": {},
   "outputs": [],
   "source": []
  }
 ],
 "metadata": {
  "kernelspec": {
   "display_name": "myenv",
   "language": "python",
   "name": "python3"
  },
  "language_info": {
   "codemirror_mode": {
    "name": "ipython",
    "version": 3
   },
   "file_extension": ".py",
   "mimetype": "text/x-python",
   "name": "python",
   "nbconvert_exporter": "python",
   "pygments_lexer": "ipython3",
   "version": "3.13.0"
  }
 },
 "nbformat": 4,
 "nbformat_minor": 2
}
