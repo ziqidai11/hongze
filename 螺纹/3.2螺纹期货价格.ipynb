{
 "cells": [
  {
   "cell_type": "code",
   "execution_count": 1,
   "metadata": {
    "execution": {
     "iopub.execute_input": "2025-10-25T02:59:37.409608Z",
     "iopub.status.busy": "2025-10-25T02:59:37.408220Z",
     "iopub.status.idle": "2025-10-25T02:59:38.080327Z",
     "shell.execute_reply": "2025-10-25T02:59:38.080327Z"
    }
   },
   "outputs": [],
   "source": [
    "import pandas as pd\n",
    "import numpy as np\n",
    "import os\n",
    "import matplotlib.pyplot as plt\n",
    "from sklearn.linear_model import LinearRegression\n",
    "from sklearn.metrics import mean_squared_error, r2_score, mean_absolute_error\n",
    "import numpy as np\n"
   ]
  },
  {
   "cell_type": "code",
   "execution_count": 2,
   "metadata": {
    "execution": {
     "iopub.execute_input": "2025-10-25T02:59:38.082719Z",
     "iopub.status.busy": "2025-10-25T02:59:38.081370Z",
     "iopub.status.idle": "2025-10-25T02:59:38.084743Z",
     "shell.execute_reply": "2025-10-25T02:59:38.084743Z"
    }
   },
   "outputs": [],
   "source": [
    "# 设置字体为 SimHei（黑体），或者其他支持中文的字体\n",
    "plt.rcParams['font.sans-serif'] = ['SimHei']  # 设置字体\n",
    "plt.rcParams['axes.unicode_minus'] = False  # 正常显示负号"
   ]
  },
  {
   "cell_type": "code",
   "execution_count": 3,
   "metadata": {
    "execution": {
     "iopub.execute_input": "2025-10-25T02:59:38.085750Z",
     "iopub.status.busy": "2025-10-25T02:59:38.085750Z",
     "iopub.status.idle": "2025-10-25T02:59:38.184057Z",
     "shell.execute_reply": "2025-10-25T02:59:38.184057Z"
    }
   },
   "outputs": [],
   "source": [
    "# 获取当前文件所在目录的父目录\n",
    "import os\n",
    "import sys\n",
    "\n",
    "current_dir = os.getcwd()\n",
    "parent_dir = os.path.dirname(current_dir)\n",
    "\n",
    "if parent_dir not in sys.path:\n",
    "    sys.path.append(parent_dir)\n",
    "\n",
    "\n",
    "from Dtool import fill_missing_values, plot_factors_by_pattern, plot_comparison_multiple, reverse_column, plot_feature_importance,plot_predictions\n"
   ]
  },
  {
   "cell_type": "code",
   "execution_count": 4,
   "metadata": {
    "execution": {
     "iopub.execute_input": "2025-10-25T02:59:38.185065Z",
     "iopub.status.busy": "2025-10-25T02:59:38.185065Z",
     "iopub.status.idle": "2025-10-25T02:59:38.356504Z",
     "shell.execute_reply": "2025-10-25T02:59:38.356504Z"
    }
   },
   "outputs": [
    {
     "data": {
      "text/html": [
       "<div>\n",
       "<style scoped>\n",
       "    .dataframe tbody tr th:only-of-type {\n",
       "        vertical-align: middle;\n",
       "    }\n",
       "\n",
       "    .dataframe tbody tr th {\n",
       "        vertical-align: top;\n",
       "    }\n",
       "\n",
       "    .dataframe thead th {\n",
       "        text-align: right;\n",
       "    }\n",
       "</style>\n",
       "<table border=\"1\" class=\"dataframe\">\n",
       "  <thead>\n",
       "    <tr style=\"text-align: right;\">\n",
       "      <th></th>\n",
       "      <th>螺纹盘面成本</th>\n",
       "      <th>螺纹盘面利润</th>\n",
       "      <th>螺纹期货价格</th>\n",
       "    </tr>\n",
       "  </thead>\n",
       "  <tbody>\n",
       "    <tr>\n",
       "      <th>2025-11-17</th>\n",
       "      <td>NaN</td>\n",
       "      <td>NaN</td>\n",
       "      <td>NaN</td>\n",
       "    </tr>\n",
       "    <tr>\n",
       "      <th>2025-11-18</th>\n",
       "      <td>NaN</td>\n",
       "      <td>NaN</td>\n",
       "      <td>NaN</td>\n",
       "    </tr>\n",
       "    <tr>\n",
       "      <th>2025-11-19</th>\n",
       "      <td>NaN</td>\n",
       "      <td>NaN</td>\n",
       "      <td>NaN</td>\n",
       "    </tr>\n",
       "    <tr>\n",
       "      <th>2025-11-20</th>\n",
       "      <td>NaN</td>\n",
       "      <td>NaN</td>\n",
       "      <td>NaN</td>\n",
       "    </tr>\n",
       "    <tr>\n",
       "      <th>2025-11-21</th>\n",
       "      <td>NaN</td>\n",
       "      <td>NaN</td>\n",
       "      <td>NaN</td>\n",
       "    </tr>\n",
       "  </tbody>\n",
       "</table>\n",
       "</div>"
      ],
      "text/plain": [
       "            螺纹盘面成本  螺纹盘面利润  螺纹期货价格\n",
       "2025-11-17     NaN     NaN     NaN\n",
       "2025-11-18     NaN     NaN     NaN\n",
       "2025-11-19     NaN     NaN     NaN\n",
       "2025-11-20     NaN     NaN     NaN\n",
       "2025-11-21     NaN     NaN     NaN"
      ]
     },
     "execution_count": 4,
     "metadata": {},
     "output_type": "execute_result"
    }
   ],
   "source": [
    "sheet = pd.read_excel('data_input/螺纹期货价格.xlsx', sheet_name='Sheet1').rename(columns={'DataTime': 'Date'})\n",
    "sheet = sheet.set_index('Date')\n",
    "last_day = sheet['螺纹期货价格'].last_valid_index()\n",
    "\n",
    "future_data_30days = sheet[sheet.index > last_day]\n",
    "target_days = pd.date_range(start=last_day+ pd.DateOffset(1), periods=20, freq='B')\n",
    "target_end = target_days[-1]\n",
    "new_index = pd.date_range(start=last_day+ pd.DateOffset(1), end=target_end, freq='B')\n",
    "sheet = sheet.reindex(sheet.index.union(new_index))\n",
    "sheet = sheet[sheet.index <= target_end]\n",
    "\n",
    "sheet.tail()\n"
   ]
  },
  {
   "cell_type": "code",
   "execution_count": 5,
   "metadata": {
    "execution": {
     "iopub.execute_input": "2025-10-25T02:59:38.373765Z",
     "iopub.status.busy": "2025-10-25T02:59:38.373765Z",
     "iopub.status.idle": "2025-10-25T02:59:38.395805Z",
     "shell.execute_reply": "2025-10-25T02:59:38.395300Z"
    }
   },
   "outputs": [
    {
     "data": {
      "text/html": [
       "<div>\n",
       "<style scoped>\n",
       "    .dataframe tbody tr th:only-of-type {\n",
       "        vertical-align: middle;\n",
       "    }\n",
       "\n",
       "    .dataframe tbody tr th {\n",
       "        vertical-align: top;\n",
       "    }\n",
       "\n",
       "    .dataframe thead th {\n",
       "        text-align: right;\n",
       "    }\n",
       "</style>\n",
       "<table border=\"1\" class=\"dataframe\">\n",
       "  <thead>\n",
       "    <tr style=\"text-align: right;\">\n",
       "      <th></th>\n",
       "      <th>Date</th>\n",
       "      <th>预测值</th>\n",
       "    </tr>\n",
       "  </thead>\n",
       "  <tbody>\n",
       "    <tr>\n",
       "      <th>4</th>\n",
       "      <td>2025-11-17</td>\n",
       "      <td>-358.4</td>\n",
       "    </tr>\n",
       "    <tr>\n",
       "      <th>3</th>\n",
       "      <td>2025-11-18</td>\n",
       "      <td>-356.6</td>\n",
       "    </tr>\n",
       "    <tr>\n",
       "      <th>2</th>\n",
       "      <td>2025-11-19</td>\n",
       "      <td>-356.6</td>\n",
       "    </tr>\n",
       "    <tr>\n",
       "      <th>1</th>\n",
       "      <td>2025-11-20</td>\n",
       "      <td>-356.7</td>\n",
       "    </tr>\n",
       "    <tr>\n",
       "      <th>0</th>\n",
       "      <td>2025-11-21</td>\n",
       "      <td>-356.7</td>\n",
       "    </tr>\n",
       "  </tbody>\n",
       "</table>\n",
       "</div>"
      ],
      "text/plain": [
       "        Date    预测值\n",
       "4 2025-11-17 -358.4\n",
       "3 2025-11-18 -356.6\n",
       "2 2025-11-19 -356.6\n",
       "1 2025-11-20 -356.7\n",
       "0 2025-11-21 -356.7"
      ]
     },
     "execution_count": 5,
     "metadata": {},
     "output_type": "execute_result"
    }
   ],
   "source": [
    "file_path1 = os.path.expanduser(\"eta/螺纹盘面利润_合并数据.xlsx\") \n",
    "sheet1 = pd.ExcelFile(file_path1).parse('Sheet1')\n",
    "sheet1['Date'] = pd.to_datetime(sheet1['Date'], errors='coerce')\n",
    "sheet1 = sheet1.drop(columns=['真实值'])\n",
    "sheet1 = sheet1.dropna()\n",
    "\n",
    "sheet1 = sheet1.sort_values('Date', ascending=True)\n",
    "sheet1.tail()"
   ]
  },
  {
   "cell_type": "code",
   "execution_count": 6,
   "metadata": {
    "execution": {
     "iopub.execute_input": "2025-10-25T02:59:38.396847Z",
     "iopub.status.busy": "2025-10-25T02:59:38.395805Z",
     "iopub.status.idle": "2025-10-25T02:59:38.415068Z",
     "shell.execute_reply": "2025-10-25T02:59:38.415068Z"
    }
   },
   "outputs": [
    {
     "data": {
      "text/html": [
       "<div>\n",
       "<style scoped>\n",
       "    .dataframe tbody tr th:only-of-type {\n",
       "        vertical-align: middle;\n",
       "    }\n",
       "\n",
       "    .dataframe tbody tr th {\n",
       "        vertical-align: top;\n",
       "    }\n",
       "\n",
       "    .dataframe thead th {\n",
       "        text-align: right;\n",
       "    }\n",
       "</style>\n",
       "<table border=\"1\" class=\"dataframe\">\n",
       "  <thead>\n",
       "    <tr style=\"text-align: right;\">\n",
       "      <th></th>\n",
       "      <th>Date</th>\n",
       "      <th>螺纹盘面成本_预测</th>\n",
       "    </tr>\n",
       "  </thead>\n",
       "  <tbody>\n",
       "    <tr>\n",
       "      <th>19</th>\n",
       "      <td>2025-10-27</td>\n",
       "      <td>3407.457096</td>\n",
       "    </tr>\n",
       "    <tr>\n",
       "      <th>18</th>\n",
       "      <td>2025-10-28</td>\n",
       "      <td>3416.620622</td>\n",
       "    </tr>\n",
       "    <tr>\n",
       "      <th>17</th>\n",
       "      <td>2025-10-29</td>\n",
       "      <td>3442.732017</td>\n",
       "    </tr>\n",
       "    <tr>\n",
       "      <th>16</th>\n",
       "      <td>2025-10-30</td>\n",
       "      <td>3443.469592</td>\n",
       "    </tr>\n",
       "    <tr>\n",
       "      <th>15</th>\n",
       "      <td>2025-10-31</td>\n",
       "      <td>3455.813738</td>\n",
       "    </tr>\n",
       "  </tbody>\n",
       "</table>\n",
       "</div>"
      ],
      "text/plain": [
       "         Date    螺纹盘面成本_预测\n",
       "19 2025-10-27  3407.457096\n",
       "18 2025-10-28  3416.620622\n",
       "17 2025-10-29  3442.732017\n",
       "16 2025-10-30  3443.469592\n",
       "15 2025-10-31  3455.813738"
      ]
     },
     "execution_count": 6,
     "metadata": {},
     "output_type": "execute_result"
    }
   ],
   "source": [
    "file_path2 = os.path.expanduser(\"eta/螺纹盘面成本_合并数据.xlsx\") \n",
    "sheet2 = pd.ExcelFile(file_path2).parse('Sheet1')\n",
    "sheet2['Date'] = pd.to_datetime(sheet2['Date'], errors='coerce')\n",
    "sheet2 = sheet2.drop(columns=['螺纹盘面成本'])\n",
    "sheet2 = sheet2.dropna()\n",
    "\n",
    "sheet2 = sheet2.sort_values('Date', ascending=True)\n",
    "sheet2.head()"
   ]
  },
  {
   "cell_type": "code",
   "execution_count": 7,
   "metadata": {
    "execution": {
     "iopub.execute_input": "2025-10-25T02:59:38.415575Z",
     "iopub.status.busy": "2025-10-25T02:59:38.415575Z",
     "iopub.status.idle": "2025-10-25T02:59:38.423988Z",
     "shell.execute_reply": "2025-10-25T02:59:38.423988Z"
    }
   },
   "outputs": [
    {
     "data": {
      "text/html": [
       "<div>\n",
       "<style scoped>\n",
       "    .dataframe tbody tr th:only-of-type {\n",
       "        vertical-align: middle;\n",
       "    }\n",
       "\n",
       "    .dataframe tbody tr th {\n",
       "        vertical-align: top;\n",
       "    }\n",
       "\n",
       "    .dataframe thead th {\n",
       "        text-align: right;\n",
       "    }\n",
       "</style>\n",
       "<table border=\"1\" class=\"dataframe\">\n",
       "  <thead>\n",
       "    <tr style=\"text-align: right;\">\n",
       "      <th></th>\n",
       "      <th>Date</th>\n",
       "      <th>螺纹盘面成本</th>\n",
       "      <th>螺纹盘面利润</th>\n",
       "      <th>螺纹期货价格</th>\n",
       "    </tr>\n",
       "  </thead>\n",
       "  <tbody>\n",
       "    <tr>\n",
       "      <th>4038</th>\n",
       "      <td>2025-11-10</td>\n",
       "      <td>3456.603821</td>\n",
       "      <td>-360.1</td>\n",
       "      <td>NaN</td>\n",
       "    </tr>\n",
       "    <tr>\n",
       "      <th>4039</th>\n",
       "      <td>2025-11-11</td>\n",
       "      <td>3458.969657</td>\n",
       "      <td>-357.0</td>\n",
       "      <td>NaN</td>\n",
       "    </tr>\n",
       "    <tr>\n",
       "      <th>4040</th>\n",
       "      <td>2025-11-12</td>\n",
       "      <td>3438.652764</td>\n",
       "      <td>-356.8</td>\n",
       "      <td>NaN</td>\n",
       "    </tr>\n",
       "    <tr>\n",
       "      <th>4041</th>\n",
       "      <td>2025-11-13</td>\n",
       "      <td>3406.214780</td>\n",
       "      <td>-356.8</td>\n",
       "      <td>NaN</td>\n",
       "    </tr>\n",
       "    <tr>\n",
       "      <th>4042</th>\n",
       "      <td>2025-11-14</td>\n",
       "      <td>3400.965156</td>\n",
       "      <td>-356.6</td>\n",
       "      <td>NaN</td>\n",
       "    </tr>\n",
       "    <tr>\n",
       "      <th>4043</th>\n",
       "      <td>2025-11-17</td>\n",
       "      <td>3420.298364</td>\n",
       "      <td>-358.4</td>\n",
       "      <td>NaN</td>\n",
       "    </tr>\n",
       "    <tr>\n",
       "      <th>4044</th>\n",
       "      <td>2025-11-18</td>\n",
       "      <td>3405.054003</td>\n",
       "      <td>-356.6</td>\n",
       "      <td>NaN</td>\n",
       "    </tr>\n",
       "    <tr>\n",
       "      <th>4045</th>\n",
       "      <td>2025-11-19</td>\n",
       "      <td>3402.161481</td>\n",
       "      <td>-356.6</td>\n",
       "      <td>NaN</td>\n",
       "    </tr>\n",
       "    <tr>\n",
       "      <th>4046</th>\n",
       "      <td>2025-11-20</td>\n",
       "      <td>3398.068829</td>\n",
       "      <td>-356.7</td>\n",
       "      <td>NaN</td>\n",
       "    </tr>\n",
       "    <tr>\n",
       "      <th>4047</th>\n",
       "      <td>2025-11-21</td>\n",
       "      <td>3403.924788</td>\n",
       "      <td>-356.7</td>\n",
       "      <td>NaN</td>\n",
       "    </tr>\n",
       "  </tbody>\n",
       "</table>\n",
       "</div>"
      ],
      "text/plain": [
       "           Date       螺纹盘面成本  螺纹盘面利润  螺纹期货价格\n",
       "4038 2025-11-10  3456.603821  -360.1     NaN\n",
       "4039 2025-11-11  3458.969657  -357.0     NaN\n",
       "4040 2025-11-12  3438.652764  -356.8     NaN\n",
       "4041 2025-11-13  3406.214780  -356.8     NaN\n",
       "4042 2025-11-14  3400.965156  -356.6     NaN\n",
       "4043 2025-11-17  3420.298364  -358.4     NaN\n",
       "4044 2025-11-18  3405.054003  -356.6     NaN\n",
       "4045 2025-11-19  3402.161481  -356.6     NaN\n",
       "4046 2025-11-20  3398.068829  -356.7     NaN\n",
       "4047 2025-11-21  3403.924788  -356.7     NaN"
      ]
     },
     "execution_count": 7,
     "metadata": {},
     "output_type": "execute_result"
    }
   ],
   "source": [
    "# 合并 sheet1 和 sheet2 的数据到 sheet\n",
    "sheet_daily = sheet.copy()\n",
    "sheet_daily.index.name = 'Date'\n",
    "sheet_daily = sheet_daily.reset_index()\n",
    "\n",
    "# 合并 sheet1 的美国10年通胀预期数据\n",
    "sheet_daily = pd.merge(\n",
    "    sheet_daily,\n",
    "    sheet1[['Date', '预测值']],\n",
    "    on='Date',\n",
    "    how='left'\n",
    ")\n",
    "sheet_daily['螺纹盘面利润'] = sheet_daily['螺纹盘面利润'].fillna(sheet_daily['预测值'])\n",
    "sheet_daily = sheet_daily.drop(columns=['预测值'])\n",
    "\n",
    "# 合并 sheet2 的美元指数数据 \n",
    "sheet_daily = pd.merge(\n",
    "    sheet_daily,\n",
    "    sheet2[['Date', '螺纹盘面成本_预测']],\n",
    "    on='Date',\n",
    "    how='left'\n",
    ")\n",
    "sheet_daily['螺纹盘面成本'] = sheet_daily['螺纹盘面成本'].fillna(sheet_daily['螺纹盘面成本_预测'])\n",
    "sheet_daily = sheet_daily.drop(columns=['螺纹盘面成本_预测'])\n",
    "\n",
    "\n",
    "sheet_daily = sheet_daily[sheet_daily['Date'] >= pd.Timestamp('2023-06-01')]\n",
    "sheet_daily.tail(10)"
   ]
  },
  {
   "cell_type": "code",
   "execution_count": 8,
   "metadata": {
    "execution": {
     "iopub.execute_input": "2025-10-25T02:59:38.425145Z",
     "iopub.status.busy": "2025-10-25T02:59:38.425145Z",
     "iopub.status.idle": "2025-10-25T02:59:38.428984Z",
     "shell.execute_reply": "2025-10-25T02:59:38.428984Z"
    }
   },
   "outputs": [
    {
     "data": {
      "text/html": [
       "<div>\n",
       "<style scoped>\n",
       "    .dataframe tbody tr th:only-of-type {\n",
       "        vertical-align: middle;\n",
       "    }\n",
       "\n",
       "    .dataframe tbody tr th {\n",
       "        vertical-align: top;\n",
       "    }\n",
       "\n",
       "    .dataframe thead th {\n",
       "        text-align: right;\n",
       "    }\n",
       "</style>\n",
       "<table border=\"1\" class=\"dataframe\">\n",
       "  <thead>\n",
       "    <tr style=\"text-align: right;\">\n",
       "      <th></th>\n",
       "      <th>Date</th>\n",
       "      <th>螺纹盘面成本</th>\n",
       "      <th>螺纹盘面利润</th>\n",
       "      <th>螺纹期货价格</th>\n",
       "      <th>螺纹期货价格_预测</th>\n",
       "    </tr>\n",
       "  </thead>\n",
       "  <tbody>\n",
       "    <tr>\n",
       "      <th>4043</th>\n",
       "      <td>2025-11-17</td>\n",
       "      <td>3420.298364</td>\n",
       "      <td>-358.4</td>\n",
       "      <td>NaN</td>\n",
       "      <td>3061.898364</td>\n",
       "    </tr>\n",
       "    <tr>\n",
       "      <th>4044</th>\n",
       "      <td>2025-11-18</td>\n",
       "      <td>3405.054003</td>\n",
       "      <td>-356.6</td>\n",
       "      <td>NaN</td>\n",
       "      <td>3048.454003</td>\n",
       "    </tr>\n",
       "    <tr>\n",
       "      <th>4045</th>\n",
       "      <td>2025-11-19</td>\n",
       "      <td>3402.161481</td>\n",
       "      <td>-356.6</td>\n",
       "      <td>NaN</td>\n",
       "      <td>3045.561481</td>\n",
       "    </tr>\n",
       "    <tr>\n",
       "      <th>4046</th>\n",
       "      <td>2025-11-20</td>\n",
       "      <td>3398.068829</td>\n",
       "      <td>-356.7</td>\n",
       "      <td>NaN</td>\n",
       "      <td>3041.368829</td>\n",
       "    </tr>\n",
       "    <tr>\n",
       "      <th>4047</th>\n",
       "      <td>2025-11-21</td>\n",
       "      <td>3403.924788</td>\n",
       "      <td>-356.7</td>\n",
       "      <td>NaN</td>\n",
       "      <td>3047.224788</td>\n",
       "    </tr>\n",
       "  </tbody>\n",
       "</table>\n",
       "</div>"
      ],
      "text/plain": [
       "           Date       螺纹盘面成本  螺纹盘面利润  螺纹期货价格    螺纹期货价格_预测\n",
       "4043 2025-11-17  3420.298364  -358.4     NaN  3061.898364\n",
       "4044 2025-11-18  3405.054003  -356.6     NaN  3048.454003\n",
       "4045 2025-11-19  3402.161481  -356.6     NaN  3045.561481\n",
       "4046 2025-11-20  3398.068829  -356.7     NaN  3041.368829\n",
       "4047 2025-11-21  3403.924788  -356.7     NaN  3047.224788"
      ]
     },
     "execution_count": 8,
     "metadata": {},
     "output_type": "execute_result"
    }
   ],
   "source": [
    "# 添加新列 山东汽油裂解差_预测\n",
    "sheet_daily['螺纹期货价格_预测'] = sheet_daily['螺纹盘面利润']  + sheet_daily['螺纹盘面成本']\n",
    "sheet_daily.tail()"
   ]
  },
  {
   "cell_type": "code",
   "execution_count": 9,
   "metadata": {
    "execution": {
     "iopub.execute_input": "2025-10-25T02:59:38.429491Z",
     "iopub.status.busy": "2025-10-25T02:59:38.429491Z",
     "iopub.status.idle": "2025-10-25T02:59:38.432132Z",
     "shell.execute_reply": "2025-10-25T02:59:38.432132Z"
    }
   },
   "outputs": [],
   "source": [
    "last_day = sheet_daily['Date'][sheet_daily['螺纹期货价格'].last_valid_index()]"
   ]
  },
  {
   "cell_type": "markdown",
   "metadata": {},
   "source": [
    "---"
   ]
  },
  {
   "cell_type": "code",
   "execution_count": 10,
   "metadata": {
    "execution": {
     "iopub.execute_input": "2025-10-25T02:59:38.433144Z",
     "iopub.status.busy": "2025-10-25T02:59:38.433144Z",
     "iopub.status.idle": "2025-10-25T02:59:38.459593Z",
     "shell.execute_reply": "2025-10-25T02:59:38.459593Z"
    }
   },
   "outputs": [
    {
     "data": {
      "text/html": [
       "<div>\n",
       "<style scoped>\n",
       "    .dataframe tbody tr th:only-of-type {\n",
       "        vertical-align: middle;\n",
       "    }\n",
       "\n",
       "    .dataframe tbody tr th {\n",
       "        vertical-align: top;\n",
       "    }\n",
       "\n",
       "    .dataframe thead th {\n",
       "        text-align: right;\n",
       "    }\n",
       "</style>\n",
       "<table border=\"1\" class=\"dataframe\">\n",
       "  <thead>\n",
       "    <tr style=\"text-align: right;\">\n",
       "      <th></th>\n",
       "      <th>Date</th>\n",
       "      <th>螺纹期货价格</th>\n",
       "      <th>螺纹期货价格_预测</th>\n",
       "    </tr>\n",
       "  </thead>\n",
       "  <tbody>\n",
       "    <tr>\n",
       "      <th>600</th>\n",
       "      <td>2025/11/21</td>\n",
       "      <td>NaN</td>\n",
       "      <td>3047.224788</td>\n",
       "    </tr>\n",
       "    <tr>\n",
       "      <th>599</th>\n",
       "      <td>2025/11/20</td>\n",
       "      <td>NaN</td>\n",
       "      <td>3041.368829</td>\n",
       "    </tr>\n",
       "    <tr>\n",
       "      <th>598</th>\n",
       "      <td>2025/11/19</td>\n",
       "      <td>NaN</td>\n",
       "      <td>3045.561481</td>\n",
       "    </tr>\n",
       "    <tr>\n",
       "      <th>597</th>\n",
       "      <td>2025/11/18</td>\n",
       "      <td>NaN</td>\n",
       "      <td>3048.454003</td>\n",
       "    </tr>\n",
       "    <tr>\n",
       "      <th>596</th>\n",
       "      <td>2025/11/17</td>\n",
       "      <td>NaN</td>\n",
       "      <td>3061.898364</td>\n",
       "    </tr>\n",
       "  </tbody>\n",
       "</table>\n",
       "</div>"
      ],
      "text/plain": [
       "           Date  螺纹期货价格    螺纹期货价格_预测\n",
       "600  2025/11/21     NaN  3047.224788\n",
       "599  2025/11/20     NaN  3041.368829\n",
       "598  2025/11/19     NaN  3045.561481\n",
       "597  2025/11/18     NaN  3048.454003\n",
       "596  2025/11/17     NaN  3061.898364"
      ]
     },
     "execution_count": 10,
     "metadata": {},
     "output_type": "execute_result"
    }
   ],
   "source": [
    "# 创建历史数据部分\n",
    "historical = sheet_daily[sheet_daily['Date'] <= last_day][['Date', '螺纹期货价格']]\n",
    "historical.columns = ['Date', '螺纹期货价格']\n",
    "\n",
    "# 创建预测数据部分 \n",
    "forecast = sheet_daily[sheet_daily['Date'] > last_day][['Date', '螺纹期货价格_预测']]\n",
    "forecast.columns = ['Date', '螺纹期货价格_预测']\n",
    "\n",
    "# 合并历史和预测数据\n",
    "merged_df_daily = pd.concat([historical, forecast], axis=0, join='outer')\n",
    "merged_df_daily = merged_df_daily.sort_values('Date').reset_index(drop=True)\n",
    "merged_df_daily = merged_df_daily.sort_values(by='Date', ascending=False)\n",
    "merged_df_daily['Date'] = merged_df_daily['Date'].dt.strftime('%Y/%m/%d')\n",
    "merged_df_daily.to_excel('eta/螺纹期货价格_合并数据.xlsx', index=False,float_format='%.6f')\n",
    "merged_df_daily.head() "
   ]
  },
  {
   "cell_type": "code",
   "execution_count": 11,
   "metadata": {
    "execution": {
     "iopub.execute_input": "2025-10-25T02:59:38.461105Z",
     "iopub.status.busy": "2025-10-25T02:59:38.460099Z",
     "iopub.status.idle": "2025-10-25T02:59:38.473500Z",
     "shell.execute_reply": "2025-10-25T02:59:38.473500Z"
    }
   },
   "outputs": [
    {
     "data": {
      "text/html": [
       "<div>\n",
       "<style scoped>\n",
       "    .dataframe tbody tr th:only-of-type {\n",
       "        vertical-align: middle;\n",
       "    }\n",
       "\n",
       "    .dataframe tbody tr th {\n",
       "        vertical-align: top;\n",
       "    }\n",
       "\n",
       "    .dataframe thead th {\n",
       "        text-align: right;\n",
       "    }\n",
       "</style>\n",
       "<table border=\"1\" class=\"dataframe\">\n",
       "  <thead>\n",
       "    <tr style=\"text-align: right;\">\n",
       "      <th></th>\n",
       "      <th>Date</th>\n",
       "      <th>螺纹期货价格</th>\n",
       "      <th>螺纹期货价格_预测</th>\n",
       "    </tr>\n",
       "  </thead>\n",
       "  <tbody>\n",
       "    <tr>\n",
       "      <th>29</th>\n",
       "      <td>2025/11/30</td>\n",
       "      <td>NaN</td>\n",
       "      <td>3069.052840</td>\n",
       "    </tr>\n",
       "    <tr>\n",
       "      <th>28</th>\n",
       "      <td>2025/10/31</td>\n",
       "      <td>3061.666667</td>\n",
       "      <td>3070.252533</td>\n",
       "    </tr>\n",
       "    <tr>\n",
       "      <th>27</th>\n",
       "      <td>2025/09/30</td>\n",
       "      <td>3132.909091</td>\n",
       "      <td>3132.909091</td>\n",
       "    </tr>\n",
       "    <tr>\n",
       "      <th>26</th>\n",
       "      <td>2025/08/31</td>\n",
       "      <td>3174.238095</td>\n",
       "      <td>3174.238095</td>\n",
       "    </tr>\n",
       "    <tr>\n",
       "      <th>25</th>\n",
       "      <td>2025/07/31</td>\n",
       "      <td>3168.130435</td>\n",
       "      <td>3168.130435</td>\n",
       "    </tr>\n",
       "  </tbody>\n",
       "</table>\n",
       "</div>"
      ],
      "text/plain": [
       "          Date       螺纹期货价格    螺纹期货价格_预测\n",
       "29  2025/11/30          NaN  3069.052840\n",
       "28  2025/10/31  3061.666667  3070.252533\n",
       "27  2025/09/30  3132.909091  3132.909091\n",
       "26  2025/08/31  3174.238095  3174.238095\n",
       "25  2025/07/31  3168.130435  3168.130435"
      ]
     },
     "execution_count": 11,
     "metadata": {},
     "output_type": "execute_result"
    }
   ],
   "source": [
    "# 创建历史数据部分\n",
    "historical_monthly = sheet_daily[sheet_daily['Date'] <= last_day][['Date', '螺纹期货价格']]\n",
    "historical_monthly.columns = ['Date', '螺纹期货价格']\n",
    "\n",
    "# 创建预测数据部分 \n",
    "forecast_monthly = sheet_daily[sheet_daily['Date'] >= pd.Timestamp('2024-10-01')][['Date', '螺纹期货价格_预测']]\n",
    "forecast_monthly.columns = ['Date', '螺纹期货价格_预测']\n",
    "\n",
    "merged_df_monthly = pd.merge(historical_monthly, forecast_monthly, on='Date', how='outer')\n",
    "merged_df_monthly.set_index('Date', inplace=True)\n",
    "merged_df_monthly = merged_df_monthly.resample('ME').mean()\n",
    "merged_df_monthly.reset_index(inplace=True)\n",
    "merged_df_monthly =merged_df_monthly.sort_values('Date', ascending=False)\n",
    "merged_df_monthly['Date'] = merged_df_monthly['Date'].dt.strftime('%Y/%m/%d')\n",
    "merged_df_monthly.to_excel('eta/螺纹期货价格_月度数据.xlsx', index=False,float_format= '%.4f')\n",
    "merged_df_monthly.head()"
   ]
  },
  {
   "cell_type": "code",
   "execution_count": 12,
   "metadata": {
    "execution": {
     "iopub.execute_input": "2025-10-25T02:59:38.474728Z",
     "iopub.status.busy": "2025-10-25T02:59:38.474728Z",
     "iopub.status.idle": "2025-10-25T02:59:38.606614Z",
     "shell.execute_reply": "2025-10-25T02:59:38.606614Z"
    }
   },
   "outputs": [
    {
     "data": {
      "image/png": "[encoded data removed]",
      "text/plain": [
       "<Figure size 3000x800 with 1 Axes>"
      ]
     },
     "metadata": {},
     "output_type": "display_data"
    }
   ],
   "source": [
    "# 设置图形大小\n",
    "plt.figure(figsize=(30, 8))\n",
    "\n",
    "merged_df_daily_plot = merged_df_daily.copy()\n",
    "merged_df_daily_plot['Date'] = pd.to_datetime(merged_df_daily_plot['Date'])\n",
    "\n",
    "# 绘制真实值曲线(蓝色)\n",
    "plt.plot(merged_df_daily_plot['Date'], merged_df_daily_plot['螺纹期货价格'], color='blue', label='真实值')\n",
    "plt.plot(merged_df_daily_plot['Date'], merged_df_daily_plot['螺纹期货价格_预测'], color='red', label='预测值')\n",
    "\n",
    "avline_date = pd.to_datetime(last_day)\n",
    "plt.axvline(x=avline_date, color='black', linestyle='--')\n",
    "\n",
    "# 设置图例\n",
    "plt.legend()\n",
    "\n",
    "# 设置标题和标签\n",
    "plt.title('螺纹期货价格')\n",
    "plt.xlabel('日期')\n",
    "plt.ylabel('值')\n",
    "plt.grid(True)\n",
    "plt.tight_layout()\n",
    "plt.show()"
   ]
  },
  {
   "cell_type": "markdown",
   "metadata": {},
   "source": [
    "---"
   ]
  },
  {
   "cell_type": "code",
   "execution_count": 13,
   "metadata": {
    "execution": {
     "iopub.execute_input": "2025-10-25T02:59:38.607652Z",
     "iopub.status.busy": "2025-10-25T02:59:38.607652Z",
     "iopub.status.idle": "2025-10-25T02:59:38.759446Z",
     "shell.execute_reply": "2025-10-25T02:59:38.759446Z"
    }
   },
   "outputs": [
    {
     "name": "stdout",
     "output_type": "stream",
     "text": [
      "成功更新 日度数据表 中的数据\n",
      "数据已成功更新到Excel文件\n"
     ]
    }
   ],
   "source": [
    "from Dcel import update_excel_data\n",
    "# 使用示例\n",
    "file_path = \"eta/1.螺纹_数据上传.xlsx\"\n",
    "sheet_name = \"日度数据表\"\n",
    "identifier = \"螺纹期货价格\"\n",
    "\n",
    "# 调用函数更新数据\n",
    "success = update_excel_data(merged_df_daily, file_path, sheet_name, identifier)\n",
    "\n",
    "if success:\n",
    "    print(\"数据已成功更新到Excel文件\")\n",
    "else:\n",
    "    print(\"数据更新失败，请检查错误信息\")"
   ]
  },
  {
   "cell_type": "code",
   "execution_count": 14,
   "metadata": {
    "execution": {
     "iopub.execute_input": "2025-10-25T02:59:38.760957Z",
     "iopub.status.busy": "2025-10-25T02:59:38.759951Z",
     "iopub.status.idle": "2025-10-25T02:59:38.892828Z",
     "shell.execute_reply": "2025-10-25T02:59:38.892828Z"
    }
   },
   "outputs": [
    {
     "name": "stdout",
     "output_type": "stream",
     "text": [
      "数据过滤完成: 保留 23 条数据（2024/01/31 之后），按时间倒序排列\n",
      "已完成：插入/更新数据，并重新计算'方向/偏差率' (protected_date = 2025/10/31, cutoff_date = 2024/01/31)\n",
      "数据已成功更新到Excel文件\n"
     ]
    }
   ],
   "source": [
    "from Lcel import update_excel_data\n",
    "file_path = \"eta/1.螺纹_数据上传.xlsx\"\n",
    "sheet_name = \"详情页\"\n",
    "identifier = \"螺纹期货价格\"       # NEW: 新增日期标识符列的抬头\n",
    "# 调用函数更新数据\n",
    "success = update_excel_data(merged_df_monthly, file_path, sheet_name, identifier)\n",
    "\n",
    "if success:\n",
    "    print(\"数据已成功更新到Excel文件\")\n",
    "else:\n",
    "    print(\"数据更新失败，请检查错误信息\")"
   ]
  },
  {
   "cell_type": "code",
   "execution_count": null,
   "metadata": {},
   "outputs": [],
   "source": []
  }
 ],
 "metadata": {
  "kernelspec": {
   "display_name": "base",
   "language": "python",
   "name": "python3"
  },
  "language_info": {
   "codemirror_mode": {
    "name": "ipython",
    "version": 3
   },
   "file_extension": ".py",
   "mimetype": "text/x-python",
   "name": "python",
   "nbconvert_exporter": "python",
   "pygments_lexer": "ipython3",
   "version": "3.12.4"
  }
 },
 "nbformat": 4,
 "nbformat_minor": 2
}
