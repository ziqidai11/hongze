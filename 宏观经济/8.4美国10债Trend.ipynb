{
 "cells": [
  {
   "cell_type": "code",
   "execution_count": 1,
   "metadata": {
    "execution": {
     "iopub.execute_input": "2025-10-25T02:39:22.148525Z",
     "iopub.status.busy": "2025-10-25T02:39:22.148525Z",
     "iopub.status.idle": "2025-10-25T02:39:22.475920Z",
     "shell.execute_reply": "2025-10-25T02:39:22.475920Z"
    }
   },
   "outputs": [],
   "source": [
    "import pandas as pd\n",
    "import numpy as np\n",
    "import matplotlib.pyplot as plt"
   ]
  },
  {
   "cell_type": "code",
   "execution_count": 2,
   "metadata": {
    "execution": {
     "iopub.execute_input": "2025-10-25T02:39:22.476930Z",
     "iopub.status.busy": "2025-10-25T02:39:22.476930Z",
     "iopub.status.idle": "2025-10-25T02:39:22.901230Z",
     "shell.execute_reply": "2025-10-25T02:39:22.901230Z"
    }
   },
   "outputs": [],
   "source": [
    "# 获取当前文件所在目录的父目录\n",
    "import os\n",
    "import sys\n",
    "\n",
    "current_dir = os.getcwd()\n",
    "parent_dir = os.path.dirname(current_dir)\n",
    "\n",
    "if parent_dir not in sys.path:\n",
    "    sys.path.append(parent_dir)\n",
    "\n",
    "\n",
    "from Dtool import fill_missing_values, plot_factors_by_pattern, plot_comparison_multiple, reverse_column, plot_feature_importance,plot_predictions\n"
   ]
  },
  {
   "cell_type": "code",
   "execution_count": 3,
   "metadata": {
    "execution": {
     "iopub.execute_input": "2025-10-25T02:39:22.903243Z",
     "iopub.status.busy": "2025-10-25T02:39:22.902238Z",
     "iopub.status.idle": "2025-10-25T02:39:23.151251Z",
     "shell.execute_reply": "2025-10-25T02:39:23.151251Z"
    }
   },
   "outputs": [],
   "source": [
    "plt.rcParams['font.sans-serif'] = ['SimHei']  \n",
    "plt.rcParams['axes.unicode_minus'] = False \n",
    "######## 读取数据 ########\n",
    "sheet = pd.read_excel('data_input/美国10债Trend2.xlsx', sheet_name='Sheet1').rename(columns={'DataTime': 'Date'})\n",
    "sheet.set_index('Date', inplace=True) \n",
    "sheet = sheet.reset_index().rename(columns={'index': 'Date'})"
   ]
  },
  {
   "cell_type": "code",
   "execution_count": 4,
   "metadata": {
    "execution": {
     "iopub.execute_input": "2025-10-25T02:39:23.152760Z",
     "iopub.status.busy": "2025-10-25T02:39:23.152760Z",
     "iopub.status.idle": "2025-10-25T02:39:23.157467Z",
     "shell.execute_reply": "2025-10-25T02:39:23.157467Z"
    }
   },
   "outputs": [
    {
     "name": "stdout",
     "output_type": "stream",
     "text": [
      "<class 'pandas.core.frame.DataFrame'>\n",
      "RangeIndex: 8504 entries, 0 to 8503\n",
      "Data columns (total 4 columns):\n",
      " #   Column                      Non-Null Count  Dtype         \n",
      "---  ------                      --------------  -----         \n",
      " 0   Date                        8504 non-null   datetime64[ns]\n",
      " 1   10年期美国国债收益率                 8504 non-null   float64       \n",
      " 2   10年期美国国债收益率Trend/F0.05      8504 non-null   float64       \n",
      " 3   10年期美国国债收益率Non-Trend/F0.05  8504 non-null   float64       \n",
      "dtypes: datetime64[ns](1), float64(3)\n",
      "memory usage: 265.9 KB\n"
     ]
    }
   ],
   "source": [
    "sheet.info()"
   ]
  },
  {
   "cell_type": "code",
   "execution_count": 5,
   "metadata": {
    "execution": {
     "iopub.execute_input": "2025-10-25T02:39:23.174326Z",
     "iopub.status.busy": "2025-10-25T02:39:23.174326Z",
     "iopub.status.idle": "2025-10-25T02:39:23.180941Z",
     "shell.execute_reply": "2025-10-25T02:39:23.180941Z"
    }
   },
   "outputs": [
    {
     "data": {
      "text/html": [
       "<div>\n",
       "<style scoped>\n",
       "    .dataframe tbody tr th:only-of-type {\n",
       "        vertical-align: middle;\n",
       "    }\n",
       "\n",
       "    .dataframe tbody tr th {\n",
       "        vertical-align: top;\n",
       "    }\n",
       "\n",
       "    .dataframe thead th {\n",
       "        text-align: right;\n",
       "    }\n",
       "</style>\n",
       "<table border=\"1\" class=\"dataframe\">\n",
       "  <thead>\n",
       "    <tr style=\"text-align: right;\">\n",
       "      <th></th>\n",
       "      <th>Date</th>\n",
       "      <th>10年期美国国债收益率</th>\n",
       "      <th>10年期美国国债收益率Trend/F0.05</th>\n",
       "      <th>10年期美国国债收益率Non-Trend/F0.05</th>\n",
       "    </tr>\n",
       "  </thead>\n",
       "  <tbody>\n",
       "    <tr>\n",
       "      <th>8499</th>\n",
       "      <td>2025-10-20</td>\n",
       "      <td>4.00</td>\n",
       "      <td>4.278018</td>\n",
       "      <td>-0.2780</td>\n",
       "    </tr>\n",
       "    <tr>\n",
       "      <th>8500</th>\n",
       "      <td>2025-10-21</td>\n",
       "      <td>3.98</td>\n",
       "      <td>4.277672</td>\n",
       "      <td>-0.2977</td>\n",
       "    </tr>\n",
       "    <tr>\n",
       "      <th>8501</th>\n",
       "      <td>2025-10-22</td>\n",
       "      <td>3.97</td>\n",
       "      <td>4.277323</td>\n",
       "      <td>-0.3073</td>\n",
       "    </tr>\n",
       "    <tr>\n",
       "      <th>8502</th>\n",
       "      <td>2025-10-23</td>\n",
       "      <td>4.01</td>\n",
       "      <td>4.276970</td>\n",
       "      <td>-0.2670</td>\n",
       "    </tr>\n",
       "    <tr>\n",
       "      <th>8503</th>\n",
       "      <td>2025-10-24</td>\n",
       "      <td>4.02</td>\n",
       "      <td>4.276614</td>\n",
       "      <td>-0.2566</td>\n",
       "    </tr>\n",
       "  </tbody>\n",
       "</table>\n",
       "</div>"
      ],
      "text/plain": [
       "           Date  10年期美国国债收益率  10年期美国国债收益率Trend/F0.05  \\\n",
       "8499 2025-10-20         4.00                4.278018   \n",
       "8500 2025-10-21         3.98                4.277672   \n",
       "8501 2025-10-22         3.97                4.277323   \n",
       "8502 2025-10-23         4.01                4.276970   \n",
       "8503 2025-10-24         4.02                4.276614   \n",
       "\n",
       "      10年期美国国债收益率Non-Trend/F0.05  \n",
       "8499                     -0.2780  \n",
       "8500                     -0.2977  \n",
       "8501                     -0.3073  \n",
       "8502                     -0.2670  \n",
       "8503                     -0.2566  "
      ]
     },
     "execution_count": 5,
     "metadata": {},
     "output_type": "execute_result"
    }
   ],
   "source": [
    "sheet.tail()"
   ]
  },
  {
   "cell_type": "code",
   "execution_count": 6,
   "metadata": {
    "execution": {
     "iopub.execute_input": "2025-10-25T02:39:23.181951Z",
     "iopub.status.busy": "2025-10-25T02:39:23.181951Z",
     "iopub.status.idle": "2025-10-25T02:39:23.185638Z",
     "shell.execute_reply": "2025-10-25T02:39:23.185638Z"
    }
   },
   "outputs": [],
   "source": [
    "sheet =  sheet[['Date','10年期美国国债收益率Trend/F0.05','10年期美国国债收益率']]\n",
    "# 对两列进行线性插值填充空缺值\n",
    "sheet['10年期美国国债收益率Trend/F0.05'] = sheet['10年期美国国债收益率Trend/F0.05'].interpolate(method='linear')\n",
    "sheet['10年期美国国债收益率'] = sheet['10年期美国国债收益率'].interpolate(method='linear')\n",
    "\n",
    "sheet = sheet.dropna()"
   ]
  },
  {
   "cell_type": "code",
   "execution_count": 7,
   "metadata": {
    "execution": {
     "iopub.execute_input": "2025-10-25T02:39:23.186144Z",
     "iopub.status.busy": "2025-10-25T02:39:23.186144Z",
     "iopub.status.idle": "2025-10-25T02:39:23.285425Z",
     "shell.execute_reply": "2025-10-25T02:39:23.285425Z"
    }
   },
   "outputs": [
    {
     "data": {
      "image/png": "[encoded data removed]",
      "text/plain": [
       "<Figure size 1500x600 with 1 Axes>"
      ]
     },
     "metadata": {},
     "output_type": "display_data"
    }
   ],
   "source": [
    "\n",
    "# 获取最后一个日期\n",
    "last_date = pd.to_datetime(sheet['Date'].iloc[-1])\n",
    "\n",
    "# 生成未来20个工作日\n",
    "future_dates = pd.date_range(start=last_date + pd.Timedelta(days=1), periods=30, freq='D')  # 生成30天以确保获得20个工作日\n",
    "future_dates = future_dates[future_dates.dayofweek < 5][:20]  # 只保留工作日并取前20天\n",
    "\n",
    "# 获取最后30个历史值用于线性回归\n",
    "last_values = sheet['10年期美国国债收益率Trend/F0.05'].tail(30).values\n",
    "x = np.arange(len(last_values))\n",
    "y = last_values\n",
    "\n",
    "# 进行线性回归\n",
    "z = np.polyfit(x, y, 1)\n",
    "p = np.poly1d(z)\n",
    "\n",
    "# 预测未来20个值\n",
    "future_x = np.arange(len(last_values), len(last_values) + 20)\n",
    "future_values = p(future_x)\n",
    "\n",
    "# 创建预测数据框\n",
    "future_df = pd.DataFrame({\n",
    "    'Date': future_dates,\n",
    "    '10年期美国国债收益率Trend/F0.05': future_values\n",
    "})\n",
    "\n",
    "# 合并历史数据和预测数据\n",
    "sheet_with_predictions = pd.concat([sheet, future_df], ignore_index=True)\n",
    "# 筛选2020年之后的数据\n",
    "sheet_2020 = sheet[sheet['Date'] >= '2020-01-01']\n",
    "\n",
    "# 绘制结果\n",
    "plt.figure(figsize=(15, 6))\n",
    "plt.plot(sheet_2020['Date'], sheet_2020['10年期美国国债收益率Trend/F0.05'], label='2020年后历史数据')\n",
    "plt.plot(future_df['Date'], future_df['10年期美国国债收益率Trend/F0.05'], 'r--', label='预测数据')\n",
    "plt.title('10年期美国国债收益率Trend/F0.05 预测 (2020年后)')\n",
    "plt.xlabel('日期')\n",
    "plt.legend()\n",
    "plt.grid(True)\n",
    "plt.xticks(rotation=45)\n",
    "plt.tight_layout()\n",
    "plt.show()\n"
   ]
  },
  {
   "cell_type": "code",
   "execution_count": 8,
   "metadata": {
    "execution": {
     "iopub.execute_input": "2025-10-25T02:39:23.286937Z",
     "iopub.status.busy": "2025-10-25T02:39:23.285930Z",
     "iopub.status.idle": "2025-10-25T02:39:23.306606Z",
     "shell.execute_reply": "2025-10-25T02:39:23.306606Z"
    }
   },
   "outputs": [],
   "source": [
    "########################   读取数据  #########################################\n",
    "sheet_non_trend = pd.read_excel('eta/10年期美国国债收益率Non-Trend-F0.05_合并数据.xlsx', sheet_name='Sheet1')\n",
    "sheet_non_trend['Date'] = pd.to_datetime(sheet_non_trend['Date'])\n",
    "# trend + non-trend \n",
    "merged_df = pd.merge(\n",
    "    sheet_non_trend[['Date', '预测值']], \n",
    "    future_df[['Date', '10年期美国国债收益率Trend/F0.05']], \n",
    "    on='Date',\n",
    "    how='outer'\n",
    ")\n"
   ]
  },
  {
   "cell_type": "code",
   "execution_count": 9,
   "metadata": {
    "execution": {
     "iopub.execute_input": "2025-10-25T02:39:23.307619Z",
     "iopub.status.busy": "2025-10-25T02:39:23.307619Z",
     "iopub.status.idle": "2025-10-25T02:39:23.311635Z",
     "shell.execute_reply": "2025-10-25T02:39:23.311635Z"
    }
   },
   "outputs": [
    {
     "data": {
      "text/html": [
       "<div>\n",
       "<style scoped>\n",
       "    .dataframe tbody tr th:only-of-type {\n",
       "        vertical-align: middle;\n",
       "    }\n",
       "\n",
       "    .dataframe tbody tr th {\n",
       "        vertical-align: top;\n",
       "    }\n",
       "\n",
       "    .dataframe thead th {\n",
       "        text-align: right;\n",
       "    }\n",
       "</style>\n",
       "<table border=\"1\" class=\"dataframe\">\n",
       "  <thead>\n",
       "    <tr style=\"text-align: right;\">\n",
       "      <th></th>\n",
       "      <th>Date</th>\n",
       "      <th>真实值</th>\n",
       "      <th>预测值</th>\n",
       "    </tr>\n",
       "  </thead>\n",
       "  <tbody>\n",
       "    <tr>\n",
       "      <th>0</th>\n",
       "      <td>2025-11-24</td>\n",
       "      <td>NaN</td>\n",
       "      <td>-0.2371</td>\n",
       "    </tr>\n",
       "    <tr>\n",
       "      <th>1</th>\n",
       "      <td>2025-11-21</td>\n",
       "      <td>NaN</td>\n",
       "      <td>-0.2372</td>\n",
       "    </tr>\n",
       "    <tr>\n",
       "      <th>2</th>\n",
       "      <td>2025-11-20</td>\n",
       "      <td>NaN</td>\n",
       "      <td>-0.2381</td>\n",
       "    </tr>\n",
       "    <tr>\n",
       "      <th>3</th>\n",
       "      <td>2025-11-19</td>\n",
       "      <td>NaN</td>\n",
       "      <td>-0.2380</td>\n",
       "    </tr>\n",
       "    <tr>\n",
       "      <th>4</th>\n",
       "      <td>2025-11-18</td>\n",
       "      <td>NaN</td>\n",
       "      <td>-0.2524</td>\n",
       "    </tr>\n",
       "    <tr>\n",
       "      <th>...</th>\n",
       "      <td>...</td>\n",
       "      <td>...</td>\n",
       "      <td>...</td>\n",
       "    </tr>\n",
       "    <tr>\n",
       "      <th>741</th>\n",
       "      <td>2023-01-09</td>\n",
       "      <td>0.0013</td>\n",
       "      <td>NaN</td>\n",
       "    </tr>\n",
       "    <tr>\n",
       "      <th>742</th>\n",
       "      <td>2023-01-06</td>\n",
       "      <td>0.0249</td>\n",
       "      <td>NaN</td>\n",
       "    </tr>\n",
       "    <tr>\n",
       "      <th>743</th>\n",
       "      <td>2023-01-05</td>\n",
       "      <td>0.1885</td>\n",
       "      <td>NaN</td>\n",
       "    </tr>\n",
       "    <tr>\n",
       "      <th>744</th>\n",
       "      <td>2023-01-04</td>\n",
       "      <td>0.1722</td>\n",
       "      <td>NaN</td>\n",
       "    </tr>\n",
       "    <tr>\n",
       "      <th>745</th>\n",
       "      <td>2023-01-03</td>\n",
       "      <td>0.2758</td>\n",
       "      <td>NaN</td>\n",
       "    </tr>\n",
       "  </tbody>\n",
       "</table>\n",
       "<p>746 rows × 3 columns</p>\n",
       "</div>"
      ],
      "text/plain": [
       "          Date     真实值     预测值\n",
       "0   2025-11-24     NaN -0.2371\n",
       "1   2025-11-21     NaN -0.2372\n",
       "2   2025-11-20     NaN -0.2381\n",
       "3   2025-11-19     NaN -0.2380\n",
       "4   2025-11-18     NaN -0.2524\n",
       "..         ...     ...     ...\n",
       "741 2023-01-09  0.0013     NaN\n",
       "742 2023-01-06  0.0249     NaN\n",
       "743 2023-01-05  0.1885     NaN\n",
       "744 2023-01-04  0.1722     NaN\n",
       "745 2023-01-03  0.2758     NaN\n",
       "\n",
       "[746 rows x 3 columns]"
      ]
     },
     "execution_count": 9,
     "metadata": {},
     "output_type": "execute_result"
    }
   ],
   "source": [
    "sheet_non_trend"
   ]
  },
  {
   "cell_type": "code",
   "execution_count": 10,
   "metadata": {
    "execution": {
     "iopub.execute_input": "2025-10-25T02:39:23.312142Z",
     "iopub.status.busy": "2025-10-25T02:39:23.312142Z",
     "iopub.status.idle": "2025-10-25T02:39:23.316117Z",
     "shell.execute_reply": "2025-10-25T02:39:23.316117Z"
    }
   },
   "outputs": [
    {
     "data": {
      "text/html": [
       "<div>\n",
       "<style scoped>\n",
       "    .dataframe tbody tr th:only-of-type {\n",
       "        vertical-align: middle;\n",
       "    }\n",
       "\n",
       "    .dataframe tbody tr th {\n",
       "        vertical-align: top;\n",
       "    }\n",
       "\n",
       "    .dataframe thead th {\n",
       "        text-align: right;\n",
       "    }\n",
       "</style>\n",
       "<table border=\"1\" class=\"dataframe\">\n",
       "  <thead>\n",
       "    <tr style=\"text-align: right;\">\n",
       "      <th></th>\n",
       "      <th>Date</th>\n",
       "      <th>预测值</th>\n",
       "      <th>10年期美国国债收益率Trend/F0.05</th>\n",
       "    </tr>\n",
       "  </thead>\n",
       "  <tbody>\n",
       "    <tr>\n",
       "      <th>0</th>\n",
       "      <td>2023-01-03</td>\n",
       "      <td>NaN</td>\n",
       "      <td>NaN</td>\n",
       "    </tr>\n",
       "    <tr>\n",
       "      <th>1</th>\n",
       "      <td>2023-01-04</td>\n",
       "      <td>NaN</td>\n",
       "      <td>NaN</td>\n",
       "    </tr>\n",
       "    <tr>\n",
       "      <th>2</th>\n",
       "      <td>2023-01-05</td>\n",
       "      <td>NaN</td>\n",
       "      <td>NaN</td>\n",
       "    </tr>\n",
       "    <tr>\n",
       "      <th>3</th>\n",
       "      <td>2023-01-06</td>\n",
       "      <td>NaN</td>\n",
       "      <td>NaN</td>\n",
       "    </tr>\n",
       "    <tr>\n",
       "      <th>4</th>\n",
       "      <td>2023-01-09</td>\n",
       "      <td>NaN</td>\n",
       "      <td>NaN</td>\n",
       "    </tr>\n",
       "    <tr>\n",
       "      <th>...</th>\n",
       "      <td>...</td>\n",
       "      <td>...</td>\n",
       "      <td>...</td>\n",
       "    </tr>\n",
       "    <tr>\n",
       "      <th>741</th>\n",
       "      <td>2025-11-18</td>\n",
       "      <td>-0.2524</td>\n",
       "      <td>4.271685</td>\n",
       "    </tr>\n",
       "    <tr>\n",
       "      <th>742</th>\n",
       "      <td>2025-11-19</td>\n",
       "      <td>-0.2380</td>\n",
       "      <td>4.271380</td>\n",
       "    </tr>\n",
       "    <tr>\n",
       "      <th>743</th>\n",
       "      <td>2025-11-20</td>\n",
       "      <td>-0.2381</td>\n",
       "      <td>4.271075</td>\n",
       "    </tr>\n",
       "    <tr>\n",
       "      <th>744</th>\n",
       "      <td>2025-11-21</td>\n",
       "      <td>-0.2372</td>\n",
       "      <td>4.270771</td>\n",
       "    </tr>\n",
       "    <tr>\n",
       "      <th>745</th>\n",
       "      <td>2025-11-24</td>\n",
       "      <td>-0.2371</td>\n",
       "      <td>NaN</td>\n",
       "    </tr>\n",
       "  </tbody>\n",
       "</table>\n",
       "<p>746 rows × 3 columns</p>\n",
       "</div>"
      ],
      "text/plain": [
       "          Date     预测值  10年期美国国债收益率Trend/F0.05\n",
       "0   2023-01-03     NaN                     NaN\n",
       "1   2023-01-04     NaN                     NaN\n",
       "2   2023-01-05     NaN                     NaN\n",
       "3   2023-01-06     NaN                     NaN\n",
       "4   2023-01-09     NaN                     NaN\n",
       "..         ...     ...                     ...\n",
       "741 2025-11-18 -0.2524                4.271685\n",
       "742 2025-11-19 -0.2380                4.271380\n",
       "743 2025-11-20 -0.2381                4.271075\n",
       "744 2025-11-21 -0.2372                4.270771\n",
       "745 2025-11-24 -0.2371                     NaN\n",
       "\n",
       "[746 rows x 3 columns]"
      ]
     },
     "execution_count": 10,
     "metadata": {},
     "output_type": "execute_result"
    }
   ],
   "source": [
    "merged_df = merged_df\n",
    "merged_df"
   ]
  },
  {
   "cell_type": "code",
   "execution_count": 11,
   "metadata": {
    "execution": {
     "iopub.execute_input": "2025-10-25T02:39:23.316625Z",
     "iopub.status.busy": "2025-10-25T02:39:23.316625Z",
     "iopub.status.idle": "2025-10-25T02:39:23.320540Z",
     "shell.execute_reply": "2025-10-25T02:39:23.320540Z"
    }
   },
   "outputs": [
    {
     "data": {
      "text/html": [
       "<div>\n",
       "<style scoped>\n",
       "    .dataframe tbody tr th:only-of-type {\n",
       "        vertical-align: middle;\n",
       "    }\n",
       "\n",
       "    .dataframe tbody tr th {\n",
       "        vertical-align: top;\n",
       "    }\n",
       "\n",
       "    .dataframe thead th {\n",
       "        text-align: right;\n",
       "    }\n",
       "</style>\n",
       "<table border=\"1\" class=\"dataframe\">\n",
       "  <thead>\n",
       "    <tr style=\"text-align: right;\">\n",
       "      <th></th>\n",
       "      <th>Date</th>\n",
       "      <th>预测值</th>\n",
       "      <th>10年期美国国债收益率Trend/F0.05</th>\n",
       "      <th>10年期美国国债收益率</th>\n",
       "    </tr>\n",
       "  </thead>\n",
       "  <tbody>\n",
       "    <tr>\n",
       "      <th>0</th>\n",
       "      <td>2023-01-03</td>\n",
       "      <td>NaN</td>\n",
       "      <td>NaN</td>\n",
       "      <td>NaN</td>\n",
       "    </tr>\n",
       "    <tr>\n",
       "      <th>1</th>\n",
       "      <td>2023-01-04</td>\n",
       "      <td>NaN</td>\n",
       "      <td>NaN</td>\n",
       "      <td>NaN</td>\n",
       "    </tr>\n",
       "    <tr>\n",
       "      <th>2</th>\n",
       "      <td>2023-01-05</td>\n",
       "      <td>NaN</td>\n",
       "      <td>NaN</td>\n",
       "      <td>NaN</td>\n",
       "    </tr>\n",
       "    <tr>\n",
       "      <th>3</th>\n",
       "      <td>2023-01-06</td>\n",
       "      <td>NaN</td>\n",
       "      <td>NaN</td>\n",
       "      <td>NaN</td>\n",
       "    </tr>\n",
       "    <tr>\n",
       "      <th>4</th>\n",
       "      <td>2023-01-09</td>\n",
       "      <td>NaN</td>\n",
       "      <td>NaN</td>\n",
       "      <td>NaN</td>\n",
       "    </tr>\n",
       "  </tbody>\n",
       "</table>\n",
       "</div>"
      ],
      "text/plain": [
       "        Date  预测值  10年期美国国债收益率Trend/F0.05  10年期美国国债收益率\n",
       "0 2023-01-03  NaN                     NaN          NaN\n",
       "1 2023-01-04  NaN                     NaN          NaN\n",
       "2 2023-01-05  NaN                     NaN          NaN\n",
       "3 2023-01-06  NaN                     NaN          NaN\n",
       "4 2023-01-09  NaN                     NaN          NaN"
      ]
     },
     "execution_count": 11,
     "metadata": {},
     "output_type": "execute_result"
    }
   ],
   "source": [
    "# 删除包含空值的行\n",
    "\n",
    "# 计算最终的\n",
    "merged_df['10年期美国国债收益率'] = merged_df['预测值'] + merged_df['10年期美国国债收益率Trend/F0.05']\n",
    "merged_df.head() "
   ]
  },
  {
   "cell_type": "code",
   "execution_count": 12,
   "metadata": {
    "execution": {
     "iopub.execute_input": "2025-10-25T02:39:23.321048Z",
     "iopub.status.busy": "2025-10-25T02:39:23.321048Z",
     "iopub.status.idle": "2025-10-25T02:39:23.421003Z",
     "shell.execute_reply": "2025-10-25T02:39:23.421003Z"
    }
   },
   "outputs": [
    {
     "data": {
      "image/png": "[encoded data removed]",
      "text/plain": [
       "<Figure size 1500x600 with 1 Axes>"
      ]
     },
     "metadata": {},
     "output_type": "display_data"
    }
   ],
   "source": [
    "# 绘制最终走势图\n",
    "plt.figure(figsize=(15, 6))\n",
    "# 筛选2020年之后的数据\n",
    "sheet_2020 = sheet[sheet['Date'] >= '2024-01-01']\n",
    "# 绘制历史数据\n",
    "plt.plot(sheet_2020['Date'], sheet_2020['10年期美国国债收益率'], label='历史走势', color='blue')\n",
    "# 添加垂直分隔线,标记历史数据和预测数据的分界点\n",
    "last_historical_date = sheet_2020['Date'].iloc[-1]\n",
    "plt.axvline(x=last_historical_date, color='gray', linestyle='--', label='历史/预测分界线')\n",
    "# 绘制预测数据\n",
    "plt.plot(merged_df['Date'], merged_df['10年期美国国债收益率'], label='预测走势', color='red', linestyle='--')\n",
    "\n",
    "plt.title('10年期美国国债收益率 历史与预测对比')\n",
    "plt.xlabel('日期')\n",
    "plt.ylabel('价格')\n",
    "plt.legend()\n",
    "plt.grid(True)\n",
    "plt.xticks(rotation=45)\n",
    "plt.tight_layout()\n",
    "plt.show()\n"
   ]
  },
  {
   "cell_type": "code",
   "execution_count": 13,
   "metadata": {
    "execution": {
     "iopub.execute_input": "2025-10-25T02:39:23.422018Z",
     "iopub.status.busy": "2025-10-25T02:39:23.422018Z",
     "iopub.status.idle": "2025-10-25T02:39:23.452714Z",
     "shell.execute_reply": "2025-10-25T02:39:23.452714Z"
    }
   },
   "outputs": [
    {
     "data": {
      "text/html": [
       "<div>\n",
       "<style scoped>\n",
       "    .dataframe tbody tr th:only-of-type {\n",
       "        vertical-align: middle;\n",
       "    }\n",
       "\n",
       "    .dataframe tbody tr th {\n",
       "        vertical-align: top;\n",
       "    }\n",
       "\n",
       "    .dataframe thead th {\n",
       "        text-align: right;\n",
       "    }\n",
       "</style>\n",
       "<table border=\"1\" class=\"dataframe\">\n",
       "  <thead>\n",
       "    <tr style=\"text-align: right;\">\n",
       "      <th></th>\n",
       "      <th>Date</th>\n",
       "      <th>实际值</th>\n",
       "      <th>10年期美国国债收益率</th>\n",
       "    </tr>\n",
       "  </thead>\n",
       "  <tbody>\n",
       "    <tr>\n",
       "      <th>745</th>\n",
       "      <td>2025/11/24</td>\n",
       "      <td>NaN</td>\n",
       "      <td>NaN</td>\n",
       "    </tr>\n",
       "    <tr>\n",
       "      <th>744</th>\n",
       "      <td>2025/11/21</td>\n",
       "      <td>NaN</td>\n",
       "      <td>4.033571</td>\n",
       "    </tr>\n",
       "    <tr>\n",
       "      <th>743</th>\n",
       "      <td>2025/11/20</td>\n",
       "      <td>NaN</td>\n",
       "      <td>4.032975</td>\n",
       "    </tr>\n",
       "    <tr>\n",
       "      <th>742</th>\n",
       "      <td>2025/11/19</td>\n",
       "      <td>NaN</td>\n",
       "      <td>4.033380</td>\n",
       "    </tr>\n",
       "    <tr>\n",
       "      <th>741</th>\n",
       "      <td>2025/11/18</td>\n",
       "      <td>NaN</td>\n",
       "      <td>4.019285</td>\n",
       "    </tr>\n",
       "    <tr>\n",
       "      <th>...</th>\n",
       "      <td>...</td>\n",
       "      <td>...</td>\n",
       "      <td>...</td>\n",
       "    </tr>\n",
       "    <tr>\n",
       "      <th>4</th>\n",
       "      <td>2023/01/09</td>\n",
       "      <td>3.53</td>\n",
       "      <td>NaN</td>\n",
       "    </tr>\n",
       "    <tr>\n",
       "      <th>3</th>\n",
       "      <td>2023/01/06</td>\n",
       "      <td>3.55</td>\n",
       "      <td>NaN</td>\n",
       "    </tr>\n",
       "    <tr>\n",
       "      <th>2</th>\n",
       "      <td>2023/01/05</td>\n",
       "      <td>3.71</td>\n",
       "      <td>NaN</td>\n",
       "    </tr>\n",
       "    <tr>\n",
       "      <th>1</th>\n",
       "      <td>2023/01/04</td>\n",
       "      <td>3.69</td>\n",
       "      <td>NaN</td>\n",
       "    </tr>\n",
       "    <tr>\n",
       "      <th>0</th>\n",
       "      <td>2023/01/03</td>\n",
       "      <td>3.79</td>\n",
       "      <td>NaN</td>\n",
       "    </tr>\n",
       "  </tbody>\n",
       "</table>\n",
       "<p>746 rows × 3 columns</p>\n",
       "</div>"
      ],
      "text/plain": [
       "           Date   实际值  10年期美国国债收益率\n",
       "745  2025/11/24   NaN          NaN\n",
       "744  2025/11/21   NaN     4.033571\n",
       "743  2025/11/20   NaN     4.032975\n",
       "742  2025/11/19   NaN     4.033380\n",
       "741  2025/11/18   NaN     4.019285\n",
       "..          ...   ...          ...\n",
       "4    2023/01/09  3.53          NaN\n",
       "3    2023/01/06  3.55          NaN\n",
       "2    2023/01/05  3.71          NaN\n",
       "1    2023/01/04  3.69          NaN\n",
       "0    2023/01/03  3.79          NaN\n",
       "\n",
       "[746 rows x 3 columns]"
      ]
     },
     "execution_count": 13,
     "metadata": {},
     "output_type": "execute_result"
    }
   ],
   "source": [
    "sheet_data_2023_shizhi = sheet[sheet['Date'].dt.year >= 2023][['Date', '10年期美国国债收益率']]\n",
    "sheet_data_2023_shizhi.columns = ['Date', '实际值']\n",
    "future_df_shizhi = merged_df[['Date', '10年期美国国债收益率']]\n",
    "merged_df_shizhi = pd.merge(sheet_data_2023_shizhi, future_df_shizhi, on='Date', how='outer')\n",
    "merged_df_shizhi = merged_df_shizhi.sort_values('Date', ascending=False)\n",
    "merged_df_shizhi['Date'] = merged_df_shizhi['Date'].dt.strftime('%Y/%m/%d')\n",
    "merged_df_shizhi.to_excel('eta/10年期美国国债收益率_合并数据.xlsx', index=False,float_format='%.2f')\n",
    "merged_df_shizhi"
   ]
  },
  {
   "cell_type": "code",
   "execution_count": 14,
   "metadata": {
    "execution": {
     "iopub.execute_input": "2025-10-25T02:39:23.453726Z",
     "iopub.status.busy": "2025-10-25T02:39:23.453726Z",
     "iopub.status.idle": "2025-10-25T02:39:23.465523Z",
     "shell.execute_reply": "2025-10-25T02:39:23.465523Z"
    }
   },
   "outputs": [
    {
     "data": {
      "text/html": [
       "<div>\n",
       "<style scoped>\n",
       "    .dataframe tbody tr th:only-of-type {\n",
       "        vertical-align: middle;\n",
       "    }\n",
       "\n",
       "    .dataframe tbody tr th {\n",
       "        vertical-align: top;\n",
       "    }\n",
       "\n",
       "    .dataframe thead th {\n",
       "        text-align: right;\n",
       "    }\n",
       "</style>\n",
       "<table border=\"1\" class=\"dataframe\">\n",
       "  <thead>\n",
       "    <tr style=\"text-align: right;\">\n",
       "      <th></th>\n",
       "      <th>Date</th>\n",
       "      <th>实际值</th>\n",
       "      <th>10年期美国国债收益率</th>\n",
       "    </tr>\n",
       "  </thead>\n",
       "  <tbody>\n",
       "    <tr>\n",
       "      <th>0</th>\n",
       "      <td>2025/11/30</td>\n",
       "      <td>NaN</td>\n",
       "      <td>4.033571</td>\n",
       "    </tr>\n",
       "    <tr>\n",
       "      <th>1</th>\n",
       "      <td>2025/10/31</td>\n",
       "      <td>4.02</td>\n",
       "      <td>3.981241</td>\n",
       "    </tr>\n",
       "    <tr>\n",
       "      <th>2</th>\n",
       "      <td>2025/09/30</td>\n",
       "      <td>4.16</td>\n",
       "      <td>NaN</td>\n",
       "    </tr>\n",
       "    <tr>\n",
       "      <th>3</th>\n",
       "      <td>2025/08/31</td>\n",
       "      <td>4.23</td>\n",
       "      <td>NaN</td>\n",
       "    </tr>\n",
       "    <tr>\n",
       "      <th>4</th>\n",
       "      <td>2025/07/31</td>\n",
       "      <td>4.37</td>\n",
       "      <td>NaN</td>\n",
       "    </tr>\n",
       "  </tbody>\n",
       "</table>\n",
       "</div>"
      ],
      "text/plain": [
       "         Date   实际值  10年期美国国债收益率\n",
       "0  2025/11/30   NaN     4.033571\n",
       "1  2025/10/31  4.02     3.981241\n",
       "2  2025/09/30  4.16          NaN\n",
       "3  2025/08/31  4.23          NaN\n",
       "4  2025/07/31  4.37          NaN"
      ]
     },
     "execution_count": 14,
     "metadata": {},
     "output_type": "execute_result"
    }
   ],
   "source": [
    "# 将日期列转换为datetime格式\n",
    "merged_df_shizhi['Date'] = pd.to_datetime(merged_df_shizhi['Date'])\n",
    "# 按月份重采样并取每月最后一个交易日的数据\n",
    "monthly_df_shizhi = merged_df_shizhi.set_index('Date').resample('ME').last()\n",
    "monthly_df_shizhi = monthly_df_shizhi.sort_values('Date', ascending=False)\n",
    "# 重置索引并格式化日期\n",
    "monthly_df_shizhi = monthly_df_shizhi.reset_index()\n",
    "monthly_df_shizhi['Date'] = monthly_df_shizhi['Date'].dt.strftime('%Y/%m/%d')\n",
    "monthly_df_shizhi = monthly_df_shizhi.dropna(subset=['实际值', '10年期美国国债收益率'], how='all')\n",
    "# 保存月度数据到Excel\n",
    "monthly_df_shizhi.to_excel('eta/10年期美国国债收益率_月度数据.xlsx', index=False, float_format='%.2f')\n",
    "monthly_df_shizhi.head()"
   ]
  },
  {
   "cell_type": "markdown",
   "metadata": {},
   "source": [
    "---"
   ]
  },
  {
   "cell_type": "code",
   "execution_count": 15,
   "metadata": {
    "execution": {
     "iopub.execute_input": "2025-10-25T02:39:23.466029Z",
     "iopub.status.busy": "2025-10-25T02:39:23.466029Z",
     "iopub.status.idle": "2025-10-25T02:39:23.494349Z",
     "shell.execute_reply": "2025-10-25T02:39:23.493843Z"
    }
   },
   "outputs": [
    {
     "data": {
      "text/html": [
       "<div>\n",
       "<style scoped>\n",
       "    .dataframe tbody tr th:only-of-type {\n",
       "        vertical-align: middle;\n",
       "    }\n",
       "\n",
       "    .dataframe tbody tr th {\n",
       "        vertical-align: top;\n",
       "    }\n",
       "\n",
       "    .dataframe thead th {\n",
       "        text-align: right;\n",
       "    }\n",
       "</style>\n",
       "<table border=\"1\" class=\"dataframe\">\n",
       "  <thead>\n",
       "    <tr style=\"text-align: right;\">\n",
       "      <th></th>\n",
       "      <th>Date</th>\n",
       "      <th>实际值</th>\n",
       "      <th>10年期美国国债收益率Trend/F0.05</th>\n",
       "    </tr>\n",
       "  </thead>\n",
       "  <tbody>\n",
       "    <tr>\n",
       "      <th>723</th>\n",
       "      <td>2025/11/21</td>\n",
       "      <td>NaN</td>\n",
       "      <td>4.270771</td>\n",
       "    </tr>\n",
       "    <tr>\n",
       "      <th>722</th>\n",
       "      <td>2025/11/20</td>\n",
       "      <td>NaN</td>\n",
       "      <td>4.271075</td>\n",
       "    </tr>\n",
       "    <tr>\n",
       "      <th>721</th>\n",
       "      <td>2025/11/19</td>\n",
       "      <td>NaN</td>\n",
       "      <td>4.271380</td>\n",
       "    </tr>\n",
       "    <tr>\n",
       "      <th>720</th>\n",
       "      <td>2025/11/18</td>\n",
       "      <td>NaN</td>\n",
       "      <td>4.271685</td>\n",
       "    </tr>\n",
       "    <tr>\n",
       "      <th>719</th>\n",
       "      <td>2025/11/17</td>\n",
       "      <td>NaN</td>\n",
       "      <td>4.271989</td>\n",
       "    </tr>\n",
       "    <tr>\n",
       "      <th>...</th>\n",
       "      <td>...</td>\n",
       "      <td>...</td>\n",
       "      <td>...</td>\n",
       "    </tr>\n",
       "    <tr>\n",
       "      <th>4</th>\n",
       "      <td>2023/01/09</td>\n",
       "      <td>3.528741</td>\n",
       "      <td>NaN</td>\n",
       "    </tr>\n",
       "    <tr>\n",
       "      <th>3</th>\n",
       "      <td>2023/01/06</td>\n",
       "      <td>3.525098</td>\n",
       "      <td>NaN</td>\n",
       "    </tr>\n",
       "    <tr>\n",
       "      <th>2</th>\n",
       "      <td>2023/01/05</td>\n",
       "      <td>3.521454</td>\n",
       "      <td>NaN</td>\n",
       "    </tr>\n",
       "    <tr>\n",
       "      <th>1</th>\n",
       "      <td>2023/01/04</td>\n",
       "      <td>3.517810</td>\n",
       "      <td>NaN</td>\n",
       "    </tr>\n",
       "    <tr>\n",
       "      <th>0</th>\n",
       "      <td>2023/01/03</td>\n",
       "      <td>3.514164</td>\n",
       "      <td>NaN</td>\n",
       "    </tr>\n",
       "  </tbody>\n",
       "</table>\n",
       "<p>724 rows × 3 columns</p>\n",
       "</div>"
      ],
      "text/plain": [
       "           Date       实际值  10年期美国国债收益率Trend/F0.05\n",
       "723  2025/11/21       NaN                4.270771\n",
       "722  2025/11/20       NaN                4.271075\n",
       "721  2025/11/19       NaN                4.271380\n",
       "720  2025/11/18       NaN                4.271685\n",
       "719  2025/11/17       NaN                4.271989\n",
       "..          ...       ...                     ...\n",
       "4    2023/01/09  3.528741                     NaN\n",
       "3    2023/01/06  3.525098                     NaN\n",
       "2    2023/01/05  3.521454                     NaN\n",
       "1    2023/01/04  3.517810                     NaN\n",
       "0    2023/01/03  3.514164                     NaN\n",
       "\n",
       "[724 rows x 3 columns]"
      ]
     },
     "execution_count": 15,
     "metadata": {},
     "output_type": "execute_result"
    }
   ],
   "source": [
    "sheet_data_2023 = sheet[sheet['Date'].dt.year >= 2023][['Date', '10年期美国国债收益率Trend/F0.05']]\n",
    "sheet_data_2023.columns = ['Date', '实际值']\n",
    "merged_df_trend = pd.merge(sheet_data_2023, future_df, on='Date', how='outer')\n",
    "merged_df_trend = merged_df_trend.sort_values('Date', ascending=False)\n",
    "merged_df_trend['Date'] = merged_df_trend['Date'].dt.strftime('%Y/%m/%d')\n",
    "merged_df_trend.to_excel('eta/10年期美国国债收益率Trend—F0.05_合并数据.xlsx', index=False,float_format='%.2f')\n",
    "merged_df_trend"
   ]
  },
  {
   "cell_type": "code",
   "execution_count": 16,
   "metadata": {
    "execution": {
     "iopub.execute_input": "2025-10-25T02:39:23.495357Z",
     "iopub.status.busy": "2025-10-25T02:39:23.495357Z",
     "iopub.status.idle": "2025-10-25T02:39:23.505987Z",
     "shell.execute_reply": "2025-10-25T02:39:23.505987Z"
    }
   },
   "outputs": [
    {
     "data": {
      "text/html": [
       "<div>\n",
       "<style scoped>\n",
       "    .dataframe tbody tr th:only-of-type {\n",
       "        vertical-align: middle;\n",
       "    }\n",
       "\n",
       "    .dataframe tbody tr th {\n",
       "        vertical-align: top;\n",
       "    }\n",
       "\n",
       "    .dataframe thead th {\n",
       "        text-align: right;\n",
       "    }\n",
       "</style>\n",
       "<table border=\"1\" class=\"dataframe\">\n",
       "  <thead>\n",
       "    <tr style=\"text-align: right;\">\n",
       "      <th></th>\n",
       "      <th>Date</th>\n",
       "      <th>实际值</th>\n",
       "      <th>10年期美国国债收益率Trend/F0.05</th>\n",
       "    </tr>\n",
       "  </thead>\n",
       "  <tbody>\n",
       "    <tr>\n",
       "      <th>0</th>\n",
       "      <td>2025/11/30</td>\n",
       "      <td>NaN</td>\n",
       "      <td>4.270771</td>\n",
       "    </tr>\n",
       "    <tr>\n",
       "      <th>1</th>\n",
       "      <td>2025/10/31</td>\n",
       "      <td>4.276614</td>\n",
       "      <td>4.275341</td>\n",
       "    </tr>\n",
       "    <tr>\n",
       "      <th>2</th>\n",
       "      <td>2025/09/30</td>\n",
       "      <td>4.282173</td>\n",
       "      <td>NaN</td>\n",
       "    </tr>\n",
       "    <tr>\n",
       "      <th>3</th>\n",
       "      <td>2025/08/31</td>\n",
       "      <td>4.287558</td>\n",
       "      <td>NaN</td>\n",
       "    </tr>\n",
       "    <tr>\n",
       "      <th>4</th>\n",
       "      <td>2025/07/31</td>\n",
       "      <td>4.291399</td>\n",
       "      <td>NaN</td>\n",
       "    </tr>\n",
       "  </tbody>\n",
       "</table>\n",
       "</div>"
      ],
      "text/plain": [
       "         Date       实际值  10年期美国国债收益率Trend/F0.05\n",
       "0  2025/11/30       NaN                4.270771\n",
       "1  2025/10/31  4.276614                4.275341\n",
       "2  2025/09/30  4.282173                     NaN\n",
       "3  2025/08/31  4.287558                     NaN\n",
       "4  2025/07/31  4.291399                     NaN"
      ]
     },
     "execution_count": 16,
     "metadata": {},
     "output_type": "execute_result"
    }
   ],
   "source": [
    "# 将日期列转换为datetime格式\n",
    "merged_df_trend['Date'] = pd.to_datetime(merged_df_trend['Date'])\n",
    "# 按月份重采样并取每月最后一个交易日的数据\n",
    "monthly_df_trend = merged_df_trend.set_index('Date').resample('ME').last()\n",
    "monthly_df_trend = monthly_df_trend.sort_values('Date', ascending=False)\n",
    "# 重置索引并格式化日期\n",
    "monthly_df_trend = monthly_df_trend.reset_index()\n",
    "monthly_df_trend['Date'] = monthly_df_trend['Date'].dt.strftime('%Y/%m/%d')\n",
    "# 保存月度数据到Excel\n",
    "monthly_df_trend.to_excel('eta/10年期美国国债收益率Trend—F0.05_月度数据.xlsx', index=False, float_format='%.2f')\n",
    "monthly_df_trend.head()"
   ]
  },
  {
   "cell_type": "markdown",
   "metadata": {},
   "source": [
    "---"
   ]
  },
  {
   "cell_type": "code",
   "execution_count": 17,
   "metadata": {
    "execution": {
     "iopub.execute_input": "2025-10-25T02:39:23.507000Z",
     "iopub.status.busy": "2025-10-25T02:39:23.507000Z",
     "iopub.status.idle": "2025-10-25T02:39:23.808912Z",
     "shell.execute_reply": "2025-10-25T02:39:23.808912Z"
    }
   },
   "outputs": [
    {
     "name": "stdout",
     "output_type": "stream",
     "text": [
      "成功更新 日度数据表 中的数据\n",
      "数据已成功更新到Excel文件\n"
     ]
    }
   ],
   "source": [
    "from Dcel import update_excel_data\n",
    "# 使用示例\n",
    "file_path = \"eta/1.宏观经济_数据上传.xlsx\"\n",
    "sheet_name = \"日度数据表\"\n",
    "identifier = \"10年期美国国债收益率Trend/F0.05_2.0\"\n",
    "\n",
    "# 调用函数更新数据\n",
    "success = update_excel_data(merged_df_trend, file_path, sheet_name, identifier)\n",
    "\n",
    "if success:\n",
    "    print(\"数据已成功更新到Excel文件\")\n",
    "else:\n",
    "    print(\"数据更新失败，请检查错误信息\")"
   ]
  },
  {
   "cell_type": "code",
   "execution_count": 18,
   "metadata": {
    "execution": {
     "iopub.execute_input": "2025-10-25T02:39:23.810134Z",
     "iopub.status.busy": "2025-10-25T02:39:23.810134Z",
     "iopub.status.idle": "2025-10-25T02:39:24.126190Z",
     "shell.execute_reply": "2025-10-25T02:39:24.125685Z"
    }
   },
   "outputs": [
    {
     "name": "stdout",
     "output_type": "stream",
     "text": [
      "成功更新 日度数据表 中的数据\n",
      "数据已成功更新到Excel文件\n"
     ]
    }
   ],
   "source": [
    "from Dcel import update_excel_data\n",
    "# 使用示例\n",
    "file_path = \"eta/1.宏观经济_数据上传.xlsx\"\n",
    "sheet_name = \"日度数据表\"\n",
    "identifier = \"10年期美国国债收益率_2.0\"\n",
    "\n",
    "# 调用函数更新数据\n",
    "success = update_excel_data(merged_df_shizhi, file_path, sheet_name, identifier)\n",
    "\n",
    "if success:\n",
    "    print(\"数据已成功更新到Excel文件\")\n",
    "else:\n",
    "    print(\"数据更新失败，请检查错误信息\")"
   ]
  },
  {
   "cell_type": "code",
   "execution_count": 19,
   "metadata": {
    "execution": {
     "iopub.execute_input": "2025-10-25T02:39:24.127258Z",
     "iopub.status.busy": "2025-10-25T02:39:24.127258Z",
     "iopub.status.idle": "2025-10-25T02:39:24.452308Z",
     "shell.execute_reply": "2025-10-25T02:39:24.452308Z"
    }
   },
   "outputs": [
    {
     "name": "stdout",
     "output_type": "stream",
     "text": [
      "数据过滤完成: 保留 23 条数据（2024/01/31 之后），按时间倒序排列\n"
     ]
    },
    {
     "name": "stdout",
     "output_type": "stream",
     "text": [
      "已完成：插入/更新数据，并重新计算'方向/偏差率' (protected_date = 2025/10/31, cutoff_date = 2024/01/31)\n",
      "数据已成功更新到Excel文件\n"
     ]
    }
   ],
   "source": [
    "from Lcel import update_excel_data\n",
    "file_path = \"eta/1.宏观经济_数据上传.xlsx\"\n",
    "sheet_name = \"详情页\"\n",
    "identifier = \"10年期美国国债收益率Trend/F0.05_2.0\"\n",
    "# 调用函数更新数据\n",
    "success = update_excel_data(monthly_df_trend, file_path, sheet_name, identifier)\n",
    "\n",
    "if success:\n",
    "    print(\"数据已成功更新到Excel文件\")\n",
    "else:\n",
    "    print(\"数据更新失败，请检查错误信息\")"
   ]
  },
  {
   "cell_type": "code",
   "execution_count": 20,
   "metadata": {
    "execution": {
     "iopub.execute_input": "2025-10-25T02:39:24.453317Z",
     "iopub.status.busy": "2025-10-25T02:39:24.453317Z",
     "iopub.status.idle": "2025-10-25T02:39:24.809457Z",
     "shell.execute_reply": "2025-10-25T02:39:24.809457Z"
    }
   },
   "outputs": [
    {
     "name": "stdout",
     "output_type": "stream",
     "text": [
      "数据过滤完成: 保留 23 条数据（2024/01/31 之后），按时间倒序排列\n",
      "已完成：插入/更新数据，并重新计算'方向/偏差率' (protected_date = 2025/10/31, cutoff_date = 2024/01/31)\n",
      "数据已成功更新到Excel文件\n"
     ]
    }
   ],
   "source": [
    "from Lcel import update_excel_data\n",
    "file_path = \"eta/1.宏观经济_数据上传.xlsx\"\n",
    "sheet_name = \"详情页\"\n",
    "identifier = \"10年期美国国债收益率_2.0\"\n",
    "# 调用函数更新数据\n",
    "success = update_excel_data(monthly_df_shizhi, file_path, sheet_name, identifier)\n",
    "\n",
    "if success:\n",
    "    print(\"数据已成功更新到Excel文件\")\n",
    "else:\n",
    "    print(\"数据更新失败，请检查错误信息\")"
   ]
  },
  {
   "cell_type": "code",
   "execution_count": null,
   "metadata": {},
   "outputs": [],
   "source": []
  }
 ],
 "metadata": {
  "kernelspec": {
   "display_name": "base",
   "language": "python",
   "name": "python3"
  },
  "language_info": {
   "codemirror_mode": {
    "name": "ipython",
    "version": 3
   },
   "file_extension": ".py",
   "mimetype": "text/x-python",
   "name": "python",
   "nbconvert_exporter": "python",
   "pygments_lexer": "ipython3",
   "version": "3.12.4"
  }
 },
 "nbformat": 4,
 "nbformat_minor": 2
}
