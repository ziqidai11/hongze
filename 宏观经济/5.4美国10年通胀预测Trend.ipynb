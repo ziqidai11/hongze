{
 "cells": [
  {
   "cell_type": "code",
   "execution_count": 1,
   "metadata": {
    "execution": {
     "iopub.execute_input": "2025-10-29T07:26:53.091103Z",
     "iopub.status.busy": "2025-10-29T07:26:53.090817Z",
     "iopub.status.idle": "2025-10-29T07:26:53.932500Z",
     "shell.execute_reply": "2025-10-29T07:26:53.931829Z"
    }
   },
   "outputs": [],
   "source": [
    "import pandas as pd\n",
    "import numpy as np\n",
    "import matplotlib.pyplot as plt"
   ]
  },
  {
   "cell_type": "code",
   "execution_count": 2,
   "metadata": {
    "execution": {
     "iopub.execute_input": "2025-10-29T07:26:53.936037Z",
     "iopub.status.busy": "2025-10-29T07:26:53.935241Z",
     "iopub.status.idle": "2025-10-29T07:26:53.940278Z",
     "shell.execute_reply": "2025-10-29T07:26:53.939183Z"
    }
   },
   "outputs": [],
   "source": [
    "plt.rcParams['font.sans-serif'] = ['SimHei']  \n",
    "plt.rcParams['axes.unicode_minus'] = False "
   ]
  },
  {
   "cell_type": "code",
   "execution_count": 3,
   "metadata": {
    "execution": {
     "iopub.execute_input": "2025-10-29T07:26:53.942707Z",
     "iopub.status.busy": "2025-10-29T07:26:53.942355Z",
     "iopub.status.idle": "2025-10-29T07:26:54.900885Z",
     "shell.execute_reply": "2025-10-29T07:26:54.900337Z"
    }
   },
   "outputs": [],
   "source": [
    "# 获取当前文件所在目录的父目录\n",
    "import os\n",
    "import sys\n",
    "\n",
    "current_dir = os.getcwd()\n",
    "parent_dir = os.path.dirname(current_dir)\n",
    "\n",
    "if parent_dir not in sys.path:\n",
    "    sys.path.append(parent_dir)\n",
    "\n",
    "\n",
    "from Dtool import fill_missing_values, plot_factors_by_pattern, plot_comparison_multiple, reverse_column, plot_feature_importance,plot_predictions\n"
   ]
  },
  {
   "cell_type": "code",
   "execution_count": 4,
   "metadata": {
    "execution": {
     "iopub.execute_input": "2025-10-29T07:26:54.903479Z",
     "iopub.status.busy": "2025-10-29T07:26:54.902959Z",
     "iopub.status.idle": "2025-10-29T07:26:55.236745Z",
     "shell.execute_reply": "2025-10-29T07:26:55.236140Z"
    }
   },
   "outputs": [
    {
     "data": {
      "text/html": [
       "<div>\n",
       "<style scoped>\n",
       "    .dataframe tbody tr th:only-of-type {\n",
       "        vertical-align: middle;\n",
       "    }\n",
       "\n",
       "    .dataframe tbody tr th {\n",
       "        vertical-align: top;\n",
       "    }\n",
       "\n",
       "    .dataframe thead th {\n",
       "        text-align: right;\n",
       "    }\n",
       "</style>\n",
       "<table border=\"1\" class=\"dataframe\">\n",
       "  <thead>\n",
       "    <tr style=\"text-align: right;\">\n",
       "      <th></th>\n",
       "      <th>Date</th>\n",
       "      <th>美国10年通胀预期Trend/F0.1</th>\n",
       "      <th>美国10年通胀预期</th>\n",
       "    </tr>\n",
       "  </thead>\n",
       "  <tbody>\n",
       "    <tr>\n",
       "      <th>5726</th>\n",
       "      <td>2025-10-21</td>\n",
       "      <td>2.356774</td>\n",
       "      <td>2.28</td>\n",
       "    </tr>\n",
       "    <tr>\n",
       "      <th>5727</th>\n",
       "      <td>2025-10-22</td>\n",
       "      <td>2.357033</td>\n",
       "      <td>2.29</td>\n",
       "    </tr>\n",
       "    <tr>\n",
       "      <th>5728</th>\n",
       "      <td>2025-10-23</td>\n",
       "      <td>2.357292</td>\n",
       "      <td>2.30</td>\n",
       "    </tr>\n",
       "    <tr>\n",
       "      <th>5729</th>\n",
       "      <td>2025-10-24</td>\n",
       "      <td>2.357551</td>\n",
       "      <td>2.29</td>\n",
       "    </tr>\n",
       "    <tr>\n",
       "      <th>5730</th>\n",
       "      <td>2025-10-27</td>\n",
       "      <td>2.357810</td>\n",
       "      <td>2.28</td>\n",
       "    </tr>\n",
       "  </tbody>\n",
       "</table>\n",
       "</div>"
      ],
      "text/plain": [
       "           Date  美国10年通胀预期Trend/F0.1  美国10年通胀预期\n",
       "5726 2025-10-21             2.356774       2.28\n",
       "5727 2025-10-22             2.357033       2.29\n",
       "5728 2025-10-23             2.357292       2.30\n",
       "5729 2025-10-24             2.357551       2.29\n",
       "5730 2025-10-27             2.357810       2.28"
      ]
     },
     "execution_count": 4,
     "metadata": {},
     "output_type": "execute_result"
    }
   ],
   "source": [
    "######## 读取数据 ########\n",
    "sheet = pd.read_excel('data_input/美国10年通胀预期Trend_F0.1.xlsx', sheet_name='Sheet1').rename(columns={'DataTime': 'Date'})\n",
    "sheet.set_index('Date', inplace=True) \n",
    "sheet = sheet.reset_index().rename(columns={'index': 'Date'})\n",
    "sheet.tail()"
   ]
  },
  {
   "cell_type": "code",
   "execution_count": 5,
   "metadata": {
    "execution": {
     "iopub.execute_input": "2025-10-29T07:26:55.272114Z",
     "iopub.status.busy": "2025-10-29T07:26:55.271477Z",
     "iopub.status.idle": "2025-10-29T07:26:55.275756Z",
     "shell.execute_reply": "2025-10-29T07:26:55.275349Z"
    }
   },
   "outputs": [],
   "source": [
    "sheet = sheet.dropna()"
   ]
  },
  {
   "cell_type": "code",
   "execution_count": 6,
   "metadata": {
    "execution": {
     "iopub.execute_input": "2025-10-29T07:26:55.277774Z",
     "iopub.status.busy": "2025-10-29T07:26:55.277622Z",
     "iopub.status.idle": "2025-10-29T07:26:55.568480Z",
     "shell.execute_reply": "2025-10-29T07:26:55.567661Z"
    }
   },
   "outputs": [
    {
     "data": {
      "image/png": "[encoded data removed]",
      "text/plain": [
       "<Figure size 1500x600 with 1 Axes>"
      ]
     },
     "metadata": {},
     "output_type": "display_data"
    }
   ],
   "source": [
    "# 获取最后一个日期\n",
    "last_date = pd.to_datetime(sheet['Date'].iloc[-1])\n",
    "\n",
    "# 生成未来21个工作日\n",
    "future_dates = pd.date_range(start=last_date + pd.Timedelta(days=1), periods=30, freq='B')[:20]  # 使用'B'表示工作日,并取前21天\n",
    "\n",
    "# 获取最后21个历史值用于线性回归\n",
    "last_values = sheet['美国10年通胀预期Trend/F0.1'].tail(20).values\n",
    "x = np.arange(len(last_values))\n",
    "y = last_values.astype(float)  # 确保y值为浮点数类型\n",
    "\n",
    "# 进行线性回归\n",
    "z = np.polyfit(x, y, 1)\n",
    "p = np.poly1d(z)\n",
    "\n",
    "# 预测未来21个值\n",
    "future_x = np.arange(len(last_values), len(last_values) + len(future_dates))\n",
    "future_values = p(future_x)\n",
    "\n",
    "# 创建预测数据框\n",
    "future_df = pd.DataFrame({\n",
    "    'Date': future_dates,\n",
    "    '美国10年通胀预期Trend/F0.1': future_values\n",
    "})\n",
    "\n",
    "# 合并历史数据和预测数据\n",
    "sheet_with_predictions = pd.concat([sheet, future_df], ignore_index=True)\n",
    "\n",
    "# 筛选2020年之后的数据\n",
    "sheet_2020 = sheet[sheet['Date'] >= '2020-01-01']\n",
    "\n",
    "# 绘制结果\n",
    "plt.figure(figsize=(15, 6))\n",
    "plt.plot(sheet_2020['Date'], sheet_2020['美国10年通胀预期Trend/F0.1'], label='2020年后历史数据')\n",
    "plt.plot(future_df['Date'], future_df['美国10年通胀预期Trend/F0.1'], 'r--', label='预测数据')\n",
    "plt.title('美国10年通胀预期Trend/F0.1 预测 (2020年后)')\n",
    "plt.xlabel('日期')\n",
    "plt.ylabel('收益率')\n",
    "plt.legend()\n",
    "plt.grid(True)\n",
    "plt.xticks(rotation=45)\n",
    "plt.tight_layout()\n",
    "plt.show()\n"
   ]
  },
  {
   "cell_type": "code",
   "execution_count": 7,
   "metadata": {
    "execution": {
     "iopub.execute_input": "2025-10-29T07:26:55.571128Z",
     "iopub.status.busy": "2025-10-29T07:26:55.570964Z",
     "iopub.status.idle": "2025-10-29T07:26:55.621558Z",
     "shell.execute_reply": "2025-10-29T07:26:55.620931Z"
    }
   },
   "outputs": [
    {
     "data": {
      "text/html": [
       "<div>\n",
       "<style scoped>\n",
       "    .dataframe tbody tr th:only-of-type {\n",
       "        vertical-align: middle;\n",
       "    }\n",
       "\n",
       "    .dataframe tbody tr th {\n",
       "        vertical-align: top;\n",
       "    }\n",
       "\n",
       "    .dataframe thead th {\n",
       "        text-align: right;\n",
       "    }\n",
       "</style>\n",
       "<table border=\"1\" class=\"dataframe\">\n",
       "  <thead>\n",
       "    <tr style=\"text-align: right;\">\n",
       "      <th></th>\n",
       "      <th>Date</th>\n",
       "      <th>真实值</th>\n",
       "      <th>预测值</th>\n",
       "    </tr>\n",
       "  </thead>\n",
       "  <tbody>\n",
       "    <tr>\n",
       "      <th>0</th>\n",
       "      <td>2025/11/24</td>\n",
       "      <td>NaN</td>\n",
       "      <td>0.0139</td>\n",
       "    </tr>\n",
       "    <tr>\n",
       "      <th>1</th>\n",
       "      <td>2025/11/21</td>\n",
       "      <td>NaN</td>\n",
       "      <td>0.0212</td>\n",
       "    </tr>\n",
       "  </tbody>\n",
       "</table>\n",
       "</div>"
      ],
      "text/plain": [
       "         Date  真实值     预测值\n",
       "0  2025/11/24  NaN  0.0139\n",
       "1  2025/11/21  NaN  0.0212"
      ]
     },
     "execution_count": 7,
     "metadata": {},
     "output_type": "execute_result"
    }
   ],
   "source": [
    "########################   读取数据  #########################################\n",
    "sheet_non_trend = pd.read_excel('eta/美国10年通胀预期Non-Trend_F0.1_合并数据.xlsx', sheet_name='Sheet1')\n",
    "sheet_non_trend.head(2)"
   ]
  },
  {
   "cell_type": "code",
   "execution_count": 8,
   "metadata": {
    "execution": {
     "iopub.execute_input": "2025-10-29T07:26:55.624165Z",
     "iopub.status.busy": "2025-10-29T07:26:55.623800Z",
     "iopub.status.idle": "2025-10-29T07:26:55.637861Z",
     "shell.execute_reply": "2025-10-29T07:26:55.637340Z"
    }
   },
   "outputs": [
    {
     "data": {
      "text/html": [
       "<div>\n",
       "<style scoped>\n",
       "    .dataframe tbody tr th:only-of-type {\n",
       "        vertical-align: middle;\n",
       "    }\n",
       "\n",
       "    .dataframe tbody tr th {\n",
       "        vertical-align: top;\n",
       "    }\n",
       "\n",
       "    .dataframe thead th {\n",
       "        text-align: right;\n",
       "    }\n",
       "</style>\n",
       "<table border=\"1\" class=\"dataframe\">\n",
       "  <thead>\n",
       "    <tr style=\"text-align: right;\">\n",
       "      <th></th>\n",
       "      <th>Date</th>\n",
       "      <th>真实值</th>\n",
       "      <th>预测值</th>\n",
       "    </tr>\n",
       "  </thead>\n",
       "  <tbody>\n",
       "    <tr>\n",
       "      <th>0</th>\n",
       "      <td>2025-11-24</td>\n",
       "      <td>NaN</td>\n",
       "      <td>0.0139</td>\n",
       "    </tr>\n",
       "    <tr>\n",
       "      <th>1</th>\n",
       "      <td>2025-11-21</td>\n",
       "      <td>NaN</td>\n",
       "      <td>0.0212</td>\n",
       "    </tr>\n",
       "    <tr>\n",
       "      <th>2</th>\n",
       "      <td>2025-11-20</td>\n",
       "      <td>NaN</td>\n",
       "      <td>0.0221</td>\n",
       "    </tr>\n",
       "    <tr>\n",
       "      <th>3</th>\n",
       "      <td>2025-11-19</td>\n",
       "      <td>NaN</td>\n",
       "      <td>0.0241</td>\n",
       "    </tr>\n",
       "    <tr>\n",
       "      <th>4</th>\n",
       "      <td>2025-11-18</td>\n",
       "      <td>NaN</td>\n",
       "      <td>0.0211</td>\n",
       "    </tr>\n",
       "    <tr>\n",
       "      <th>...</th>\n",
       "      <td>...</td>\n",
       "      <td>...</td>\n",
       "      <td>...</td>\n",
       "    </tr>\n",
       "    <tr>\n",
       "      <th>681</th>\n",
       "      <td>2023-03-07</td>\n",
       "      <td>0.0493</td>\n",
       "      <td>NaN</td>\n",
       "    </tr>\n",
       "    <tr>\n",
       "      <th>682</th>\n",
       "      <td>2023-03-06</td>\n",
       "      <td>0.1587</td>\n",
       "      <td>NaN</td>\n",
       "    </tr>\n",
       "    <tr>\n",
       "      <th>683</th>\n",
       "      <td>2023-03-03</td>\n",
       "      <td>0.1880</td>\n",
       "      <td>NaN</td>\n",
       "    </tr>\n",
       "    <tr>\n",
       "      <th>684</th>\n",
       "      <td>2023-03-02</td>\n",
       "      <td>0.1474</td>\n",
       "      <td>NaN</td>\n",
       "    </tr>\n",
       "    <tr>\n",
       "      <th>685</th>\n",
       "      <td>2023-03-01</td>\n",
       "      <td>0.1067</td>\n",
       "      <td>NaN</td>\n",
       "    </tr>\n",
       "  </tbody>\n",
       "</table>\n",
       "<p>686 rows × 3 columns</p>\n",
       "</div>"
      ],
      "text/plain": [
       "          Date     真实值     预测值\n",
       "0   2025-11-24     NaN  0.0139\n",
       "1   2025-11-21     NaN  0.0212\n",
       "2   2025-11-20     NaN  0.0221\n",
       "3   2025-11-19     NaN  0.0241\n",
       "4   2025-11-18     NaN  0.0211\n",
       "..         ...     ...     ...\n",
       "681 2023-03-07  0.0493     NaN\n",
       "682 2023-03-06  0.1587     NaN\n",
       "683 2023-03-03  0.1880     NaN\n",
       "684 2023-03-02  0.1474     NaN\n",
       "685 2023-03-01  0.1067     NaN\n",
       "\n",
       "[686 rows x 3 columns]"
      ]
     },
     "execution_count": 8,
     "metadata": {},
     "output_type": "execute_result"
    }
   ],
   "source": [
    "# 将Date列转换为datetime64[ns]格式\n",
    "sheet_non_trend['Date'] = pd.to_datetime(sheet_non_trend['Date'])\n",
    "\n",
    "\n",
    "sheet_non_trend"
   ]
  },
  {
   "cell_type": "code",
   "execution_count": 9,
   "metadata": {
    "execution": {
     "iopub.execute_input": "2025-10-29T07:26:55.639966Z",
     "iopub.status.busy": "2025-10-29T07:26:55.639806Z",
     "iopub.status.idle": "2025-10-29T07:26:55.646382Z",
     "shell.execute_reply": "2025-10-29T07:26:55.645238Z"
    }
   },
   "outputs": [],
   "source": [
    "merged_df = pd.merge(\n",
    "    sheet_non_trend[['Date', '预测值']], \n",
    "    future_df[['Date', '美国10年通胀预期Trend/F0.1']], \n",
    "    on='Date',\n",
    "    how='outer'\n",
    ")"
   ]
  },
  {
   "cell_type": "code",
   "execution_count": 10,
   "metadata": {
    "execution": {
     "iopub.execute_input": "2025-10-29T07:26:55.648617Z",
     "iopub.status.busy": "2025-10-29T07:26:55.648447Z",
     "iopub.status.idle": "2025-10-29T07:26:55.655779Z",
     "shell.execute_reply": "2025-10-29T07:26:55.655204Z"
    }
   },
   "outputs": [
    {
     "data": {
      "text/html": [
       "<div>\n",
       "<style scoped>\n",
       "    .dataframe tbody tr th:only-of-type {\n",
       "        vertical-align: middle;\n",
       "    }\n",
       "\n",
       "    .dataframe tbody tr th {\n",
       "        vertical-align: top;\n",
       "    }\n",
       "\n",
       "    .dataframe thead th {\n",
       "        text-align: right;\n",
       "    }\n",
       "</style>\n",
       "<table border=\"1\" class=\"dataframe\">\n",
       "  <thead>\n",
       "    <tr style=\"text-align: right;\">\n",
       "      <th></th>\n",
       "      <th>Date</th>\n",
       "      <th>预测值</th>\n",
       "      <th>美国10年通胀预期Trend/F0.1</th>\n",
       "      <th>美国10年通胀预期</th>\n",
       "    </tr>\n",
       "  </thead>\n",
       "  <tbody>\n",
       "    <tr>\n",
       "      <th>666</th>\n",
       "      <td>2025-10-28</td>\n",
       "      <td>0.0230</td>\n",
       "      <td>2.358066</td>\n",
       "      <td>2.381066</td>\n",
       "    </tr>\n",
       "    <tr>\n",
       "      <th>667</th>\n",
       "      <td>2025-10-29</td>\n",
       "      <td>0.0213</td>\n",
       "      <td>2.358325</td>\n",
       "      <td>2.379625</td>\n",
       "    </tr>\n",
       "    <tr>\n",
       "      <th>668</th>\n",
       "      <td>2025-10-30</td>\n",
       "      <td>0.0243</td>\n",
       "      <td>2.358583</td>\n",
       "      <td>2.382883</td>\n",
       "    </tr>\n",
       "    <tr>\n",
       "      <th>669</th>\n",
       "      <td>2025-10-31</td>\n",
       "      <td>0.0245</td>\n",
       "      <td>2.358841</td>\n",
       "      <td>2.383341</td>\n",
       "    </tr>\n",
       "    <tr>\n",
       "      <th>670</th>\n",
       "      <td>2025-11-03</td>\n",
       "      <td>0.0251</td>\n",
       "      <td>2.359100</td>\n",
       "      <td>2.384200</td>\n",
       "    </tr>\n",
       "  </tbody>\n",
       "</table>\n",
       "</div>"
      ],
      "text/plain": [
       "          Date     预测值  美国10年通胀预期Trend/F0.1  美国10年通胀预期\n",
       "666 2025-10-28  0.0230             2.358066   2.381066\n",
       "667 2025-10-29  0.0213             2.358325   2.379625\n",
       "668 2025-10-30  0.0243             2.358583   2.382883\n",
       "669 2025-10-31  0.0245             2.358841   2.383341\n",
       "670 2025-11-03  0.0251             2.359100   2.384200"
      ]
     },
     "execution_count": 10,
     "metadata": {},
     "output_type": "execute_result"
    }
   ],
   "source": [
    "# 删除包含空值的行\n",
    "merged_df = merged_df.dropna()\n",
    "\n",
    "# 计算最终的\n",
    "merged_df['美国10年通胀预期'] = merged_df['预测值'] + merged_df['美国10年通胀预期Trend/F0.1']\n",
    "\n",
    "\n",
    "merged_df.head() "
   ]
  },
  {
   "cell_type": "markdown",
   "metadata": {},
   "source": [
    "---"
   ]
  },
  {
   "cell_type": "code",
   "execution_count": 11,
   "metadata": {
    "execution": {
     "iopub.execute_input": "2025-10-29T07:26:55.659003Z",
     "iopub.status.busy": "2025-10-29T07:26:55.658785Z",
     "iopub.status.idle": "2025-10-29T07:26:55.743882Z",
     "shell.execute_reply": "2025-10-29T07:26:55.742386Z"
    }
   },
   "outputs": [
    {
     "data": {
      "text/html": [
       "<div>\n",
       "<style scoped>\n",
       "    .dataframe tbody tr th:only-of-type {\n",
       "        vertical-align: middle;\n",
       "    }\n",
       "\n",
       "    .dataframe tbody tr th {\n",
       "        vertical-align: top;\n",
       "    }\n",
       "\n",
       "    .dataframe thead th {\n",
       "        text-align: right;\n",
       "    }\n",
       "</style>\n",
       "<table border=\"1\" class=\"dataframe\">\n",
       "  <thead>\n",
       "    <tr style=\"text-align: right;\">\n",
       "      <th></th>\n",
       "      <th>Date</th>\n",
       "      <th>实际值</th>\n",
       "      <th>美国10年通胀预期</th>\n",
       "    </tr>\n",
       "  </thead>\n",
       "  <tbody>\n",
       "    <tr>\n",
       "      <th>724</th>\n",
       "      <td>2025/11/24</td>\n",
       "      <td>NaN</td>\n",
       "      <td>2.376875</td>\n",
       "    </tr>\n",
       "    <tr>\n",
       "      <th>723</th>\n",
       "      <td>2025/11/21</td>\n",
       "      <td>NaN</td>\n",
       "      <td>2.383917</td>\n",
       "    </tr>\n",
       "    <tr>\n",
       "      <th>722</th>\n",
       "      <td>2025/11/20</td>\n",
       "      <td>NaN</td>\n",
       "      <td>2.384559</td>\n",
       "    </tr>\n",
       "    <tr>\n",
       "      <th>721</th>\n",
       "      <td>2025/11/19</td>\n",
       "      <td>NaN</td>\n",
       "      <td>2.386300</td>\n",
       "    </tr>\n",
       "    <tr>\n",
       "      <th>720</th>\n",
       "      <td>2025/11/18</td>\n",
       "      <td>NaN</td>\n",
       "      <td>2.383042</td>\n",
       "    </tr>\n",
       "  </tbody>\n",
       "</table>\n",
       "</div>"
      ],
      "text/plain": [
       "           Date  实际值  美国10年通胀预期\n",
       "724  2025/11/24  NaN   2.376875\n",
       "723  2025/11/21  NaN   2.383917\n",
       "722  2025/11/20  NaN   2.384559\n",
       "721  2025/11/19  NaN   2.386300\n",
       "720  2025/11/18  NaN   2.383042"
      ]
     },
     "execution_count": 11,
     "metadata": {},
     "output_type": "execute_result"
    }
   ],
   "source": [
    "sheet_data_2023_shizhi = sheet[sheet['Date'].dt.year >= 2023][['Date', '美国10年通胀预期']]\n",
    "sheet_data_2023_shizhi.columns = ['Date', '实际值']\n",
    "future_df_shizhi = merged_df[['Date', '美国10年通胀预期']]\n",
    "merged_df_shizhi = pd.merge(sheet_data_2023_shizhi, future_df_shizhi, on='Date', how='outer')\n",
    "\n",
    "# 获取最后一个有主焦煤价格/临汾值的行\n",
    "last_price_row = sheet_data_2023_shizhi.iloc[-1]\n",
    "last_price_date = pd.to_datetime(last_price_row['Date'])\n",
    "last_price = last_price_row['实际值']\n",
    "# 创建新行,日期为最后一个有值日期的后一天\n",
    "new_row = pd.DataFrame({\n",
    "    'Date': [last_price_date + pd.Timedelta(days=1)],\n",
    "    '实际值': [np.nan],\n",
    "    '美国10年通胀预期': [last_price]\n",
    "})\n",
    "# 将新行添加到forecast中\n",
    "merged_df_shizhi = pd.concat([new_row, merged_df_shizhi])\n",
    "\n",
    "\n",
    "merged_df_shizhi = merged_df_shizhi.sort_values('Date', ascending=False)\n",
    "merged_df_shizhi['Date'] = merged_df_shizhi['Date'].dt.strftime('%Y/%m/%d')\n",
    "merged_df_shizhi.to_excel('eta/美国10年通胀预期_合并数据.xlsx', index=False,float_format='%.2f')\n",
    "\n",
    "merged_df_shizhi.head()"
   ]
  },
  {
   "cell_type": "code",
   "execution_count": 12,
   "metadata": {
    "execution": {
     "iopub.execute_input": "2025-10-29T07:26:55.746346Z",
     "iopub.status.busy": "2025-10-29T07:26:55.746190Z",
     "iopub.status.idle": "2025-10-29T07:26:55.775321Z",
     "shell.execute_reply": "2025-10-29T07:26:55.774607Z"
    }
   },
   "outputs": [
    {
     "data": {
      "text/html": [
       "<div>\n",
       "<style scoped>\n",
       "    .dataframe tbody tr th:only-of-type {\n",
       "        vertical-align: middle;\n",
       "    }\n",
       "\n",
       "    .dataframe tbody tr th {\n",
       "        vertical-align: top;\n",
       "    }\n",
       "\n",
       "    .dataframe thead th {\n",
       "        text-align: right;\n",
       "    }\n",
       "</style>\n",
       "<table border=\"1\" class=\"dataframe\">\n",
       "  <thead>\n",
       "    <tr style=\"text-align: right;\">\n",
       "      <th></th>\n",
       "      <th>Date</th>\n",
       "      <th>实际值</th>\n",
       "      <th>美国10年通胀预期</th>\n",
       "    </tr>\n",
       "  </thead>\n",
       "  <tbody>\n",
       "    <tr>\n",
       "      <th>0</th>\n",
       "      <td>2025/11/30</td>\n",
       "      <td>NaN</td>\n",
       "      <td>2.376875</td>\n",
       "    </tr>\n",
       "    <tr>\n",
       "      <th>1</th>\n",
       "      <td>2025/10/31</td>\n",
       "      <td>2.28</td>\n",
       "      <td>2.383341</td>\n",
       "    </tr>\n",
       "  </tbody>\n",
       "</table>\n",
       "</div>"
      ],
      "text/plain": [
       "         Date   实际值  美国10年通胀预期\n",
       "0  2025/11/30   NaN   2.376875\n",
       "1  2025/10/31  2.28   2.383341"
      ]
     },
     "execution_count": 12,
     "metadata": {},
     "output_type": "execute_result"
    }
   ],
   "source": [
    "merged_df_shizhi['Date'] = pd.to_datetime(merged_df_shizhi['Date'])\n",
    "monthly_df_shizhi = merged_df_shizhi.set_index('Date').resample('ME').last()\n",
    "monthly_df_shizhi = monthly_df_shizhi.sort_values('Date', ascending=False)\n",
    "monthly_df_shizhi = monthly_df_shizhi.reset_index()\n",
    "monthly_df_shizhi['Date'] = monthly_df_shizhi['Date'].dt.strftime('%Y/%m/%d')\n",
    "monthly_df_shizhi.to_excel('eta/美国10年通胀预期_月度数据.xlsx', index=False, float_format='%.2f')\n",
    "monthly_df_shizhi.head(2)"
   ]
  },
  {
   "cell_type": "code",
   "execution_count": 13,
   "metadata": {
    "execution": {
     "iopub.execute_input": "2025-10-29T07:26:55.777942Z",
     "iopub.status.busy": "2025-10-29T07:26:55.777787Z",
     "iopub.status.idle": "2025-10-29T07:26:55.961040Z",
     "shell.execute_reply": "2025-10-29T07:26:55.960385Z"
    }
   },
   "outputs": [
    {
     "data": {
      "image/png": "[encoded data removed]",
      "text/plain": [
       "<Figure size 1500x600 with 1 Axes>"
      ]
     },
     "metadata": {},
     "output_type": "display_data"
    }
   ],
   "source": [
    "# 绘制最终走势图\n",
    "plt.figure(figsize=(15, 6))\n",
    "\n",
    "# 筛选2020年之后的数据\n",
    "merged_df_shizhi_2020 = merged_df_shizhi[merged_df_shizhi['Date'] >= '2023-01-01']\n",
    "\n",
    "# 绘制历史数据\n",
    "plt.plot(merged_df_shizhi_2020['Date'], merged_df_shizhi_2020['实际值'], label='历史走势', color='blue')\n",
    "\n",
    "# 添加垂直分隔线,标记历史数据和预测数据的分界点\n",
    "#last_historical_date = merged_df_shizhi_2020['Date'].iloc[-1]\n",
    "#plt.axvline(x=last_historical_date, color='gray', linestyle='--', label='历史/预测分界线')\n",
    "\n",
    "# 绘制预测数据\n",
    "plt.plot(merged_df_shizhi['Date'], merged_df_shizhi['美国10年通胀预期'], label='预测走势', color='red', linestyle='--')\n",
    "\n",
    "plt.title('美国10年通胀预期历史与预测对比')\n",
    "plt.xlabel('日期')\n",
    "plt.ylabel('美国10年通胀预期')\n",
    "plt.legend()\n",
    "plt.grid(True)\n",
    "plt.xticks(rotation=45)\n",
    "plt.tight_layout()\n",
    "plt.show()"
   ]
  },
  {
   "cell_type": "markdown",
   "metadata": {},
   "source": [
    "---"
   ]
  },
  {
   "cell_type": "code",
   "execution_count": 14,
   "metadata": {
    "execution": {
     "iopub.execute_input": "2025-10-29T07:26:55.963925Z",
     "iopub.status.busy": "2025-10-29T07:26:55.963516Z",
     "iopub.status.idle": "2025-10-29T07:26:56.069253Z",
     "shell.execute_reply": "2025-10-29T07:26:56.068565Z"
    }
   },
   "outputs": [],
   "source": [
    "sheet_data_2023 = sheet[sheet['Date'].dt.year >= 2023][['Date', '美国10年通胀预期Trend/F0.1']]\n",
    "sheet_data_2023.columns = ['Date', '实际值']\n",
    "merged_df_trend = pd.merge(sheet_data_2023, future_df, on='Date', how='outer')\n",
    "merged_df_trend = merged_df_trend.sort_values('Date', ascending=False)\n",
    "merged_df_trend['Date'] = merged_df_trend['Date'].dt.strftime('%Y/%m/%d')\n",
    "merged_df_trend.to_excel('eta/美国10年通胀预期Trend_F0.1_合并数据.xlsx', index=False,float_format='%.5f')\n",
    "\n",
    "# 将日期列转换为datetime格式\n",
    "merged_df_trend['Date'] = pd.to_datetime(merged_df_trend['Date'])\n",
    "monthly_df_trend = merged_df_trend.set_index('Date').resample('ME').last()\n",
    "monthly_df_trend = monthly_df_trend.sort_values('Date', ascending=False)\n",
    "monthly_df_trend = monthly_df_trend.reset_index()\n",
    "monthly_df_trend['Date'] = monthly_df_trend['Date'].dt.strftime('%Y/%m/%d')\n",
    "monthly_df_trend.to_excel('eta/美国10年通胀预期Trend_F0.1_月度数据.xlsx', index=False, float_format='%.5f')"
   ]
  },
  {
   "cell_type": "code",
   "execution_count": 15,
   "metadata": {
    "execution": {
     "iopub.execute_input": "2025-10-29T07:26:56.072163Z",
     "iopub.status.busy": "2025-10-29T07:26:56.071923Z",
     "iopub.status.idle": "2025-10-29T07:26:56.078634Z",
     "shell.execute_reply": "2025-10-29T07:26:56.077972Z"
    }
   },
   "outputs": [
    {
     "data": {
      "text/html": [
       "<div>\n",
       "<style scoped>\n",
       "    .dataframe tbody tr th:only-of-type {\n",
       "        vertical-align: middle;\n",
       "    }\n",
       "\n",
       "    .dataframe tbody tr th {\n",
       "        vertical-align: top;\n",
       "    }\n",
       "\n",
       "    .dataframe thead th {\n",
       "        text-align: right;\n",
       "    }\n",
       "</style>\n",
       "<table border=\"1\" class=\"dataframe\">\n",
       "  <thead>\n",
       "    <tr style=\"text-align: right;\">\n",
       "      <th></th>\n",
       "      <th>Date</th>\n",
       "      <th>实际值</th>\n",
       "      <th>美国10年通胀预期Trend/F0.1</th>\n",
       "    </tr>\n",
       "  </thead>\n",
       "  <tbody>\n",
       "    <tr>\n",
       "      <th>724</th>\n",
       "      <td>2025-11-24</td>\n",
       "      <td>NaN</td>\n",
       "      <td>2.362975</td>\n",
       "    </tr>\n",
       "    <tr>\n",
       "      <th>723</th>\n",
       "      <td>2025-11-21</td>\n",
       "      <td>NaN</td>\n",
       "      <td>2.362717</td>\n",
       "    </tr>\n",
       "    <tr>\n",
       "      <th>722</th>\n",
       "      <td>2025-11-20</td>\n",
       "      <td>NaN</td>\n",
       "      <td>2.362459</td>\n",
       "    </tr>\n",
       "    <tr>\n",
       "      <th>721</th>\n",
       "      <td>2025-11-19</td>\n",
       "      <td>NaN</td>\n",
       "      <td>2.362200</td>\n",
       "    </tr>\n",
       "    <tr>\n",
       "      <th>720</th>\n",
       "      <td>2025-11-18</td>\n",
       "      <td>NaN</td>\n",
       "      <td>2.361942</td>\n",
       "    </tr>\n",
       "  </tbody>\n",
       "</table>\n",
       "</div>"
      ],
      "text/plain": [
       "          Date  实际值  美国10年通胀预期Trend/F0.1\n",
       "724 2025-11-24  NaN             2.362975\n",
       "723 2025-11-21  NaN             2.362717\n",
       "722 2025-11-20  NaN             2.362459\n",
       "721 2025-11-19  NaN             2.362200\n",
       "720 2025-11-18  NaN             2.361942"
      ]
     },
     "execution_count": 15,
     "metadata": {},
     "output_type": "execute_result"
    }
   ],
   "source": [
    "merged_df_trend.head()"
   ]
  },
  {
   "cell_type": "markdown",
   "metadata": {},
   "source": [
    "---"
   ]
  },
  {
   "cell_type": "code",
   "execution_count": 16,
   "metadata": {
    "execution": {
     "iopub.execute_input": "2025-10-29T07:26:56.081604Z",
     "iopub.status.busy": "2025-10-29T07:26:56.081409Z",
     "iopub.status.idle": "2025-10-29T07:26:56.733996Z",
     "shell.execute_reply": "2025-10-29T07:26:56.732474Z"
    }
   },
   "outputs": [
    {
     "name": "stdout",
     "output_type": "stream",
     "text": [
      "成功更新 日度数据表 中的数据\n",
      "数据已成功更新到Excel文件\n"
     ]
    }
   ],
   "source": [
    "from Dcel import update_excel_data\n",
    "# 使用示例\n",
    "file_path = \"eta/1.宏观经济_数据上传.xlsx\"\n",
    "sheet_name = \"日度数据表\"\n",
    "identifier = \"美国10年通胀预期Trend/F0.1\"\n",
    "\n",
    "# 调用函数更新数据\n",
    "success = update_excel_data(merged_df_trend, file_path, sheet_name, identifier)\n",
    "\n",
    "if success:\n",
    "    print(\"数据已成功更新到Excel文件\")\n",
    "else:\n",
    "    print(\"数据更新失败，请检查错误信息\")"
   ]
  },
  {
   "cell_type": "code",
   "execution_count": 17,
   "metadata": {
    "execution": {
     "iopub.execute_input": "2025-10-29T07:26:56.737071Z",
     "iopub.status.busy": "2025-10-29T07:26:56.736912Z",
     "iopub.status.idle": "2025-10-29T07:26:57.342024Z",
     "shell.execute_reply": "2025-10-29T07:26:57.341253Z"
    }
   },
   "outputs": [
    {
     "name": "stdout",
     "output_type": "stream",
     "text": [
      "成功更新 日度数据表 中的数据\n",
      "数据已成功更新到Excel文件\n"
     ]
    }
   ],
   "source": [
    "from Dcel import update_excel_data\n",
    "# 使用示例\n",
    "file_path = \"eta/1.宏观经济_数据上传.xlsx\"\n",
    "sheet_name = \"日度数据表\"\n",
    "identifier = \"美国10年通胀预期\"\n",
    "\n",
    "# 调用函数更新数据\n",
    "success = update_excel_data(merged_df_shizhi, file_path, sheet_name, identifier)\n",
    "\n",
    "if success:\n",
    "    print(\"数据已成功更新到Excel文件\")\n",
    "else:\n",
    "    print(\"数据更新失败，请检查错误信息\")"
   ]
  },
  {
   "cell_type": "code",
   "execution_count": 18,
   "metadata": {
    "execution": {
     "iopub.execute_input": "2025-10-29T07:26:57.344201Z",
     "iopub.status.busy": "2025-10-29T07:26:57.344048Z",
     "iopub.status.idle": "2025-10-29T07:26:58.029854Z",
     "shell.execute_reply": "2025-10-29T07:26:58.028536Z"
    }
   },
   "outputs": [
    {
     "name": "stdout",
     "output_type": "stream",
     "text": [
      "数据过滤完成: 保留 23 条数据（2024/01/31 之后），按时间倒序排列\n"
     ]
    },
    {
     "name": "stdout",
     "output_type": "stream",
     "text": [
      "已完成：插入/更新数据，并重新计算'方向/偏差率' (protected_date = 2025/10/31, cutoff_date = 2024/01/31)\n",
      "数据已成功更新到Excel文件\n"
     ]
    }
   ],
   "source": [
    "from Lcel import update_excel_data\n",
    "# 使用示例\n",
    "file_path = \"eta/1.宏观经济_数据上传.xlsx\"\n",
    "sheet_name = \"详情页\"\n",
    "identifier = \"美国10年通胀预期Trend/F0.1\"\n",
    "\n",
    "# 调用函数更新数据\n",
    "success = update_excel_data(monthly_df_trend, file_path, sheet_name, identifier)\n",
    "\n",
    "if success:\n",
    "    print(\"数据已成功更新到Excel文件\")\n",
    "else:\n",
    "    print(\"数据更新失败，请检查错误信息\")"
   ]
  },
  {
   "cell_type": "code",
   "execution_count": 19,
   "metadata": {
    "execution": {
     "iopub.execute_input": "2025-10-29T07:26:58.033405Z",
     "iopub.status.busy": "2025-10-29T07:26:58.033248Z",
     "iopub.status.idle": "2025-10-29T07:26:58.704263Z",
     "shell.execute_reply": "2025-10-29T07:26:58.703416Z"
    }
   },
   "outputs": [
    {
     "name": "stdout",
     "output_type": "stream",
     "text": [
      "数据过滤完成: 保留 23 条数据（2024/01/31 之后），按时间倒序排列\n"
     ]
    },
    {
     "name": "stdout",
     "output_type": "stream",
     "text": [
      "已完成：插入/更新数据，并重新计算'方向/偏差率' (protected_date = 2025/10/31, cutoff_date = 2024/01/31)\n",
      "数据已成功更新到Excel文件\n"
     ]
    }
   ],
   "source": [
    "from Lcel import update_excel_data\n",
    "# 使用示例\n",
    "file_path = \"eta/1.宏观经济_数据上传.xlsx\"\n",
    "sheet_name = \"详情页\"\n",
    "identifier = \"美国10年通胀预期\"\n",
    "\n",
    "# 调用函数更新数据\n",
    "success = update_excel_data(monthly_df_shizhi, file_path, sheet_name, identifier)\n",
    "\n",
    "if success:\n",
    "    print(\"数据已成功更新到Excel文件\")\n",
    "else:\n",
    "    print(\"数据更新失败，请检查错误信息\")"
   ]
  },
  {
   "cell_type": "code",
   "execution_count": null,
   "metadata": {},
   "outputs": [],
   "source": []
  }
 ],
 "metadata": {
  "kernelspec": {
   "display_name": "myenv",
   "language": "python",
   "name": "python3"
  },
  "language_info": {
   "codemirror_mode": {
    "name": "ipython",
    "version": 3
   },
   "file_extension": ".py",
   "mimetype": "text/x-python",
   "name": "python",
   "nbconvert_exporter": "python",
   "pygments_lexer": "ipython3",
   "version": "3.13.0"
  }
 },
 "nbformat": 4,
 "nbformat_minor": 2
}
