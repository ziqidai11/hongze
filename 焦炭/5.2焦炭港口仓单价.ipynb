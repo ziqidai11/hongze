{
 "cells": [
  {
   "cell_type": "code",
   "execution_count": 1,
   "metadata": {
    "execution": {
     "iopub.execute_input": "2025-10-29T07:53:09.411207Z",
     "iopub.status.busy": "2025-10-29T07:53:09.410687Z",
     "iopub.status.idle": "2025-10-29T07:53:10.957379Z",
     "shell.execute_reply": "2025-10-29T07:53:10.956989Z"
    }
   },
   "outputs": [],
   "source": [
    "import pandas as pd\n",
    "import numpy as np\n",
    "import os\n",
    "import matplotlib.pyplot as plt\n",
    "from sklearn.linear_model import LinearRegression\n",
    "from sklearn.metrics import mean_squared_error, r2_score, mean_absolute_error\n",
    "import numpy as np\n"
   ]
  },
  {
   "cell_type": "code",
   "execution_count": 2,
   "metadata": {
    "execution": {
     "iopub.execute_input": "2025-10-29T07:53:10.959360Z",
     "iopub.status.busy": "2025-10-29T07:53:10.959135Z",
     "iopub.status.idle": "2025-10-29T07:53:10.961688Z",
     "shell.execute_reply": "2025-10-29T07:53:10.961328Z"
    }
   },
   "outputs": [],
   "source": [
    "# 设置字体为 SimHei（黑体），或者其他支持中文的字体\n",
    "plt.rcParams['font.sans-serif'] = ['SimHei']  # 设置字体\n",
    "plt.rcParams['axes.unicode_minus'] = False  # 正常显示负号"
   ]
  },
  {
   "cell_type": "code",
   "execution_count": 3,
   "metadata": {
    "execution": {
     "iopub.execute_input": "2025-10-29T07:53:10.963790Z",
     "iopub.status.busy": "2025-10-29T07:53:10.963639Z",
     "iopub.status.idle": "2025-10-29T07:53:11.180770Z",
     "shell.execute_reply": "2025-10-29T07:53:11.179685Z"
    }
   },
   "outputs": [],
   "source": [
    "# 获取当前文件所在目录的父目录\n",
    "import os\n",
    "import sys\n",
    "\n",
    "current_dir = os.getcwd()\n",
    "parent_dir = os.path.dirname(current_dir)\n",
    "\n",
    "if parent_dir not in sys.path:\n",
    "    sys.path.append(parent_dir)\n",
    "\n",
    "\n",
    "from Dtool import fill_missing_values, plot_factors_by_pattern, plot_comparison_multiple, reverse_column, plot_feature_importance,plot_predictions\n"
   ]
  },
  {
   "cell_type": "code",
   "execution_count": 4,
   "metadata": {
    "execution": {
     "iopub.execute_input": "2025-10-29T07:53:11.184620Z",
     "iopub.status.busy": "2025-10-29T07:53:11.184313Z",
     "iopub.status.idle": "2025-10-29T07:53:11.407188Z",
     "shell.execute_reply": "2025-10-29T07:53:11.406543Z"
    }
   },
   "outputs": [
    {
     "data": {
      "text/html": [
       "<div>\n",
       "<style scoped>\n",
       "    .dataframe tbody tr th:only-of-type {\n",
       "        vertical-align: middle;\n",
       "    }\n",
       "\n",
       "    .dataframe tbody tr th {\n",
       "        vertical-align: top;\n",
       "    }\n",
       "\n",
       "    .dataframe thead th {\n",
       "        text-align: right;\n",
       "    }\n",
       "</style>\n",
       "<table border=\"1\" class=\"dataframe\">\n",
       "  <thead>\n",
       "    <tr style=\"text-align: right;\">\n",
       "      <th></th>\n",
       "      <th>焦炭港口价格（准一级，日照）</th>\n",
       "      <th>焦炭港口仓单价</th>\n",
       "    </tr>\n",
       "  </thead>\n",
       "  <tbody>\n",
       "    <tr>\n",
       "      <th>2025-11-19</th>\n",
       "      <td>NaN</td>\n",
       "      <td>NaN</td>\n",
       "    </tr>\n",
       "    <tr>\n",
       "      <th>2025-11-20</th>\n",
       "      <td>NaN</td>\n",
       "      <td>NaN</td>\n",
       "    </tr>\n",
       "    <tr>\n",
       "      <th>2025-11-21</th>\n",
       "      <td>NaN</td>\n",
       "      <td>NaN</td>\n",
       "    </tr>\n",
       "    <tr>\n",
       "      <th>2025-11-24</th>\n",
       "      <td>NaN</td>\n",
       "      <td>NaN</td>\n",
       "    </tr>\n",
       "    <tr>\n",
       "      <th>2025-11-25</th>\n",
       "      <td>NaN</td>\n",
       "      <td>NaN</td>\n",
       "    </tr>\n",
       "  </tbody>\n",
       "</table>\n",
       "</div>"
      ],
      "text/plain": [
       "            焦炭港口价格（准一级，日照）  焦炭港口仓单价\n",
       "2025-11-19             NaN      NaN\n",
       "2025-11-20             NaN      NaN\n",
       "2025-11-21             NaN      NaN\n",
       "2025-11-24             NaN      NaN\n",
       "2025-11-25             NaN      NaN"
      ]
     },
     "execution_count": 4,
     "metadata": {},
     "output_type": "execute_result"
    }
   ],
   "source": [
    "sheet = pd.read_excel('data_input/焦炭港口仓单价.xlsx', sheet_name='Sheet1').rename(columns={'DataTime': 'Date'})\n",
    "sheet = sheet.set_index('Date')\n",
    "last_day = sheet['焦炭港口仓单价'].last_valid_index()\n",
    "\n",
    "future_data_30days = sheet[sheet.index > last_day]\n",
    "target_days = pd.date_range(start=last_day+ pd.DateOffset(1), periods=20, freq='B')\n",
    "target_end = target_days[-1]\n",
    "new_index = pd.date_range(start=last_day+ pd.DateOffset(1), end=target_end, freq='B')\n",
    "sheet = sheet.reindex(sheet.index.union(new_index))\n",
    "sheet = sheet[sheet.index <= target_end]\n",
    "\n",
    "sheet.tail()\n"
   ]
  },
  {
   "cell_type": "code",
   "execution_count": 5,
   "metadata": {
    "execution": {
     "iopub.execute_input": "2025-10-29T07:53:11.439420Z",
     "iopub.status.busy": "2025-10-29T07:53:11.438844Z",
     "iopub.status.idle": "2025-10-29T07:53:11.492955Z",
     "shell.execute_reply": "2025-10-29T07:53:11.492091Z"
    }
   },
   "outputs": [
    {
     "data": {
      "text/html": [
       "<div>\n",
       "<style scoped>\n",
       "    .dataframe tbody tr th:only-of-type {\n",
       "        vertical-align: middle;\n",
       "    }\n",
       "\n",
       "    .dataframe tbody tr th {\n",
       "        vertical-align: top;\n",
       "    }\n",
       "\n",
       "    .dataframe thead th {\n",
       "        text-align: right;\n",
       "    }\n",
       "</style>\n",
       "<table border=\"1\" class=\"dataframe\">\n",
       "  <thead>\n",
       "    <tr style=\"text-align: right;\">\n",
       "      <th></th>\n",
       "      <th>Date</th>\n",
       "      <th>焦炭港口价格（准一级，日照）_预测</th>\n",
       "    </tr>\n",
       "  </thead>\n",
       "  <tbody>\n",
       "    <tr>\n",
       "      <th>4</th>\n",
       "      <td>2025-11-19</td>\n",
       "      <td>1724.011888</td>\n",
       "    </tr>\n",
       "    <tr>\n",
       "      <th>3</th>\n",
       "      <td>2025-11-20</td>\n",
       "      <td>1726.642962</td>\n",
       "    </tr>\n",
       "    <tr>\n",
       "      <th>2</th>\n",
       "      <td>2025-11-21</td>\n",
       "      <td>1729.274037</td>\n",
       "    </tr>\n",
       "    <tr>\n",
       "      <th>1</th>\n",
       "      <td>2025-11-24</td>\n",
       "      <td>1729.274037</td>\n",
       "    </tr>\n",
       "    <tr>\n",
       "      <th>0</th>\n",
       "      <td>2025-11-25</td>\n",
       "      <td>1729.274037</td>\n",
       "    </tr>\n",
       "  </tbody>\n",
       "</table>\n",
       "</div>"
      ],
      "text/plain": [
       "        Date  焦炭港口价格（准一级，日照）_预测\n",
       "4 2025-11-19        1724.011888\n",
       "3 2025-11-20        1726.642962\n",
       "2 2025-11-21        1729.274037\n",
       "1 2025-11-24        1729.274037\n",
       "0 2025-11-25        1729.274037"
      ]
     },
     "execution_count": 5,
     "metadata": {},
     "output_type": "execute_result"
    }
   ],
   "source": [
    "file_path1 = os.path.expanduser(\"eta/焦炭港口价格（准一级，日照）_合并数据.xlsx\") \n",
    "sheet1 = pd.ExcelFile(file_path1).parse('Sheet1')\n",
    "sheet1['Date'] = pd.to_datetime(sheet1['Date'], errors='coerce')\n",
    "sheet1 = sheet1.drop(columns=['焦炭港口价格（准一级，日照）'])\n",
    "sheet1 = sheet1.dropna()\n",
    "\n",
    "sheet1 = sheet1.sort_values('Date', ascending=True)\n",
    "sheet1.tail()"
   ]
  },
  {
   "cell_type": "code",
   "execution_count": 6,
   "metadata": {
    "execution": {
     "iopub.execute_input": "2025-10-29T07:53:11.495133Z",
     "iopub.status.busy": "2025-10-29T07:53:11.494697Z",
     "iopub.status.idle": "2025-10-29T07:53:11.506470Z",
     "shell.execute_reply": "2025-10-29T07:53:11.505782Z"
    }
   },
   "outputs": [
    {
     "data": {
      "text/html": [
       "<div>\n",
       "<style scoped>\n",
       "    .dataframe tbody tr th:only-of-type {\n",
       "        vertical-align: middle;\n",
       "    }\n",
       "\n",
       "    .dataframe tbody tr th {\n",
       "        vertical-align: top;\n",
       "    }\n",
       "\n",
       "    .dataframe thead th {\n",
       "        text-align: right;\n",
       "    }\n",
       "</style>\n",
       "<table border=\"1\" class=\"dataframe\">\n",
       "  <thead>\n",
       "    <tr style=\"text-align: right;\">\n",
       "      <th></th>\n",
       "      <th>Date</th>\n",
       "      <th>焦炭港口价格（准一级，日照）</th>\n",
       "      <th>焦炭港口仓单价</th>\n",
       "    </tr>\n",
       "  </thead>\n",
       "  <tbody>\n",
       "    <tr>\n",
       "      <th>1605</th>\n",
       "      <td>2025-11-12</td>\n",
       "      <td>1757.389572</td>\n",
       "      <td>NaN</td>\n",
       "    </tr>\n",
       "    <tr>\n",
       "      <th>1606</th>\n",
       "      <td>2025-11-13</td>\n",
       "      <td>1736.754118</td>\n",
       "      <td>NaN</td>\n",
       "    </tr>\n",
       "    <tr>\n",
       "      <th>1607</th>\n",
       "      <td>2025-11-14</td>\n",
       "      <td>1716.118665</td>\n",
       "      <td>NaN</td>\n",
       "    </tr>\n",
       "    <tr>\n",
       "      <th>1608</th>\n",
       "      <td>2025-11-17</td>\n",
       "      <td>1718.749739</td>\n",
       "      <td>NaN</td>\n",
       "    </tr>\n",
       "    <tr>\n",
       "      <th>1609</th>\n",
       "      <td>2025-11-18</td>\n",
       "      <td>1721.380813</td>\n",
       "      <td>NaN</td>\n",
       "    </tr>\n",
       "    <tr>\n",
       "      <th>1610</th>\n",
       "      <td>2025-11-19</td>\n",
       "      <td>1724.011888</td>\n",
       "      <td>NaN</td>\n",
       "    </tr>\n",
       "    <tr>\n",
       "      <th>1611</th>\n",
       "      <td>2025-11-20</td>\n",
       "      <td>1726.642962</td>\n",
       "      <td>NaN</td>\n",
       "    </tr>\n",
       "    <tr>\n",
       "      <th>1612</th>\n",
       "      <td>2025-11-21</td>\n",
       "      <td>1729.274037</td>\n",
       "      <td>NaN</td>\n",
       "    </tr>\n",
       "    <tr>\n",
       "      <th>1613</th>\n",
       "      <td>2025-11-24</td>\n",
       "      <td>1729.274037</td>\n",
       "      <td>NaN</td>\n",
       "    </tr>\n",
       "    <tr>\n",
       "      <th>1614</th>\n",
       "      <td>2025-11-25</td>\n",
       "      <td>1729.274037</td>\n",
       "      <td>NaN</td>\n",
       "    </tr>\n",
       "  </tbody>\n",
       "</table>\n",
       "</div>"
      ],
      "text/plain": [
       "           Date  焦炭港口价格（准一级，日照）  焦炭港口仓单价\n",
       "1605 2025-11-12     1757.389572      NaN\n",
       "1606 2025-11-13     1736.754118      NaN\n",
       "1607 2025-11-14     1716.118665      NaN\n",
       "1608 2025-11-17     1718.749739      NaN\n",
       "1609 2025-11-18     1721.380813      NaN\n",
       "1610 2025-11-19     1724.011888      NaN\n",
       "1611 2025-11-20     1726.642962      NaN\n",
       "1612 2025-11-21     1729.274037      NaN\n",
       "1613 2025-11-24     1729.274037      NaN\n",
       "1614 2025-11-25     1729.274037      NaN"
      ]
     },
     "execution_count": 6,
     "metadata": {},
     "output_type": "execute_result"
    }
   ],
   "source": [
    "# 合并 sheet1 和 sheet2 的数据到 sheet\n",
    "sheet_daily = sheet.copy()\n",
    "sheet_daily.index.name = 'Date'\n",
    "sheet_daily = sheet_daily.reset_index()\n",
    "\n",
    "# 合并 sheet1 的美国10年通胀预期数据\n",
    "sheet_daily = pd.merge(\n",
    "    sheet_daily,\n",
    "    sheet1[['Date', '焦炭港口价格（准一级，日照）_预测']],\n",
    "    on='Date',\n",
    "    how='left'\n",
    ")\n",
    "sheet_daily['焦炭港口价格（准一级，日照）'] = sheet_daily['焦炭港口价格（准一级，日照）'].fillna(sheet_daily['焦炭港口价格（准一级，日照）_预测'])\n",
    "sheet_daily = sheet_daily.drop(columns=['焦炭港口价格（准一级，日照）_预测'])\n",
    "\n",
    "\n",
    "sheet_daily = sheet_daily[sheet_daily['Date'] >= pd.Timestamp('2023-06-01')]\n",
    "sheet_daily.tail(10)"
   ]
  },
  {
   "cell_type": "code",
   "execution_count": 7,
   "metadata": {
    "execution": {
     "iopub.execute_input": "2025-10-29T07:53:11.509376Z",
     "iopub.status.busy": "2025-10-29T07:53:11.509186Z",
     "iopub.status.idle": "2025-10-29T07:53:11.516019Z",
     "shell.execute_reply": "2025-10-29T07:53:11.515375Z"
    }
   },
   "outputs": [
    {
     "data": {
      "text/html": [
       "<div>\n",
       "<style scoped>\n",
       "    .dataframe tbody tr th:only-of-type {\n",
       "        vertical-align: middle;\n",
       "    }\n",
       "\n",
       "    .dataframe tbody tr th {\n",
       "        vertical-align: top;\n",
       "    }\n",
       "\n",
       "    .dataframe thead th {\n",
       "        text-align: right;\n",
       "    }\n",
       "</style>\n",
       "<table border=\"1\" class=\"dataframe\">\n",
       "  <thead>\n",
       "    <tr style=\"text-align: right;\">\n",
       "      <th></th>\n",
       "      <th>Date</th>\n",
       "      <th>焦炭港口价格（准一级，日照）</th>\n",
       "      <th>焦炭港口仓单价</th>\n",
       "      <th>焦炭港口仓单价_预测</th>\n",
       "    </tr>\n",
       "  </thead>\n",
       "  <tbody>\n",
       "    <tr>\n",
       "      <th>1610</th>\n",
       "      <td>2025-11-19</td>\n",
       "      <td>1724.011888</td>\n",
       "      <td>NaN</td>\n",
       "      <td>1832.270847</td>\n",
       "    </tr>\n",
       "    <tr>\n",
       "      <th>1611</th>\n",
       "      <td>2025-11-20</td>\n",
       "      <td>1726.642962</td>\n",
       "      <td>NaN</td>\n",
       "      <td>1835.099959</td>\n",
       "    </tr>\n",
       "    <tr>\n",
       "      <th>1612</th>\n",
       "      <td>2025-11-21</td>\n",
       "      <td>1729.274037</td>\n",
       "      <td>NaN</td>\n",
       "      <td>1837.929072</td>\n",
       "    </tr>\n",
       "    <tr>\n",
       "      <th>1613</th>\n",
       "      <td>2025-11-24</td>\n",
       "      <td>1729.274037</td>\n",
       "      <td>NaN</td>\n",
       "      <td>1837.929072</td>\n",
       "    </tr>\n",
       "    <tr>\n",
       "      <th>1614</th>\n",
       "      <td>2025-11-25</td>\n",
       "      <td>1729.274037</td>\n",
       "      <td>NaN</td>\n",
       "      <td>1837.929072</td>\n",
       "    </tr>\n",
       "  </tbody>\n",
       "</table>\n",
       "</div>"
      ],
      "text/plain": [
       "           Date  焦炭港口价格（准一级，日照）  焦炭港口仓单价   焦炭港口仓单价_预测\n",
       "1610 2025-11-19     1724.011888      NaN  1832.270847\n",
       "1611 2025-11-20     1726.642962      NaN  1835.099959\n",
       "1612 2025-11-21     1729.274037      NaN  1837.929072\n",
       "1613 2025-11-24     1729.274037      NaN  1837.929072\n",
       "1614 2025-11-25     1729.274037      NaN  1837.929072"
      ]
     },
     "execution_count": 7,
     "metadata": {},
     "output_type": "execute_result"
    }
   ],
   "source": [
    "# 添加新列 山东汽油裂解差_预测\n",
    "sheet_daily['焦炭港口仓单价_预测'] = (sheet_daily['焦炭港口价格（准一级，日照）'] - 20) / 0.93\n",
    "sheet_daily.tail()"
   ]
  },
  {
   "cell_type": "code",
   "execution_count": 8,
   "metadata": {
    "execution": {
     "iopub.execute_input": "2025-10-29T07:53:11.517841Z",
     "iopub.status.busy": "2025-10-29T07:53:11.517636Z",
     "iopub.status.idle": "2025-10-29T07:53:11.520797Z",
     "shell.execute_reply": "2025-10-29T07:53:11.520317Z"
    }
   },
   "outputs": [],
   "source": [
    "last_day = sheet_daily['Date'][sheet_daily['焦炭港口仓单价'].last_valid_index()]"
   ]
  },
  {
   "cell_type": "markdown",
   "metadata": {},
   "source": [
    "---"
   ]
  },
  {
   "cell_type": "code",
   "execution_count": 9,
   "metadata": {
    "execution": {
     "iopub.execute_input": "2025-10-29T07:53:11.522653Z",
     "iopub.status.busy": "2025-10-29T07:53:11.522492Z",
     "iopub.status.idle": "2025-10-29T07:53:11.595142Z",
     "shell.execute_reply": "2025-10-29T07:53:11.594492Z"
    }
   },
   "outputs": [
    {
     "data": {
      "text/html": [
       "<div>\n",
       "<style scoped>\n",
       "    .dataframe tbody tr th:only-of-type {\n",
       "        vertical-align: middle;\n",
       "    }\n",
       "\n",
       "    .dataframe tbody tr th {\n",
       "        vertical-align: top;\n",
       "    }\n",
       "\n",
       "    .dataframe thead th {\n",
       "        text-align: right;\n",
       "    }\n",
       "</style>\n",
       "<table border=\"1\" class=\"dataframe\">\n",
       "  <thead>\n",
       "    <tr style=\"text-align: right;\">\n",
       "      <th></th>\n",
       "      <th>Date</th>\n",
       "      <th>焦炭港口仓单价</th>\n",
       "      <th>焦炭港口仓单价_预测</th>\n",
       "    </tr>\n",
       "  </thead>\n",
       "  <tbody>\n",
       "    <tr>\n",
       "      <th>619</th>\n",
       "      <td>2025/11/25</td>\n",
       "      <td>NaN</td>\n",
       "      <td>1837.929072</td>\n",
       "    </tr>\n",
       "    <tr>\n",
       "      <th>618</th>\n",
       "      <td>2025/11/24</td>\n",
       "      <td>NaN</td>\n",
       "      <td>1837.929072</td>\n",
       "    </tr>\n",
       "    <tr>\n",
       "      <th>617</th>\n",
       "      <td>2025/11/21</td>\n",
       "      <td>NaN</td>\n",
       "      <td>1837.929072</td>\n",
       "    </tr>\n",
       "    <tr>\n",
       "      <th>616</th>\n",
       "      <td>2025/11/20</td>\n",
       "      <td>NaN</td>\n",
       "      <td>1835.099959</td>\n",
       "    </tr>\n",
       "    <tr>\n",
       "      <th>615</th>\n",
       "      <td>2025/11/19</td>\n",
       "      <td>NaN</td>\n",
       "      <td>1832.270847</td>\n",
       "    </tr>\n",
       "  </tbody>\n",
       "</table>\n",
       "</div>"
      ],
      "text/plain": [
       "           Date  焦炭港口仓单价   焦炭港口仓单价_预测\n",
       "619  2025/11/25      NaN  1837.929072\n",
       "618  2025/11/24      NaN  1837.929072\n",
       "617  2025/11/21      NaN  1837.929072\n",
       "616  2025/11/20      NaN  1835.099959\n",
       "615  2025/11/19      NaN  1832.270847"
      ]
     },
     "execution_count": 9,
     "metadata": {},
     "output_type": "execute_result"
    }
   ],
   "source": [
    "# 创建历史数据部分\n",
    "historical = sheet_daily[sheet_daily['Date'] <= last_day][['Date', '焦炭港口仓单价']]\n",
    "historical.columns = ['Date', '焦炭港口仓单价']\n",
    "\n",
    "# 创建预测数据部分 \n",
    "forecast = sheet_daily[sheet_daily['Date'] > last_day][['Date', '焦炭港口仓单价_预测']]\n",
    "forecast.columns = ['Date', '焦炭港口仓单价_预测']\n",
    "\n",
    "# 合并历史和预测数据\n",
    "merged_df_daily = pd.concat([historical, forecast], axis=0, join='outer')\n",
    "merged_df_daily = merged_df_daily.sort_values('Date').reset_index(drop=True)\n",
    "merged_df_daily = merged_df_daily.sort_values(by='Date', ascending=False)\n",
    "merged_df_daily['Date'] = merged_df_daily['Date'].dt.strftime('%Y/%m/%d')\n",
    "merged_df_daily.to_excel('eta/焦炭港口仓单价_合并数据.xlsx', index=False,float_format='%.6f')\n",
    "merged_df_daily.head()"
   ]
  },
  {
   "cell_type": "code",
   "execution_count": 10,
   "metadata": {
    "execution": {
     "iopub.execute_input": "2025-10-29T07:53:11.597573Z",
     "iopub.status.busy": "2025-10-29T07:53:11.597427Z",
     "iopub.status.idle": "2025-10-29T07:53:11.627390Z",
     "shell.execute_reply": "2025-10-29T07:53:11.626242Z"
    }
   },
   "outputs": [
    {
     "data": {
      "text/html": [
       "<div>\n",
       "<style scoped>\n",
       "    .dataframe tbody tr th:only-of-type {\n",
       "        vertical-align: middle;\n",
       "    }\n",
       "\n",
       "    .dataframe tbody tr th {\n",
       "        vertical-align: top;\n",
       "    }\n",
       "\n",
       "    .dataframe thead th {\n",
       "        text-align: right;\n",
       "    }\n",
       "</style>\n",
       "<table border=\"1\" class=\"dataframe\">\n",
       "  <thead>\n",
       "    <tr style=\"text-align: right;\">\n",
       "      <th></th>\n",
       "      <th>Date</th>\n",
       "      <th>焦炭港口仓单价</th>\n",
       "      <th>焦炭港口仓单价_预测</th>\n",
       "    </tr>\n",
       "  </thead>\n",
       "  <tbody>\n",
       "    <tr>\n",
       "      <th>29</th>\n",
       "      <td>2025/11/30</td>\n",
       "      <td>NaN</td>\n",
       "      <td>1882.122761</td>\n",
       "    </tr>\n",
       "    <tr>\n",
       "      <th>28</th>\n",
       "      <td>2025/10/31</td>\n",
       "      <td>1556.272400</td>\n",
       "      <td>1599.098795</td>\n",
       "    </tr>\n",
       "    <tr>\n",
       "      <th>27</th>\n",
       "      <td>2025/09/30</td>\n",
       "      <td>1538.101904</td>\n",
       "      <td>1538.101917</td>\n",
       "    </tr>\n",
       "    <tr>\n",
       "      <th>26</th>\n",
       "      <td>2025/08/31</td>\n",
       "      <td>1543.778814</td>\n",
       "      <td>1543.778802</td>\n",
       "    </tr>\n",
       "    <tr>\n",
       "      <th>25</th>\n",
       "      <td>2025/07/31</td>\n",
       "      <td>1372.136500</td>\n",
       "      <td>1372.136512</td>\n",
       "    </tr>\n",
       "  </tbody>\n",
       "</table>\n",
       "</div>"
      ],
      "text/plain": [
       "          Date      焦炭港口仓单价   焦炭港口仓单价_预测\n",
       "29  2025/11/30          NaN  1882.122761\n",
       "28  2025/10/31  1556.272400  1599.098795\n",
       "27  2025/09/30  1538.101904  1538.101917\n",
       "26  2025/08/31  1543.778814  1543.778802\n",
       "25  2025/07/31  1372.136500  1372.136512"
      ]
     },
     "execution_count": 10,
     "metadata": {},
     "output_type": "execute_result"
    }
   ],
   "source": [
    "# 创建历史数据部分\n",
    "historical_monthly = sheet_daily[sheet_daily['Date'] <= last_day][['Date', '焦炭港口仓单价']]\n",
    "historical_monthly.columns = ['Date', '焦炭港口仓单价']\n",
    "\n",
    "# 创建预测数据部分 \n",
    "forecast_monthly = sheet_daily[sheet_daily['Date'] >= pd.Timestamp('2024-10-01')][['Date', '焦炭港口仓单价_预测']]\n",
    "forecast_monthly.columns = ['Date', '焦炭港口仓单价_预测']\n",
    "\n",
    "merged_df_monthly = pd.merge(historical_monthly, forecast_monthly, on='Date', how='outer')\n",
    "merged_df_monthly.set_index('Date', inplace=True)\n",
    "merged_df_monthly = merged_df_monthly.resample('ME').mean()\n",
    "merged_df_monthly.reset_index(inplace=True)\n",
    "merged_df_monthly =merged_df_monthly.sort_values('Date', ascending=False)\n",
    "merged_df_monthly['Date'] = merged_df_monthly['Date'].dt.strftime('%Y/%m/%d')\n",
    "merged_df_monthly.to_excel('eta/焦炭港口仓单价_月度数据.xlsx', index=False,float_format= '%.4f')\n",
    "merged_df_monthly.head()"
   ]
  },
  {
   "cell_type": "code",
   "execution_count": 11,
   "metadata": {
    "execution": {
     "iopub.execute_input": "2025-10-29T07:53:11.630094Z",
     "iopub.status.busy": "2025-10-29T07:53:11.629939Z",
     "iopub.status.idle": "2025-10-29T07:53:11.922311Z",
     "shell.execute_reply": "2025-10-29T07:53:11.921903Z"
    }
   },
   "outputs": [
    {
     "data": {
      "image/png": "[encoded data removed]",
      "text/plain": [
       "<Figure size 3000x800 with 1 Axes>"
      ]
     },
     "metadata": {},
     "output_type": "display_data"
    }
   ],
   "source": [
    "# 设置图形大小\n",
    "plt.figure(figsize=(30, 8))\n",
    "\n",
    "merged_df_daily_plot = merged_df_daily.copy()\n",
    "merged_df_daily_plot['Date'] = pd.to_datetime(merged_df_daily_plot['Date'])\n",
    "\n",
    "# 绘制真实值曲线(蓝色)\n",
    "plt.plot(merged_df_daily_plot['Date'], merged_df_daily_plot['焦炭港口仓单价'], color='blue', label='真实值')\n",
    "plt.plot(merged_df_daily_plot['Date'], merged_df_daily_plot['焦炭港口仓单价_预测'], color='red', label='预测值')\n",
    "\n",
    "avline_date = pd.to_datetime(last_day)\n",
    "plt.axvline(x=avline_date, color='black', linestyle='--')\n",
    "\n",
    "# 设置图例\n",
    "plt.legend()\n",
    "\n",
    "# 设置标题和标签\n",
    "plt.title('焦炭港口仓单价')\n",
    "plt.xlabel('日期')\n",
    "plt.ylabel('值')\n",
    "plt.grid(True)\n",
    "plt.tight_layout()\n",
    "plt.show()"
   ]
  },
  {
   "cell_type": "markdown",
   "metadata": {},
   "source": [
    "---"
   ]
  },
  {
   "cell_type": "code",
   "execution_count": 12,
   "metadata": {
    "execution": {
     "iopub.execute_input": "2025-10-29T07:53:11.924226Z",
     "iopub.status.busy": "2025-10-29T07:53:11.924023Z",
     "iopub.status.idle": "2025-10-29T07:53:12.377722Z",
     "shell.execute_reply": "2025-10-29T07:53:12.377105Z"
    }
   },
   "outputs": [
    {
     "name": "stdout",
     "output_type": "stream",
     "text": [
      "成功更新 日度数据表 中的数据\n",
      "数据已成功更新到Excel文件\n"
     ]
    }
   ],
   "source": [
    "from Dcel import update_excel_data\n",
    "# 使用示例\n",
    "file_path = \"eta/1.焦炭_数据上传.xlsx\"\n",
    "sheet_name = \"日度数据表\"\n",
    "identifier = \"焦炭港口仓单价\"\n",
    "\n",
    "# 调用函数更新数据\n",
    "success = update_excel_data(merged_df_daily, file_path, sheet_name, identifier)\n",
    "\n",
    "if success:\n",
    "    print(\"数据已成功更新到Excel文件\")\n",
    "else:\n",
    "    print(\"数据更新失败，请检查错误信息\")"
   ]
  },
  {
   "cell_type": "code",
   "execution_count": 13,
   "metadata": {
    "execution": {
     "iopub.execute_input": "2025-10-29T07:53:12.380646Z",
     "iopub.status.busy": "2025-10-29T07:53:12.380490Z",
     "iopub.status.idle": "2025-10-29T07:53:12.732145Z",
     "shell.execute_reply": "2025-10-29T07:53:12.731238Z"
    }
   },
   "outputs": [
    {
     "name": "stdout",
     "output_type": "stream",
     "text": [
      "数据过滤完成: 保留 23 条数据（2024/01/31 之后），按时间倒序排列\n"
     ]
    },
    {
     "name": "stdout",
     "output_type": "stream",
     "text": [
      "已完成：插入/更新数据，并重新计算'方向/偏差率' (protected_date = 2025/10/31, cutoff_date = 2024/01/31)\n",
      "数据已成功更新到Excel文件\n"
     ]
    }
   ],
   "source": [
    "from Lcel import update_excel_data\n",
    "file_path = \"eta/1.焦炭_数据上传.xlsx\"\n",
    "sheet_name = \"详情页\"\n",
    "identifier = \"焦炭港口仓单价\"       # NEW: 新增日期标识符列的抬头\n",
    "# 调用函数更新数据\n",
    "success = update_excel_data(merged_df_monthly, file_path, sheet_name, identifier)\n",
    "\n",
    "if success:\n",
    "    print(\"数据已成功更新到Excel文件\")\n",
    "else:\n",
    "    print(\"数据更新失败，请检查错误信息\")"
   ]
  }
 ],
 "metadata": {
  "kernelspec": {
   "display_name": "myenv",
   "language": "python",
   "name": "python3"
  },
  "language_info": {
   "codemirror_mode": {
    "name": "ipython",
    "version": 3
   },
   "file_extension": ".py",
   "mimetype": "text/x-python",
   "name": "python",
   "nbconvert_exporter": "python",
   "pygments_lexer": "ipython3",
   "version": "3.13.0"
  }
 },
 "nbformat": 4,
 "nbformat_minor": 2
}
