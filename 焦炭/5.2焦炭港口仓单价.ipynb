{
 "cells": [
  {
   "cell_type": "code",
   "execution_count": 1,
   "metadata": {
    "execution": {
     "iopub.execute_input": "2025-10-25T02:50:40.548386Z",
     "iopub.status.busy": "2025-10-25T02:50:40.548386Z",
     "iopub.status.idle": "2025-10-25T02:50:41.218155Z",
     "shell.execute_reply": "2025-10-25T02:50:41.218155Z"
    }
   },
   "outputs": [],
   "source": [
    "import pandas as pd\n",
    "import numpy as np\n",
    "import os\n",
    "import matplotlib.pyplot as plt\n",
    "from sklearn.linear_model import LinearRegression\n",
    "from sklearn.metrics import mean_squared_error, r2_score, mean_absolute_error\n",
    "import numpy as np\n"
   ]
  },
  {
   "cell_type": "code",
   "execution_count": 2,
   "metadata": {
    "execution": {
     "iopub.execute_input": "2025-10-25T02:50:41.219669Z",
     "iopub.status.busy": "2025-10-25T02:50:41.219669Z",
     "iopub.status.idle": "2025-10-25T02:50:41.221475Z",
     "shell.execute_reply": "2025-10-25T02:50:41.221475Z"
    }
   },
   "outputs": [],
   "source": [
    "# 设置字体为 SimHei（黑体），或者其他支持中文的字体\n",
    "plt.rcParams['font.sans-serif'] = ['SimHei']  # 设置字体\n",
    "plt.rcParams['axes.unicode_minus'] = False  # 正常显示负号"
   ]
  },
  {
   "cell_type": "code",
   "execution_count": 3,
   "metadata": {
    "execution": {
     "iopub.execute_input": "2025-10-25T02:50:41.221981Z",
     "iopub.status.busy": "2025-10-25T02:50:41.221981Z",
     "iopub.status.idle": "2025-10-25T02:50:41.322468Z",
     "shell.execute_reply": "2025-10-25T02:50:41.322468Z"
    }
   },
   "outputs": [],
   "source": [
    "# 获取当前文件所在目录的父目录\n",
    "import os\n",
    "import sys\n",
    "\n",
    "current_dir = os.getcwd()\n",
    "parent_dir = os.path.dirname(current_dir)\n",
    "\n",
    "if parent_dir not in sys.path:\n",
    "    sys.path.append(parent_dir)\n",
    "\n",
    "\n",
    "from Dtool import fill_missing_values, plot_factors_by_pattern, plot_comparison_multiple, reverse_column, plot_feature_importance,plot_predictions\n"
   ]
  },
  {
   "cell_type": "code",
   "execution_count": 4,
   "metadata": {
    "execution": {
     "iopub.execute_input": "2025-10-25T02:50:41.323477Z",
     "iopub.status.busy": "2025-10-25T02:50:41.323477Z",
     "iopub.status.idle": "2025-10-25T02:50:41.456638Z",
     "shell.execute_reply": "2025-10-25T02:50:41.456638Z"
    }
   },
   "outputs": [
    {
     "data": {
      "text/html": [
       "<div>\n",
       "<style scoped>\n",
       "    .dataframe tbody tr th:only-of-type {\n",
       "        vertical-align: middle;\n",
       "    }\n",
       "\n",
       "    .dataframe tbody tr th {\n",
       "        vertical-align: top;\n",
       "    }\n",
       "\n",
       "    .dataframe thead th {\n",
       "        text-align: right;\n",
       "    }\n",
       "</style>\n",
       "<table border=\"1\" class=\"dataframe\">\n",
       "  <thead>\n",
       "    <tr style=\"text-align: right;\">\n",
       "      <th></th>\n",
       "      <th>焦炭港口价格（准一级，日照）</th>\n",
       "      <th>焦炭港口仓单价</th>\n",
       "    </tr>\n",
       "  </thead>\n",
       "  <tbody>\n",
       "    <tr>\n",
       "      <th>2025-11-17</th>\n",
       "      <td>NaN</td>\n",
       "      <td>NaN</td>\n",
       "    </tr>\n",
       "    <tr>\n",
       "      <th>2025-11-18</th>\n",
       "      <td>NaN</td>\n",
       "      <td>NaN</td>\n",
       "    </tr>\n",
       "    <tr>\n",
       "      <th>2025-11-19</th>\n",
       "      <td>NaN</td>\n",
       "      <td>NaN</td>\n",
       "    </tr>\n",
       "    <tr>\n",
       "      <th>2025-11-20</th>\n",
       "      <td>NaN</td>\n",
       "      <td>NaN</td>\n",
       "    </tr>\n",
       "    <tr>\n",
       "      <th>2025-11-21</th>\n",
       "      <td>NaN</td>\n",
       "      <td>NaN</td>\n",
       "    </tr>\n",
       "  </tbody>\n",
       "</table>\n",
       "</div>"
      ],
      "text/plain": [
       "            焦炭港口价格（准一级，日照）  焦炭港口仓单价\n",
       "2025-11-17             NaN      NaN\n",
       "2025-11-18             NaN      NaN\n",
       "2025-11-19             NaN      NaN\n",
       "2025-11-20             NaN      NaN\n",
       "2025-11-21             NaN      NaN"
      ]
     },
     "execution_count": 4,
     "metadata": {},
     "output_type": "execute_result"
    }
   ],
   "source": [
    "sheet = pd.read_excel('data_input/焦炭港口仓单价.xlsx', sheet_name='Sheet1').rename(columns={'DataTime': 'Date'})\n",
    "sheet = sheet.set_index('Date')\n",
    "last_day = sheet['焦炭港口仓单价'].last_valid_index()\n",
    "\n",
    "future_data_30days = sheet[sheet.index > last_day]\n",
    "target_days = pd.date_range(start=last_day+ pd.DateOffset(1), periods=20, freq='B')\n",
    "target_end = target_days[-1]\n",
    "new_index = pd.date_range(start=last_day+ pd.DateOffset(1), end=target_end, freq='B')\n",
    "sheet = sheet.reindex(sheet.index.union(new_index))\n",
    "sheet = sheet[sheet.index <= target_end]\n",
    "\n",
    "sheet.tail()\n"
   ]
  },
  {
   "cell_type": "code",
   "execution_count": 5,
   "metadata": {
    "execution": {
     "iopub.execute_input": "2025-10-25T02:50:41.473992Z",
     "iopub.status.busy": "2025-10-25T02:50:41.473992Z",
     "iopub.status.idle": "2025-10-25T02:50:41.494733Z",
     "shell.execute_reply": "2025-10-25T02:50:41.494733Z"
    }
   },
   "outputs": [
    {
     "data": {
      "text/html": [
       "<div>\n",
       "<style scoped>\n",
       "    .dataframe tbody tr th:only-of-type {\n",
       "        vertical-align: middle;\n",
       "    }\n",
       "\n",
       "    .dataframe tbody tr th {\n",
       "        vertical-align: top;\n",
       "    }\n",
       "\n",
       "    .dataframe thead th {\n",
       "        text-align: right;\n",
       "    }\n",
       "</style>\n",
       "<table border=\"1\" class=\"dataframe\">\n",
       "  <thead>\n",
       "    <tr style=\"text-align: right;\">\n",
       "      <th></th>\n",
       "      <th>Date</th>\n",
       "      <th>焦炭港口价格（准一级，日照）_预测</th>\n",
       "    </tr>\n",
       "  </thead>\n",
       "  <tbody>\n",
       "    <tr>\n",
       "      <th>4</th>\n",
       "      <td>2025-11-17</td>\n",
       "      <td>1386.271210</td>\n",
       "    </tr>\n",
       "    <tr>\n",
       "      <th>3</th>\n",
       "      <td>2025-11-18</td>\n",
       "      <td>1383.119921</td>\n",
       "    </tr>\n",
       "    <tr>\n",
       "      <th>2</th>\n",
       "      <td>2025-11-19</td>\n",
       "      <td>1379.968632</td>\n",
       "    </tr>\n",
       "    <tr>\n",
       "      <th>1</th>\n",
       "      <td>2025-11-20</td>\n",
       "      <td>1376.817342</td>\n",
       "    </tr>\n",
       "    <tr>\n",
       "      <th>0</th>\n",
       "      <td>2025-11-21</td>\n",
       "      <td>1373.666053</td>\n",
       "    </tr>\n",
       "  </tbody>\n",
       "</table>\n",
       "</div>"
      ],
      "text/plain": [
       "        Date  焦炭港口价格（准一级，日照）_预测\n",
       "4 2025-11-17        1386.271210\n",
       "3 2025-11-18        1383.119921\n",
       "2 2025-11-19        1379.968632\n",
       "1 2025-11-20        1376.817342\n",
       "0 2025-11-21        1373.666053"
      ]
     },
     "execution_count": 5,
     "metadata": {},
     "output_type": "execute_result"
    }
   ],
   "source": [
    "file_path1 = os.path.expanduser(\"eta/焦炭港口价格（准一级，日照）_合并数据.xlsx\") \n",
    "sheet1 = pd.ExcelFile(file_path1).parse('Sheet1')\n",
    "sheet1['Date'] = pd.to_datetime(sheet1['Date'], errors='coerce')\n",
    "sheet1 = sheet1.drop(columns=['焦炭港口价格（准一级，日照）'])\n",
    "sheet1 = sheet1.dropna()\n",
    "\n",
    "sheet1 = sheet1.sort_values('Date', ascending=True)\n",
    "sheet1.tail()"
   ]
  },
  {
   "cell_type": "code",
   "execution_count": 6,
   "metadata": {
    "execution": {
     "iopub.execute_input": "2025-10-25T02:50:41.495915Z",
     "iopub.status.busy": "2025-10-25T02:50:41.495915Z",
     "iopub.status.idle": "2025-10-25T02:50:41.502213Z",
     "shell.execute_reply": "2025-10-25T02:50:41.502213Z"
    }
   },
   "outputs": [
    {
     "data": {
      "text/html": [
       "<div>\n",
       "<style scoped>\n",
       "    .dataframe tbody tr th:only-of-type {\n",
       "        vertical-align: middle;\n",
       "    }\n",
       "\n",
       "    .dataframe tbody tr th {\n",
       "        vertical-align: top;\n",
       "    }\n",
       "\n",
       "    .dataframe thead th {\n",
       "        text-align: right;\n",
       "    }\n",
       "</style>\n",
       "<table border=\"1\" class=\"dataframe\">\n",
       "  <thead>\n",
       "    <tr style=\"text-align: right;\">\n",
       "      <th></th>\n",
       "      <th>Date</th>\n",
       "      <th>焦炭港口价格（准一级，日照）</th>\n",
       "      <th>焦炭港口仓单价</th>\n",
       "    </tr>\n",
       "  </thead>\n",
       "  <tbody>\n",
       "    <tr>\n",
       "      <th>1603</th>\n",
       "      <td>2025-11-10</td>\n",
       "      <td>1455.747897</td>\n",
       "      <td>NaN</td>\n",
       "    </tr>\n",
       "    <tr>\n",
       "      <th>1604</th>\n",
       "      <td>2025-11-11</td>\n",
       "      <td>1439.166548</td>\n",
       "      <td>NaN</td>\n",
       "    </tr>\n",
       "    <tr>\n",
       "      <th>1605</th>\n",
       "      <td>2025-11-12</td>\n",
       "      <td>1422.585199</td>\n",
       "      <td>NaN</td>\n",
       "    </tr>\n",
       "    <tr>\n",
       "      <th>1606</th>\n",
       "      <td>2025-11-13</td>\n",
       "      <td>1406.003849</td>\n",
       "      <td>NaN</td>\n",
       "    </tr>\n",
       "    <tr>\n",
       "      <th>1607</th>\n",
       "      <td>2025-11-14</td>\n",
       "      <td>1389.422500</td>\n",
       "      <td>NaN</td>\n",
       "    </tr>\n",
       "    <tr>\n",
       "      <th>1608</th>\n",
       "      <td>2025-11-17</td>\n",
       "      <td>1386.271210</td>\n",
       "      <td>NaN</td>\n",
       "    </tr>\n",
       "    <tr>\n",
       "      <th>1609</th>\n",
       "      <td>2025-11-18</td>\n",
       "      <td>1383.119921</td>\n",
       "      <td>NaN</td>\n",
       "    </tr>\n",
       "    <tr>\n",
       "      <th>1610</th>\n",
       "      <td>2025-11-19</td>\n",
       "      <td>1379.968632</td>\n",
       "      <td>NaN</td>\n",
       "    </tr>\n",
       "    <tr>\n",
       "      <th>1611</th>\n",
       "      <td>2025-11-20</td>\n",
       "      <td>1376.817342</td>\n",
       "      <td>NaN</td>\n",
       "    </tr>\n",
       "    <tr>\n",
       "      <th>1612</th>\n",
       "      <td>2025-11-21</td>\n",
       "      <td>1373.666053</td>\n",
       "      <td>NaN</td>\n",
       "    </tr>\n",
       "  </tbody>\n",
       "</table>\n",
       "</div>"
      ],
      "text/plain": [
       "           Date  焦炭港口价格（准一级，日照）  焦炭港口仓单价\n",
       "1603 2025-11-10     1455.747897      NaN\n",
       "1604 2025-11-11     1439.166548      NaN\n",
       "1605 2025-11-12     1422.585199      NaN\n",
       "1606 2025-11-13     1406.003849      NaN\n",
       "1607 2025-11-14     1389.422500      NaN\n",
       "1608 2025-11-17     1386.271210      NaN\n",
       "1609 2025-11-18     1383.119921      NaN\n",
       "1610 2025-11-19     1379.968632      NaN\n",
       "1611 2025-11-20     1376.817342      NaN\n",
       "1612 2025-11-21     1373.666053      NaN"
      ]
     },
     "execution_count": 6,
     "metadata": {},
     "output_type": "execute_result"
    }
   ],
   "source": [
    "# 合并 sheet1 和 sheet2 的数据到 sheet\n",
    "sheet_daily = sheet.copy()\n",
    "sheet_daily.index.name = 'Date'\n",
    "sheet_daily = sheet_daily.reset_index()\n",
    "\n",
    "# 合并 sheet1 的美国10年通胀预期数据\n",
    "sheet_daily = pd.merge(\n",
    "    sheet_daily,\n",
    "    sheet1[['Date', '焦炭港口价格（准一级，日照）_预测']],\n",
    "    on='Date',\n",
    "    how='left'\n",
    ")\n",
    "sheet_daily['焦炭港口价格（准一级，日照）'] = sheet_daily['焦炭港口价格（准一级，日照）'].fillna(sheet_daily['焦炭港口价格（准一级，日照）_预测'])\n",
    "sheet_daily = sheet_daily.drop(columns=['焦炭港口价格（准一级，日照）_预测'])\n",
    "\n",
    "\n",
    "sheet_daily = sheet_daily[sheet_daily['Date'] >= pd.Timestamp('2023-06-01')]\n",
    "sheet_daily.tail(10)"
   ]
  },
  {
   "cell_type": "code",
   "execution_count": 7,
   "metadata": {
    "execution": {
     "iopub.execute_input": "2025-10-25T02:50:41.503246Z",
     "iopub.status.busy": "2025-10-25T02:50:41.503246Z",
     "iopub.status.idle": "2025-10-25T02:50:41.507343Z",
     "shell.execute_reply": "2025-10-25T02:50:41.507343Z"
    }
   },
   "outputs": [
    {
     "data": {
      "text/html": [
       "<div>\n",
       "<style scoped>\n",
       "    .dataframe tbody tr th:only-of-type {\n",
       "        vertical-align: middle;\n",
       "    }\n",
       "\n",
       "    .dataframe tbody tr th {\n",
       "        vertical-align: top;\n",
       "    }\n",
       "\n",
       "    .dataframe thead th {\n",
       "        text-align: right;\n",
       "    }\n",
       "</style>\n",
       "<table border=\"1\" class=\"dataframe\">\n",
       "  <thead>\n",
       "    <tr style=\"text-align: right;\">\n",
       "      <th></th>\n",
       "      <th>Date</th>\n",
       "      <th>焦炭港口价格（准一级，日照）</th>\n",
       "      <th>焦炭港口仓单价</th>\n",
       "      <th>焦炭港口仓单价_预测</th>\n",
       "    </tr>\n",
       "  </thead>\n",
       "  <tbody>\n",
       "    <tr>\n",
       "      <th>1608</th>\n",
       "      <td>2025-11-17</td>\n",
       "      <td>1386.271210</td>\n",
       "      <td>NaN</td>\n",
       "      <td>1469.108828</td>\n",
       "    </tr>\n",
       "    <tr>\n",
       "      <th>1609</th>\n",
       "      <td>2025-11-18</td>\n",
       "      <td>1383.119921</td>\n",
       "      <td>NaN</td>\n",
       "      <td>1465.720345</td>\n",
       "    </tr>\n",
       "    <tr>\n",
       "      <th>1610</th>\n",
       "      <td>2025-11-19</td>\n",
       "      <td>1379.968632</td>\n",
       "      <td>NaN</td>\n",
       "      <td>1462.331862</td>\n",
       "    </tr>\n",
       "    <tr>\n",
       "      <th>1611</th>\n",
       "      <td>2025-11-20</td>\n",
       "      <td>1376.817342</td>\n",
       "      <td>NaN</td>\n",
       "      <td>1458.943378</td>\n",
       "    </tr>\n",
       "    <tr>\n",
       "      <th>1612</th>\n",
       "      <td>2025-11-21</td>\n",
       "      <td>1373.666053</td>\n",
       "      <td>NaN</td>\n",
       "      <td>1455.554896</td>\n",
       "    </tr>\n",
       "  </tbody>\n",
       "</table>\n",
       "</div>"
      ],
      "text/plain": [
       "           Date  焦炭港口价格（准一级，日照）  焦炭港口仓单价   焦炭港口仓单价_预测\n",
       "1608 2025-11-17     1386.271210      NaN  1469.108828\n",
       "1609 2025-11-18     1383.119921      NaN  1465.720345\n",
       "1610 2025-11-19     1379.968632      NaN  1462.331862\n",
       "1611 2025-11-20     1376.817342      NaN  1458.943378\n",
       "1612 2025-11-21     1373.666053      NaN  1455.554896"
      ]
     },
     "execution_count": 7,
     "metadata": {},
     "output_type": "execute_result"
    }
   ],
   "source": [
    "# 添加新列 山东汽油裂解差_预测\n",
    "sheet_daily['焦炭港口仓单价_预测'] = (sheet_daily['焦炭港口价格（准一级，日照）'] - 20) / 0.93\n",
    "sheet_daily.tail()"
   ]
  },
  {
   "cell_type": "code",
   "execution_count": 8,
   "metadata": {
    "execution": {
     "iopub.execute_input": "2025-10-25T02:50:41.508352Z",
     "iopub.status.busy": "2025-10-25T02:50:41.508352Z",
     "iopub.status.idle": "2025-10-25T02:50:41.510478Z",
     "shell.execute_reply": "2025-10-25T02:50:41.510478Z"
    }
   },
   "outputs": [],
   "source": [
    "last_day = sheet_daily['Date'][sheet_daily['焦炭港口仓单价'].last_valid_index()]"
   ]
  },
  {
   "cell_type": "markdown",
   "metadata": {},
   "source": [
    "---"
   ]
  },
  {
   "cell_type": "code",
   "execution_count": 9,
   "metadata": {
    "execution": {
     "iopub.execute_input": "2025-10-25T02:50:41.511489Z",
     "iopub.status.busy": "2025-10-25T02:50:41.511489Z",
     "iopub.status.idle": "2025-10-25T02:50:41.537355Z",
     "shell.execute_reply": "2025-10-25T02:50:41.537355Z"
    }
   },
   "outputs": [
    {
     "data": {
      "text/html": [
       "<div>\n",
       "<style scoped>\n",
       "    .dataframe tbody tr th:only-of-type {\n",
       "        vertical-align: middle;\n",
       "    }\n",
       "\n",
       "    .dataframe tbody tr th {\n",
       "        vertical-align: top;\n",
       "    }\n",
       "\n",
       "    .dataframe thead th {\n",
       "        text-align: right;\n",
       "    }\n",
       "</style>\n",
       "<table border=\"1\" class=\"dataframe\">\n",
       "  <thead>\n",
       "    <tr style=\"text-align: right;\">\n",
       "      <th></th>\n",
       "      <th>Date</th>\n",
       "      <th>焦炭港口仓单价</th>\n",
       "      <th>焦炭港口仓单价_预测</th>\n",
       "    </tr>\n",
       "  </thead>\n",
       "  <tbody>\n",
       "    <tr>\n",
       "      <th>617</th>\n",
       "      <td>2025/11/21</td>\n",
       "      <td>NaN</td>\n",
       "      <td>1455.554896</td>\n",
       "    </tr>\n",
       "    <tr>\n",
       "      <th>616</th>\n",
       "      <td>2025/11/20</td>\n",
       "      <td>NaN</td>\n",
       "      <td>1458.943378</td>\n",
       "    </tr>\n",
       "    <tr>\n",
       "      <th>615</th>\n",
       "      <td>2025/11/19</td>\n",
       "      <td>NaN</td>\n",
       "      <td>1462.331862</td>\n",
       "    </tr>\n",
       "    <tr>\n",
       "      <th>614</th>\n",
       "      <td>2025/11/18</td>\n",
       "      <td>NaN</td>\n",
       "      <td>1465.720345</td>\n",
       "    </tr>\n",
       "    <tr>\n",
       "      <th>613</th>\n",
       "      <td>2025/11/17</td>\n",
       "      <td>NaN</td>\n",
       "      <td>1469.108828</td>\n",
       "    </tr>\n",
       "  </tbody>\n",
       "</table>\n",
       "</div>"
      ],
      "text/plain": [
       "           Date  焦炭港口仓单价   焦炭港口仓单价_预测\n",
       "617  2025/11/21      NaN  1455.554896\n",
       "616  2025/11/20      NaN  1458.943378\n",
       "615  2025/11/19      NaN  1462.331862\n",
       "614  2025/11/18      NaN  1465.720345\n",
       "613  2025/11/17      NaN  1469.108828"
      ]
     },
     "execution_count": 9,
     "metadata": {},
     "output_type": "execute_result"
    }
   ],
   "source": [
    "# 创建历史数据部分\n",
    "historical = sheet_daily[sheet_daily['Date'] <= last_day][['Date', '焦炭港口仓单价']]\n",
    "historical.columns = ['Date', '焦炭港口仓单价']\n",
    "\n",
    "# 创建预测数据部分 \n",
    "forecast = sheet_daily[sheet_daily['Date'] > last_day][['Date', '焦炭港口仓单价_预测']]\n",
    "forecast.columns = ['Date', '焦炭港口仓单价_预测']\n",
    "\n",
    "# 合并历史和预测数据\n",
    "merged_df_daily = pd.concat([historical, forecast], axis=0, join='outer')\n",
    "merged_df_daily = merged_df_daily.sort_values('Date').reset_index(drop=True)\n",
    "merged_df_daily = merged_df_daily.sort_values(by='Date', ascending=False)\n",
    "merged_df_daily['Date'] = merged_df_daily['Date'].dt.strftime('%Y/%m/%d')\n",
    "merged_df_daily.to_excel('eta/焦炭港口仓单价_合并数据.xlsx', index=False,float_format='%.6f')\n",
    "merged_df_daily.head()"
   ]
  },
  {
   "cell_type": "code",
   "execution_count": 10,
   "metadata": {
    "execution": {
     "iopub.execute_input": "2025-10-25T02:50:41.538868Z",
     "iopub.status.busy": "2025-10-25T02:50:41.537860Z",
     "iopub.status.idle": "2025-10-25T02:50:41.550569Z",
     "shell.execute_reply": "2025-10-25T02:50:41.550569Z"
    }
   },
   "outputs": [
    {
     "data": {
      "text/html": [
       "<div>\n",
       "<style scoped>\n",
       "    .dataframe tbody tr th:only-of-type {\n",
       "        vertical-align: middle;\n",
       "    }\n",
       "\n",
       "    .dataframe tbody tr th {\n",
       "        vertical-align: top;\n",
       "    }\n",
       "\n",
       "    .dataframe thead th {\n",
       "        text-align: right;\n",
       "    }\n",
       "</style>\n",
       "<table border=\"1\" class=\"dataframe\">\n",
       "  <thead>\n",
       "    <tr style=\"text-align: right;\">\n",
       "      <th></th>\n",
       "      <th>Date</th>\n",
       "      <th>焦炭港口仓单价</th>\n",
       "      <th>焦炭港口仓单价_预测</th>\n",
       "    </tr>\n",
       "  </thead>\n",
       "  <tbody>\n",
       "    <tr>\n",
       "      <th>29</th>\n",
       "      <td>2025/11/30</td>\n",
       "      <td>NaN</td>\n",
       "      <td>1513.955674</td>\n",
       "    </tr>\n",
       "    <tr>\n",
       "      <th>28</th>\n",
       "      <td>2025/10/31</td>\n",
       "      <td>1545.905708</td>\n",
       "      <td>1561.374942</td>\n",
       "    </tr>\n",
       "    <tr>\n",
       "      <th>27</th>\n",
       "      <td>2025/09/30</td>\n",
       "      <td>1538.101904</td>\n",
       "      <td>1538.101917</td>\n",
       "    </tr>\n",
       "    <tr>\n",
       "      <th>26</th>\n",
       "      <td>2025/08/31</td>\n",
       "      <td>1543.778814</td>\n",
       "      <td>1543.778802</td>\n",
       "    </tr>\n",
       "    <tr>\n",
       "      <th>25</th>\n",
       "      <td>2025/07/31</td>\n",
       "      <td>1372.136500</td>\n",
       "      <td>1372.136512</td>\n",
       "    </tr>\n",
       "  </tbody>\n",
       "</table>\n",
       "</div>"
      ],
      "text/plain": [
       "          Date      焦炭港口仓单价   焦炭港口仓单价_预测\n",
       "29  2025/11/30          NaN  1513.955674\n",
       "28  2025/10/31  1545.905708  1561.374942\n",
       "27  2025/09/30  1538.101904  1538.101917\n",
       "26  2025/08/31  1543.778814  1543.778802\n",
       "25  2025/07/31  1372.136500  1372.136512"
      ]
     },
     "execution_count": 10,
     "metadata": {},
     "output_type": "execute_result"
    }
   ],
   "source": [
    "# 创建历史数据部分\n",
    "historical_monthly = sheet_daily[sheet_daily['Date'] <= last_day][['Date', '焦炭港口仓单价']]\n",
    "historical_monthly.columns = ['Date', '焦炭港口仓单价']\n",
    "\n",
    "# 创建预测数据部分 \n",
    "forecast_monthly = sheet_daily[sheet_daily['Date'] >= pd.Timestamp('2024-10-01')][['Date', '焦炭港口仓单价_预测']]\n",
    "forecast_monthly.columns = ['Date', '焦炭港口仓单价_预测']\n",
    "\n",
    "merged_df_monthly = pd.merge(historical_monthly, forecast_monthly, on='Date', how='outer')\n",
    "merged_df_monthly.set_index('Date', inplace=True)\n",
    "merged_df_monthly = merged_df_monthly.resample('ME').mean()\n",
    "merged_df_monthly.reset_index(inplace=True)\n",
    "merged_df_monthly =merged_df_monthly.sort_values('Date', ascending=False)\n",
    "merged_df_monthly['Date'] = merged_df_monthly['Date'].dt.strftime('%Y/%m/%d')\n",
    "merged_df_monthly.to_excel('eta/焦炭港口仓单价_月度数据.xlsx', index=False,float_format= '%.4f')\n",
    "merged_df_monthly.head()"
   ]
  },
  {
   "cell_type": "code",
   "execution_count": 11,
   "metadata": {
    "execution": {
     "iopub.execute_input": "2025-10-25T02:50:41.551074Z",
     "iopub.status.busy": "2025-10-25T02:50:41.551074Z",
     "iopub.status.idle": "2025-10-25T02:50:41.687297Z",
     "shell.execute_reply": "2025-10-25T02:50:41.687297Z"
    }
   },
   "outputs": [
    {
     "data": {
      "image/png": "[encoded data removed]",
      "text/plain": [
       "<Figure size 3000x800 with 1 Axes>"
      ]
     },
     "metadata": {},
     "output_type": "display_data"
    }
   ],
   "source": [
    "# 设置图形大小\n",
    "plt.figure(figsize=(30, 8))\n",
    "\n",
    "merged_df_daily_plot = merged_df_daily.copy()\n",
    "merged_df_daily_plot['Date'] = pd.to_datetime(merged_df_daily_plot['Date'])\n",
    "\n",
    "# 绘制真实值曲线(蓝色)\n",
    "plt.plot(merged_df_daily_plot['Date'], merged_df_daily_plot['焦炭港口仓单价'], color='blue', label='真实值')\n",
    "plt.plot(merged_df_daily_plot['Date'], merged_df_daily_plot['焦炭港口仓单价_预测'], color='red', label='预测值')\n",
    "\n",
    "avline_date = pd.to_datetime(last_day)\n",
    "plt.axvline(x=avline_date, color='black', linestyle='--')\n",
    "\n",
    "# 设置图例\n",
    "plt.legend()\n",
    "\n",
    "# 设置标题和标签\n",
    "plt.title('焦炭港口仓单价')\n",
    "plt.xlabel('日期')\n",
    "plt.ylabel('值')\n",
    "plt.grid(True)\n",
    "plt.tight_layout()\n",
    "plt.show()"
   ]
  },
  {
   "cell_type": "markdown",
   "metadata": {},
   "source": [
    "---"
   ]
  },
  {
   "cell_type": "code",
   "execution_count": 12,
   "metadata": {
    "execution": {
     "iopub.execute_input": "2025-10-25T02:50:41.688422Z",
     "iopub.status.busy": "2025-10-25T02:50:41.688422Z",
     "iopub.status.idle": "2025-10-25T02:50:41.880735Z",
     "shell.execute_reply": "2025-10-25T02:50:41.880229Z"
    }
   },
   "outputs": [
    {
     "name": "stdout",
     "output_type": "stream",
     "text": [
      "成功更新 日度数据表 中的数据\n",
      "数据已成功更新到Excel文件\n"
     ]
    }
   ],
   "source": [
    "from Dcel import update_excel_data\n",
    "# 使用示例\n",
    "file_path = \"eta/1.焦炭_数据上传.xlsx\"\n",
    "sheet_name = \"日度数据表\"\n",
    "identifier = \"焦炭港口仓单价\"\n",
    "\n",
    "# 调用函数更新数据\n",
    "success = update_excel_data(merged_df_daily, file_path, sheet_name, identifier)\n",
    "\n",
    "if success:\n",
    "    print(\"数据已成功更新到Excel文件\")\n",
    "else:\n",
    "    print(\"数据更新失败，请检查错误信息\")"
   ]
  },
  {
   "cell_type": "code",
   "execution_count": 13,
   "metadata": {
    "execution": {
     "iopub.execute_input": "2025-10-25T02:50:41.881742Z",
     "iopub.status.busy": "2025-10-25T02:50:41.881742Z",
     "iopub.status.idle": "2025-10-25T02:50:42.035151Z",
     "shell.execute_reply": "2025-10-25T02:50:42.034646Z"
    }
   },
   "outputs": [
    {
     "name": "stdout",
     "output_type": "stream",
     "text": [
      "数据过滤完成: 保留 23 条数据（2024/01/31 之后），按时间倒序排列\n",
      "已完成：插入/更新数据，并重新计算'方向/偏差率' (protected_date = 2025/10/31, cutoff_date = 2024/01/31)\n",
      "数据已成功更新到Excel文件\n"
     ]
    }
   ],
   "source": [
    "from Lcel import update_excel_data\n",
    "file_path = \"eta/1.焦炭_数据上传.xlsx\"\n",
    "sheet_name = \"详情页\"\n",
    "identifier = \"焦炭港口仓单价\"       # NEW: 新增日期标识符列的抬头\n",
    "# 调用函数更新数据\n",
    "success = update_excel_data(merged_df_monthly, file_path, sheet_name, identifier)\n",
    "\n",
    "if success:\n",
    "    print(\"数据已成功更新到Excel文件\")\n",
    "else:\n",
    "    print(\"数据更新失败，请检查错误信息\")"
   ]
  }
 ],
 "metadata": {
  "kernelspec": {
   "display_name": "base",
   "language": "python",
   "name": "python3"
  },
  "language_info": {
   "codemirror_mode": {
    "name": "ipython",
    "version": 3
   },
   "file_extension": ".py",
   "mimetype": "text/x-python",
   "name": "python",
   "nbconvert_exporter": "python",
   "pygments_lexer": "ipython3",
   "version": "3.12.4"
  }
 },
 "nbformat": 4,
 "nbformat_minor": 2
}
