{
 "cells": [
  {
   "cell_type": "code",
   "execution_count": 1,
   "metadata": {
    "execution": {
     "iopub.execute_input": "2025-10-25T02:48:33.151722Z",
     "iopub.status.busy": "2025-10-25T02:48:33.151722Z",
     "iopub.status.idle": "2025-10-25T02:48:33.470648Z",
     "shell.execute_reply": "2025-10-25T02:48:33.470648Z"
    }
   },
   "outputs": [],
   "source": [
    "import pandas as pd\n",
    "import numpy as np\n",
    "import matplotlib.pyplot as plt "
   ]
  },
  {
   "cell_type": "code",
   "execution_count": 2,
   "metadata": {
    "execution": {
     "iopub.execute_input": "2025-10-25T02:48:33.471154Z",
     "iopub.status.busy": "2025-10-25T02:48:33.471154Z",
     "iopub.status.idle": "2025-10-25T02:48:33.888295Z",
     "shell.execute_reply": "2025-10-25T02:48:33.888295Z"
    }
   },
   "outputs": [],
   "source": [
    "# 获取当前文件所在目录的父目录\n",
    "import os\n",
    "import sys\n",
    "\n",
    "current_dir = os.getcwd()\n",
    "parent_dir = os.path.dirname(current_dir)\n",
    "\n",
    "if parent_dir not in sys.path:\n",
    "    sys.path.append(parent_dir)\n",
    "\n",
    "\n",
    "from Dtool import fill_missing_values, plot_factors_by_pattern, plot_comparison_multiple, reverse_column, plot_feature_importance,plot_predictions\n"
   ]
  },
  {
   "cell_type": "code",
   "execution_count": 3,
   "metadata": {
    "execution": {
     "iopub.execute_input": "2025-10-25T02:48:33.890313Z",
     "iopub.status.busy": "2025-10-25T02:48:33.889304Z",
     "iopub.status.idle": "2025-10-25T02:48:33.891833Z",
     "shell.execute_reply": "2025-10-25T02:48:33.891833Z"
    }
   },
   "outputs": [],
   "source": [
    "# 设置字体为 SimHei（黑体），或者其他支持中文的字体\n",
    "plt.rcParams['font.sans-serif'] = ['SimHei']  # 设置字体\n",
    "plt.rcParams['axes.unicode_minus'] = False  # 正常显示负号"
   ]
  },
  {
   "cell_type": "code",
   "execution_count": 4,
   "metadata": {
    "execution": {
     "iopub.execute_input": "2025-10-25T02:48:33.892342Z",
     "iopub.status.busy": "2025-10-25T02:48:33.892342Z",
     "iopub.status.idle": "2025-10-25T02:48:33.994126Z",
     "shell.execute_reply": "2025-10-25T02:48:33.994126Z"
    }
   },
   "outputs": [],
   "source": [
    "sheet = pd.read_excel('data_input/氧化铝周度表需trend.xlsx', sheet_name='Sheet1').rename(columns={'DataTime': 'Date'})\n",
    "sheet = sheet.set_index('Date')\n",
    "sheet = sheet.reset_index().rename(columns={'index': 'Date'})"
   ]
  },
  {
   "cell_type": "code",
   "execution_count": 5,
   "metadata": {
    "execution": {
     "iopub.execute_input": "2025-10-25T02:48:33.995284Z",
     "iopub.status.busy": "2025-10-25T02:48:33.995284Z",
     "iopub.status.idle": "2025-10-25T02:48:34.001016Z",
     "shell.execute_reply": "2025-10-25T02:48:34.001016Z"
    }
   },
   "outputs": [
    {
     "data": {
      "text/html": [
       "<div>\n",
       "<style scoped>\n",
       "    .dataframe tbody tr th:only-of-type {\n",
       "        vertical-align: middle;\n",
       "    }\n",
       "\n",
       "    .dataframe tbody tr th {\n",
       "        vertical-align: top;\n",
       "    }\n",
       "\n",
       "    .dataframe thead th {\n",
       "        text-align: right;\n",
       "    }\n",
       "</style>\n",
       "<table border=\"1\" class=\"dataframe\">\n",
       "  <thead>\n",
       "    <tr style=\"text-align: right;\">\n",
       "      <th></th>\n",
       "      <th>Date</th>\n",
       "      <th>氧化铝周度表需/4WMA</th>\n",
       "      <th>氧化铝周度表需/4WMATrend/F0.2</th>\n",
       "    </tr>\n",
       "  </thead>\n",
       "  <tbody>\n",
       "    <tr>\n",
       "      <th>0</th>\n",
       "      <td>2021-12-10</td>\n",
       "      <td>137.437</td>\n",
       "      <td>132.995664</td>\n",
       "    </tr>\n",
       "    <tr>\n",
       "      <th>1</th>\n",
       "      <td>2021-12-17</td>\n",
       "      <td>137.437</td>\n",
       "      <td>133.305253</td>\n",
       "    </tr>\n",
       "    <tr>\n",
       "      <th>2</th>\n",
       "      <td>2021-12-24</td>\n",
       "      <td>137.437</td>\n",
       "      <td>133.628157</td>\n",
       "    </tr>\n",
       "    <tr>\n",
       "      <th>3</th>\n",
       "      <td>2021-12-31</td>\n",
       "      <td>137.402</td>\n",
       "      <td>133.964664</td>\n",
       "    </tr>\n",
       "    <tr>\n",
       "      <th>4</th>\n",
       "      <td>2022-01-07</td>\n",
       "      <td>137.367</td>\n",
       "      <td>134.314710</td>\n",
       "    </tr>\n",
       "    <tr>\n",
       "      <th>...</th>\n",
       "      <td>...</td>\n",
       "      <td>...</td>\n",
       "      <td>...</td>\n",
       "    </tr>\n",
       "    <tr>\n",
       "      <th>192</th>\n",
       "      <td>2025-09-26</td>\n",
       "      <td>179.675</td>\n",
       "      <td>180.096431</td>\n",
       "    </tr>\n",
       "    <tr>\n",
       "      <th>193</th>\n",
       "      <td>2025-10-03</td>\n",
       "      <td>180.875</td>\n",
       "      <td>180.709745</td>\n",
       "    </tr>\n",
       "    <tr>\n",
       "      <th>194</th>\n",
       "      <td>2025-10-10</td>\n",
       "      <td>181.900</td>\n",
       "      <td>181.326259</td>\n",
       "    </tr>\n",
       "    <tr>\n",
       "      <th>195</th>\n",
       "      <td>2025-10-17</td>\n",
       "      <td>181.525</td>\n",
       "      <td>181.945270</td>\n",
       "    </tr>\n",
       "    <tr>\n",
       "      <th>196</th>\n",
       "      <td>2025-10-24</td>\n",
       "      <td>181.525</td>\n",
       "      <td>182.566133</td>\n",
       "    </tr>\n",
       "  </tbody>\n",
       "</table>\n",
       "<p>197 rows × 3 columns</p>\n",
       "</div>"
      ],
      "text/plain": [
       "          Date  氧化铝周度表需/4WMA  氧化铝周度表需/4WMATrend/F0.2\n",
       "0   2021-12-10       137.437              132.995664\n",
       "1   2021-12-17       137.437              133.305253\n",
       "2   2021-12-24       137.437              133.628157\n",
       "3   2021-12-31       137.402              133.964664\n",
       "4   2022-01-07       137.367              134.314710\n",
       "..         ...           ...                     ...\n",
       "192 2025-09-26       179.675              180.096431\n",
       "193 2025-10-03       180.875              180.709745\n",
       "194 2025-10-10       181.900              181.326259\n",
       "195 2025-10-17       181.525              181.945270\n",
       "196 2025-10-24       181.525              182.566133\n",
       "\n",
       "[197 rows x 3 columns]"
      ]
     },
     "execution_count": 5,
     "metadata": {},
     "output_type": "execute_result"
    }
   ],
   "source": [
    "sheet"
   ]
  },
  {
   "cell_type": "code",
   "execution_count": 6,
   "metadata": {
    "execution": {
     "iopub.execute_input": "2025-10-25T02:48:34.020156Z",
     "iopub.status.busy": "2025-10-25T02:48:34.020156Z",
     "iopub.status.idle": "2025-10-25T02:48:34.123344Z",
     "shell.execute_reply": "2025-10-25T02:48:34.123344Z"
    }
   },
   "outputs": [
    {
     "data": {
      "image/png": "[encoded data removed]",
      "text/plain": [
       "<Figure size 1500x600 with 1 Axes>"
      ]
     },
     "metadata": {},
     "output_type": "display_data"
    }
   ],
   "source": [
    "sheet.dropna()\n",
    "# 获取最后一个日期\n",
    "last_date = pd.to_datetime(sheet['Date'].iloc[-1])\n",
    "\n",
    "# 生成未来30个工作日\n",
    "future_dates = pd.date_range(start=last_date + pd.Timedelta(days=1), periods=5, freq='W-FRI')  # 生成45天以确保获得30个工作日\n",
    "future_dates = future_dates[future_dates.dayofweek < 5][:5]  # 只保留工作日并取前30天\n",
    "\n",
    "# 获取最后30个历史值用于线性回归\n",
    "last_values = sheet['氧化铝周度表需/4WMATrend/F0.2'].tail(5).values\n",
    "x = np.arange(len(last_values))\n",
    "y = last_values\n",
    "\n",
    "# 进行线性回归\n",
    "z = np.polyfit(x, y, 1)\n",
    "p = np.poly1d(z)\n",
    "\n",
    "# 预测未来30个值\n",
    "future_x = np.arange(len(last_values), len(last_values) + 5)\n",
    "future_values = p(future_x)\n",
    "\n",
    "# 创建预测数据框\n",
    "future_df = pd.DataFrame({\n",
    "    'Date': future_dates,\n",
    "    '氧化铝周度表需/4WMATrend/F0.2': future_values\n",
    "})\n",
    "\n",
    "# 合并历史数据和预测数据\n",
    "sheet_with_predictions = pd.concat([sheet, future_df], ignore_index=True)\n",
    "# 筛选2020年之后的数据\n",
    "sheet_2020 = sheet[sheet['Date'] >= '2020-01-01']\n",
    "\n",
    "# 绘制结果\n",
    "plt.figure(figsize=(15, 6))\n",
    "plt.plot(sheet_2020['Date'], sheet_2020['氧化铝周度表需/4WMATrend/F0.2'], label='2020年后历史数据')\n",
    "plt.plot(future_df['Date'], future_df['氧化铝周度表需/4WMATrend/F0.2'], 'r--', label='预测数据')\n",
    "plt.title('氧化铝周度表需/4WMATrend/F0.2 预测 (2020年后)')\n",
    "plt.xlabel('日期')\n",
    "plt.legend()\n",
    "plt.grid(True)\n",
    "plt.xticks(rotation=45)\n",
    "plt.tight_layout()\n",
    "plt.show()\n"
   ]
  },
  {
   "cell_type": "code",
   "execution_count": 7,
   "metadata": {
    "execution": {
     "iopub.execute_input": "2025-10-25T02:48:34.124436Z",
     "iopub.status.busy": "2025-10-25T02:48:34.124436Z",
     "iopub.status.idle": "2025-10-25T02:48:34.138040Z",
     "shell.execute_reply": "2025-10-25T02:48:34.138040Z"
    }
   },
   "outputs": [
    {
     "data": {
      "text/html": [
       "<div>\n",
       "<style scoped>\n",
       "    .dataframe tbody tr th:only-of-type {\n",
       "        vertical-align: middle;\n",
       "    }\n",
       "\n",
       "    .dataframe tbody tr th {\n",
       "        vertical-align: top;\n",
       "    }\n",
       "\n",
       "    .dataframe thead th {\n",
       "        text-align: right;\n",
       "    }\n",
       "</style>\n",
       "<table border=\"1\" class=\"dataframe\">\n",
       "  <thead>\n",
       "    <tr style=\"text-align: right;\">\n",
       "      <th></th>\n",
       "      <th>Date</th>\n",
       "      <th>预测值</th>\n",
       "      <th>氧化铝周度表需/4WMATrend/F0.2</th>\n",
       "      <th>氧化铝周度表需/4WMA</th>\n",
       "    </tr>\n",
       "  </thead>\n",
       "  <tbody>\n",
       "    <tr>\n",
       "      <th>141</th>\n",
       "      <td>2025-10-31</td>\n",
       "      <td>-1.0</td>\n",
       "      <td>183.181247</td>\n",
       "      <td>182.181247</td>\n",
       "    </tr>\n",
       "    <tr>\n",
       "      <th>142</th>\n",
       "      <td>2025-11-07</td>\n",
       "      <td>-1.7</td>\n",
       "      <td>183.798740</td>\n",
       "      <td>182.098740</td>\n",
       "    </tr>\n",
       "    <tr>\n",
       "      <th>143</th>\n",
       "      <td>2025-11-14</td>\n",
       "      <td>-2.0</td>\n",
       "      <td>184.416233</td>\n",
       "      <td>182.416233</td>\n",
       "    </tr>\n",
       "    <tr>\n",
       "      <th>144</th>\n",
       "      <td>2025-11-21</td>\n",
       "      <td>-1.9</td>\n",
       "      <td>185.033726</td>\n",
       "      <td>183.133726</td>\n",
       "    </tr>\n",
       "    <tr>\n",
       "      <th>145</th>\n",
       "      <td>2025-11-28</td>\n",
       "      <td>-1.7</td>\n",
       "      <td>185.651218</td>\n",
       "      <td>183.951218</td>\n",
       "    </tr>\n",
       "  </tbody>\n",
       "</table>\n",
       "</div>"
      ],
      "text/plain": [
       "          Date  预测值  氧化铝周度表需/4WMATrend/F0.2  氧化铝周度表需/4WMA\n",
       "141 2025-10-31 -1.0              183.181247    182.181247\n",
       "142 2025-11-07 -1.7              183.798740    182.098740\n",
       "143 2025-11-14 -2.0              184.416233    182.416233\n",
       "144 2025-11-21 -1.9              185.033726    183.133726\n",
       "145 2025-11-28 -1.7              185.651218    183.951218"
      ]
     },
     "execution_count": 7,
     "metadata": {},
     "output_type": "execute_result"
    }
   ],
   "source": [
    "########################   读取数据  #########################################\n",
    "sheet_non_trend = pd.read_excel('eta/氧化铝周度表需Non-Trend_F0.2_合并数据.xlsx', sheet_name='Sheet1')\n",
    "sheet_non_trend['Date'] = pd.to_datetime(sheet_non_trend['Date'])\n",
    "# trend + non-trend \n",
    "merged_df = pd.merge(\n",
    "    sheet_non_trend[['Date', '预测值']], \n",
    "    future_df[['Date', '氧化铝周度表需/4WMATrend/F0.2']], \n",
    "    on='Date',\n",
    "    how='outer'\n",
    ")\n",
    "# 删除包含空值的行\n",
    "merged_df = merged_df.dropna()\n",
    "# 计算最终的\n",
    "merged_df['氧化铝周度表需/4WMA'] = merged_df['预测值'] + merged_df['氧化铝周度表需/4WMATrend/F0.2']\n",
    "merged_df.head() "
   ]
  },
  {
   "cell_type": "code",
   "execution_count": 8,
   "metadata": {
    "execution": {
     "iopub.execute_input": "2025-10-25T02:48:34.139050Z",
     "iopub.status.busy": "2025-10-25T02:48:34.139050Z",
     "iopub.status.idle": "2025-10-25T02:48:34.234727Z",
     "shell.execute_reply": "2025-10-25T02:48:34.234727Z"
    }
   },
   "outputs": [
    {
     "data": {
      "image/png": "[encoded data removed]",
      "text/plain": [
       "<Figure size 1500x600 with 1 Axes>"
      ]
     },
     "metadata": {},
     "output_type": "display_data"
    }
   ],
   "source": [
    "# 绘制最终走势图\n",
    "plt.figure(figsize=(15, 6))\n",
    "# 筛选2020年之后的数据\n",
    "sheet_2020 = sheet[sheet['Date'] >= '2024-01-01']\n",
    "# 绘制历史数据\n",
    "plt.plot(sheet_2020['Date'], sheet_2020['氧化铝周度表需/4WMA'], label='历史走势', color='blue')\n",
    "# 添加垂直分隔线,标记历史数据和预测数据的分界点\n",
    "last_historical_date = sheet_2020['Date'].iloc[-1]\n",
    "plt.axvline(x=last_historical_date, color='gray', linestyle='--', label='历史/预测分界线')\n",
    "# 绘制预测数据\n",
    "plt.plot(merged_df['Date'], merged_df['氧化铝周度表需/4WMA'], label='预测走势', color='red', linestyle='--')\n",
    "\n",
    "plt.title('氧化铝周度表需/4WMA 历史与预测对比')\n",
    "plt.xlabel('日期')\n",
    "plt.ylabel('价格')\n",
    "plt.legend()\n",
    "plt.grid(True)\n",
    "plt.xticks(rotation=45)\n",
    "plt.tight_layout()\n",
    "plt.show()\n"
   ]
  },
  {
   "cell_type": "code",
   "execution_count": 9,
   "metadata": {
    "execution": {
     "iopub.execute_input": "2025-10-25T02:48:34.236239Z",
     "iopub.status.busy": "2025-10-25T02:48:34.235232Z",
     "iopub.status.idle": "2025-10-25T02:48:34.251656Z",
     "shell.execute_reply": "2025-10-25T02:48:34.251656Z"
    }
   },
   "outputs": [
    {
     "data": {
      "text/html": [
       "<div>\n",
       "<style scoped>\n",
       "    .dataframe tbody tr th:only-of-type {\n",
       "        vertical-align: middle;\n",
       "    }\n",
       "\n",
       "    .dataframe tbody tr th {\n",
       "        vertical-align: top;\n",
       "    }\n",
       "\n",
       "    .dataframe thead th {\n",
       "        text-align: right;\n",
       "    }\n",
       "</style>\n",
       "<table border=\"1\" class=\"dataframe\">\n",
       "  <thead>\n",
       "    <tr style=\"text-align: right;\">\n",
       "      <th></th>\n",
       "      <th>Date</th>\n",
       "      <th>实际值</th>\n",
       "      <th>氧化铝周度表需/4WMA</th>\n",
       "    </tr>\n",
       "  </thead>\n",
       "  <tbody>\n",
       "    <tr>\n",
       "      <th>145</th>\n",
       "      <td>2025/11/28</td>\n",
       "      <td>NaN</td>\n",
       "      <td>183.951218</td>\n",
       "    </tr>\n",
       "    <tr>\n",
       "      <th>144</th>\n",
       "      <td>2025/11/21</td>\n",
       "      <td>NaN</td>\n",
       "      <td>183.133726</td>\n",
       "    </tr>\n",
       "    <tr>\n",
       "      <th>143</th>\n",
       "      <td>2025/11/14</td>\n",
       "      <td>NaN</td>\n",
       "      <td>182.416233</td>\n",
       "    </tr>\n",
       "    <tr>\n",
       "      <th>142</th>\n",
       "      <td>2025/11/07</td>\n",
       "      <td>NaN</td>\n",
       "      <td>182.098740</td>\n",
       "    </tr>\n",
       "    <tr>\n",
       "      <th>141</th>\n",
       "      <td>2025/10/31</td>\n",
       "      <td>NaN</td>\n",
       "      <td>182.181247</td>\n",
       "    </tr>\n",
       "    <tr>\n",
       "      <th>...</th>\n",
       "      <td>...</td>\n",
       "      <td>...</td>\n",
       "      <td>...</td>\n",
       "    </tr>\n",
       "    <tr>\n",
       "      <th>4</th>\n",
       "      <td>2023/02/03</td>\n",
       "      <td>142.5950</td>\n",
       "      <td>NaN</td>\n",
       "    </tr>\n",
       "    <tr>\n",
       "      <th>3</th>\n",
       "      <td>2023/01/27</td>\n",
       "      <td>143.1474</td>\n",
       "      <td>NaN</td>\n",
       "    </tr>\n",
       "    <tr>\n",
       "      <th>2</th>\n",
       "      <td>2023/01/20</td>\n",
       "      <td>143.5285</td>\n",
       "      <td>NaN</td>\n",
       "    </tr>\n",
       "    <tr>\n",
       "      <th>1</th>\n",
       "      <td>2023/01/13</td>\n",
       "      <td>143.2097</td>\n",
       "      <td>NaN</td>\n",
       "    </tr>\n",
       "    <tr>\n",
       "      <th>0</th>\n",
       "      <td>2023/01/06</td>\n",
       "      <td>144.9408</td>\n",
       "      <td>NaN</td>\n",
       "    </tr>\n",
       "  </tbody>\n",
       "</table>\n",
       "<p>146 rows × 3 columns</p>\n",
       "</div>"
      ],
      "text/plain": [
       "           Date       实际值  氧化铝周度表需/4WMA\n",
       "145  2025/11/28       NaN    183.951218\n",
       "144  2025/11/21       NaN    183.133726\n",
       "143  2025/11/14       NaN    182.416233\n",
       "142  2025/11/07       NaN    182.098740\n",
       "141  2025/10/31       NaN    182.181247\n",
       "..          ...       ...           ...\n",
       "4    2023/02/03  142.5950           NaN\n",
       "3    2023/01/27  143.1474           NaN\n",
       "2    2023/01/20  143.5285           NaN\n",
       "1    2023/01/13  143.2097           NaN\n",
       "0    2023/01/06  144.9408           NaN\n",
       "\n",
       "[146 rows x 3 columns]"
      ]
     },
     "execution_count": 9,
     "metadata": {},
     "output_type": "execute_result"
    }
   ],
   "source": [
    "sheet_data_2023_shizhi = sheet[sheet['Date'].dt.year >= 2023][['Date', '氧化铝周度表需/4WMA']]\n",
    "sheet_data_2023_shizhi.columns = ['Date', '实际值']\n",
    "future_df_shizhi = merged_df[['Date', '氧化铝周度表需/4WMA']]\n",
    "merged_df_shizhi = pd.merge(sheet_data_2023_shizhi, future_df_shizhi, on='Date', how='outer')\n",
    "merged_df_shizhi = merged_df_shizhi.sort_values('Date', ascending=False)\n",
    "merged_df_shizhi['Date'] = merged_df_shizhi['Date'].dt.strftime('%Y/%m/%d')\n",
    "merged_df_shizhi.to_excel('eta/氧化铝周度表需_合并数据.xlsx', index=False,float_format='%.2f')\n",
    "merged_df_shizhi"
   ]
  },
  {
   "cell_type": "code",
   "execution_count": 10,
   "metadata": {
    "execution": {
     "iopub.execute_input": "2025-10-25T02:48:34.252163Z",
     "iopub.status.busy": "2025-10-25T02:48:34.252163Z",
     "iopub.status.idle": "2025-10-25T02:48:34.263969Z",
     "shell.execute_reply": "2025-10-25T02:48:34.263969Z"
    }
   },
   "outputs": [
    {
     "data": {
      "text/html": [
       "<div>\n",
       "<style scoped>\n",
       "    .dataframe tbody tr th:only-of-type {\n",
       "        vertical-align: middle;\n",
       "    }\n",
       "\n",
       "    .dataframe tbody tr th {\n",
       "        vertical-align: top;\n",
       "    }\n",
       "\n",
       "    .dataframe thead th {\n",
       "        text-align: right;\n",
       "    }\n",
       "</style>\n",
       "<table border=\"1\" class=\"dataframe\">\n",
       "  <thead>\n",
       "    <tr style=\"text-align: right;\">\n",
       "      <th></th>\n",
       "      <th>Date</th>\n",
       "      <th>实际值</th>\n",
       "      <th>氧化铝周度表需/4WMA</th>\n",
       "    </tr>\n",
       "  </thead>\n",
       "  <tbody>\n",
       "    <tr>\n",
       "      <th>0</th>\n",
       "      <td>2025/11/30</td>\n",
       "      <td>NaN</td>\n",
       "      <td>183.951218</td>\n",
       "    </tr>\n",
       "    <tr>\n",
       "      <th>1</th>\n",
       "      <td>2025/10/31</td>\n",
       "      <td>181.525</td>\n",
       "      <td>182.181247</td>\n",
       "    </tr>\n",
       "    <tr>\n",
       "      <th>2</th>\n",
       "      <td>2025/09/30</td>\n",
       "      <td>179.675</td>\n",
       "      <td>NaN</td>\n",
       "    </tr>\n",
       "    <tr>\n",
       "      <th>3</th>\n",
       "      <td>2025/08/31</td>\n",
       "      <td>179.125</td>\n",
       "      <td>NaN</td>\n",
       "    </tr>\n",
       "    <tr>\n",
       "      <th>4</th>\n",
       "      <td>2025/07/31</td>\n",
       "      <td>175.325</td>\n",
       "      <td>NaN</td>\n",
       "    </tr>\n",
       "  </tbody>\n",
       "</table>\n",
       "</div>"
      ],
      "text/plain": [
       "         Date      实际值  氧化铝周度表需/4WMA\n",
       "0  2025/11/30      NaN    183.951218\n",
       "1  2025/10/31  181.525    182.181247\n",
       "2  2025/09/30  179.675           NaN\n",
       "3  2025/08/31  179.125           NaN\n",
       "4  2025/07/31  175.325           NaN"
      ]
     },
     "execution_count": 10,
     "metadata": {},
     "output_type": "execute_result"
    }
   ],
   "source": [
    "# 将日期列转换为datetime格式\n",
    "merged_df_shizhi['Date'] = pd.to_datetime(merged_df_shizhi['Date'])\n",
    "# 按月份重采样并取每月最后一个交易日的数据\n",
    "monthly_df_shizhi = merged_df_shizhi.set_index('Date').resample('ME').last()\n",
    "monthly_df_shizhi = monthly_df_shizhi.sort_values('Date', ascending=False)\n",
    "# 重置索引并格式化日期\n",
    "monthly_df_shizhi = monthly_df_shizhi.reset_index()\n",
    "monthly_df_shizhi['Date'] = monthly_df_shizhi['Date'].dt.strftime('%Y/%m/%d')\n",
    "# 保存月度数据到Excel\n",
    "monthly_df_shizhi.to_excel('eta/氧化铝周度表需_月度数据.xlsx', index=False, float_format='%.2f')\n",
    "monthly_df_shizhi.head()"
   ]
  },
  {
   "cell_type": "code",
   "execution_count": 11,
   "metadata": {
    "execution": {
     "iopub.execute_input": "2025-10-25T02:48:34.265488Z",
     "iopub.status.busy": "2025-10-25T02:48:34.264477Z",
     "iopub.status.idle": "2025-10-25T02:48:34.278397Z",
     "shell.execute_reply": "2025-10-25T02:48:34.278397Z"
    }
   },
   "outputs": [
    {
     "data": {
      "text/html": [
       "<div>\n",
       "<style scoped>\n",
       "    .dataframe tbody tr th:only-of-type {\n",
       "        vertical-align: middle;\n",
       "    }\n",
       "\n",
       "    .dataframe tbody tr th {\n",
       "        vertical-align: top;\n",
       "    }\n",
       "\n",
       "    .dataframe thead th {\n",
       "        text-align: right;\n",
       "    }\n",
       "</style>\n",
       "<table border=\"1\" class=\"dataframe\">\n",
       "  <thead>\n",
       "    <tr style=\"text-align: right;\">\n",
       "      <th></th>\n",
       "      <th>Date</th>\n",
       "      <th>实际值</th>\n",
       "      <th>氧化铝周度表需/4WMATrend/F0.2</th>\n",
       "    </tr>\n",
       "  </thead>\n",
       "  <tbody>\n",
       "    <tr>\n",
       "      <th>145</th>\n",
       "      <td>2025/11/28</td>\n",
       "      <td>NaN</td>\n",
       "      <td>185.651218</td>\n",
       "    </tr>\n",
       "    <tr>\n",
       "      <th>144</th>\n",
       "      <td>2025/11/21</td>\n",
       "      <td>NaN</td>\n",
       "      <td>185.033726</td>\n",
       "    </tr>\n",
       "    <tr>\n",
       "      <th>143</th>\n",
       "      <td>2025/11/14</td>\n",
       "      <td>NaN</td>\n",
       "      <td>184.416233</td>\n",
       "    </tr>\n",
       "    <tr>\n",
       "      <th>142</th>\n",
       "      <td>2025/11/07</td>\n",
       "      <td>NaN</td>\n",
       "      <td>183.798740</td>\n",
       "    </tr>\n",
       "    <tr>\n",
       "      <th>141</th>\n",
       "      <td>2025/10/31</td>\n",
       "      <td>NaN</td>\n",
       "      <td>183.181247</td>\n",
       "    </tr>\n",
       "    <tr>\n",
       "      <th>...</th>\n",
       "      <td>...</td>\n",
       "      <td>...</td>\n",
       "      <td>...</td>\n",
       "    </tr>\n",
       "    <tr>\n",
       "      <th>4</th>\n",
       "      <td>2023/02/03</td>\n",
       "      <td>149.642258</td>\n",
       "      <td>NaN</td>\n",
       "    </tr>\n",
       "    <tr>\n",
       "      <th>3</th>\n",
       "      <td>2023/01/27</td>\n",
       "      <td>149.581192</td>\n",
       "      <td>NaN</td>\n",
       "    </tr>\n",
       "    <tr>\n",
       "      <th>2</th>\n",
       "      <td>2023/01/20</td>\n",
       "      <td>149.534717</td>\n",
       "      <td>NaN</td>\n",
       "    </tr>\n",
       "    <tr>\n",
       "      <th>1</th>\n",
       "      <td>2023/01/13</td>\n",
       "      <td>149.499950</td>\n",
       "      <td>NaN</td>\n",
       "    </tr>\n",
       "    <tr>\n",
       "      <th>0</th>\n",
       "      <td>2023/01/06</td>\n",
       "      <td>149.476687</td>\n",
       "      <td>NaN</td>\n",
       "    </tr>\n",
       "  </tbody>\n",
       "</table>\n",
       "<p>146 rows × 3 columns</p>\n",
       "</div>"
      ],
      "text/plain": [
       "           Date         实际值  氧化铝周度表需/4WMATrend/F0.2\n",
       "145  2025/11/28         NaN              185.651218\n",
       "144  2025/11/21         NaN              185.033726\n",
       "143  2025/11/14         NaN              184.416233\n",
       "142  2025/11/07         NaN              183.798740\n",
       "141  2025/10/31         NaN              183.181247\n",
       "..          ...         ...                     ...\n",
       "4    2023/02/03  149.642258                     NaN\n",
       "3    2023/01/27  149.581192                     NaN\n",
       "2    2023/01/20  149.534717                     NaN\n",
       "1    2023/01/13  149.499950                     NaN\n",
       "0    2023/01/06  149.476687                     NaN\n",
       "\n",
       "[146 rows x 3 columns]"
      ]
     },
     "execution_count": 11,
     "metadata": {},
     "output_type": "execute_result"
    }
   ],
   "source": [
    "sheet_data_2023 = sheet[sheet['Date'].dt.year >= 2023][['Date', '氧化铝周度表需/4WMATrend/F0.2']]\n",
    "sheet_data_2023.columns = ['Date', '实际值']\n",
    "merged_df_trend = pd.merge(sheet_data_2023, future_df, on='Date', how='outer')\n",
    "merged_df_trend = merged_df_trend.sort_values('Date', ascending=False)\n",
    "merged_df_trend['Date'] = merged_df_trend['Date'].dt.strftime('%Y/%m/%d')\n",
    "merged_df_trend.to_excel('eta/氧化铝周度表需Trend-F0.2_合并数据.xlsx', index=False,float_format='%.2f')\n",
    "merged_df_trend"
   ]
  },
  {
   "cell_type": "code",
   "execution_count": 12,
   "metadata": {
    "execution": {
     "iopub.execute_input": "2025-10-25T02:48:34.278907Z",
     "iopub.status.busy": "2025-10-25T02:48:34.278907Z",
     "iopub.status.idle": "2025-10-25T02:48:34.290068Z",
     "shell.execute_reply": "2025-10-25T02:48:34.290068Z"
    }
   },
   "outputs": [
    {
     "data": {
      "text/html": [
       "<div>\n",
       "<style scoped>\n",
       "    .dataframe tbody tr th:only-of-type {\n",
       "        vertical-align: middle;\n",
       "    }\n",
       "\n",
       "    .dataframe tbody tr th {\n",
       "        vertical-align: top;\n",
       "    }\n",
       "\n",
       "    .dataframe thead th {\n",
       "        text-align: right;\n",
       "    }\n",
       "</style>\n",
       "<table border=\"1\" class=\"dataframe\">\n",
       "  <thead>\n",
       "    <tr style=\"text-align: right;\">\n",
       "      <th></th>\n",
       "      <th>Date</th>\n",
       "      <th>实际值</th>\n",
       "      <th>氧化铝周度表需/4WMATrend/F0.2</th>\n",
       "    </tr>\n",
       "  </thead>\n",
       "  <tbody>\n",
       "    <tr>\n",
       "      <th>0</th>\n",
       "      <td>2025/11/30</td>\n",
       "      <td>NaN</td>\n",
       "      <td>185.651218</td>\n",
       "    </tr>\n",
       "    <tr>\n",
       "      <th>1</th>\n",
       "      <td>2025/10/31</td>\n",
       "      <td>182.566133</td>\n",
       "      <td>183.181247</td>\n",
       "    </tr>\n",
       "    <tr>\n",
       "      <th>2</th>\n",
       "      <td>2025/09/30</td>\n",
       "      <td>180.096431</td>\n",
       "      <td>NaN</td>\n",
       "    </tr>\n",
       "    <tr>\n",
       "      <th>3</th>\n",
       "      <td>2025/08/31</td>\n",
       "      <td>177.692517</td>\n",
       "      <td>NaN</td>\n",
       "    </tr>\n",
       "    <tr>\n",
       "      <th>4</th>\n",
       "      <td>2025/07/31</td>\n",
       "      <td>174.878351</td>\n",
       "      <td>NaN</td>\n",
       "    </tr>\n",
       "  </tbody>\n",
       "</table>\n",
       "</div>"
      ],
      "text/plain": [
       "         Date         实际值  氧化铝周度表需/4WMATrend/F0.2\n",
       "0  2025/11/30         NaN              185.651218\n",
       "1  2025/10/31  182.566133              183.181247\n",
       "2  2025/09/30  180.096431                     NaN\n",
       "3  2025/08/31  177.692517                     NaN\n",
       "4  2025/07/31  174.878351                     NaN"
      ]
     },
     "execution_count": 12,
     "metadata": {},
     "output_type": "execute_result"
    }
   ],
   "source": [
    "# 将日期列转换为datetime格式\n",
    "merged_df_trend['Date'] = pd.to_datetime(merged_df_trend['Date'])\n",
    "# 按月份重采样并取每月最后一个交易日的数据\n",
    "monthly_df_trend = merged_df_trend.set_index('Date').resample('ME').last()\n",
    "monthly_df_trend = monthly_df_trend.sort_values('Date', ascending=False)\n",
    "# 重置索引并格式化日期\n",
    "monthly_df_trend = monthly_df_trend.reset_index()\n",
    "monthly_df_trend['Date'] = monthly_df_trend['Date'].dt.strftime('%Y/%m/%d')\n",
    "# 保存月度数据到Excel\n",
    "monthly_df_trend.to_excel('eta/氧化铝周度表需Trend-F0.2_月度数据.xlsx', index=False, float_format='%.4f')\n",
    "monthly_df_trend.head()"
   ]
  },
  {
   "cell_type": "markdown",
   "metadata": {},
   "source": [
    "---"
   ]
  },
  {
   "cell_type": "code",
   "execution_count": 13,
   "metadata": {
    "execution": {
     "iopub.execute_input": "2025-10-25T02:48:34.291081Z",
     "iopub.status.busy": "2025-10-25T02:48:34.291081Z",
     "iopub.status.idle": "2025-10-25T02:48:34.366557Z",
     "shell.execute_reply": "2025-10-25T02:48:34.366557Z"
    }
   },
   "outputs": [
    {
     "name": "stdout",
     "output_type": "stream",
     "text": [
      "成功更新 日度数据表 中的数据\n",
      "数据已成功更新到Excel文件\n"
     ]
    }
   ],
   "source": [
    "from Dcel import update_excel_data\n",
    "# 使用示例\n",
    "file_path = \"eta/1.铝_数据上传.xlsx\"\n",
    "sheet_name = \"日度数据表\"\n",
    "identifier = \"氧化铝周度表需/4WMATrend/F0.2\"\n",
    "\n",
    "# 调用函数更新数据\n",
    "success = update_excel_data(merged_df_trend, file_path, sheet_name, identifier)\n",
    "\n",
    "if success:\n",
    "    print(\"数据已成功更新到Excel文件\")\n",
    "else:\n",
    "    print(\"数据更新失败，请检查错误信息\")"
   ]
  },
  {
   "cell_type": "code",
   "execution_count": 14,
   "metadata": {
    "execution": {
     "iopub.execute_input": "2025-10-25T02:48:34.368081Z",
     "iopub.status.busy": "2025-10-25T02:48:34.368081Z",
     "iopub.status.idle": "2025-10-25T02:48:34.432546Z",
     "shell.execute_reply": "2025-10-25T02:48:34.432040Z"
    }
   },
   "outputs": [
    {
     "name": "stdout",
     "output_type": "stream",
     "text": [
      "数据过滤完成: 保留 23 条数据（2024/01/31 之后），按时间倒序排列\n",
      "已完成：插入/更新数据，并重新计算'方向/偏差率' (protected_date = 2025/10/31, cutoff_date = 2024/01/31)\n",
      "数据已成功更新到Excel文件\n"
     ]
    }
   ],
   "source": [
    "from Lcel import update_excel_data\n",
    "file_path = \"eta/1.铝_数据上传.xlsx\"\n",
    "sheet_name = \"详情页\"\n",
    "identifier = \"氧化铝周度表需/4WMATrend/F0.2\"       # NEW: 新增日期标识符列的抬头\n",
    "# 调用函数更新数据\n",
    "success = update_excel_data(monthly_df_trend, file_path, sheet_name, identifier)\n",
    "\n",
    "if success:\n",
    "    print(\"数据已成功更新到Excel文件\")\n",
    "else:\n",
    "    print(\"数据更新失败，请检查错误信息\")\n"
   ]
  },
  {
   "cell_type": "code",
   "execution_count": 15,
   "metadata": {
    "execution": {
     "iopub.execute_input": "2025-10-25T02:48:34.433552Z",
     "iopub.status.busy": "2025-10-25T02:48:34.433552Z",
     "iopub.status.idle": "2025-10-25T02:48:34.492978Z",
     "shell.execute_reply": "2025-10-25T02:48:34.492978Z"
    }
   },
   "outputs": [
    {
     "name": "stdout",
     "output_type": "stream",
     "text": [
      "成功更新 日度数据表 中的数据\n",
      "数据已成功更新到Excel文件\n"
     ]
    }
   ],
   "source": [
    "from Dcel import update_excel_data\n",
    "# 使用示例\n",
    "file_path = \"eta/1.铝_数据上传.xlsx\"\n",
    "sheet_name = \"日度数据表\"\n",
    "identifier = \"氧化铝周度表需/4WMA\"\n",
    "\n",
    "# 调用函数更新数据\n",
    "success = update_excel_data(merged_df_shizhi, file_path, sheet_name, identifier)\n",
    "\n",
    "if success:\n",
    "    print(\"数据已成功更新到Excel文件\")\n",
    "else:\n",
    "    print(\"数据更新失败，请检查错误信息\")"
   ]
  },
  {
   "cell_type": "code",
   "execution_count": 16,
   "metadata": {
    "execution": {
     "iopub.execute_input": "2025-10-25T02:48:34.493993Z",
     "iopub.status.busy": "2025-10-25T02:48:34.493993Z",
     "iopub.status.idle": "2025-10-25T02:48:34.594820Z",
     "shell.execute_reply": "2025-10-25T02:48:34.594820Z"
    }
   },
   "outputs": [
    {
     "name": "stdout",
     "output_type": "stream",
     "text": [
      "数据过滤完成: 保留 23 条数据（2024/01/31 之后），按时间倒序排列\n"
     ]
    },
    {
     "name": "stdout",
     "output_type": "stream",
     "text": [
      "已完成：插入/更新数据，并重新计算'方向/偏差率' (protected_date = 2025/10/31, cutoff_date = 2024/01/31)"
     ]
    },
    {
     "name": "stdout",
     "output_type": "stream",
     "text": [
      "\n",
      "数据已成功更新到Excel文件\n"
     ]
    }
   ],
   "source": [
    "from Lcel import update_excel_data\n",
    "file_path = \"eta/1.铝_数据上传.xlsx\"\n",
    "sheet_name = \"详情页\"\n",
    "identifier = \"氧化铝周度表需/4WMA\"       # NEW: 新增日期标识符列的抬头\n",
    "# 调用函数更新数据\n",
    "success = update_excel_data(monthly_df_shizhi, file_path, sheet_name, identifier)\n",
    "\n",
    "if success:\n",
    "    print(\"数据已成功更新到Excel文件\")\n",
    "else:\n",
    "    print(\"数据更新失败，请检查错误信息\")\n"
   ]
  },
  {
   "cell_type": "code",
   "execution_count": null,
   "metadata": {},
   "outputs": [],
   "source": []
  }
 ],
 "metadata": {
  "kernelspec": {
   "display_name": "Python 3",
   "language": "python",
   "name": "python3"
  },
  "language_info": {
   "codemirror_mode": {
    "name": "ipython",
    "version": 3
   },
   "file_extension": ".py",
   "mimetype": "text/x-python",
   "name": "python",
   "nbconvert_exporter": "python",
   "pygments_lexer": "ipython3",
   "version": "3.12.4"
  }
 },
 "nbformat": 4,
 "nbformat_minor": 2
}
