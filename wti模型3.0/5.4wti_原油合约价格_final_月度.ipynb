{
 "cells": [
  {
   "cell_type": "code",
   "execution_count": 1,
   "metadata": {
    "execution": {
     "iopub.execute_input": "2025-10-25T02:41:48.671468Z",
     "iopub.status.busy": "2025-10-25T02:41:48.671468Z",
     "iopub.status.idle": "2025-10-25T02:41:49.317298Z",
     "shell.execute_reply": "2025-10-25T02:41:49.317298Z"
    }
   },
   "outputs": [],
   "source": [
    "import pandas as pd\n",
    "import numpy as np\n",
    "import matplotlib.pyplot as plt\n",
    "from functools import reduce\n",
    "import os\n",
    "from datetime import datetime\n",
    "from sklearn.metrics import mean_squared_error"
   ]
  },
  {
   "cell_type": "code",
   "execution_count": 2,
   "metadata": {
    "execution": {
     "iopub.execute_input": "2025-10-25T02:41:49.318912Z",
     "iopub.status.busy": "2025-10-25T02:41:49.318912Z",
     "iopub.status.idle": "2025-10-25T02:41:49.320975Z",
     "shell.execute_reply": "2025-10-25T02:41:49.320975Z"
    }
   },
   "outputs": [],
   "source": [
    "plt.rcParams['font.sans-serif'] = ['SimHei'] \n",
    "plt.rcParams['axes.unicode_minus'] = False "
   ]
  },
  {
   "cell_type": "code",
   "execution_count": 3,
   "metadata": {
    "execution": {
     "iopub.execute_input": "2025-10-25T02:41:49.321988Z",
     "iopub.status.busy": "2025-10-25T02:41:49.321988Z",
     "iopub.status.idle": "2025-10-25T02:41:49.424807Z",
     "shell.execute_reply": "2025-10-25T02:41:49.424807Z"
    }
   },
   "outputs": [],
   "source": [
    "# 获取当前文件所在目录的父目录\n",
    "import os\n",
    "import sys\n",
    "\n",
    "current_dir = os.getcwd()\n",
    "parent_dir = os.path.dirname(current_dir)\n",
    "\n",
    "if parent_dir not in sys.path:\n",
    "    sys.path.append(parent_dir)\n",
    "\n",
    "\n",
    "from Dtool import fill_missing_values, plot_factors_by_pattern, plot_comparison_multiple, reverse_column, plot_feature_importance,plot_predictions\n"
   ]
  },
  {
   "cell_type": "code",
   "execution_count": 4,
   "metadata": {
    "execution": {
     "iopub.execute_input": "2025-10-25T02:41:49.426217Z",
     "iopub.status.busy": "2025-10-25T02:41:49.426217Z",
     "iopub.status.idle": "2025-10-25T02:41:49.436999Z",
     "shell.execute_reply": "2025-10-25T02:41:49.436999Z"
    }
   },
   "outputs": [
    {
     "data": {
      "text/html": [
       "<div>\n",
       "<style scoped>\n",
       "    .dataframe tbody tr th:only-of-type {\n",
       "        vertical-align: middle;\n",
       "    }\n",
       "\n",
       "    .dataframe tbody tr th {\n",
       "        vertical-align: top;\n",
       "    }\n",
       "\n",
       "    .dataframe thead th {\n",
       "        text-align: right;\n",
       "    }\n",
       "</style>\n",
       "<table border=\"1\" class=\"dataframe\">\n",
       "  <thead>\n",
       "    <tr style=\"text-align: right;\">\n",
       "      <th></th>\n",
       "      <th>Date</th>\n",
       "      <th>WTI原油期货价格拟合残差/WTI连1-连4月差/标准差剔除异常值</th>\n",
       "    </tr>\n",
       "  </thead>\n",
       "  <tbody>\n",
       "    <tr>\n",
       "      <th>17</th>\n",
       "      <td>2025-06-30</td>\n",
       "      <td>-7.240872</td>\n",
       "    </tr>\n",
       "    <tr>\n",
       "      <th>18</th>\n",
       "      <td>2025-07-31</td>\n",
       "      <td>-8.318296</td>\n",
       "    </tr>\n",
       "    <tr>\n",
       "      <th>19</th>\n",
       "      <td>2025-08-31</td>\n",
       "      <td>-6.603626</td>\n",
       "    </tr>\n",
       "    <tr>\n",
       "      <th>20</th>\n",
       "      <td>2025-09-30</td>\n",
       "      <td>-5.705528</td>\n",
       "    </tr>\n",
       "    <tr>\n",
       "      <th>21</th>\n",
       "      <td>2025-10-31</td>\n",
       "      <td>-5.494774</td>\n",
       "    </tr>\n",
       "  </tbody>\n",
       "</table>\n",
       "</div>"
      ],
      "text/plain": [
       "         Date  WTI原油期货价格拟合残差/WTI连1-连4月差/标准差剔除异常值\n",
       "17 2025-06-30                          -7.240872\n",
       "18 2025-07-31                          -8.318296\n",
       "19 2025-08-31                          -6.603626\n",
       "20 2025-09-30                          -5.705528\n",
       "21 2025-10-31                          -5.494774"
      ]
     },
     "execution_count": 4,
     "metadata": {},
     "output_type": "execute_result"
    }
   ],
   "source": [
    "wti_resid = pd.read_csv('data_output_auto/WTI拟合残差_2024后预测.csv', parse_dates=['Date'], index_col=False)\n",
    "# 将日期设为索引\n",
    "wti_resid.set_index('Date', inplace=True)\n",
    "wti_resid = wti_resid.resample('ME').last()\n",
    "wti_resid.reset_index(inplace=True)\n",
    "wti_resid.tail()"
   ]
  },
  {
   "cell_type": "code",
   "execution_count": 5,
   "metadata": {
    "execution": {
     "iopub.execute_input": "2025-10-25T02:41:49.454668Z",
     "iopub.status.busy": "2025-10-25T02:41:49.454668Z",
     "iopub.status.idle": "2025-10-25T02:41:49.558305Z",
     "shell.execute_reply": "2025-10-25T02:41:49.558305Z"
    }
   },
   "outputs": [
    {
     "data": {
      "text/html": [
       "<div>\n",
       "<style scoped>\n",
       "    .dataframe tbody tr th:only-of-type {\n",
       "        vertical-align: middle;\n",
       "    }\n",
       "\n",
       "    .dataframe tbody tr th {\n",
       "        vertical-align: top;\n",
       "    }\n",
       "\n",
       "    .dataframe thead th {\n",
       "        text-align: right;\n",
       "    }\n",
       "</style>\n",
       "<table border=\"1\" class=\"dataframe\">\n",
       "  <thead>\n",
       "    <tr style=\"text-align: right;\">\n",
       "      <th></th>\n",
       "      <th>Date</th>\n",
       "      <th>WTI连1-连4月差</th>\n",
       "    </tr>\n",
       "  </thead>\n",
       "  <tbody>\n",
       "    <tr>\n",
       "      <th>5</th>\n",
       "      <td>2025-07-31</td>\n",
       "      <td>2.6560</td>\n",
       "    </tr>\n",
       "    <tr>\n",
       "      <th>4</th>\n",
       "      <td>2025-08-31</td>\n",
       "      <td>1.5755</td>\n",
       "    </tr>\n",
       "    <tr>\n",
       "      <th>3</th>\n",
       "      <td>2025-09-30</td>\n",
       "      <td>0.7587</td>\n",
       "    </tr>\n",
       "    <tr>\n",
       "      <th>2</th>\n",
       "      <td>2025-10-31</td>\n",
       "      <td>0.9087</td>\n",
       "    </tr>\n",
       "    <tr>\n",
       "      <th>1</th>\n",
       "      <td>2025-11-30</td>\n",
       "      <td>1.6544</td>\n",
       "    </tr>\n",
       "  </tbody>\n",
       "</table>\n",
       "</div>"
      ],
      "text/plain": [
       "        Date  WTI连1-连4月差\n",
       "5 2025-07-31      2.6560\n",
       "4 2025-08-31      1.5755\n",
       "3 2025-09-30      0.7587\n",
       "2 2025-10-31      0.9087\n",
       "1 2025-11-30      1.6544"
      ]
     },
     "execution_count": 5,
     "metadata": {},
     "output_type": "execute_result"
    }
   ],
   "source": [
    "wti_1_4 = pd.ExcelFile('eta/WTI连1-连4月差_月度数据.xlsx').parse('Sheet1')\n",
    "wti_1_4['Date'] = pd.to_datetime(wti_1_4['Date'], errors='coerce')\n",
    "wti_1_4 = wti_1_4.sort_values('Date', ascending=True)\n",
    "wti_1_4 = wti_1_4.drop(columns=['真实值'])\n",
    "wti_1_4 = wti_1_4.dropna()\n",
    "wti_1_4 = wti_1_4.rename(columns={'预测值':'WTI连1-连4月差'})\n",
    "wti_1_4.tail()"
   ]
  },
  {
   "cell_type": "code",
   "execution_count": 6,
   "metadata": {
    "execution": {
     "iopub.execute_input": "2025-10-25T02:41:49.559856Z",
     "iopub.status.busy": "2025-10-25T02:41:49.559856Z",
     "iopub.status.idle": "2025-10-25T02:41:49.564555Z",
     "shell.execute_reply": "2025-10-25T02:41:49.564555Z"
    }
   },
   "outputs": [
    {
     "data": {
      "text/html": [
       "<div>\n",
       "<style scoped>\n",
       "    .dataframe tbody tr th:only-of-type {\n",
       "        vertical-align: middle;\n",
       "    }\n",
       "\n",
       "    .dataframe tbody tr th {\n",
       "        vertical-align: top;\n",
       "    }\n",
       "\n",
       "    .dataframe thead th {\n",
       "        text-align: right;\n",
       "    }\n",
       "</style>\n",
       "<table border=\"1\" class=\"dataframe\">\n",
       "  <thead>\n",
       "    <tr style=\"text-align: right;\">\n",
       "      <th></th>\n",
       "      <th>Date</th>\n",
       "      <th>WTI原油期货价格拟合残差/WTI连1-连4月差/标准差剔除异常值</th>\n",
       "      <th>WTI连1-连4月差</th>\n",
       "    </tr>\n",
       "  </thead>\n",
       "  <tbody>\n",
       "    <tr>\n",
       "      <th>8</th>\n",
       "      <td>2025-06-30</td>\n",
       "      <td>-7.240872</td>\n",
       "      <td>3.1980</td>\n",
       "    </tr>\n",
       "    <tr>\n",
       "      <th>9</th>\n",
       "      <td>2025-07-31</td>\n",
       "      <td>-8.318296</td>\n",
       "      <td>2.6560</td>\n",
       "    </tr>\n",
       "    <tr>\n",
       "      <th>10</th>\n",
       "      <td>2025-08-31</td>\n",
       "      <td>-6.603626</td>\n",
       "      <td>1.5755</td>\n",
       "    </tr>\n",
       "    <tr>\n",
       "      <th>11</th>\n",
       "      <td>2025-09-30</td>\n",
       "      <td>-5.705528</td>\n",
       "      <td>0.7587</td>\n",
       "    </tr>\n",
       "    <tr>\n",
       "      <th>12</th>\n",
       "      <td>2025-10-31</td>\n",
       "      <td>-5.494774</td>\n",
       "      <td>0.9087</td>\n",
       "    </tr>\n",
       "  </tbody>\n",
       "</table>\n",
       "</div>"
      ],
      "text/plain": [
       "         Date  WTI原油期货价格拟合残差/WTI连1-连4月差/标准差剔除异常值  WTI连1-连4月差\n",
       "8  2025-06-30                          -7.240872      3.1980\n",
       "9  2025-07-31                          -8.318296      2.6560\n",
       "10 2025-08-31                          -6.603626      1.5755\n",
       "11 2025-09-30                          -5.705528      0.7587\n",
       "12 2025-10-31                          -5.494774      0.9087"
      ]
     },
     "execution_count": 6,
     "metadata": {},
     "output_type": "execute_result"
    }
   ],
   "source": [
    "# 假设你有四个 DataFrame\n",
    "dataframes = [wti_resid, wti_1_4]   \n",
    "# 使用 reduce 和 pd.merge 合并\n",
    "merged_df = reduce(lambda left, right: pd.merge(left, right, on='Date', how='inner'), dataframes)\n",
    "merged_df.tail()"
   ]
  },
  {
   "cell_type": "code",
   "execution_count": 7,
   "metadata": {
    "execution": {
     "iopub.execute_input": "2025-10-25T02:41:49.565061Z",
     "iopub.status.busy": "2025-10-25T02:41:49.565061Z",
     "iopub.status.idle": "2025-10-25T02:41:49.567859Z",
     "shell.execute_reply": "2025-10-25T02:41:49.567859Z"
    }
   },
   "outputs": [],
   "source": [
    "merged_df['WTI原油期货价格预测'] =  4.3141 * (merged_df['WTI连1-连4月差']) + 71.6895 + merged_df['WTI原油期货价格拟合残差/WTI连1-连4月差/标准差剔除异常值'] "
   ]
  },
  {
   "cell_type": "code",
   "execution_count": 8,
   "metadata": {
    "execution": {
     "iopub.execute_input": "2025-10-25T02:41:49.568364Z",
     "iopub.status.busy": "2025-10-25T02:41:49.568364Z",
     "iopub.status.idle": "2025-10-25T02:41:49.640858Z",
     "shell.execute_reply": "2025-10-25T02:41:49.640858Z"
    }
   },
   "outputs": [
    {
     "data": {
      "image/png": "[encoded data removed]",
      "text/plain": [
       "<Figure size 1400x600 with 1 Axes>"
      ]
     },
     "metadata": {},
     "output_type": "display_data"
    }
   ],
   "source": [
    "plt.rcParams['font.sans-serif'] = ['SimHei'] \n",
    "plt.rcParams['axes.unicode_minus'] = False \n",
    "\n",
    "plt.figure(figsize=(14, 6))\n",
    "plt.plot(merged_df['Date'], merged_df['WTI原油期货价格预测'], label='WTI原油期货价格预测', color='red')\n",
    "plt.xlabel('Date')\n",
    "plt.ylabel('WTI原油期货价格预测')\n",
    "plt.title('WTI原油期货价格预测随时间的变化')\n",
    "plt.legend()\n",
    "plt.grid(True)\n",
    "plt.show()"
   ]
  },
  {
   "cell_type": "code",
   "execution_count": 9,
   "metadata": {
    "execution": {
     "iopub.execute_input": "2025-10-25T02:41:49.641365Z",
     "iopub.status.busy": "2025-10-25T02:41:49.641365Z",
     "iopub.status.idle": "2025-10-25T02:41:49.742648Z",
     "shell.execute_reply": "2025-10-25T02:41:49.742648Z"
    }
   },
   "outputs": [
    {
     "data": {
      "text/html": [
       "<div>\n",
       "<style scoped>\n",
       "    .dataframe tbody tr th:only-of-type {\n",
       "        vertical-align: middle;\n",
       "    }\n",
       "\n",
       "    .dataframe tbody tr th {\n",
       "        vertical-align: top;\n",
       "    }\n",
       "\n",
       "    .dataframe thead th {\n",
       "        text-align: right;\n",
       "    }\n",
       "</style>\n",
       "<table border=\"1\" class=\"dataframe\">\n",
       "  <thead>\n",
       "    <tr style=\"text-align: right;\">\n",
       "      <th></th>\n",
       "      <th>wti原油期货价格</th>\n",
       "    </tr>\n",
       "    <tr>\n",
       "      <th>Date</th>\n",
       "      <th></th>\n",
       "    </tr>\n",
       "  </thead>\n",
       "  <tbody>\n",
       "    <tr>\n",
       "      <th>2025-10-20</th>\n",
       "      <td>56.93</td>\n",
       "    </tr>\n",
       "    <tr>\n",
       "      <th>2025-10-21</th>\n",
       "      <td>57.58</td>\n",
       "    </tr>\n",
       "    <tr>\n",
       "      <th>2025-10-22</th>\n",
       "      <td>59.38</td>\n",
       "    </tr>\n",
       "    <tr>\n",
       "      <th>2025-10-23</th>\n",
       "      <td>61.75</td>\n",
       "    </tr>\n",
       "    <tr>\n",
       "      <th>2025-10-24</th>\n",
       "      <td>61.44</td>\n",
       "    </tr>\n",
       "  </tbody>\n",
       "</table>\n",
       "</div>"
      ],
      "text/plain": [
       "            wti原油期货价格\n",
       "Date                 \n",
       "2025-10-20      56.93\n",
       "2025-10-21      57.58\n",
       "2025-10-22      59.38\n",
       "2025-10-23      61.75\n",
       "2025-10-24      61.44"
      ]
     },
     "execution_count": 9,
     "metadata": {},
     "output_type": "execute_result"
    }
   ],
   "source": [
    "file_path_wti = 'data_input_auto/wti原油期货价格.xlsx'\n",
    "wti = pd.read_excel(file_path_wti, sheet_name='Sheet1', names=['Date', 'wti原油期货价格'])\n",
    "wti['Date'] = pd.to_datetime(wti['Date'], errors='coerce')\n",
    "wti = wti[wti['Date'] >= '2023-01-01']\n",
    "wti.set_index('Date', inplace=True)\n",
    "wti.tail()"
   ]
  },
  {
   "cell_type": "code",
   "execution_count": 10,
   "metadata": {
    "execution": {
     "iopub.execute_input": "2025-10-25T02:41:49.743661Z",
     "iopub.status.busy": "2025-10-25T02:41:49.743661Z",
     "iopub.status.idle": "2025-10-25T02:41:49.826972Z",
     "shell.execute_reply": "2025-10-25T02:41:49.826972Z"
    }
   },
   "outputs": [
    {
     "data": {
      "image/png": "[encoded data removed]",
      "text/plain": [
       "<Figure size 2000x600 with 1 Axes>"
      ]
     },
     "metadata": {},
     "output_type": "display_data"
    }
   ],
   "source": [
    "plt.figure(figsize=(20, 6))\n",
    "plt.plot(wti.index, wti['wti原油期货价格'], label='WTI', color='blue')\n",
    "plt.plot(merged_df['Date'], merged_df['WTI原油期货价格预测'], label='Predicted WTI', color='red')\n",
    "\n",
    "\n",
    "plt.title('WTI原油预测')\n",
    "plt.xlabel('日期')\n",
    "plt.ylabel('WTI原油期货价格')\n",
    "plt.legend()\n",
    "plt.grid(True)\n",
    "plt.show()"
   ]
  },
  {
   "cell_type": "code",
   "execution_count": 11,
   "metadata": {
    "execution": {
     "iopub.execute_input": "2025-10-25T02:41:49.828005Z",
     "iopub.status.busy": "2025-10-25T02:41:49.828005Z",
     "iopub.status.idle": "2025-10-25T02:41:49.832471Z",
     "shell.execute_reply": "2025-10-25T02:41:49.832471Z"
    }
   },
   "outputs": [
    {
     "data": {
      "text/html": [
       "<div>\n",
       "<style scoped>\n",
       "    .dataframe tbody tr th:only-of-type {\n",
       "        vertical-align: middle;\n",
       "    }\n",
       "\n",
       "    .dataframe tbody tr th {\n",
       "        vertical-align: top;\n",
       "    }\n",
       "\n",
       "    .dataframe thead th {\n",
       "        text-align: right;\n",
       "    }\n",
       "</style>\n",
       "<table border=\"1\" class=\"dataframe\">\n",
       "  <thead>\n",
       "    <tr style=\"text-align: right;\">\n",
       "      <th></th>\n",
       "      <th>Date</th>\n",
       "      <th>WTI原油期货价格预测</th>\n",
       "    </tr>\n",
       "  </thead>\n",
       "  <tbody>\n",
       "    <tr>\n",
       "      <th>8</th>\n",
       "      <td>2025-06-30</td>\n",
       "      <td>78.245120</td>\n",
       "    </tr>\n",
       "    <tr>\n",
       "      <th>9</th>\n",
       "      <td>2025-07-31</td>\n",
       "      <td>74.829454</td>\n",
       "    </tr>\n",
       "    <tr>\n",
       "      <th>10</th>\n",
       "      <td>2025-08-31</td>\n",
       "      <td>71.882739</td>\n",
       "    </tr>\n",
       "    <tr>\n",
       "      <th>11</th>\n",
       "      <td>2025-09-30</td>\n",
       "      <td>69.257079</td>\n",
       "    </tr>\n",
       "    <tr>\n",
       "      <th>12</th>\n",
       "      <td>2025-10-31</td>\n",
       "      <td>70.114949</td>\n",
       "    </tr>\n",
       "  </tbody>\n",
       "</table>\n",
       "</div>"
      ],
      "text/plain": [
       "         Date  WTI原油期货价格预测\n",
       "8  2025-06-30    78.245120\n",
       "9  2025-07-31    74.829454\n",
       "10 2025-08-31    71.882739\n",
       "11 2025-09-30    69.257079\n",
       "12 2025-10-31    70.114949"
      ]
     },
     "execution_count": 11,
     "metadata": {},
     "output_type": "execute_result"
    }
   ],
   "source": [
    "result = merged_df[['Date','WTI原油期货价格预测']]\n",
    "result.tail()"
   ]
  },
  {
   "cell_type": "markdown",
   "metadata": {},
   "source": [
    "---"
   ]
  },
  {
   "cell_type": "code",
   "execution_count": 12,
   "metadata": {
    "execution": {
     "iopub.execute_input": "2025-10-25T02:41:49.833484Z",
     "iopub.status.busy": "2025-10-25T02:41:49.833484Z",
     "iopub.status.idle": "2025-10-25T02:41:49.841706Z",
     "shell.execute_reply": "2025-10-25T02:41:49.841706Z"
    }
   },
   "outputs": [
    {
     "data": {
      "text/html": [
       "<div>\n",
       "<style scoped>\n",
       "    .dataframe tbody tr th:only-of-type {\n",
       "        vertical-align: middle;\n",
       "    }\n",
       "\n",
       "    .dataframe tbody tr th {\n",
       "        vertical-align: top;\n",
       "    }\n",
       "\n",
       "    .dataframe thead th {\n",
       "        text-align: right;\n",
       "    }\n",
       "</style>\n",
       "<table border=\"1\" class=\"dataframe\">\n",
       "  <thead>\n",
       "    <tr style=\"text-align: right;\">\n",
       "      <th></th>\n",
       "      <th>Date</th>\n",
       "      <th>WTI原油期货价格预测</th>\n",
       "    </tr>\n",
       "  </thead>\n",
       "  <tbody>\n",
       "    <tr>\n",
       "      <th>0</th>\n",
       "      <td>2025-10-31</td>\n",
       "      <td>60.473005</td>\n",
       "    </tr>\n",
       "    <tr>\n",
       "      <th>1</th>\n",
       "      <td>2025-11-30</td>\n",
       "      <td>52.552120</td>\n",
       "    </tr>\n",
       "  </tbody>\n",
       "</table>\n",
       "</div>"
      ],
      "text/plain": [
       "        Date  WTI原油期货价格预测\n",
       "0 2025-10-31    60.473005\n",
       "1 2025-11-30    52.552120"
      ]
     },
     "execution_count": 12,
     "metadata": {},
     "output_type": "execute_result"
    }
   ],
   "source": [
    "file_path_wti = 'data_output_auto/wti原油期货价格预测2.xlsx'\n",
    "wti_predict_1 = pd.read_excel(file_path_wti, sheet_name='Sheet1')\n",
    "wti_predict_1['Date'] = pd.to_datetime(wti_predict_1['Date'])\n",
    "wti_predict_1 = wti_predict_1.resample('ME', on='Date').mean().reset_index()\n",
    "wti_predict_1"
   ]
  },
  {
   "cell_type": "code",
   "execution_count": 13,
   "metadata": {
    "execution": {
     "iopub.execute_input": "2025-10-25T02:41:49.842213Z",
     "iopub.status.busy": "2025-10-25T02:41:49.842213Z",
     "iopub.status.idle": "2025-10-25T02:41:49.854402Z",
     "shell.execute_reply": "2025-10-25T02:41:49.854402Z"
    }
   },
   "outputs": [
    {
     "data": {
      "text/html": [
       "<div>\n",
       "<style scoped>\n",
       "    .dataframe tbody tr th:only-of-type {\n",
       "        vertical-align: middle;\n",
       "    }\n",
       "\n",
       "    .dataframe tbody tr th {\n",
       "        vertical-align: top;\n",
       "    }\n",
       "\n",
       "    .dataframe thead th {\n",
       "        text-align: right;\n",
       "    }\n",
       "</style>\n",
       "<table border=\"1\" class=\"dataframe\">\n",
       "  <thead>\n",
       "    <tr style=\"text-align: right;\">\n",
       "      <th></th>\n",
       "      <th>Date</th>\n",
       "      <th>WTI原油期货价格预测</th>\n",
       "    </tr>\n",
       "  </thead>\n",
       "  <tbody>\n",
       "    <tr>\n",
       "      <th>13</th>\n",
       "      <td>2025-11-30</td>\n",
       "      <td>52.552120</td>\n",
       "    </tr>\n",
       "    <tr>\n",
       "      <th>12</th>\n",
       "      <td>2025-10-31</td>\n",
       "      <td>60.473005</td>\n",
       "    </tr>\n",
       "    <tr>\n",
       "      <th>11</th>\n",
       "      <td>2025-09-30</td>\n",
       "      <td>69.257079</td>\n",
       "    </tr>\n",
       "    <tr>\n",
       "      <th>10</th>\n",
       "      <td>2025-08-31</td>\n",
       "      <td>71.882739</td>\n",
       "    </tr>\n",
       "    <tr>\n",
       "      <th>9</th>\n",
       "      <td>2025-07-31</td>\n",
       "      <td>74.829454</td>\n",
       "    </tr>\n",
       "    <tr>\n",
       "      <th>8</th>\n",
       "      <td>2025-06-30</td>\n",
       "      <td>78.245120</td>\n",
       "    </tr>\n",
       "    <tr>\n",
       "      <th>7</th>\n",
       "      <td>2025-05-31</td>\n",
       "      <td>66.833446</td>\n",
       "    </tr>\n",
       "    <tr>\n",
       "      <th>6</th>\n",
       "      <td>2025-04-30</td>\n",
       "      <td>71.433317</td>\n",
       "    </tr>\n",
       "    <tr>\n",
       "      <th>5</th>\n",
       "      <td>2025-03-31</td>\n",
       "      <td>70.169424</td>\n",
       "    </tr>\n",
       "    <tr>\n",
       "      <th>4</th>\n",
       "      <td>2025-02-28</td>\n",
       "      <td>70.879169</td>\n",
       "    </tr>\n",
       "    <tr>\n",
       "      <th>3</th>\n",
       "      <td>2025-01-31</td>\n",
       "      <td>78.065782</td>\n",
       "    </tr>\n",
       "    <tr>\n",
       "      <th>2</th>\n",
       "      <td>2024-12-31</td>\n",
       "      <td>73.225611</td>\n",
       "    </tr>\n",
       "    <tr>\n",
       "      <th>1</th>\n",
       "      <td>2024-11-30</td>\n",
       "      <td>71.498861</td>\n",
       "    </tr>\n",
       "    <tr>\n",
       "      <th>0</th>\n",
       "      <td>2024-10-31</td>\n",
       "      <td>71.693341</td>\n",
       "    </tr>\n",
       "  </tbody>\n",
       "</table>\n",
       "</div>"
      ],
      "text/plain": [
       "         Date  WTI原油期货价格预测\n",
       "13 2025-11-30    52.552120\n",
       "12 2025-10-31    60.473005\n",
       "11 2025-09-30    69.257079\n",
       "10 2025-08-31    71.882739\n",
       "9  2025-07-31    74.829454\n",
       "8  2025-06-30    78.245120\n",
       "7  2025-05-31    66.833446\n",
       "6  2025-04-30    71.433317\n",
       "5  2025-03-31    70.169424\n",
       "4  2025-02-28    70.879169\n",
       "3  2025-01-31    78.065782\n",
       "2  2024-12-31    73.225611\n",
       "1  2024-11-30    71.498861\n",
       "0  2024-10-31    71.693341"
      ]
     },
     "execution_count": 13,
     "metadata": {},
     "output_type": "execute_result"
    }
   ],
   "source": [
    "# 先将result和wti_predict_1按Date合并,如果有重复的Date则使用wti_predict_1的值\n",
    "merged_result = pd.concat([wti_predict_1, result]).drop_duplicates(subset='Date', keep='first')\n",
    "merged_result = merged_result.sort_values(by='Date').reset_index(drop=True)\n",
    "\n",
    "monthly_result =  merged_result.sort_values('Date', ascending=False)\n",
    "output_excel_file = 'data_output_auto/WTI原油期货价格_预测_月度均值.xlsx'\n",
    "monthly_result.to_excel(output_excel_file, index=False)\n",
    "monthly_result"
   ]
  },
  {
   "cell_type": "markdown",
   "metadata": {},
   "source": [
    "---"
   ]
  },
  {
   "cell_type": "code",
   "execution_count": 14,
   "metadata": {
    "execution": {
     "iopub.execute_input": "2025-10-25T02:41:49.855505Z",
     "iopub.status.busy": "2025-10-25T02:41:49.855505Z",
     "iopub.status.idle": "2025-10-25T02:41:49.865651Z",
     "shell.execute_reply": "2025-10-25T02:41:49.865651Z"
    }
   },
   "outputs": [
    {
     "data": {
      "text/html": [
       "<div>\n",
       "<style scoped>\n",
       "    .dataframe tbody tr th:only-of-type {\n",
       "        vertical-align: middle;\n",
       "    }\n",
       "\n",
       "    .dataframe tbody tr th {\n",
       "        vertical-align: top;\n",
       "    }\n",
       "\n",
       "    .dataframe thead th {\n",
       "        text-align: right;\n",
       "    }\n",
       "</style>\n",
       "<table border=\"1\" class=\"dataframe\">\n",
       "  <thead>\n",
       "    <tr style=\"text-align: right;\">\n",
       "      <th></th>\n",
       "      <th>Date</th>\n",
       "      <th>wti原油期货价格</th>\n",
       "      <th>WTI原油期货价格预测</th>\n",
       "    </tr>\n",
       "  </thead>\n",
       "  <tbody>\n",
       "    <tr>\n",
       "      <th>34</th>\n",
       "      <td>2025/11/30</td>\n",
       "      <td>NaN</td>\n",
       "      <td>52.552120</td>\n",
       "    </tr>\n",
       "    <tr>\n",
       "      <th>33</th>\n",
       "      <td>2025/10/31</td>\n",
       "      <td>59.842778</td>\n",
       "      <td>60.473005</td>\n",
       "    </tr>\n",
       "    <tr>\n",
       "      <th>32</th>\n",
       "      <td>2025/09/30</td>\n",
       "      <td>63.467143</td>\n",
       "      <td>69.257079</td>\n",
       "    </tr>\n",
       "    <tr>\n",
       "      <th>31</th>\n",
       "      <td>2025/08/31</td>\n",
       "      <td>63.900476</td>\n",
       "      <td>71.882739</td>\n",
       "    </tr>\n",
       "    <tr>\n",
       "      <th>30</th>\n",
       "      <td>2025/07/31</td>\n",
       "      <td>67.090435</td>\n",
       "      <td>74.829454</td>\n",
       "    </tr>\n",
       "  </tbody>\n",
       "</table>\n",
       "</div>"
      ],
      "text/plain": [
       "          Date  wti原油期货价格  WTI原油期货价格预测\n",
       "34  2025/11/30        NaN    52.552120\n",
       "33  2025/10/31  59.842778    60.473005\n",
       "32  2025/09/30  63.467143    69.257079\n",
       "31  2025/08/31  63.900476    71.882739\n",
       "30  2025/07/31  67.090435    74.829454"
      ]
     },
     "execution_count": 14,
     "metadata": {},
     "output_type": "execute_result"
    }
   ],
   "source": [
    "# 将wti转换为月度数据\n",
    "wti_monthly = wti.resample('ME').mean()\n",
    "wti_monthly = wti_monthly.reset_index()\n",
    "wti_monthly_real_and_prediction = pd.merge(wti_monthly, monthly_result, on='Date', how='outer')\n",
    "wti_monthly_real_and_prediction = wti_monthly_real_and_prediction.sort_values('Date', ascending=False)\n",
    "# 将日期格式转换为年/月/日格式\n",
    "wti_monthly_real_and_prediction['Date'] = wti_monthly_real_and_prediction['Date'].dt.strftime('%Y/%m/%d')   \n",
    "wti_monthly_real_and_prediction.to_excel('eta/wti_月度数据.xlsx', index=False, float_format='%.2f')\n",
    "wti_monthly_real_and_prediction.head()"
   ]
  },
  {
   "cell_type": "markdown",
   "metadata": {},
   "source": [
    "---"
   ]
  },
  {
   "cell_type": "code",
   "execution_count": 15,
   "metadata": {
    "execution": {
     "iopub.execute_input": "2025-10-25T02:41:49.866664Z",
     "iopub.status.busy": "2025-10-25T02:41:49.866664Z",
     "iopub.status.idle": "2025-10-25T02:41:50.295041Z",
     "shell.execute_reply": "2025-10-25T02:41:50.295041Z"
    }
   },
   "outputs": [
    {
     "name": "stdout",
     "output_type": "stream",
     "text": [
      "数据过滤完成: 保留 23 条数据（2024/01/31 之后），按时间倒序排列\n"
     ]
    },
    {
     "name": "stdout",
     "output_type": "stream",
     "text": [
      "已完成：插入/更新数据，并重新计算'方向/偏差率' (protected_date = 2025/10/31, cutoff_date = 2024/01/31)\n",
      "数据已成功更新到Excel文件\n"
     ]
    }
   ],
   "source": [
    "from Lcel import update_excel_data\n",
    "file_path = \"eta/1.WTI_数据上传.xlsx\"\n",
    "sheet_name = \"详情页\"\n",
    "identifier = \"WTI原油期货价格\"       # NEW: 新增日期标识符列的抬头\n",
    "# 调用函数更新数据\n",
    "success = update_excel_data(wti_monthly_real_and_prediction, file_path, sheet_name, identifier)\n",
    "\n",
    "if success:\n",
    "    print(\"数据已成功更新到Excel文件\")\n",
    "else:\n",
    "    print(\"数据更新失败，请检查错误信息\")"
   ]
  }
 ],
 "metadata": {
  "kernelspec": {
   "display_name": "Python 3",
   "language": "python",
   "name": "python3"
  },
  "language_info": {
   "codemirror_mode": {
    "name": "ipython",
    "version": 3
   },
   "file_extension": ".py",
   "mimetype": "text/x-python",
   "name": "python",
   "nbconvert_exporter": "python",
   "pygments_lexer": "ipython3",
   "version": "3.12.4"
  }
 },
 "nbformat": 4,
 "nbformat_minor": 2
}
