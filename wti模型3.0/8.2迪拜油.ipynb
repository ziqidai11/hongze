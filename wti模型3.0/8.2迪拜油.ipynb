{
 "cells": [
  {
   "cell_type": "code",
   "execution_count": 1,
   "metadata": {
    "execution": {
     "iopub.execute_input": "2025-10-29T07:54:02.448755Z",
     "iopub.status.busy": "2025-10-29T07:54:02.448402Z",
     "iopub.status.idle": "2025-10-29T07:54:04.060058Z",
     "shell.execute_reply": "2025-10-29T07:54:04.059519Z"
    }
   },
   "outputs": [],
   "source": [
    "import pandas as pd\n",
    "import numpy as np\n",
    "import os\n",
    "import matplotlib.pyplot as plt\n",
    "from sklearn.linear_model import LinearRegression\n",
    "from sklearn.metrics import mean_squared_error, r2_score, mean_absolute_error\n",
    "import numpy as np"
   ]
  },
  {
   "cell_type": "code",
   "execution_count": 2,
   "metadata": {
    "execution": {
     "iopub.execute_input": "2025-10-29T07:54:04.062862Z",
     "iopub.status.busy": "2025-10-29T07:54:04.062518Z",
     "iopub.status.idle": "2025-10-29T07:54:04.065902Z",
     "shell.execute_reply": "2025-10-29T07:54:04.065470Z"
    }
   },
   "outputs": [],
   "source": [
    "# 设置字体为 SimHei（黑体），或者其他支持中文的字体\n",
    "plt.rcParams['font.sans-serif'] = ['SimHei']  # 设置字体\n",
    "plt.rcParams['axes.unicode_minus'] = False  # 正常显示负号"
   ]
  },
  {
   "cell_type": "code",
   "execution_count": 3,
   "metadata": {
    "execution": {
     "iopub.execute_input": "2025-10-29T07:54:04.067848Z",
     "iopub.status.busy": "2025-10-29T07:54:04.067640Z",
     "iopub.status.idle": "2025-10-29T07:54:04.297219Z",
     "shell.execute_reply": "2025-10-29T07:54:04.296227Z"
    }
   },
   "outputs": [],
   "source": [
    "# 获取当前文件所在目录的父目录\n",
    "import os\n",
    "import sys\n",
    "\n",
    "current_dir = os.getcwd()\n",
    "parent_dir = os.path.dirname(current_dir)\n",
    "\n",
    "if parent_dir not in sys.path:\n",
    "    sys.path.append(parent_dir)\n",
    "\n",
    "\n",
    "from Dtool import fill_missing_values, plot_factors_by_pattern, plot_comparison_multiple, reverse_column, plot_feature_importance,plot_predictions"
   ]
  },
  {
   "cell_type": "code",
   "execution_count": 4,
   "metadata": {
    "execution": {
     "iopub.execute_input": "2025-10-29T07:54:04.299770Z",
     "iopub.status.busy": "2025-10-29T07:54:04.299544Z",
     "iopub.status.idle": "2025-10-29T07:54:04.628190Z",
     "shell.execute_reply": "2025-10-29T07:54:04.627497Z"
    }
   },
   "outputs": [
    {
     "data": {
      "text/html": [
       "<div>\n",
       "<style scoped>\n",
       "    .dataframe tbody tr th:only-of-type {\n",
       "        vertical-align: middle;\n",
       "    }\n",
       "\n",
       "    .dataframe tbody tr th {\n",
       "        vertical-align: top;\n",
       "    }\n",
       "\n",
       "    .dataframe thead th {\n",
       "        text-align: right;\n",
       "    }\n",
       "</style>\n",
       "<table border=\"1\" class=\"dataframe\">\n",
       "  <thead>\n",
       "    <tr style=\"text-align: right;\">\n",
       "      <th></th>\n",
       "      <th>Dubai连1合约价格（路透）</th>\n",
       "      <th>Brent-Dubai/7DMA</th>\n",
       "      <th>Brent原油期货连1合约价格/路透</th>\n",
       "    </tr>\n",
       "  </thead>\n",
       "  <tbody>\n",
       "    <tr>\n",
       "      <th>2025-11-19</th>\n",
       "      <td>NaN</td>\n",
       "      <td>NaN</td>\n",
       "      <td>NaN</td>\n",
       "    </tr>\n",
       "    <tr>\n",
       "      <th>2025-11-20</th>\n",
       "      <td>NaN</td>\n",
       "      <td>NaN</td>\n",
       "      <td>NaN</td>\n",
       "    </tr>\n",
       "    <tr>\n",
       "      <th>2025-11-21</th>\n",
       "      <td>NaN</td>\n",
       "      <td>NaN</td>\n",
       "      <td>NaN</td>\n",
       "    </tr>\n",
       "    <tr>\n",
       "      <th>2025-11-24</th>\n",
       "      <td>NaN</td>\n",
       "      <td>NaN</td>\n",
       "      <td>NaN</td>\n",
       "    </tr>\n",
       "    <tr>\n",
       "      <th>2025-11-25</th>\n",
       "      <td>NaN</td>\n",
       "      <td>NaN</td>\n",
       "      <td>NaN</td>\n",
       "    </tr>\n",
       "  </tbody>\n",
       "</table>\n",
       "</div>"
      ],
      "text/plain": [
       "            Dubai连1合约价格（路透）  Brent-Dubai/7DMA  Brent原油期货连1合约价格/路透\n",
       "2025-11-19              NaN               NaN                 NaN\n",
       "2025-11-20              NaN               NaN                 NaN\n",
       "2025-11-21              NaN               NaN                 NaN\n",
       "2025-11-24              NaN               NaN                 NaN\n",
       "2025-11-25              NaN               NaN                 NaN"
      ]
     },
     "execution_count": 4,
     "metadata": {},
     "output_type": "execute_result"
    }
   ],
   "source": [
    "sheet = pd.read_excel('data_input_auto/迪拜油.xlsx', sheet_name='Sheet1').rename(columns={'DataTime': 'Date'})\n",
    "sheet = sheet.set_index('Date')\n",
    "last_day = sheet['Dubai连1合约价格（路透）'].last_valid_index()\n",
    "\n",
    "future_data_30days = sheet[sheet.index > last_day]\n",
    "target_days = pd.date_range(start=last_day+ pd.DateOffset(1), periods=20, freq='B')\n",
    "target_end = target_days[-1]\n",
    "new_index = pd.date_range(start=last_day+ pd.DateOffset(1), end=target_end, freq='B')\n",
    "sheet = sheet.reindex(sheet.index.union(new_index))\n",
    "sheet = sheet[sheet.index <= target_end]\n",
    "\n",
    "sheet.tail()"
   ]
  },
  {
   "cell_type": "code",
   "execution_count": 5,
   "metadata": {
    "execution": {
     "iopub.execute_input": "2025-10-29T07:54:04.660900Z",
     "iopub.status.busy": "2025-10-29T07:54:04.660714Z",
     "iopub.status.idle": "2025-10-29T07:54:04.710666Z",
     "shell.execute_reply": "2025-10-29T07:54:04.710049Z"
    }
   },
   "outputs": [
    {
     "data": {
      "text/html": [
       "<div>\n",
       "<style scoped>\n",
       "    .dataframe tbody tr th:only-of-type {\n",
       "        vertical-align: middle;\n",
       "    }\n",
       "\n",
       "    .dataframe tbody tr th {\n",
       "        vertical-align: top;\n",
       "    }\n",
       "\n",
       "    .dataframe thead th {\n",
       "        text-align: right;\n",
       "    }\n",
       "</style>\n",
       "<table border=\"1\" class=\"dataframe\">\n",
       "  <thead>\n",
       "    <tr style=\"text-align: right;\">\n",
       "      <th></th>\n",
       "      <th>Date</th>\n",
       "      <th>预测值</th>\n",
       "    </tr>\n",
       "  </thead>\n",
       "  <tbody>\n",
       "    <tr>\n",
       "      <th>29</th>\n",
       "      <td>2025-10-29</td>\n",
       "      <td>-0.2</td>\n",
       "    </tr>\n",
       "    <tr>\n",
       "      <th>28</th>\n",
       "      <td>2025-10-30</td>\n",
       "      <td>-0.2</td>\n",
       "    </tr>\n",
       "    <tr>\n",
       "      <th>27</th>\n",
       "      <td>2025-10-31</td>\n",
       "      <td>-0.2</td>\n",
       "    </tr>\n",
       "    <tr>\n",
       "      <th>26</th>\n",
       "      <td>2025-11-03</td>\n",
       "      <td>-0.2</td>\n",
       "    </tr>\n",
       "    <tr>\n",
       "      <th>25</th>\n",
       "      <td>2025-11-04</td>\n",
       "      <td>-0.2</td>\n",
       "    </tr>\n",
       "  </tbody>\n",
       "</table>\n",
       "</div>"
      ],
      "text/plain": [
       "         Date  预测值\n",
       "29 2025-10-29 -0.2\n",
       "28 2025-10-30 -0.2\n",
       "27 2025-10-31 -0.2\n",
       "26 2025-11-03 -0.2\n",
       "25 2025-11-04 -0.2"
      ]
     },
     "execution_count": 5,
     "metadata": {},
     "output_type": "execute_result"
    }
   ],
   "source": [
    "file_path1 = os.path.expanduser(\"eta/Brent-Dubai_合并数据.xlsx\") \n",
    "sheet1 = pd.ExcelFile(file_path1).parse('Sheet1')\n",
    "sheet1['Date'] = pd.to_datetime(sheet1['Date'], errors='coerce')\n",
    "sheet1 = sheet1.drop(columns=['真实值'])\n",
    "sheet1 = sheet1.dropna()\n",
    "sheet1 = sheet1.sort_values('Date', ascending=True)\n",
    "sheet1.head()"
   ]
  },
  {
   "cell_type": "code",
   "execution_count": 6,
   "metadata": {
    "execution": {
     "iopub.execute_input": "2025-10-29T07:54:04.713611Z",
     "iopub.status.busy": "2025-10-29T07:54:04.713095Z",
     "iopub.status.idle": "2025-10-29T07:54:04.751722Z",
     "shell.execute_reply": "2025-10-29T07:54:04.750443Z"
    }
   },
   "outputs": [
    {
     "data": {
      "text/html": [
       "<div>\n",
       "<style scoped>\n",
       "    .dataframe tbody tr th:only-of-type {\n",
       "        vertical-align: middle;\n",
       "    }\n",
       "\n",
       "    .dataframe tbody tr th {\n",
       "        vertical-align: top;\n",
       "    }\n",
       "\n",
       "    .dataframe thead th {\n",
       "        text-align: right;\n",
       "    }\n",
       "</style>\n",
       "<table border=\"1\" class=\"dataframe\">\n",
       "  <thead>\n",
       "    <tr style=\"text-align: right;\">\n",
       "      <th></th>\n",
       "      <th>Date</th>\n",
       "      <th>Brent原油期货价格预测</th>\n",
       "    </tr>\n",
       "  </thead>\n",
       "  <tbody>\n",
       "    <tr>\n",
       "      <th>20</th>\n",
       "      <td>2025-10-29</td>\n",
       "      <td>76.13</td>\n",
       "    </tr>\n",
       "    <tr>\n",
       "      <th>19</th>\n",
       "      <td>2025-10-30</td>\n",
       "      <td>77.47</td>\n",
       "    </tr>\n",
       "    <tr>\n",
       "      <th>18</th>\n",
       "      <td>2025-10-31</td>\n",
       "      <td>78.52</td>\n",
       "    </tr>\n",
       "    <tr>\n",
       "      <th>17</th>\n",
       "      <td>2025-11-03</td>\n",
       "      <td>79.34</td>\n",
       "    </tr>\n",
       "    <tr>\n",
       "      <th>16</th>\n",
       "      <td>2025-11-04</td>\n",
       "      <td>80.35</td>\n",
       "    </tr>\n",
       "  </tbody>\n",
       "</table>\n",
       "</div>"
      ],
      "text/plain": [
       "         Date  Brent原油期货价格预测\n",
       "20 2025-10-29          76.13\n",
       "19 2025-10-30          77.47\n",
       "18 2025-10-31          78.52\n",
       "17 2025-11-03          79.34\n",
       "16 2025-11-04          80.35"
      ]
     },
     "execution_count": 6,
     "metadata": {},
     "output_type": "execute_result"
    }
   ],
   "source": [
    "file_path2 = os.path.expanduser(\"eta/Brent原油价格_合并数据.xlsx\") \n",
    "sheet2 = pd.ExcelFile(file_path2).parse('Sheet1')\n",
    "sheet2['Date'] = pd.to_datetime(sheet2['Date'], errors='coerce')\n",
    "sheet2 = sheet2.drop(columns=['布伦特原油期货价格'])\n",
    "sheet2 = sheet2.dropna()\n",
    "sheet2 = sheet2.sort_values('Date', ascending=True)\n",
    "sheet2.head()"
   ]
  },
  {
   "cell_type": "code",
   "execution_count": 7,
   "metadata": {
    "execution": {
     "iopub.execute_input": "2025-10-29T07:54:04.754315Z",
     "iopub.status.busy": "2025-10-29T07:54:04.753934Z",
     "iopub.status.idle": "2025-10-29T07:54:04.770616Z",
     "shell.execute_reply": "2025-10-29T07:54:04.769979Z"
    }
   },
   "outputs": [
    {
     "data": {
      "text/html": [
       "<div>\n",
       "<style scoped>\n",
       "    .dataframe tbody tr th:only-of-type {\n",
       "        vertical-align: middle;\n",
       "    }\n",
       "\n",
       "    .dataframe tbody tr th {\n",
       "        vertical-align: top;\n",
       "    }\n",
       "\n",
       "    .dataframe thead th {\n",
       "        text-align: right;\n",
       "    }\n",
       "</style>\n",
       "<table border=\"1\" class=\"dataframe\">\n",
       "  <thead>\n",
       "    <tr style=\"text-align: right;\">\n",
       "      <th></th>\n",
       "      <th>Date</th>\n",
       "      <th>Dubai连1合约价格（路透）</th>\n",
       "      <th>Brent-Dubai/7DMA</th>\n",
       "      <th>Brent原油期货连1合约价格/路透</th>\n",
       "    </tr>\n",
       "  </thead>\n",
       "  <tbody>\n",
       "    <tr>\n",
       "      <th>3708</th>\n",
       "      <td>2025-11-19</td>\n",
       "      <td>NaN</td>\n",
       "      <td>-0.2</td>\n",
       "      <td>82.20</td>\n",
       "    </tr>\n",
       "    <tr>\n",
       "      <th>3709</th>\n",
       "      <td>2025-11-20</td>\n",
       "      <td>NaN</td>\n",
       "      <td>-0.2</td>\n",
       "      <td>81.78</td>\n",
       "    </tr>\n",
       "    <tr>\n",
       "      <th>3710</th>\n",
       "      <td>2025-11-21</td>\n",
       "      <td>NaN</td>\n",
       "      <td>-0.2</td>\n",
       "      <td>81.46</td>\n",
       "    </tr>\n",
       "    <tr>\n",
       "      <th>3711</th>\n",
       "      <td>2025-11-24</td>\n",
       "      <td>NaN</td>\n",
       "      <td>-0.2</td>\n",
       "      <td>78.77</td>\n",
       "    </tr>\n",
       "    <tr>\n",
       "      <th>3712</th>\n",
       "      <td>2025-11-25</td>\n",
       "      <td>NaN</td>\n",
       "      <td>-0.2</td>\n",
       "      <td>78.78</td>\n",
       "    </tr>\n",
       "  </tbody>\n",
       "</table>\n",
       "</div>"
      ],
      "text/plain": [
       "           Date  Dubai连1合约价格（路透）  Brent-Dubai/7DMA  Brent原油期货连1合约价格/路透\n",
       "3708 2025-11-19              NaN              -0.2               82.20\n",
       "3709 2025-11-20              NaN              -0.2               81.78\n",
       "3710 2025-11-21              NaN              -0.2               81.46\n",
       "3711 2025-11-24              NaN              -0.2               78.77\n",
       "3712 2025-11-25              NaN              -0.2               78.78"
      ]
     },
     "execution_count": 7,
     "metadata": {},
     "output_type": "execute_result"
    }
   ],
   "source": [
    "# 合并 sheet1 和 sheet2 的数据到 sheet\n",
    "sheet_daily = sheet.copy()\n",
    "sheet_daily.index.name = 'Date'\n",
    "sheet_daily = sheet_daily.reset_index()\n",
    "\n",
    "# 合并 sheet1 的美国10年通胀预期数据\n",
    "sheet_daily = pd.merge(\n",
    "    sheet_daily,\n",
    "    sheet1[['Date', '预测值']],\n",
    "    on='Date',\n",
    "    how='left'\n",
    ")\n",
    "sheet_daily['Brent-Dubai/7DMA'] = sheet_daily['Brent-Dubai/7DMA'].fillna(sheet_daily['预测值'])\n",
    "sheet_daily = sheet_daily.drop(columns=['预测值'])\n",
    "\n",
    "# 合并 sheet2 的美元指数数据 \n",
    "sheet_daily = pd.merge(\n",
    "    sheet_daily,\n",
    "    sheet2[['Date', 'Brent原油期货价格预测']],\n",
    "    on='Date',\n",
    "    how='left'\n",
    ")\n",
    "sheet_daily['Brent原油期货连1合约价格/路透'] = sheet_daily['Brent原油期货连1合约价格/路透'].fillna(sheet_daily['Brent原油期货价格预测'])\n",
    "sheet_daily = sheet_daily.drop(columns=['Brent原油期货价格预测'])\n",
    "\n",
    "\n",
    "sheet_daily = sheet_daily[sheet_daily['Date'] >= pd.Timestamp('2023-01-01')]\n",
    "# 删除所有指定列都为空值的行\n",
    "sheet_daily.tail()"
   ]
  },
  {
   "cell_type": "code",
   "execution_count": 8,
   "metadata": {
    "execution": {
     "iopub.execute_input": "2025-10-29T07:54:04.773323Z",
     "iopub.status.busy": "2025-10-29T07:54:04.773172Z",
     "iopub.status.idle": "2025-10-29T07:54:04.914520Z",
     "shell.execute_reply": "2025-10-29T07:54:04.912814Z"
    }
   },
   "outputs": [],
   "source": [
    "# 将7日移动平均转换为原始值\n",
    "# 初始化一个新列用于存储恢复的原始值\n",
    "sheet_daily['Brent-Dubai_Recovered'] = sheet_daily['Brent-Dubai/7DMA']\n",
    "\n",
    "# 使用移动平均公式反推原始值\n",
    "# 原理: MA(t) = [X(t) + X(t-1) + ... + X(t-6)]/7\n",
    "# 因此: X(t) = 7*MA(t) - [X(t-1) + ... + X(t-6)]\n",
    "for i in range(len(sheet_daily)-1, 6, -1):\n",
    "    ma_value = sheet_daily['Brent-Dubai/7DMA'].iloc[i]\n",
    "    prev_sum = sheet_daily['Brent-Dubai_Recovered'].iloc[i-6:i].sum()\n",
    "    sheet_daily.loc[sheet_daily.index[i], 'Brent-Dubai_Recovered'] = 7 * ma_value - prev_sum\n",
    "\n",
    "\n",
    "# 使用原始的Brent-Dubai差价计算Dubai油价预测值\n",
    "sheet_daily['Dubai连1合约价格（路透）_预测'] = sheet_daily['Brent原油期货连1合约价格/路透'] - sheet_daily['Brent-Dubai_Recovered'] "
   ]
  },
  {
   "cell_type": "code",
   "execution_count": 9,
   "metadata": {
    "execution": {
     "iopub.execute_input": "2025-10-29T07:54:04.919305Z",
     "iopub.status.busy": "2025-10-29T07:54:04.919141Z",
     "iopub.status.idle": "2025-10-29T07:54:04.929071Z",
     "shell.execute_reply": "2025-10-29T07:54:04.927688Z"
    }
   },
   "outputs": [
    {
     "data": {
      "text/html": [
       "<div>\n",
       "<style scoped>\n",
       "    .dataframe tbody tr th:only-of-type {\n",
       "        vertical-align: middle;\n",
       "    }\n",
       "\n",
       "    .dataframe tbody tr th {\n",
       "        vertical-align: top;\n",
       "    }\n",
       "\n",
       "    .dataframe thead th {\n",
       "        text-align: right;\n",
       "    }\n",
       "</style>\n",
       "<table border=\"1\" class=\"dataframe\">\n",
       "  <thead>\n",
       "    <tr style=\"text-align: right;\">\n",
       "      <th></th>\n",
       "      <th>Date</th>\n",
       "      <th>Dubai连1合约价格（路透）</th>\n",
       "      <th>Brent-Dubai/7DMA</th>\n",
       "      <th>Brent原油期货连1合约价格/路透</th>\n",
       "      <th>Brent-Dubai_Recovered</th>\n",
       "      <th>Dubai连1合约价格（路透）_预测</th>\n",
       "    </tr>\n",
       "  </thead>\n",
       "  <tbody>\n",
       "    <tr>\n",
       "      <th>3708</th>\n",
       "      <td>2025-11-19</td>\n",
       "      <td>NaN</td>\n",
       "      <td>-0.2</td>\n",
       "      <td>82.20</td>\n",
       "      <td>-0.2</td>\n",
       "      <td>82.40</td>\n",
       "    </tr>\n",
       "    <tr>\n",
       "      <th>3709</th>\n",
       "      <td>2025-11-20</td>\n",
       "      <td>NaN</td>\n",
       "      <td>-0.2</td>\n",
       "      <td>81.78</td>\n",
       "      <td>-0.2</td>\n",
       "      <td>81.98</td>\n",
       "    </tr>\n",
       "    <tr>\n",
       "      <th>3710</th>\n",
       "      <td>2025-11-21</td>\n",
       "      <td>NaN</td>\n",
       "      <td>-0.2</td>\n",
       "      <td>81.46</td>\n",
       "      <td>-0.2</td>\n",
       "      <td>81.66</td>\n",
       "    </tr>\n",
       "    <tr>\n",
       "      <th>3711</th>\n",
       "      <td>2025-11-24</td>\n",
       "      <td>NaN</td>\n",
       "      <td>-0.2</td>\n",
       "      <td>78.77</td>\n",
       "      <td>-0.2</td>\n",
       "      <td>78.97</td>\n",
       "    </tr>\n",
       "    <tr>\n",
       "      <th>3712</th>\n",
       "      <td>2025-11-25</td>\n",
       "      <td>NaN</td>\n",
       "      <td>-0.2</td>\n",
       "      <td>78.78</td>\n",
       "      <td>-0.2</td>\n",
       "      <td>78.98</td>\n",
       "    </tr>\n",
       "  </tbody>\n",
       "</table>\n",
       "</div>"
      ],
      "text/plain": [
       "           Date  Dubai连1合约价格（路透）  Brent-Dubai/7DMA  Brent原油期货连1合约价格/路透  \\\n",
       "3708 2025-11-19              NaN              -0.2               82.20   \n",
       "3709 2025-11-20              NaN              -0.2               81.78   \n",
       "3710 2025-11-21              NaN              -0.2               81.46   \n",
       "3711 2025-11-24              NaN              -0.2               78.77   \n",
       "3712 2025-11-25              NaN              -0.2               78.78   \n",
       "\n",
       "      Brent-Dubai_Recovered  Dubai连1合约价格（路透）_预测  \n",
       "3708                   -0.2               82.40  \n",
       "3709                   -0.2               81.98  \n",
       "3710                   -0.2               81.66  \n",
       "3711                   -0.2               78.97  \n",
       "3712                   -0.2               78.98  "
      ]
     },
     "execution_count": 9,
     "metadata": {},
     "output_type": "execute_result"
    }
   ],
   "source": [
    "sheet_daily.tail()"
   ]
  },
  {
   "cell_type": "code",
   "execution_count": null,
   "metadata": {},
   "outputs": [],
   "source": []
  },
  {
   "cell_type": "markdown",
   "metadata": {},
   "source": [
    "---"
   ]
  },
  {
   "cell_type": "code",
   "execution_count": 10,
   "metadata": {
    "execution": {
     "iopub.execute_input": "2025-10-29T07:54:04.932645Z",
     "iopub.status.busy": "2025-10-29T07:54:04.932470Z",
     "iopub.status.idle": "2025-10-29T07:54:05.010809Z",
     "shell.execute_reply": "2025-10-29T07:54:05.009689Z"
    }
   },
   "outputs": [
    {
     "data": {
      "text/html": [
       "<div>\n",
       "<style scoped>\n",
       "    .dataframe tbody tr th:only-of-type {\n",
       "        vertical-align: middle;\n",
       "    }\n",
       "\n",
       "    .dataframe tbody tr th {\n",
       "        vertical-align: top;\n",
       "    }\n",
       "\n",
       "    .dataframe thead th {\n",
       "        text-align: right;\n",
       "    }\n",
       "</style>\n",
       "<table border=\"1\" class=\"dataframe\">\n",
       "  <thead>\n",
       "    <tr style=\"text-align: right;\">\n",
       "      <th></th>\n",
       "      <th>Date</th>\n",
       "      <th>Dubai</th>\n",
       "      <th>Dubai_预测</th>\n",
       "    </tr>\n",
       "  </thead>\n",
       "  <tbody>\n",
       "    <tr>\n",
       "      <th>754</th>\n",
       "      <td>2025/11/25</td>\n",
       "      <td>NaN</td>\n",
       "      <td>78.98</td>\n",
       "    </tr>\n",
       "    <tr>\n",
       "      <th>753</th>\n",
       "      <td>2025/11/24</td>\n",
       "      <td>NaN</td>\n",
       "      <td>78.97</td>\n",
       "    </tr>\n",
       "    <tr>\n",
       "      <th>752</th>\n",
       "      <td>2025/11/21</td>\n",
       "      <td>NaN</td>\n",
       "      <td>81.66</td>\n",
       "    </tr>\n",
       "    <tr>\n",
       "      <th>751</th>\n",
       "      <td>2025/11/20</td>\n",
       "      <td>NaN</td>\n",
       "      <td>81.98</td>\n",
       "    </tr>\n",
       "    <tr>\n",
       "      <th>750</th>\n",
       "      <td>2025/11/19</td>\n",
       "      <td>NaN</td>\n",
       "      <td>82.40</td>\n",
       "    </tr>\n",
       "    <tr>\n",
       "      <th>...</th>\n",
       "      <td>...</td>\n",
       "      <td>...</td>\n",
       "      <td>...</td>\n",
       "    </tr>\n",
       "    <tr>\n",
       "      <th>4</th>\n",
       "      <td>2023/01/09</td>\n",
       "      <td>76.19</td>\n",
       "      <td>NaN</td>\n",
       "    </tr>\n",
       "    <tr>\n",
       "      <th>3</th>\n",
       "      <td>2023/01/06</td>\n",
       "      <td>74.50</td>\n",
       "      <td>NaN</td>\n",
       "    </tr>\n",
       "    <tr>\n",
       "      <th>2</th>\n",
       "      <td>2023/01/05</td>\n",
       "      <td>74.16</td>\n",
       "      <td>NaN</td>\n",
       "    </tr>\n",
       "    <tr>\n",
       "      <th>1</th>\n",
       "      <td>2023/01/04</td>\n",
       "      <td>75.92</td>\n",
       "      <td>NaN</td>\n",
       "    </tr>\n",
       "    <tr>\n",
       "      <th>0</th>\n",
       "      <td>2023/01/03</td>\n",
       "      <td>80.66</td>\n",
       "      <td>NaN</td>\n",
       "    </tr>\n",
       "  </tbody>\n",
       "</table>\n",
       "<p>744 rows × 3 columns</p>\n",
       "</div>"
      ],
      "text/plain": [
       "           Date  Dubai  Dubai_预测\n",
       "754  2025/11/25    NaN     78.98\n",
       "753  2025/11/24    NaN     78.97\n",
       "752  2025/11/21    NaN     81.66\n",
       "751  2025/11/20    NaN     81.98\n",
       "750  2025/11/19    NaN     82.40\n",
       "..          ...    ...       ...\n",
       "4    2023/01/09  76.19       NaN\n",
       "3    2023/01/06  74.50       NaN\n",
       "2    2023/01/05  74.16       NaN\n",
       "1    2023/01/04  75.92       NaN\n",
       "0    2023/01/03  80.66       NaN\n",
       "\n",
       "[744 rows x 3 columns]"
      ]
     },
     "execution_count": 10,
     "metadata": {},
     "output_type": "execute_result"
    }
   ],
   "source": [
    "# 创建历史数据部分\n",
    "historical = sheet_daily[sheet_daily['Date'] <= last_day][['Date', 'Dubai连1合约价格（路透）']]\n",
    "historical.columns = ['Date', 'Dubai']\n",
    "\n",
    "# 创建预测数据部分 \n",
    "forecast = sheet_daily[sheet_daily['Date'] > last_day][['Date', 'Dubai连1合约价格（路透）_预测']]\n",
    "forecast.columns = ['Date', 'Dubai_预测']\n",
    "\n",
    "\n",
    "\n",
    "\n",
    "# 合并历史和预测数据\n",
    "merged_df_daily = pd.concat([historical, forecast], axis=0, join='outer')\n",
    "merged_df_daily = merged_df_daily.sort_values('Date').reset_index(drop=True)\n",
    "merged_df_daily = merged_df_daily.sort_values(by='Date', ascending=False)\n",
    "merged_df_daily = merged_df_daily.dropna(subset=['Dubai','Dubai_预测'],how='all')\n",
    "merged_df_daily['Date'] = merged_df_daily['Date'].dt.strftime('%Y/%m/%d')\n",
    "merged_df_daily.to_excel('eta/迪拜油_合并数据.xlsx', index=False,float_format='%.4f')\n",
    "merged_df_daily"
   ]
  },
  {
   "cell_type": "code",
   "execution_count": 11,
   "metadata": {
    "execution": {
     "iopub.execute_input": "2025-10-29T07:54:05.013996Z",
     "iopub.status.busy": "2025-10-29T07:54:05.013331Z",
     "iopub.status.idle": "2025-10-29T07:54:05.314003Z",
     "shell.execute_reply": "2025-10-29T07:54:05.313153Z"
    }
   },
   "outputs": [
    {
     "data": {
      "image/png": "[encoded data removed]",
      "text/plain": [
       "<Figure size 3000x800 with 1 Axes>"
      ]
     },
     "metadata": {},
     "output_type": "display_data"
    }
   ],
   "source": [
    "# 设置图形大小\n",
    "plt.figure(figsize=(30, 8))\n",
    "\n",
    "merged_df_daily_plot = merged_df_daily.copy()\n",
    "merged_df_daily_plot['Date'] = pd.to_datetime(merged_df_daily_plot['Date'])\n",
    "\n",
    "# 绘制真实值曲线(蓝色)\n",
    "plt.plot(merged_df_daily_plot['Date'], merged_df_daily_plot['Dubai'], color='blue', label='真实值')\n",
    "plt.plot(merged_df_daily_plot['Date'], merged_df_daily_plot['Dubai_预测'], color='red', label='预测值')\n",
    "\n",
    "avline_date = pd.to_datetime(last_day)\n",
    "#plt.axvline(x=avline_date, color='black', linestyle='--')\n",
    "\n",
    "# 设置图例\n",
    "plt.legend()\n",
    "\n",
    "# 设置标题和标签\n",
    "plt.title('Dubai_预测')\n",
    "plt.xlabel('日期')\n",
    "plt.ylabel('值')\n",
    "plt.grid(True)\n",
    "plt.tight_layout()\n",
    "plt.show()"
   ]
  },
  {
   "cell_type": "code",
   "execution_count": 12,
   "metadata": {
    "execution": {
     "iopub.execute_input": "2025-10-29T07:54:05.315787Z",
     "iopub.status.busy": "2025-10-29T07:54:05.315632Z",
     "iopub.status.idle": "2025-10-29T07:54:05.348792Z",
     "shell.execute_reply": "2025-10-29T07:54:05.347258Z"
    }
   },
   "outputs": [
    {
     "data": {
      "text/html": [
       "<div>\n",
       "<style scoped>\n",
       "    .dataframe tbody tr th:only-of-type {\n",
       "        vertical-align: middle;\n",
       "    }\n",
       "\n",
       "    .dataframe tbody tr th {\n",
       "        vertical-align: top;\n",
       "    }\n",
       "\n",
       "    .dataframe thead th {\n",
       "        text-align: right;\n",
       "    }\n",
       "</style>\n",
       "<table border=\"1\" class=\"dataframe\">\n",
       "  <thead>\n",
       "    <tr style=\"text-align: right;\">\n",
       "      <th></th>\n",
       "      <th>Date</th>\n",
       "      <th>Dubai</th>\n",
       "      <th>Dubai_预测</th>\n",
       "    </tr>\n",
       "  </thead>\n",
       "  <tbody>\n",
       "    <tr>\n",
       "      <th>34</th>\n",
       "      <td>2025/11/30</td>\n",
       "      <td>NaN</td>\n",
       "      <td>79.860676</td>\n",
       "    </tr>\n",
       "    <tr>\n",
       "      <th>33</th>\n",
       "      <td>2025/10/31</td>\n",
       "      <td>63.940000</td>\n",
       "      <td>65.536013</td>\n",
       "    </tr>\n",
       "    <tr>\n",
       "      <th>32</th>\n",
       "      <td>2025/09/30</td>\n",
       "      <td>68.328636</td>\n",
       "      <td>67.920714</td>\n",
       "    </tr>\n",
       "    <tr>\n",
       "      <th>31</th>\n",
       "      <td>2025/08/31</td>\n",
       "      <td>68.038571</td>\n",
       "      <td>69.030862</td>\n",
       "    </tr>\n",
       "    <tr>\n",
       "      <th>30</th>\n",
       "      <td>2025/07/31</td>\n",
       "      <td>68.829130</td>\n",
       "      <td>69.115778</td>\n",
       "    </tr>\n",
       "  </tbody>\n",
       "</table>\n",
       "</div>"
      ],
      "text/plain": [
       "          Date      Dubai   Dubai_预测\n",
       "34  2025/11/30        NaN  79.860676\n",
       "33  2025/10/31  63.940000  65.536013\n",
       "32  2025/09/30  68.328636  67.920714\n",
       "31  2025/08/31  68.038571  69.030862\n",
       "30  2025/07/31  68.829130  69.115778"
      ]
     },
     "execution_count": 12,
     "metadata": {},
     "output_type": "execute_result"
    }
   ],
   "source": [
    "# 创建历史数据部分\n",
    "historical_monthly = sheet_daily[sheet_daily['Date'] <= last_day][['Date', 'Dubai连1合约价格（路透）']]\n",
    "historical_monthly.columns = ['Date', 'Dubai']\n",
    "\n",
    "# 创建预测数据部分 \n",
    "forecast_monthly = sheet_daily[sheet_daily['Date'] >= pd.Timestamp('2024-10-01')][['Date', 'Dubai连1合约价格（路透）_预测']]\n",
    "forecast_monthly.columns = ['Date', 'Dubai_预测']\n",
    "\n",
    "merged_df_monthly = pd.merge(historical_monthly, forecast_monthly, on='Date', how='outer')\n",
    "merged_df_monthly.set_index('Date', inplace=True)\n",
    "merged_df_monthly = merged_df_monthly.resample('ME').mean()\n",
    "merged_df_monthly.reset_index(inplace=True)\n",
    "merged_df_monthly =merged_df_monthly.sort_values('Date', ascending=False)\n",
    "merged_df_monthly['Date'] = merged_df_monthly['Date'].dt.strftime('%Y/%m/%d')\n",
    "# 删除Dubai和Dubai_预测都缺失的行\n",
    "merged_df_monthly = merged_df_monthly.dropna(subset=['Dubai', 'Dubai_预测'], how='all')\n",
    "\n",
    "merged_df_monthly.to_excel('eta/迪拜油_月度数据.xlsx', index=False,float_format= '%.4f')\n",
    "merged_df_monthly.head()"
   ]
  },
  {
   "cell_type": "code",
   "execution_count": 13,
   "metadata": {
    "execution": {
     "iopub.execute_input": "2025-10-29T07:54:05.351368Z",
     "iopub.status.busy": "2025-10-29T07:54:05.351208Z",
     "iopub.status.idle": "2025-10-29T07:54:06.367964Z",
     "shell.execute_reply": "2025-10-29T07:54:06.367247Z"
    }
   },
   "outputs": [
    {
     "name": "stdout",
     "output_type": "stream",
     "text": [
      "成功更新 日度数据表 中的数据\n",
      "数据已成功更新到Excel文件\n"
     ]
    }
   ],
   "source": [
    "from Dcel import update_excel_data\n",
    "# 使用示例\n",
    "file_path = \"eta/1.WTI_数据上传.xlsx\"\n",
    "sheet_name = \"日度数据表\"\n",
    "identifier = \"Dubai价格\"\n",
    "\n",
    "# 调用函数更新数据\n",
    "success = update_excel_data(merged_df_daily, file_path, sheet_name, identifier)\n",
    "\n",
    "if success:\n",
    "    print(\"数据已成功更新到Excel文件\")\n",
    "else:\n",
    "    print(\"数据更新失败，请检查错误信息\")"
   ]
  },
  {
   "cell_type": "code",
   "execution_count": 14,
   "metadata": {
    "execution": {
     "iopub.execute_input": "2025-10-29T07:54:06.370973Z",
     "iopub.status.busy": "2025-10-29T07:54:06.370517Z",
     "iopub.status.idle": "2025-10-29T07:54:07.295085Z",
     "shell.execute_reply": "2025-10-29T07:54:07.294434Z"
    }
   },
   "outputs": [
    {
     "name": "stdout",
     "output_type": "stream",
     "text": [
      "数据过滤完成: 保留 23 条数据（2024/01/31 之后），按时间倒序排列\n"
     ]
    },
    {
     "name": "stdout",
     "output_type": "stream",
     "text": [
      "已完成：插入/更新数据，并重新计算'方向/偏差率' (protected_date = 2025/10/31, cutoff_date = 2024/01/31)\n",
      "数据已成功更新到Excel文件\n"
     ]
    }
   ],
   "source": [
    "from Lcel import update_excel_data\n",
    "file_path = \"eta/1.WTI_数据上传.xlsx\"\n",
    "sheet_name = \"详情页\"\n",
    "identifier = \"Dubai价格\"       # NEW: 新增日期标识符列的抬头\n",
    "# 调用函数更新数据\n",
    "success = update_excel_data(merged_df_monthly, file_path, sheet_name, identifier)\n",
    "\n",
    "if success:\n",
    "    print(\"数据已成功更新到Excel文件\")\n",
    "else:\n",
    "    print(\"数据更新失败，请检查错误信息\")"
   ]
  },
  {
   "cell_type": "code",
   "execution_count": 15,
   "metadata": {
    "execution": {
     "iopub.execute_input": "2025-10-29T07:54:07.297378Z",
     "iopub.status.busy": "2025-10-29T07:54:07.297219Z",
     "iopub.status.idle": "2025-10-29T07:54:07.304560Z",
     "shell.execute_reply": "2025-10-29T07:54:07.303776Z"
    }
   },
   "outputs": [
    {
     "data": {
      "text/html": [
       "<div>\n",
       "<style scoped>\n",
       "    .dataframe tbody tr th:only-of-type {\n",
       "        vertical-align: middle;\n",
       "    }\n",
       "\n",
       "    .dataframe tbody tr th {\n",
       "        vertical-align: top;\n",
       "    }\n",
       "\n",
       "    .dataframe thead th {\n",
       "        text-align: right;\n",
       "    }\n",
       "</style>\n",
       "<table border=\"1\" class=\"dataframe\">\n",
       "  <thead>\n",
       "    <tr style=\"text-align: right;\">\n",
       "      <th></th>\n",
       "      <th>Date</th>\n",
       "      <th>Dubai</th>\n",
       "      <th>Dubai_预测</th>\n",
       "    </tr>\n",
       "  </thead>\n",
       "  <tbody>\n",
       "    <tr>\n",
       "      <th>754</th>\n",
       "      <td>2025/11/25</td>\n",
       "      <td>NaN</td>\n",
       "      <td>78.98</td>\n",
       "    </tr>\n",
       "    <tr>\n",
       "      <th>753</th>\n",
       "      <td>2025/11/24</td>\n",
       "      <td>NaN</td>\n",
       "      <td>78.97</td>\n",
       "    </tr>\n",
       "    <tr>\n",
       "      <th>752</th>\n",
       "      <td>2025/11/21</td>\n",
       "      <td>NaN</td>\n",
       "      <td>81.66</td>\n",
       "    </tr>\n",
       "    <tr>\n",
       "      <th>751</th>\n",
       "      <td>2025/11/20</td>\n",
       "      <td>NaN</td>\n",
       "      <td>81.98</td>\n",
       "    </tr>\n",
       "    <tr>\n",
       "      <th>750</th>\n",
       "      <td>2025/11/19</td>\n",
       "      <td>NaN</td>\n",
       "      <td>82.40</td>\n",
       "    </tr>\n",
       "    <tr>\n",
       "      <th>...</th>\n",
       "      <td>...</td>\n",
       "      <td>...</td>\n",
       "      <td>...</td>\n",
       "    </tr>\n",
       "    <tr>\n",
       "      <th>4</th>\n",
       "      <td>2023/01/09</td>\n",
       "      <td>76.19</td>\n",
       "      <td>NaN</td>\n",
       "    </tr>\n",
       "    <tr>\n",
       "      <th>3</th>\n",
       "      <td>2023/01/06</td>\n",
       "      <td>74.50</td>\n",
       "      <td>NaN</td>\n",
       "    </tr>\n",
       "    <tr>\n",
       "      <th>2</th>\n",
       "      <td>2023/01/05</td>\n",
       "      <td>74.16</td>\n",
       "      <td>NaN</td>\n",
       "    </tr>\n",
       "    <tr>\n",
       "      <th>1</th>\n",
       "      <td>2023/01/04</td>\n",
       "      <td>75.92</td>\n",
       "      <td>NaN</td>\n",
       "    </tr>\n",
       "    <tr>\n",
       "      <th>0</th>\n",
       "      <td>2023/01/03</td>\n",
       "      <td>80.66</td>\n",
       "      <td>NaN</td>\n",
       "    </tr>\n",
       "  </tbody>\n",
       "</table>\n",
       "<p>744 rows × 3 columns</p>\n",
       "</div>"
      ],
      "text/plain": [
       "           Date  Dubai  Dubai_预测\n",
       "754  2025/11/25    NaN     78.98\n",
       "753  2025/11/24    NaN     78.97\n",
       "752  2025/11/21    NaN     81.66\n",
       "751  2025/11/20    NaN     81.98\n",
       "750  2025/11/19    NaN     82.40\n",
       "..          ...    ...       ...\n",
       "4    2023/01/09  76.19       NaN\n",
       "3    2023/01/06  74.50       NaN\n",
       "2    2023/01/05  74.16       NaN\n",
       "1    2023/01/04  75.92       NaN\n",
       "0    2023/01/03  80.66       NaN\n",
       "\n",
       "[744 rows x 3 columns]"
      ]
     },
     "execution_count": 15,
     "metadata": {},
     "output_type": "execute_result"
    }
   ],
   "source": [
    "merged_df_daily"
   ]
  },
  {
   "cell_type": "code",
   "execution_count": 16,
   "metadata": {
    "execution": {
     "iopub.execute_input": "2025-10-29T07:54:07.306391Z",
     "iopub.status.busy": "2025-10-29T07:54:07.306187Z",
     "iopub.status.idle": "2025-10-29T07:54:07.315142Z",
     "shell.execute_reply": "2025-10-29T07:54:07.314579Z"
    }
   },
   "outputs": [
    {
     "name": "stdout",
     "output_type": "stream",
     "text": [
      "          Date     预测叠加\n",
      "30  2025/07/31  73.9400\n",
      "31  2025/08/31  69.8400\n",
      "32  2025/09/30  67.1500\n",
      "33  2025/10/31  79.1872\n",
      "34  2025/11/30  78.9800\n"
     ]
    }
   ],
   "source": [
    "count_prediction = merged_df_daily.copy()\n",
    "# 将实际值和预测值合并为一列\n",
    "count_prediction['预测叠加'] = count_prediction['Dubai'].fillna(count_prediction['Dubai_预测'])\n",
    "# 将日期列转换为datetime格式\n",
    "count_prediction['Date'] = pd.to_datetime(count_prediction['Date'])\n",
    "# 设置日期为索引\n",
    "count_prediction.set_index('Date', inplace=True)\n",
    "# 获取每月最后一天的数据\n",
    "count_monthly_data = count_prediction.resample('ME').last()\n",
    "# 重置索引并格式化日期\n",
    "count_monthly_data = count_monthly_data.reset_index()\n",
    "count_monthly_data['Date'] = count_monthly_data['Date'].dt.strftime('%Y/%m/%d')\n",
    "# 显示结果\n",
    "print(count_monthly_data[['Date', '预测叠加']].tail())\n"
   ]
  },
  {
   "cell_type": "code",
   "execution_count": null,
   "metadata": {},
   "outputs": [],
   "source": []
  }
 ],
 "metadata": {
  "kernelspec": {
   "display_name": "myenv",
   "language": "python",
   "name": "python3"
  },
  "language_info": {
   "codemirror_mode": {
    "name": "ipython",
    "version": 3
   },
   "file_extension": ".py",
   "mimetype": "text/x-python",
   "name": "python",
   "nbconvert_exporter": "python",
   "pygments_lexer": "ipython3",
   "version": "3.13.0"
  }
 },
 "nbformat": 4,
 "nbformat_minor": 2
}
