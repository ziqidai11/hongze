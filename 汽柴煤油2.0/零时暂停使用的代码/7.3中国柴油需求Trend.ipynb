{
 "cells": [
  {
   "cell_type": "code",
   "execution_count": 1,
   "metadata": {
    "execution": {
     "iopub.execute_input": "2025-05-14T06:58:58.926783Z",
     "iopub.status.busy": "2025-05-14T06:58:58.926783Z",
     "iopub.status.idle": "2025-05-14T06:58:59.524548Z",
     "shell.execute_reply": "2025-05-14T06:58:59.524548Z"
    }
   },
   "outputs": [],
   "source": [
    "import pandas as pd\n",
    "import numpy as np\n",
    "import matplotlib.pyplot as plt"
   ]
  },
  {
   "cell_type": "code",
   "execution_count": 2,
   "metadata": {
    "execution": {
     "iopub.execute_input": "2025-05-14T06:58:59.526829Z",
     "iopub.status.busy": "2025-05-14T06:58:59.526829Z",
     "iopub.status.idle": "2025-05-14T06:59:00.021190Z",
     "shell.execute_reply": "2025-05-14T06:59:00.021190Z"
    }
   },
   "outputs": [],
   "source": [
    "# 获取当前文件所在目录的父目录\n",
    "import os\n",
    "import sys\n",
    "\n",
    "current_dir = os.getcwd()\n",
    "parent_dir = os.path.dirname(current_dir)\n",
    "\n",
    "if parent_dir not in sys.path:\n",
    "    sys.path.append(parent_dir)\n",
    "\n",
    "\n",
    "from Dtool import fill_missing_values, plot_factors_by_pattern, plot_comparison_multiple, reverse_column, plot_feature_importance,plot_predictions\n"
   ]
  },
  {
   "cell_type": "code",
   "execution_count": 3,
   "metadata": {
    "execution": {
     "iopub.execute_input": "2025-05-14T06:59:00.024008Z",
     "iopub.status.busy": "2025-05-14T06:59:00.024008Z",
     "iopub.status.idle": "2025-05-14T06:59:00.348018Z",
     "shell.execute_reply": "2025-05-14T06:59:00.347795Z"
    }
   },
   "outputs": [],
   "source": [
    "plt.rcParams['font.sans-serif'] = ['SimHei']  \n",
    "plt.rcParams['axes.unicode_minus'] = False \n",
    "######## 读取数据 ########\n",
    "sheet = pd.read_excel('data_input_auto/中国柴油实际消费量Trend-F=0.2.xlsx', sheet_name='Sheet1').rename(columns={'DataTime': 'Date'})\n",
    "sheet.set_index('Date', inplace=True) \n",
    "sheet = sheet.reset_index().rename(columns={'index': 'Date'})"
   ]
  },
  {
   "cell_type": "code",
   "execution_count": 4,
   "metadata": {
    "execution": {
     "iopub.execute_input": "2025-05-14T06:59:00.349297Z",
     "iopub.status.busy": "2025-05-14T06:59:00.349297Z",
     "iopub.status.idle": "2025-05-14T06:59:00.356364Z",
     "shell.execute_reply": "2025-05-14T06:59:00.356364Z"
    }
   },
   "outputs": [
    {
     "name": "stdout",
     "output_type": "stream",
     "text": [
      "<class 'pandas.core.frame.DataFrame'>\n",
      "RangeIndex: 4468 entries, 0 to 4467\n",
      "Data columns (total 13 columns):\n",
      " #   Column                         Non-Null Count  Dtype         \n",
      "---  ------                         --------------  -----         \n",
      " 0   Date                           4468 non-null   datetime64[ns]\n",
      " 1   中国柴油实际消费量Trend/F=0.2           215 non-null    float64       \n",
      " 2   中国10年期国债收益率同差                  4204 non-null   float64       \n",
      " 3   企业中长期贷款+居民短期贷款同差/3MMA          207 non-null    float64       \n",
      " 4   新增人民币存款/12MMA                  314 non-null    float64       \n",
      " 5   M1同比/3MMA                      356 non-null    float64       \n",
      " 6   固定资产投资完成额:基础设施建设投资(不含电力):累计同比  121 non-null    float64       \n",
      " 7   A股基建指数                         3000 non-null   float64       \n",
      " 8   水泥磨机运转率Trend/F=0.1             663 non-null    float64       \n",
      " 9   上海新房平均销售价格同比                   96 non-null     float64       \n",
      " 10  纯电动重卡月度渗透率/6MMA                39 non-null     float64       \n",
      " 11  中国新能源重卡销量累计值转月值/6MMA           27 non-null     float64       \n",
      " 12  中国柴油实际消费量                      262 non-null    float64       \n",
      "dtypes: datetime64[ns](1), float64(12)\n",
      "memory usage: 453.9 KB\n"
     ]
    }
   ],
   "source": [
    "sheet.info()"
   ]
  },
  {
   "cell_type": "code",
   "execution_count": 5,
   "metadata": {
    "execution": {
     "iopub.execute_input": "2025-05-14T06:59:00.384854Z",
     "iopub.status.busy": "2025-05-14T06:59:00.384854Z",
     "iopub.status.idle": "2025-05-14T06:59:00.397117Z",
     "shell.execute_reply": "2025-05-14T06:59:00.396691Z"
    }
   },
   "outputs": [
    {
     "data": {
      "text/html": [
       "<div>\n",
       "<style scoped>\n",
       "    .dataframe tbody tr th:only-of-type {\n",
       "        vertical-align: middle;\n",
       "    }\n",
       "\n",
       "    .dataframe tbody tr th {\n",
       "        vertical-align: top;\n",
       "    }\n",
       "\n",
       "    .dataframe thead th {\n",
       "        text-align: right;\n",
       "    }\n",
       "</style>\n",
       "<table border=\"1\" class=\"dataframe\">\n",
       "  <thead>\n",
       "    <tr style=\"text-align: right;\">\n",
       "      <th></th>\n",
       "      <th>Date</th>\n",
       "      <th>中国柴油实际消费量Trend/F=0.2</th>\n",
       "      <th>中国10年期国债收益率同差</th>\n",
       "      <th>企业中长期贷款+居民短期贷款同差/3MMA</th>\n",
       "      <th>新增人民币存款/12MMA</th>\n",
       "      <th>M1同比/3MMA</th>\n",
       "      <th>固定资产投资完成额:基础设施建设投资(不含电力):累计同比</th>\n",
       "      <th>A股基建指数</th>\n",
       "      <th>水泥磨机运转率Trend/F=0.1</th>\n",
       "      <th>上海新房平均销售价格同比</th>\n",
       "      <th>纯电动重卡月度渗透率/6MMA</th>\n",
       "      <th>中国新能源重卡销量累计值转月值/6MMA</th>\n",
       "      <th>中国柴油实际消费量</th>\n",
       "    </tr>\n",
       "  </thead>\n",
       "  <tbody>\n",
       "    <tr>\n",
       "      <th>4463</th>\n",
       "      <td>2025-05-08</td>\n",
       "      <td>NaN</td>\n",
       "      <td>-0.6622</td>\n",
       "      <td>NaN</td>\n",
       "      <td>NaN</td>\n",
       "      <td>NaN</td>\n",
       "      <td>NaN</td>\n",
       "      <td>1568.2656</td>\n",
       "      <td>33.115572</td>\n",
       "      <td>NaN</td>\n",
       "      <td>NaN</td>\n",
       "      <td>NaN</td>\n",
       "      <td>NaN</td>\n",
       "    </tr>\n",
       "    <tr>\n",
       "      <th>4464</th>\n",
       "      <td>2025-05-09</td>\n",
       "      <td>357.066989</td>\n",
       "      <td>-0.6799</td>\n",
       "      <td>NaN</td>\n",
       "      <td>NaN</td>\n",
       "      <td>NaN</td>\n",
       "      <td>NaN</td>\n",
       "      <td>1559.5076</td>\n",
       "      <td>NaN</td>\n",
       "      <td>NaN</td>\n",
       "      <td>NaN</td>\n",
       "      <td>NaN</td>\n",
       "      <td>418.3812</td>\n",
       "    </tr>\n",
       "    <tr>\n",
       "      <th>4465</th>\n",
       "      <td>2025-05-12</td>\n",
       "      <td>NaN</td>\n",
       "      <td>-0.6035</td>\n",
       "      <td>NaN</td>\n",
       "      <td>NaN</td>\n",
       "      <td>NaN</td>\n",
       "      <td>NaN</td>\n",
       "      <td>1573.1825</td>\n",
       "      <td>NaN</td>\n",
       "      <td>NaN</td>\n",
       "      <td>NaN</td>\n",
       "      <td>NaN</td>\n",
       "      <td>NaN</td>\n",
       "    </tr>\n",
       "    <tr>\n",
       "      <th>4466</th>\n",
       "      <td>2025-05-13</td>\n",
       "      <td>NaN</td>\n",
       "      <td>-0.6221</td>\n",
       "      <td>NaN</td>\n",
       "      <td>NaN</td>\n",
       "      <td>NaN</td>\n",
       "      <td>NaN</td>\n",
       "      <td>1577.9572</td>\n",
       "      <td>NaN</td>\n",
       "      <td>NaN</td>\n",
       "      <td>NaN</td>\n",
       "      <td>NaN</td>\n",
       "      <td>NaN</td>\n",
       "    </tr>\n",
       "    <tr>\n",
       "      <th>4467</th>\n",
       "      <td>2025-05-14</td>\n",
       "      <td>NaN</td>\n",
       "      <td>NaN</td>\n",
       "      <td>NaN</td>\n",
       "      <td>NaN</td>\n",
       "      <td>NaN</td>\n",
       "      <td>NaN</td>\n",
       "      <td>1577.9572</td>\n",
       "      <td>NaN</td>\n",
       "      <td>NaN</td>\n",
       "      <td>NaN</td>\n",
       "      <td>NaN</td>\n",
       "      <td>NaN</td>\n",
       "    </tr>\n",
       "  </tbody>\n",
       "</table>\n",
       "</div>"
      ],
      "text/plain": [
       "           Date  中国柴油实际消费量Trend/F=0.2  中国10年期国债收益率同差  企业中长期贷款+居民短期贷款同差/3MMA  \\\n",
       "4463 2025-05-08                   NaN        -0.6622                    NaN   \n",
       "4464 2025-05-09            357.066989        -0.6799                    NaN   \n",
       "4465 2025-05-12                   NaN        -0.6035                    NaN   \n",
       "4466 2025-05-13                   NaN        -0.6221                    NaN   \n",
       "4467 2025-05-14                   NaN            NaN                    NaN   \n",
       "\n",
       "      新增人民币存款/12MMA  M1同比/3MMA  固定资产投资完成额:基础设施建设投资(不含电力):累计同比     A股基建指数  \\\n",
       "4463            NaN        NaN                            NaN  1568.2656   \n",
       "4464            NaN        NaN                            NaN  1559.5076   \n",
       "4465            NaN        NaN                            NaN  1573.1825   \n",
       "4466            NaN        NaN                            NaN  1577.9572   \n",
       "4467            NaN        NaN                            NaN  1577.9572   \n",
       "\n",
       "      水泥磨机运转率Trend/F=0.1  上海新房平均销售价格同比  纯电动重卡月度渗透率/6MMA  中国新能源重卡销量累计值转月值/6MMA  \\\n",
       "4463           33.115572           NaN              NaN                   NaN   \n",
       "4464                 NaN           NaN              NaN                   NaN   \n",
       "4465                 NaN           NaN              NaN                   NaN   \n",
       "4466                 NaN           NaN              NaN                   NaN   \n",
       "4467                 NaN           NaN              NaN                   NaN   \n",
       "\n",
       "      中国柴油实际消费量  \n",
       "4463        NaN  \n",
       "4464   418.3812  \n",
       "4465        NaN  \n",
       "4466        NaN  \n",
       "4467        NaN  "
      ]
     },
     "execution_count": 5,
     "metadata": {},
     "output_type": "execute_result"
    }
   ],
   "source": [
    "sheet.tail()"
   ]
  },
  {
   "cell_type": "code",
   "execution_count": 6,
   "metadata": {
    "execution": {
     "iopub.execute_input": "2025-05-14T06:59:00.398427Z",
     "iopub.status.busy": "2025-05-14T06:59:00.398427Z",
     "iopub.status.idle": "2025-05-14T06:59:00.405142Z",
     "shell.execute_reply": "2025-05-14T06:59:00.405142Z"
    }
   },
   "outputs": [],
   "source": [
    "sheet =  sheet[['Date','中国柴油实际消费量Trend/F=0.2','中国柴油实际消费量']]\n",
    "# 对两列进行线性插值填充空缺值\n",
    "sheet['中国柴油实际消费量Trend/F=0.2'] = sheet['中国柴油实际消费量Trend/F=0.2'].interpolate(method='linear')\n",
    "sheet['中国柴油实际消费量'] = sheet['中国柴油实际消费量'].interpolate(method='linear')\n",
    "\n",
    "sheet = sheet.dropna()"
   ]
  },
  {
   "cell_type": "code",
   "execution_count": 7,
   "metadata": {
    "execution": {
     "iopub.execute_input": "2025-05-14T06:59:00.407169Z",
     "iopub.status.busy": "2025-05-14T06:59:00.407169Z",
     "iopub.status.idle": "2025-05-14T06:59:00.615805Z",
     "shell.execute_reply": "2025-05-14T06:59:00.615805Z"
    }
   },
   "outputs": [
    {
     "data": {
      "image/png": "[encoded data removed]",
      "text/plain": [
       "<Figure size 1500x600 with 1 Axes>"
      ]
     },
     "metadata": {},
     "output_type": "display_data"
    }
   ],
   "source": [
    "\n",
    "# 获取最后一个日期\n",
    "last_date = pd.to_datetime(sheet['Date'].iloc[-1])\n",
    "\n",
    "# 生成未来20个工作日\n",
    "future_dates = pd.date_range(start=last_date + pd.Timedelta(days=1), periods=30, freq='D')  # 生成30天以确保获得20个工作日\n",
    "future_dates = future_dates[future_dates.dayofweek < 5][:20]  # 只保留工作日并取前20天\n",
    "\n",
    "# 获取最后30个历史值用于线性回归\n",
    "last_values = sheet['中国柴油实际消费量Trend/F=0.2'].tail(30).values\n",
    "x = np.arange(len(last_values))\n",
    "y = last_values\n",
    "\n",
    "# 进行线性回归\n",
    "z = np.polyfit(x, y, 1)\n",
    "p = np.poly1d(z)\n",
    "\n",
    "# 预测未来20个值\n",
    "future_x = np.arange(len(last_values), len(last_values) + 20)\n",
    "future_values = p(future_x)\n",
    "\n",
    "# 创建预测数据框\n",
    "future_df = pd.DataFrame({\n",
    "    'Date': future_dates,\n",
    "    '中国柴油实际消费量Trend/F=0.2': future_values\n",
    "})\n",
    "\n",
    "# 合并历史数据和预测数据\n",
    "sheet_with_predictions = pd.concat([sheet, future_df], ignore_index=True)\n",
    "# 筛选2020年之后的数据\n",
    "sheet_2020 = sheet[sheet['Date'] >= '2020-01-01']\n",
    "\n",
    "# 绘制结果\n",
    "plt.figure(figsize=(15, 6))\n",
    "plt.plot(sheet_2020['Date'], sheet_2020['中国柴油实际消费量Trend/F=0.2'], label='2020年后历史数据')\n",
    "plt.plot(future_df['Date'], future_df['中国柴油实际消费量Trend/F=0.2'], 'r--', label='预测数据')\n",
    "plt.title('中国柴油实际消费量Trend/F=0.2 预测 (2020年后)')\n",
    "plt.xlabel('日期')\n",
    "plt.legend()\n",
    "plt.grid(True)\n",
    "plt.xticks(rotation=45)\n",
    "plt.tight_layout()\n",
    "plt.show()\n"
   ]
  },
  {
   "cell_type": "code",
   "execution_count": 8,
   "metadata": {
    "execution": {
     "iopub.execute_input": "2025-05-14T06:59:00.618247Z",
     "iopub.status.busy": "2025-05-14T06:59:00.618247Z",
     "iopub.status.idle": "2025-05-14T06:59:00.662091Z",
     "shell.execute_reply": "2025-05-14T06:59:00.661525Z"
    }
   },
   "outputs": [
    {
     "data": {
      "text/html": [
       "<div>\n",
       "<style scoped>\n",
       "    .dataframe tbody tr th:only-of-type {\n",
       "        vertical-align: middle;\n",
       "    }\n",
       "\n",
       "    .dataframe tbody tr th {\n",
       "        vertical-align: top;\n",
       "    }\n",
       "\n",
       "    .dataframe thead th {\n",
       "        text-align: right;\n",
       "    }\n",
       "</style>\n",
       "<table border=\"1\" class=\"dataframe\">\n",
       "  <thead>\n",
       "    <tr style=\"text-align: right;\">\n",
       "      <th></th>\n",
       "      <th>Date</th>\n",
       "      <th>预测值</th>\n",
       "      <th>中国柴油实际消费量Trend/F=0.2</th>\n",
       "      <th>中国柴油实际消费量</th>\n",
       "    </tr>\n",
       "  </thead>\n",
       "  <tbody>\n",
       "    <tr>\n",
       "      <th>865</th>\n",
       "      <td>2025-05-15</td>\n",
       "      <td>35.9719</td>\n",
       "      <td>356.117556</td>\n",
       "      <td>392.089456</td>\n",
       "    </tr>\n",
       "    <tr>\n",
       "      <th>866</th>\n",
       "      <td>2025-05-16</td>\n",
       "      <td>35.4685</td>\n",
       "      <td>355.822172</td>\n",
       "      <td>391.290672</td>\n",
       "    </tr>\n",
       "    <tr>\n",
       "      <th>867</th>\n",
       "      <td>2025-05-19</td>\n",
       "      <td>27.5006</td>\n",
       "      <td>355.526788</td>\n",
       "      <td>383.027388</td>\n",
       "    </tr>\n",
       "    <tr>\n",
       "      <th>868</th>\n",
       "      <td>2025-05-20</td>\n",
       "      <td>26.3005</td>\n",
       "      <td>355.231404</td>\n",
       "      <td>381.531904</td>\n",
       "    </tr>\n",
       "    <tr>\n",
       "      <th>869</th>\n",
       "      <td>2025-05-21</td>\n",
       "      <td>20.8829</td>\n",
       "      <td>354.936020</td>\n",
       "      <td>375.818920</td>\n",
       "    </tr>\n",
       "  </tbody>\n",
       "</table>\n",
       "</div>"
      ],
      "text/plain": [
       "          Date      预测值  中国柴油实际消费量Trend/F=0.2   中国柴油实际消费量\n",
       "865 2025-05-15  35.9719            356.117556  392.089456\n",
       "866 2025-05-16  35.4685            355.822172  391.290672\n",
       "867 2025-05-19  27.5006            355.526788  383.027388\n",
       "868 2025-05-20  26.3005            355.231404  381.531904\n",
       "869 2025-05-21  20.8829            354.936020  375.818920"
      ]
     },
     "execution_count": 8,
     "metadata": {},
     "output_type": "execute_result"
    }
   ],
   "source": [
    "########################   读取数据  #########################################\n",
    "sheet_non_trend = pd.read_excel('eta/中国柴油实际消费量Non-Trend-F0.2_合并数据.xlsx', sheet_name='Sheet1')\n",
    "sheet_non_trend['Date'] = pd.to_datetime(sheet_non_trend['Date'])\n",
    "# trend + non-trend \n",
    "merged_df = pd.merge(\n",
    "    sheet_non_trend[['Date', '预测值']], \n",
    "    future_df[['Date', '中国柴油实际消费量Trend/F=0.2']], \n",
    "    on='Date',\n",
    "    how='outer'\n",
    ")\n",
    "# 删除包含空值的行\n",
    "merged_df = merged_df.dropna()\n",
    "# 计算最终的\n",
    "merged_df['中国柴油实际消费量'] = merged_df['预测值'] + merged_df['中国柴油实际消费量Trend/F=0.2']\n",
    "merged_df.head() "
   ]
  },
  {
   "cell_type": "code",
   "execution_count": 9,
   "metadata": {
    "execution": {
     "iopub.execute_input": "2025-05-14T06:59:00.663814Z",
     "iopub.status.busy": "2025-05-14T06:59:00.663814Z",
     "iopub.status.idle": "2025-05-14T06:59:00.845529Z",
     "shell.execute_reply": "2025-05-14T06:59:00.844749Z"
    }
   },
   "outputs": [
    {
     "data": {
      "image/png": "[encoded data removed]",
      "text/plain": [
       "<Figure size 1500x600 with 1 Axes>"
      ]
     },
     "metadata": {},
     "output_type": "display_data"
    }
   ],
   "source": [
    "# 绘制最终走势图\n",
    "plt.figure(figsize=(15, 6))\n",
    "# 筛选2020年之后的数据\n",
    "sheet_2020 = sheet[sheet['Date'] >= '2024-01-01']\n",
    "# 绘制历史数据\n",
    "plt.plot(sheet_2020['Date'], sheet_2020['中国柴油实际消费量'], label='历史走势', color='blue')\n",
    "# 添加垂直分隔线,标记历史数据和预测数据的分界点\n",
    "last_historical_date = sheet_2020['Date'].iloc[-1]\n",
    "plt.axvline(x=last_historical_date, color='gray', linestyle='--', label='历史/预测分界线')\n",
    "# 绘制预测数据\n",
    "plt.plot(merged_df['Date'], merged_df['中国柴油实际消费量'], label='预测走势', color='red', linestyle='--')\n",
    "\n",
    "plt.title('中国柴油实际消费量 历史与预测对比')\n",
    "plt.xlabel('日期')\n",
    "plt.ylabel('价格')\n",
    "plt.legend()\n",
    "plt.grid(True)\n",
    "plt.xticks(rotation=45)\n",
    "plt.tight_layout()\n",
    "plt.show()\n"
   ]
  },
  {
   "cell_type": "code",
   "execution_count": 10,
   "metadata": {
    "execution": {
     "iopub.execute_input": "2025-05-14T06:59:00.847027Z",
     "iopub.status.busy": "2025-05-14T06:59:00.847027Z",
     "iopub.status.idle": "2025-05-14T06:59:00.904089Z",
     "shell.execute_reply": "2025-05-14T06:59:00.904089Z"
    }
   },
   "outputs": [
    {
     "data": {
      "text/html": [
       "<div>\n",
       "<style scoped>\n",
       "    .dataframe tbody tr th:only-of-type {\n",
       "        vertical-align: middle;\n",
       "    }\n",
       "\n",
       "    .dataframe tbody tr th {\n",
       "        vertical-align: top;\n",
       "    }\n",
       "\n",
       "    .dataframe thead th {\n",
       "        text-align: right;\n",
       "    }\n",
       "</style>\n",
       "<table border=\"1\" class=\"dataframe\">\n",
       "  <thead>\n",
       "    <tr style=\"text-align: right;\">\n",
       "      <th></th>\n",
       "      <th>Date</th>\n",
       "      <th>实际值</th>\n",
       "      <th>中国柴油实际消费量</th>\n",
       "    </tr>\n",
       "  </thead>\n",
       "  <tbody>\n",
       "    <tr>\n",
       "      <th>629</th>\n",
       "      <td>2025/06/11</td>\n",
       "      <td>NaN</td>\n",
       "      <td>377.505061</td>\n",
       "    </tr>\n",
       "    <tr>\n",
       "      <th>628</th>\n",
       "      <td>2025/06/10</td>\n",
       "      <td>NaN</td>\n",
       "      <td>378.459845</td>\n",
       "    </tr>\n",
       "    <tr>\n",
       "      <th>627</th>\n",
       "      <td>2025/06/09</td>\n",
       "      <td>NaN</td>\n",
       "      <td>380.843829</td>\n",
       "    </tr>\n",
       "    <tr>\n",
       "      <th>626</th>\n",
       "      <td>2025/06/06</td>\n",
       "      <td>NaN</td>\n",
       "      <td>380.921513</td>\n",
       "    </tr>\n",
       "    <tr>\n",
       "      <th>625</th>\n",
       "      <td>2025/06/05</td>\n",
       "      <td>NaN</td>\n",
       "      <td>381.229197</td>\n",
       "    </tr>\n",
       "    <tr>\n",
       "      <th>...</th>\n",
       "      <td>...</td>\n",
       "      <td>...</td>\n",
       "      <td>...</td>\n",
       "    </tr>\n",
       "    <tr>\n",
       "      <th>4</th>\n",
       "      <td>2023/01/09</td>\n",
       "      <td>404.4583</td>\n",
       "      <td>NaN</td>\n",
       "    </tr>\n",
       "    <tr>\n",
       "      <th>3</th>\n",
       "      <td>2023/01/06</td>\n",
       "      <td>412.6683</td>\n",
       "      <td>NaN</td>\n",
       "    </tr>\n",
       "    <tr>\n",
       "      <th>2</th>\n",
       "      <td>2023/01/05</td>\n",
       "      <td>414.4047</td>\n",
       "      <td>NaN</td>\n",
       "    </tr>\n",
       "    <tr>\n",
       "      <th>1</th>\n",
       "      <td>2023/01/04</td>\n",
       "      <td>416.1411</td>\n",
       "      <td>NaN</td>\n",
       "    </tr>\n",
       "    <tr>\n",
       "      <th>0</th>\n",
       "      <td>2023/01/03</td>\n",
       "      <td>417.8775</td>\n",
       "      <td>NaN</td>\n",
       "    </tr>\n",
       "  </tbody>\n",
       "</table>\n",
       "<p>630 rows × 3 columns</p>\n",
       "</div>"
      ],
      "text/plain": [
       "           Date       实际值   中国柴油实际消费量\n",
       "629  2025/06/11       NaN  377.505061\n",
       "628  2025/06/10       NaN  378.459845\n",
       "627  2025/06/09       NaN  380.843829\n",
       "626  2025/06/06       NaN  380.921513\n",
       "625  2025/06/05       NaN  381.229197\n",
       "..          ...       ...         ...\n",
       "4    2023/01/09  404.4583         NaN\n",
       "3    2023/01/06  412.6683         NaN\n",
       "2    2023/01/05  414.4047         NaN\n",
       "1    2023/01/04  416.1411         NaN\n",
       "0    2023/01/03  417.8775         NaN\n",
       "\n",
       "[630 rows x 3 columns]"
      ]
     },
     "execution_count": 10,
     "metadata": {},
     "output_type": "execute_result"
    }
   ],
   "source": [
    "sheet_data_2023_shizhi = sheet[sheet['Date'].dt.year >= 2023][['Date', '中国柴油实际消费量']]\n",
    "sheet_data_2023_shizhi.columns = ['Date', '实际值']\n",
    "future_df_shizhi = merged_df[['Date', '中国柴油实际消费量']]\n",
    "merged_df_shizhi = pd.merge(sheet_data_2023_shizhi, future_df_shizhi, on='Date', how='outer')\n",
    "merged_df_shizhi = merged_df_shizhi.sort_values('Date', ascending=False)\n",
    "merged_df_shizhi['Date'] = merged_df_shizhi['Date'].dt.strftime('%Y/%m/%d')\n",
    "merged_df_shizhi.to_excel('eta/中国柴油实际消费量_合并数据.xlsx', index=False,float_format='%.2f')\n",
    "merged_df_shizhi"
   ]
  },
  {
   "cell_type": "code",
   "execution_count": 11,
   "metadata": {
    "execution": {
     "iopub.execute_input": "2025-05-14T06:59:00.906402Z",
     "iopub.status.busy": "2025-05-14T06:59:00.906402Z",
     "iopub.status.idle": "2025-05-14T06:59:00.925103Z",
     "shell.execute_reply": "2025-05-14T06:59:00.925103Z"
    }
   },
   "outputs": [
    {
     "data": {
      "text/html": [
       "<div>\n",
       "<style scoped>\n",
       "    .dataframe tbody tr th:only-of-type {\n",
       "        vertical-align: middle;\n",
       "    }\n",
       "\n",
       "    .dataframe tbody tr th {\n",
       "        vertical-align: top;\n",
       "    }\n",
       "\n",
       "    .dataframe thead th {\n",
       "        text-align: right;\n",
       "    }\n",
       "</style>\n",
       "<table border=\"1\" class=\"dataframe\">\n",
       "  <thead>\n",
       "    <tr style=\"text-align: right;\">\n",
       "      <th></th>\n",
       "      <th>Date</th>\n",
       "      <th>实际值</th>\n",
       "      <th>中国柴油实际消费量</th>\n",
       "    </tr>\n",
       "  </thead>\n",
       "  <tbody>\n",
       "    <tr>\n",
       "      <th>0</th>\n",
       "      <td>2025/06/30</td>\n",
       "      <td>NaN</td>\n",
       "      <td>377.505061</td>\n",
       "    </tr>\n",
       "    <tr>\n",
       "      <th>1</th>\n",
       "      <td>2025/05/31</td>\n",
       "      <td>418.381200</td>\n",
       "      <td>384.658633</td>\n",
       "    </tr>\n",
       "    <tr>\n",
       "      <th>2</th>\n",
       "      <td>2025/04/30</td>\n",
       "      <td>366.546267</td>\n",
       "      <td>NaN</td>\n",
       "    </tr>\n",
       "    <tr>\n",
       "      <th>3</th>\n",
       "      <td>2025/03/31</td>\n",
       "      <td>374.262900</td>\n",
       "      <td>NaN</td>\n",
       "    </tr>\n",
       "    <tr>\n",
       "      <th>4</th>\n",
       "      <td>2025/02/28</td>\n",
       "      <td>387.314000</td>\n",
       "      <td>NaN</td>\n",
       "    </tr>\n",
       "  </tbody>\n",
       "</table>\n",
       "</div>"
      ],
      "text/plain": [
       "         Date         实际值   中国柴油实际消费量\n",
       "0  2025/06/30         NaN  377.505061\n",
       "1  2025/05/31  418.381200  384.658633\n",
       "2  2025/04/30  366.546267         NaN\n",
       "3  2025/03/31  374.262900         NaN\n",
       "4  2025/02/28  387.314000         NaN"
      ]
     },
     "execution_count": 11,
     "metadata": {},
     "output_type": "execute_result"
    }
   ],
   "source": [
    "# 将日期列转换为datetime格式\n",
    "merged_df_shizhi['Date'] = pd.to_datetime(merged_df_shizhi['Date'])\n",
    "# 按月份重采样并取每月最后一个交易日的数据\n",
    "monthly_df_shizhi = merged_df_shizhi.set_index('Date').resample('ME').last()\n",
    "monthly_df_shizhi = monthly_df_shizhi.sort_values('Date', ascending=False)\n",
    "# 重置索引并格式化日期\n",
    "monthly_df_shizhi = monthly_df_shizhi.reset_index()\n",
    "monthly_df_shizhi['Date'] = monthly_df_shizhi['Date'].dt.strftime('%Y/%m/%d')\n",
    "# 保存月度数据到Excel\n",
    "monthly_df_shizhi.to_excel('eta/中国柴油实际消费量_月度数据.xlsx', index=False, float_format='%.2f')\n",
    "monthly_df_shizhi.head()"
   ]
  },
  {
   "cell_type": "markdown",
   "metadata": {},
   "source": [
    "---"
   ]
  },
  {
   "cell_type": "code",
   "execution_count": 12,
   "metadata": {
    "execution": {
     "iopub.execute_input": "2025-05-14T06:59:00.927156Z",
     "iopub.status.busy": "2025-05-14T06:59:00.927156Z",
     "iopub.status.idle": "2025-05-14T06:59:00.966741Z",
     "shell.execute_reply": "2025-05-14T06:59:00.966047Z"
    }
   },
   "outputs": [
    {
     "data": {
      "text/html": [
       "<div>\n",
       "<style scoped>\n",
       "    .dataframe tbody tr th:only-of-type {\n",
       "        vertical-align: middle;\n",
       "    }\n",
       "\n",
       "    .dataframe tbody tr th {\n",
       "        vertical-align: top;\n",
       "    }\n",
       "\n",
       "    .dataframe thead th {\n",
       "        text-align: right;\n",
       "    }\n",
       "</style>\n",
       "<table border=\"1\" class=\"dataframe\">\n",
       "  <thead>\n",
       "    <tr style=\"text-align: right;\">\n",
       "      <th></th>\n",
       "      <th>Date</th>\n",
       "      <th>实际值</th>\n",
       "      <th>中国柴油实际消费量Trend/F=0.2</th>\n",
       "    </tr>\n",
       "  </thead>\n",
       "  <tbody>\n",
       "    <tr>\n",
       "      <th>629</th>\n",
       "      <td>2025/06/11</td>\n",
       "      <td>NaN</td>\n",
       "      <td>350.505261</td>\n",
       "    </tr>\n",
       "    <tr>\n",
       "      <th>628</th>\n",
       "      <td>2025/06/10</td>\n",
       "      <td>NaN</td>\n",
       "      <td>350.800645</td>\n",
       "    </tr>\n",
       "    <tr>\n",
       "      <th>627</th>\n",
       "      <td>2025/06/09</td>\n",
       "      <td>NaN</td>\n",
       "      <td>351.096029</td>\n",
       "    </tr>\n",
       "    <tr>\n",
       "      <th>626</th>\n",
       "      <td>2025/06/06</td>\n",
       "      <td>NaN</td>\n",
       "      <td>351.391413</td>\n",
       "    </tr>\n",
       "    <tr>\n",
       "      <th>625</th>\n",
       "      <td>2025/06/05</td>\n",
       "      <td>NaN</td>\n",
       "      <td>351.686797</td>\n",
       "    </tr>\n",
       "    <tr>\n",
       "      <th>...</th>\n",
       "      <td>...</td>\n",
       "      <td>...</td>\n",
       "      <td>...</td>\n",
       "    </tr>\n",
       "    <tr>\n",
       "      <th>4</th>\n",
       "      <td>2023/01/09</td>\n",
       "      <td>393.384088</td>\n",
       "      <td>NaN</td>\n",
       "    </tr>\n",
       "    <tr>\n",
       "      <th>3</th>\n",
       "      <td>2023/01/06</td>\n",
       "      <td>393.316404</td>\n",
       "      <td>NaN</td>\n",
       "    </tr>\n",
       "    <tr>\n",
       "      <th>2</th>\n",
       "      <td>2023/01/05</td>\n",
       "      <td>393.260208</td>\n",
       "      <td>NaN</td>\n",
       "    </tr>\n",
       "    <tr>\n",
       "      <th>1</th>\n",
       "      <td>2023/01/04</td>\n",
       "      <td>393.204011</td>\n",
       "      <td>NaN</td>\n",
       "    </tr>\n",
       "    <tr>\n",
       "      <th>0</th>\n",
       "      <td>2023/01/03</td>\n",
       "      <td>393.147815</td>\n",
       "      <td>NaN</td>\n",
       "    </tr>\n",
       "  </tbody>\n",
       "</table>\n",
       "<p>630 rows × 3 columns</p>\n",
       "</div>"
      ],
      "text/plain": [
       "           Date         实际值  中国柴油实际消费量Trend/F=0.2\n",
       "629  2025/06/11         NaN            350.505261\n",
       "628  2025/06/10         NaN            350.800645\n",
       "627  2025/06/09         NaN            351.096029\n",
       "626  2025/06/06         NaN            351.391413\n",
       "625  2025/06/05         NaN            351.686797\n",
       "..          ...         ...                   ...\n",
       "4    2023/01/09  393.384088                   NaN\n",
       "3    2023/01/06  393.316404                   NaN\n",
       "2    2023/01/05  393.260208                   NaN\n",
       "1    2023/01/04  393.204011                   NaN\n",
       "0    2023/01/03  393.147815                   NaN\n",
       "\n",
       "[630 rows x 3 columns]"
      ]
     },
     "execution_count": 12,
     "metadata": {},
     "output_type": "execute_result"
    }
   ],
   "source": [
    "sheet_data_2023 = sheet[sheet['Date'].dt.year >= 2023][['Date', '中国柴油实际消费量Trend/F=0.2']]\n",
    "sheet_data_2023.columns = ['Date', '实际值']\n",
    "merged_df_trend = pd.merge(sheet_data_2023, future_df, on='Date', how='outer')\n",
    "merged_df_trend = merged_df_trend.sort_values('Date', ascending=False)\n",
    "merged_df_trend['Date'] = merged_df_trend['Date'].dt.strftime('%Y/%m/%d')\n",
    "merged_df_trend.to_excel('eta/中国柴油实际消费量Trend-F=0.2_合并数据.xlsx', index=False,float_format='%.2f')\n",
    "merged_df_trend"
   ]
  },
  {
   "cell_type": "code",
   "execution_count": 13,
   "metadata": {
    "execution": {
     "iopub.execute_input": "2025-05-14T06:59:00.967621Z",
     "iopub.status.busy": "2025-05-14T06:59:00.967621Z",
     "iopub.status.idle": "2025-05-14T06:59:00.986069Z",
     "shell.execute_reply": "2025-05-14T06:59:00.986069Z"
    }
   },
   "outputs": [
    {
     "data": {
      "text/html": [
       "<div>\n",
       "<style scoped>\n",
       "    .dataframe tbody tr th:only-of-type {\n",
       "        vertical-align: middle;\n",
       "    }\n",
       "\n",
       "    .dataframe tbody tr th {\n",
       "        vertical-align: top;\n",
       "    }\n",
       "\n",
       "    .dataframe thead th {\n",
       "        text-align: right;\n",
       "    }\n",
       "</style>\n",
       "<table border=\"1\" class=\"dataframe\">\n",
       "  <thead>\n",
       "    <tr style=\"text-align: right;\">\n",
       "      <th></th>\n",
       "      <th>Date</th>\n",
       "      <th>实际值</th>\n",
       "      <th>中国柴油实际消费量Trend/F=0.2</th>\n",
       "    </tr>\n",
       "  </thead>\n",
       "  <tbody>\n",
       "    <tr>\n",
       "      <th>0</th>\n",
       "      <td>2025/06/30</td>\n",
       "      <td>NaN</td>\n",
       "      <td>350.505261</td>\n",
       "    </tr>\n",
       "    <tr>\n",
       "      <th>1</th>\n",
       "      <td>2025/05/31</td>\n",
       "      <td>357.066989</td>\n",
       "      <td>352.868333</td>\n",
       "    </tr>\n",
       "    <tr>\n",
       "      <th>2</th>\n",
       "      <td>2025/04/30</td>\n",
       "      <td>359.042692</td>\n",
       "      <td>NaN</td>\n",
       "    </tr>\n",
       "    <tr>\n",
       "      <th>3</th>\n",
       "      <td>2025/03/31</td>\n",
       "      <td>366.218845</td>\n",
       "      <td>NaN</td>\n",
       "    </tr>\n",
       "    <tr>\n",
       "      <th>4</th>\n",
       "      <td>2025/02/28</td>\n",
       "      <td>373.557191</td>\n",
       "      <td>NaN</td>\n",
       "    </tr>\n",
       "  </tbody>\n",
       "</table>\n",
       "</div>"
      ],
      "text/plain": [
       "         Date         实际值  中国柴油实际消费量Trend/F=0.2\n",
       "0  2025/06/30         NaN            350.505261\n",
       "1  2025/05/31  357.066989            352.868333\n",
       "2  2025/04/30  359.042692                   NaN\n",
       "3  2025/03/31  366.218845                   NaN\n",
       "4  2025/02/28  373.557191                   NaN"
      ]
     },
     "execution_count": 13,
     "metadata": {},
     "output_type": "execute_result"
    }
   ],
   "source": [
    "# 将日期列转换为datetime格式\n",
    "merged_df_trend['Date'] = pd.to_datetime(merged_df_trend['Date'])\n",
    "# 按月份重采样并取每月最后一个交易日的数据\n",
    "monthly_df_trend = merged_df_trend.set_index('Date').resample('ME').last()\n",
    "monthly_df_trend = monthly_df_trend.sort_values('Date', ascending=False)\n",
    "# 重置索引并格式化日期\n",
    "monthly_df_trend = monthly_df_trend.reset_index()\n",
    "monthly_df_trend['Date'] = monthly_df_trend['Date'].dt.strftime('%Y/%m/%d')\n",
    "# 保存月度数据到Excel\n",
    "monthly_df_trend.to_excel('eta/中国柴油实际消费量Trend-F=0.2_月度数据.xlsx', index=False, float_format='%.2f')\n",
    "monthly_df_trend.head()"
   ]
  },
  {
   "cell_type": "markdown",
   "metadata": {},
   "source": [
    "---"
   ]
  },
  {
   "cell_type": "code",
   "execution_count": 14,
   "metadata": {
    "execution": {
     "iopub.execute_input": "2025-05-14T06:59:00.988598Z",
     "iopub.status.busy": "2025-05-14T06:59:00.988598Z",
     "iopub.status.idle": "2025-05-14T06:59:01.523971Z",
     "shell.execute_reply": "2025-05-14T06:59:01.523327Z"
    }
   },
   "outputs": [
    {
     "name": "stdout",
     "output_type": "stream",
     "text": [
      "成功更新 日度数据表 中的数据\n",
      "数据已成功更新到Excel文件\n"
     ]
    }
   ],
   "source": [
    "from Dcel import update_excel_data\n",
    "# 使用示例\n",
    "file_path = \"eta/1.汽柴煤油_数据上传.xlsx\"\n",
    "sheet_name = \"日度数据表\"\n",
    "identifier = \"中国柴油实际消费量Trend/F=0.2\"\n",
    "\n",
    "# 调用函数更新数据\n",
    "success = update_excel_data(merged_df_trend, file_path, sheet_name, identifier)\n",
    "\n",
    "if success:\n",
    "    print(\"数据已成功更新到Excel文件\")\n",
    "else:\n",
    "    print(\"数据更新失败，请检查错误信息\")"
   ]
  },
  {
   "cell_type": "code",
   "execution_count": 15,
   "metadata": {
    "execution": {
     "iopub.execute_input": "2025-05-14T06:59:01.525998Z",
     "iopub.status.busy": "2025-05-14T06:59:01.524934Z",
     "iopub.status.idle": "2025-05-14T06:59:02.070017Z",
     "shell.execute_reply": "2025-05-14T06:59:02.069426Z"
    }
   },
   "outputs": [
    {
     "name": "stdout",
     "output_type": "stream",
     "text": [
      "成功更新 日度数据表 中的数据\n",
      "数据已成功更新到Excel文件\n"
     ]
    }
   ],
   "source": [
    "from Dcel import update_excel_data\n",
    "# 使用示例\n",
    "file_path = \"eta/1.汽柴煤油_数据上传.xlsx\"\n",
    "sheet_name = \"日度数据表\"\n",
    "identifier = \"中国柴油实际消费量\"\n",
    "\n",
    "# 调用函数更新数据\n",
    "success = update_excel_data(merged_df_shizhi, file_path, sheet_name, identifier)\n",
    "\n",
    "if success:\n",
    "    print(\"数据已成功更新到Excel文件\")\n",
    "else:\n",
    "    print(\"数据更新失败，请检查错误信息\")"
   ]
  },
  {
   "cell_type": "code",
   "execution_count": 16,
   "metadata": {
    "execution": {
     "iopub.execute_input": "2025-05-14T06:59:02.072227Z",
     "iopub.status.busy": "2025-05-14T06:59:02.070958Z",
     "iopub.status.idle": "2025-05-14T06:59:02.609528Z",
     "shell.execute_reply": "2025-05-14T06:59:02.609528Z"
    }
   },
   "outputs": [
    {
     "name": "stdout",
     "output_type": "stream",
     "text": [
      "已完成：插入/更新数据，并重新计算“方向/偏差率” (protected_date = 2025/05/31)\n",
      "数据已成功更新到Excel文件\n"
     ]
    }
   ],
   "source": [
    "from Lcel import update_excel_data\n",
    "file_path = \"eta/1.汽柴煤油_数据上传.xlsx\"\n",
    "sheet_name = \"详情页\"\n",
    "identifier = \"中国柴油实际消费量Trend/F=0.2\"\n",
    "# 调用函数更新数据\n",
    "success = update_excel_data(monthly_df_trend, file_path, sheet_name, identifier)\n",
    "\n",
    "if success:\n",
    "    print(\"数据已成功更新到Excel文件\")\n",
    "else:\n",
    "    print(\"数据更新失败，请检查错误信息\")"
   ]
  },
  {
   "cell_type": "code",
   "execution_count": 17,
   "metadata": {
    "execution": {
     "iopub.execute_input": "2025-05-14T06:59:02.612129Z",
     "iopub.status.busy": "2025-05-14T06:59:02.612129Z",
     "iopub.status.idle": "2025-05-14T06:59:03.167635Z",
     "shell.execute_reply": "2025-05-14T06:59:03.167035Z"
    }
   },
   "outputs": [
    {
     "name": "stdout",
     "output_type": "stream",
     "text": [
      "已完成：插入/更新数据，并重新计算“方向/偏差率” (protected_date = 2025/05/31)\n",
      "数据已成功更新到Excel文件\n"
     ]
    }
   ],
   "source": [
    "from Lcel import update_excel_data\n",
    "file_path = \"eta/1.汽柴煤油_数据上传.xlsx\"\n",
    "sheet_name = \"详情页\"\n",
    "identifier = \"中国柴油实际消费量\"\n",
    "# 调用函数更新数据\n",
    "success = update_excel_data(monthly_df_shizhi, file_path, sheet_name, identifier)\n",
    "\n",
    "if success:\n",
    "    print(\"数据已成功更新到Excel文件\")\n",
    "else:\n",
    "    print(\"数据更新失败，请检查错误信息\")"
   ]
  }
 ],
 "metadata": {
  "kernelspec": {
   "display_name": "Python 3",
   "language": "python",
   "name": "python3"
  },
  "language_info": {
   "codemirror_mode": {
    "name": "ipython",
    "version": 3
   },
   "file_extension": ".py",
   "mimetype": "text/x-python",
   "name": "python",
   "nbconvert_exporter": "python",
   "pygments_lexer": "ipython3",
   "version": "3.12.4"
  }
 },
 "nbformat": 4,
 "nbformat_minor": 2
}
