{
 "cells": [
  {
   "cell_type": "code",
   "execution_count": 1,
   "metadata": {
    "execution": {
     "iopub.execute_input": "2025-04-30T09:25:29.673750Z",
     "iopub.status.busy": "2025-04-30T09:25:29.672750Z",
     "iopub.status.idle": "2025-04-30T09:25:30.631048Z",
     "shell.execute_reply": "2025-04-30T09:25:30.631048Z"
    }
   },
   "outputs": [],
   "source": [
    "import pandas as pd \n",
    "import numpy as np\n",
    "import matplotlib.pyplot as plt\n",
    "import xgboost as xgb\n",
    "from sklearn.preprocessing import StandardScaler\n",
    "from sklearn.metrics import mean_squared_error, r2_score"
   ]
  },
  {
   "cell_type": "code",
   "execution_count": 2,
   "metadata": {
    "execution": {
     "iopub.execute_input": "2025-04-30T09:25:30.632344Z",
     "iopub.status.busy": "2025-04-30T09:25:30.632344Z",
     "iopub.status.idle": "2025-04-30T09:25:30.635347Z",
     "shell.execute_reply": "2025-04-30T09:25:30.635347Z"
    }
   },
   "outputs": [],
   "source": [
    "plt.rcParams['font.sans-serif'] = ['SimHei']  \n",
    "plt.rcParams['axes.unicode_minus'] = False  "
   ]
  },
  {
   "cell_type": "code",
   "execution_count": null,
   "metadata": {},
   "outputs": [],
   "source": [
    "# 获取当前文件所在目录的父目录\n",
    "import os\n",
    "import sys\n",
    "\n",
    "current_dir = os.getcwd()\n",
    "parent_dir = os.path.dirname(current_dir)\n",
    "\n",
    "if parent_dir not in sys.path:\n",
    "    sys.path.append(parent_dir)\n",
    "\n",
    "\n",
    "from Dtool import fill_missing_values, plot_factors_by_pattern, plot_comparison_multiple, reverse_column, plot_feature_importance,plot_predictions\n"
   ]
  },
  {
   "cell_type": "code",
   "execution_count": 3,
   "metadata": {
    "execution": {
     "iopub.execute_input": "2025-04-30T09:25:30.636387Z",
     "iopub.status.busy": "2025-04-30T09:25:30.636387Z",
     "iopub.status.idle": "2025-04-30T09:25:30.875021Z",
     "shell.execute_reply": "2025-04-30T09:25:30.875021Z"
    }
   },
   "outputs": [
    {
     "data": {
      "text/html": [
       "<div>\n",
       "<style scoped>\n",
       "    .dataframe tbody tr th:only-of-type {\n",
       "        vertical-align: middle;\n",
       "    }\n",
       "\n",
       "    .dataframe tbody tr th {\n",
       "        vertical-align: top;\n",
       "    }\n",
       "\n",
       "    .dataframe thead th {\n",
       "        text-align: right;\n",
       "    }\n",
       "</style>\n",
       "<table border=\"1\" class=\"dataframe\">\n",
       "  <thead>\n",
       "    <tr style=\"text-align: right;\">\n",
       "      <th></th>\n",
       "      <th>山东柴油裂解差拟合残差/中国独立炼厂柴油库存</th>\n",
       "      <th>山东柴油裂解差</th>\n",
       "      <th>中国独立炼厂柴油库存</th>\n",
       "    </tr>\n",
       "  </thead>\n",
       "  <tbody>\n",
       "    <tr>\n",
       "      <th>2025-06-04</th>\n",
       "      <td>NaN</td>\n",
       "      <td>NaN</td>\n",
       "      <td>NaN</td>\n",
       "    </tr>\n",
       "    <tr>\n",
       "      <th>2025-06-05</th>\n",
       "      <td>NaN</td>\n",
       "      <td>NaN</td>\n",
       "      <td>NaN</td>\n",
       "    </tr>\n",
       "    <tr>\n",
       "      <th>2025-06-06</th>\n",
       "      <td>NaN</td>\n",
       "      <td>NaN</td>\n",
       "      <td>NaN</td>\n",
       "    </tr>\n",
       "    <tr>\n",
       "      <th>2025-06-09</th>\n",
       "      <td>NaN</td>\n",
       "      <td>NaN</td>\n",
       "      <td>NaN</td>\n",
       "    </tr>\n",
       "    <tr>\n",
       "      <th>2025-06-10</th>\n",
       "      <td>NaN</td>\n",
       "      <td>NaN</td>\n",
       "      <td>NaN</td>\n",
       "    </tr>\n",
       "  </tbody>\n",
       "</table>\n",
       "</div>"
      ],
      "text/plain": [
       "            山东柴油裂解差拟合残差/中国独立炼厂柴油库存  山东柴油裂解差  中国独立炼厂柴油库存\n",
       "2025-06-04                     NaN      NaN         NaN\n",
       "2025-06-05                     NaN      NaN         NaN\n",
       "2025-06-06                     NaN      NaN         NaN\n",
       "2025-06-09                     NaN      NaN         NaN\n",
       "2025-06-10                     NaN      NaN         NaN"
      ]
     },
     "execution_count": 3,
     "metadata": {},
     "output_type": "execute_result"
    }
   ],
   "source": [
    "sheet = pd.read_excel('data_input_auto/山东柴油裂解差(拟合残差).xlsx', sheet_name='Sheet1').rename(columns={'DataTime': 'Date'})\n",
    "sheet = sheet.set_index('Date')\n",
    "last_day = sheet['山东柴油裂解差'].last_valid_index()\n",
    "\n",
    "future_data_30days = sheet[sheet.index > last_day]\n",
    "target_days = pd.date_range(start=last_day+ pd.DateOffset(1), periods=30, freq='B')\n",
    "target_end = target_days[-1]\n",
    "new_index = pd.date_range(start=last_day+ pd.DateOffset(1), end=target_end, freq='B')\n",
    "sheet = sheet.reindex(sheet.index.union(new_index))\n",
    "sheet = sheet[sheet.index <= target_end]\n",
    "\n",
    "sheet.tail()"
   ]
  },
  {
   "cell_type": "code",
   "execution_count": 4,
   "metadata": {
    "execution": {
     "iopub.execute_input": "2025-04-30T09:25:30.896441Z",
     "iopub.status.busy": "2025-04-30T09:25:30.895430Z",
     "iopub.status.idle": "2025-04-30T09:25:30.927027Z",
     "shell.execute_reply": "2025-04-30T09:25:30.927027Z"
    }
   },
   "outputs": [
    {
     "data": {
      "text/html": [
       "<div>\n",
       "<style scoped>\n",
       "    .dataframe tbody tr th:only-of-type {\n",
       "        vertical-align: middle;\n",
       "    }\n",
       "\n",
       "    .dataframe tbody tr th {\n",
       "        vertical-align: top;\n",
       "    }\n",
       "\n",
       "    .dataframe thead th {\n",
       "        text-align: right;\n",
       "    }\n",
       "</style>\n",
       "<table border=\"1\" class=\"dataframe\">\n",
       "  <thead>\n",
       "    <tr style=\"text-align: right;\">\n",
       "      <th></th>\n",
       "      <th>Date</th>\n",
       "      <th>预测值</th>\n",
       "    </tr>\n",
       "  </thead>\n",
       "  <tbody>\n",
       "    <tr>\n",
       "      <th>20</th>\n",
       "      <td>2025-04-27</td>\n",
       "      <td>81.2</td>\n",
       "    </tr>\n",
       "    <tr>\n",
       "      <th>19</th>\n",
       "      <td>2025-04-28</td>\n",
       "      <td>111.0</td>\n",
       "    </tr>\n",
       "    <tr>\n",
       "      <th>18</th>\n",
       "      <td>2025-04-29</td>\n",
       "      <td>68.9</td>\n",
       "    </tr>\n",
       "    <tr>\n",
       "      <th>17</th>\n",
       "      <td>2025-04-30</td>\n",
       "      <td>28.4</td>\n",
       "    </tr>\n",
       "    <tr>\n",
       "      <th>16</th>\n",
       "      <td>2025-05-01</td>\n",
       "      <td>70.7</td>\n",
       "    </tr>\n",
       "  </tbody>\n",
       "</table>\n",
       "</div>"
      ],
      "text/plain": [
       "         Date    预测值\n",
       "20 2025-04-27   81.2\n",
       "19 2025-04-28  111.0\n",
       "18 2025-04-29   68.9\n",
       "17 2025-04-30   28.4\n",
       "16 2025-05-01   70.7"
      ]
     },
     "execution_count": 4,
     "metadata": {},
     "output_type": "execute_result"
    }
   ],
   "source": [
    "file_path1 = os.path.expanduser(\"eta/柴油裂解差拟合残差-库存_合并数据.xlsx\") \n",
    "sheet1 = pd.ExcelFile(file_path1).parse('Sheet1')\n",
    "sheet1['Date'] = pd.to_datetime(sheet1['Date'], errors='coerce')\n",
    "sheet1 = sheet1.drop(columns=['真实值'])\n",
    "sheet1 = sheet1.dropna()\n",
    "sheet1 = sheet1.sort_values('Date', ascending=True)\n",
    "sheet1.head()"
   ]
  },
  {
   "cell_type": "code",
   "execution_count": 5,
   "metadata": {
    "execution": {
     "iopub.execute_input": "2025-04-30T09:25:30.928296Z",
     "iopub.status.busy": "2025-04-30T09:25:30.928296Z",
     "iopub.status.idle": "2025-04-30T09:25:30.950653Z",
     "shell.execute_reply": "2025-04-30T09:25:30.950653Z"
    }
   },
   "outputs": [
    {
     "data": {
      "text/html": [
       "<div>\n",
       "<style scoped>\n",
       "    .dataframe tbody tr th:only-of-type {\n",
       "        vertical-align: middle;\n",
       "    }\n",
       "\n",
       "    .dataframe tbody tr th {\n",
       "        vertical-align: top;\n",
       "    }\n",
       "\n",
       "    .dataframe thead th {\n",
       "        text-align: right;\n",
       "    }\n",
       "</style>\n",
       "<table border=\"1\" class=\"dataframe\">\n",
       "  <thead>\n",
       "    <tr style=\"text-align: right;\">\n",
       "      <th></th>\n",
       "      <th>Date</th>\n",
       "      <th>中国独立炼厂柴油库存_预测</th>\n",
       "    </tr>\n",
       "  </thead>\n",
       "  <tbody>\n",
       "    <tr>\n",
       "      <th>3</th>\n",
       "      <td>2025-05-02</td>\n",
       "      <td>140.84</td>\n",
       "    </tr>\n",
       "    <tr>\n",
       "      <th>2</th>\n",
       "      <td>2025-05-09</td>\n",
       "      <td>139.54</td>\n",
       "    </tr>\n",
       "    <tr>\n",
       "      <th>1</th>\n",
       "      <td>2025-05-16</td>\n",
       "      <td>148.64</td>\n",
       "    </tr>\n",
       "    <tr>\n",
       "      <th>0</th>\n",
       "      <td>2025-05-23</td>\n",
       "      <td>157.44</td>\n",
       "    </tr>\n",
       "  </tbody>\n",
       "</table>\n",
       "</div>"
      ],
      "text/plain": [
       "        Date  中国独立炼厂柴油库存_预测\n",
       "3 2025-05-02         140.84\n",
       "2 2025-05-09         139.54\n",
       "1 2025-05-16         148.64\n",
       "0 2025-05-23         157.44"
      ]
     },
     "execution_count": 5,
     "metadata": {},
     "output_type": "execute_result"
    }
   ],
   "source": [
    "file_path2 = os.path.expanduser(\"eta/柴油独立炼厂库存_合并数据.xlsx\") \n",
    "sheet2 = pd.ExcelFile(file_path2).parse('Sheet1')\n",
    "sheet2['Date'] = pd.to_datetime(sheet2['Date'], errors='coerce')\n",
    "sheet2 = sheet2.drop(columns=['中国独立炼厂柴油库存'])\n",
    "sheet2 = sheet2.dropna()\n",
    "sheet2 = sheet2.sort_values('Date', ascending=True)\n",
    "sheet2.head()"
   ]
  },
  {
   "cell_type": "code",
   "execution_count": 6,
   "metadata": {
    "execution": {
     "iopub.execute_input": "2025-04-30T09:25:30.951954Z",
     "iopub.status.busy": "2025-04-30T09:25:30.951954Z",
     "iopub.status.idle": "2025-04-30T09:25:30.963447Z",
     "shell.execute_reply": "2025-04-30T09:25:30.963447Z"
    }
   },
   "outputs": [],
   "source": [
    "# 合并 sheet1 和 sheet2 的数据到 sheet\n",
    "sheet_daily = sheet.copy()\n",
    "sheet_daily.index.name = 'Date'\n",
    "sheet_daily = sheet_daily.reset_index()\n",
    "\n",
    "# 合并 sheet1 \n",
    "sheet_daily = pd.merge(\n",
    "    sheet_daily,\n",
    "    sheet1[['Date', '预测值']],\n",
    "    on='Date',\n",
    "    how='left'\n",
    ")\n",
    "sheet_daily['山东柴油裂解差拟合残差/中国独立炼厂柴油库存'] = sheet_daily['山东柴油裂解差拟合残差/中国独立炼厂柴油库存'].fillna(sheet_daily['预测值'])\n",
    "sheet_daily = sheet_daily.drop(columns=['预测值'])\n",
    "\n",
    "# 合并 sheet2 \n",
    "sheet_daily = pd.merge(\n",
    "    sheet_daily,\n",
    "    sheet2[['Date', '中国独立炼厂柴油库存_预测']],\n",
    "    on='Date',\n",
    "    how='left'\n",
    ")\n",
    "sheet_daily['中国独立炼厂柴油库存'] = sheet_daily['中国独立炼厂柴油库存'].fillna(sheet_daily['中国独立炼厂柴油库存_预测'])\n",
    "sheet_daily = sheet_daily.drop(columns=['中国独立炼厂柴油库存_预测'])\n",
    "\n",
    "\n",
    "# 将 sheet_daily 重新赋值给 sheet\n",
    "sheet = sheet_daily.copy()\n",
    "sheet = sheet.set_index('Date')\n",
    "sheet_daily = sheet_daily[sheet_daily['Date'] >= pd.Timestamp('2023-03-01')]"
   ]
  },
  {
   "cell_type": "code",
   "execution_count": 7,
   "metadata": {
    "execution": {
     "iopub.execute_input": "2025-04-30T09:25:30.964721Z",
     "iopub.status.busy": "2025-04-30T09:25:30.964721Z",
     "iopub.status.idle": "2025-04-30T09:25:30.973937Z",
     "shell.execute_reply": "2025-04-30T09:25:30.973937Z"
    }
   },
   "outputs": [
    {
     "data": {
      "text/html": [
       "<div>\n",
       "<style scoped>\n",
       "    .dataframe tbody tr th:only-of-type {\n",
       "        vertical-align: middle;\n",
       "    }\n",
       "\n",
       "    .dataframe tbody tr th {\n",
       "        vertical-align: top;\n",
       "    }\n",
       "\n",
       "    .dataframe thead th {\n",
       "        text-align: right;\n",
       "    }\n",
       "</style>\n",
       "<table border=\"1\" class=\"dataframe\">\n",
       "  <thead>\n",
       "    <tr style=\"text-align: right;\">\n",
       "      <th></th>\n",
       "      <th>Date</th>\n",
       "      <th>山东柴油裂解差拟合残差/中国独立炼厂柴油库存</th>\n",
       "      <th>山东柴油裂解差</th>\n",
       "      <th>中国独立炼厂柴油库存</th>\n",
       "    </tr>\n",
       "  </thead>\n",
       "  <tbody>\n",
       "    <tr>\n",
       "      <th>2824</th>\n",
       "      <td>2023-03-01</td>\n",
       "      <td>220.0657</td>\n",
       "      <td>859.3525</td>\n",
       "      <td>NaN</td>\n",
       "    </tr>\n",
       "    <tr>\n",
       "      <th>2825</th>\n",
       "      <td>2023-03-02</td>\n",
       "      <td>226.1370</td>\n",
       "      <td>865.4238</td>\n",
       "      <td>NaN</td>\n",
       "    </tr>\n",
       "    <tr>\n",
       "      <th>2826</th>\n",
       "      <td>2023-03-03</td>\n",
       "      <td>176.3893</td>\n",
       "      <td>810.0611</td>\n",
       "      <td>128.367</td>\n",
       "    </tr>\n",
       "    <tr>\n",
       "      <th>2827</th>\n",
       "      <td>2023-03-06</td>\n",
       "      <td>56.4838</td>\n",
       "      <td>690.1556</td>\n",
       "      <td>NaN</td>\n",
       "    </tr>\n",
       "    <tr>\n",
       "      <th>2828</th>\n",
       "      <td>2023-03-07</td>\n",
       "      <td>30.3749</td>\n",
       "      <td>664.0467</td>\n",
       "      <td>NaN</td>\n",
       "    </tr>\n",
       "    <tr>\n",
       "      <th>...</th>\n",
       "      <td>...</td>\n",
       "      <td>...</td>\n",
       "      <td>...</td>\n",
       "      <td>...</td>\n",
       "    </tr>\n",
       "    <tr>\n",
       "      <th>3400</th>\n",
       "      <td>2025-06-04</td>\n",
       "      <td>NaN</td>\n",
       "      <td>NaN</td>\n",
       "      <td>NaN</td>\n",
       "    </tr>\n",
       "    <tr>\n",
       "      <th>3401</th>\n",
       "      <td>2025-06-05</td>\n",
       "      <td>NaN</td>\n",
       "      <td>NaN</td>\n",
       "      <td>NaN</td>\n",
       "    </tr>\n",
       "    <tr>\n",
       "      <th>3402</th>\n",
       "      <td>2025-06-06</td>\n",
       "      <td>NaN</td>\n",
       "      <td>NaN</td>\n",
       "      <td>NaN</td>\n",
       "    </tr>\n",
       "    <tr>\n",
       "      <th>3403</th>\n",
       "      <td>2025-06-09</td>\n",
       "      <td>NaN</td>\n",
       "      <td>NaN</td>\n",
       "      <td>NaN</td>\n",
       "    </tr>\n",
       "    <tr>\n",
       "      <th>3404</th>\n",
       "      <td>2025-06-10</td>\n",
       "      <td>NaN</td>\n",
       "      <td>NaN</td>\n",
       "      <td>NaN</td>\n",
       "    </tr>\n",
       "  </tbody>\n",
       "</table>\n",
       "<p>581 rows × 4 columns</p>\n",
       "</div>"
      ],
      "text/plain": [
       "           Date  山东柴油裂解差拟合残差/中国独立炼厂柴油库存   山东柴油裂解差  中国独立炼厂柴油库存\n",
       "2824 2023-03-01                220.0657  859.3525         NaN\n",
       "2825 2023-03-02                226.1370  865.4238         NaN\n",
       "2826 2023-03-03                176.3893  810.0611     128.367\n",
       "2827 2023-03-06                 56.4838  690.1556         NaN\n",
       "2828 2023-03-07                 30.3749  664.0467         NaN\n",
       "...         ...                     ...       ...         ...\n",
       "3400 2025-06-04                     NaN       NaN         NaN\n",
       "3401 2025-06-05                     NaN       NaN         NaN\n",
       "3402 2025-06-06                     NaN       NaN         NaN\n",
       "3403 2025-06-09                     NaN       NaN         NaN\n",
       "3404 2025-06-10                     NaN       NaN         NaN\n",
       "\n",
       "[581 rows x 4 columns]"
      ]
     },
     "execution_count": 7,
     "metadata": {},
     "output_type": "execute_result"
    }
   ],
   "source": [
    "sheet_daily"
   ]
  },
  {
   "cell_type": "code",
   "execution_count": 8,
   "metadata": {
    "execution": {
     "iopub.execute_input": "2025-04-30T09:25:30.976324Z",
     "iopub.status.busy": "2025-04-30T09:25:30.975309Z",
     "iopub.status.idle": "2025-04-30T09:25:30.982890Z",
     "shell.execute_reply": "2025-04-30T09:25:30.982890Z"
    }
   },
   "outputs": [
    {
     "data": {
      "text/html": [
       "<div>\n",
       "<style scoped>\n",
       "    .dataframe tbody tr th:only-of-type {\n",
       "        vertical-align: middle;\n",
       "    }\n",
       "\n",
       "    .dataframe tbody tr th {\n",
       "        vertical-align: top;\n",
       "    }\n",
       "\n",
       "    .dataframe thead th {\n",
       "        text-align: right;\n",
       "    }\n",
       "</style>\n",
       "<table border=\"1\" class=\"dataframe\">\n",
       "  <thead>\n",
       "    <tr style=\"text-align: right;\">\n",
       "      <th></th>\n",
       "      <th>Date</th>\n",
       "      <th>山东柴油裂解差拟合残差/中国独立炼厂柴油库存</th>\n",
       "      <th>山东柴油裂解差</th>\n",
       "      <th>中国独立炼厂柴油库存</th>\n",
       "      <th>山东柴油裂解差_预测</th>\n",
       "    </tr>\n",
       "  </thead>\n",
       "  <tbody>\n",
       "    <tr>\n",
       "      <th>2824</th>\n",
       "      <td>2023-03-01</td>\n",
       "      <td>220.0657</td>\n",
       "      <td>859.3525</td>\n",
       "      <td>NaN</td>\n",
       "      <td>NaN</td>\n",
       "    </tr>\n",
       "    <tr>\n",
       "      <th>2825</th>\n",
       "      <td>2023-03-02</td>\n",
       "      <td>226.1370</td>\n",
       "      <td>865.4238</td>\n",
       "      <td>NaN</td>\n",
       "      <td>NaN</td>\n",
       "    </tr>\n",
       "    <tr>\n",
       "      <th>2826</th>\n",
       "      <td>2023-03-03</td>\n",
       "      <td>176.3893</td>\n",
       "      <td>810.0611</td>\n",
       "      <td>128.3670</td>\n",
       "      <td>810.064806</td>\n",
       "    </tr>\n",
       "    <tr>\n",
       "      <th>2827</th>\n",
       "      <td>2023-03-06</td>\n",
       "      <td>56.4838</td>\n",
       "      <td>690.1556</td>\n",
       "      <td>128.0722</td>\n",
       "      <td>692.753782</td>\n",
       "    </tr>\n",
       "    <tr>\n",
       "      <th>2828</th>\n",
       "      <td>2023-03-07</td>\n",
       "      <td>30.3749</td>\n",
       "      <td>664.0467</td>\n",
       "      <td>127.7774</td>\n",
       "      <td>669.239358</td>\n",
       "    </tr>\n",
       "    <tr>\n",
       "      <th>...</th>\n",
       "      <td>...</td>\n",
       "      <td>...</td>\n",
       "      <td>...</td>\n",
       "      <td>...</td>\n",
       "      <td>...</td>\n",
       "    </tr>\n",
       "    <tr>\n",
       "      <th>3400</th>\n",
       "      <td>2025-06-04</td>\n",
       "      <td>NaN</td>\n",
       "      <td>NaN</td>\n",
       "      <td>157.4400</td>\n",
       "      <td>NaN</td>\n",
       "    </tr>\n",
       "    <tr>\n",
       "      <th>3401</th>\n",
       "      <td>2025-06-05</td>\n",
       "      <td>NaN</td>\n",
       "      <td>NaN</td>\n",
       "      <td>157.4400</td>\n",
       "      <td>NaN</td>\n",
       "    </tr>\n",
       "    <tr>\n",
       "      <th>3402</th>\n",
       "      <td>2025-06-06</td>\n",
       "      <td>NaN</td>\n",
       "      <td>NaN</td>\n",
       "      <td>157.4400</td>\n",
       "      <td>NaN</td>\n",
       "    </tr>\n",
       "    <tr>\n",
       "      <th>3403</th>\n",
       "      <td>2025-06-09</td>\n",
       "      <td>NaN</td>\n",
       "      <td>NaN</td>\n",
       "      <td>157.4400</td>\n",
       "      <td>NaN</td>\n",
       "    </tr>\n",
       "    <tr>\n",
       "      <th>3404</th>\n",
       "      <td>2025-06-10</td>\n",
       "      <td>NaN</td>\n",
       "      <td>NaN</td>\n",
       "      <td>157.4400</td>\n",
       "      <td>NaN</td>\n",
       "    </tr>\n",
       "  </tbody>\n",
       "</table>\n",
       "<p>581 rows × 5 columns</p>\n",
       "</div>"
      ],
      "text/plain": [
       "           Date  山东柴油裂解差拟合残差/中国独立炼厂柴油库存   山东柴油裂解差  中国独立炼厂柴油库存  山东柴油裂解差_预测\n",
       "2824 2023-03-01                220.0657  859.3525         NaN         NaN\n",
       "2825 2023-03-02                226.1370  865.4238         NaN         NaN\n",
       "2826 2023-03-03                176.3893  810.0611    128.3670  810.064806\n",
       "2827 2023-03-06                 56.4838  690.1556    128.0722  692.753782\n",
       "2828 2023-03-07                 30.3749  664.0467    127.7774  669.239358\n",
       "...         ...                     ...       ...         ...         ...\n",
       "3400 2025-06-04                     NaN       NaN    157.4400         NaN\n",
       "3401 2025-06-05                     NaN       NaN    157.4400         NaN\n",
       "3402 2025-06-06                     NaN       NaN    157.4400         NaN\n",
       "3403 2025-06-09                     NaN       NaN    157.4400         NaN\n",
       "3404 2025-06-10                     NaN       NaN    157.4400         NaN\n",
       "\n",
       "[581 rows x 5 columns]"
      ]
     },
     "execution_count": 8,
     "metadata": {},
     "output_type": "execute_result"
    }
   ],
   "source": [
    "# 对中国独立炼厂柴油库存进行线性填充\n",
    "sheet_daily['中国独立炼厂柴油库存'] = sheet_daily['中国独立炼厂柴油库存'].interpolate(method='linear')\n",
    "sheet_daily['山东柴油裂解差_预测'] = -8.8008 * sheet_daily['中国独立炼厂柴油库存']  + 1763.4078 + sheet_daily['山东柴油裂解差拟合残差/中国独立炼厂柴油库存']\n",
    "sheet_daily"
   ]
  },
  {
   "cell_type": "markdown",
   "metadata": {},
   "source": [
    "---"
   ]
  },
  {
   "cell_type": "code",
   "execution_count": 9,
   "metadata": {
    "execution": {
     "iopub.execute_input": "2025-04-30T09:25:30.983894Z",
     "iopub.status.busy": "2025-04-30T09:25:30.983894Z",
     "iopub.status.idle": "2025-04-30T09:25:31.023872Z",
     "shell.execute_reply": "2025-04-30T09:25:31.023494Z"
    }
   },
   "outputs": [
    {
     "data": {
      "text/html": [
       "<div>\n",
       "<style scoped>\n",
       "    .dataframe tbody tr th:only-of-type {\n",
       "        vertical-align: middle;\n",
       "    }\n",
       "\n",
       "    .dataframe tbody tr th {\n",
       "        vertical-align: top;\n",
       "    }\n",
       "\n",
       "    .dataframe thead th {\n",
       "        text-align: right;\n",
       "    }\n",
       "</style>\n",
       "<table border=\"1\" class=\"dataframe\">\n",
       "  <thead>\n",
       "    <tr style=\"text-align: right;\">\n",
       "      <th></th>\n",
       "      <th>Date</th>\n",
       "      <th>山东柴油裂解差</th>\n",
       "      <th>山东柴油裂解差_预测</th>\n",
       "    </tr>\n",
       "  </thead>\n",
       "  <tbody>\n",
       "    <tr>\n",
       "      <th>3392</th>\n",
       "      <td>2025/05/23</td>\n",
       "      <td>NaN</td>\n",
       "      <td>503.709848</td>\n",
       "    </tr>\n",
       "    <tr>\n",
       "      <th>3391</th>\n",
       "      <td>2025/05/22</td>\n",
       "      <td>NaN</td>\n",
       "      <td>541.599256</td>\n",
       "    </tr>\n",
       "    <tr>\n",
       "      <th>3390</th>\n",
       "      <td>2025/05/21</td>\n",
       "      <td>NaN</td>\n",
       "      <td>554.388664</td>\n",
       "    </tr>\n",
       "    <tr>\n",
       "      <th>3389</th>\n",
       "      <td>2025/05/20</td>\n",
       "      <td>NaN</td>\n",
       "      <td>618.378072</td>\n",
       "    </tr>\n",
       "    <tr>\n",
       "      <th>3388</th>\n",
       "      <td>2025/05/19</td>\n",
       "      <td>NaN</td>\n",
       "      <td>642.867480</td>\n",
       "    </tr>\n",
       "  </tbody>\n",
       "</table>\n",
       "</div>"
      ],
      "text/plain": [
       "            Date  山东柴油裂解差  山东柴油裂解差_预测\n",
       "3392  2025/05/23      NaN  503.709848\n",
       "3391  2025/05/22      NaN  541.599256\n",
       "3390  2025/05/21      NaN  554.388664\n",
       "3389  2025/05/20      NaN  618.378072\n",
       "3388  2025/05/19      NaN  642.867480"
      ]
     },
     "execution_count": 9,
     "metadata": {},
     "output_type": "execute_result"
    }
   ],
   "source": [
    "# 创建新的 dataframe merged_df_daily\n",
    "merged_df_daily = sheet_daily[['Date','山东柴油裂解差', '山东柴油裂解差_预测']].copy()\n",
    "merged_df_daily.loc[merged_df_daily['Date'] <= last_day, '山东柴油裂解差_预测'] = None\n",
    "merged_df_daily = merged_df_daily.dropna(subset=['山东柴油裂解差', '山东柴油裂解差_预测'], how='all')\n",
    "merged_df_daily = merged_df_daily.sort_values('Date', ascending=False)\n",
    "merged_df_daily['Date'] = merged_df_daily['Date'].dt.strftime('%Y/%m/%d')\n",
    "merged_df_daily.to_excel('eta/山东柴油裂解差(拟合残差版本)_合并数据.xlsx', index=False,float_format='%.2f')\n",
    "merged_df_daily.head()"
   ]
  },
  {
   "cell_type": "code",
   "execution_count": 10,
   "metadata": {
    "execution": {
     "iopub.execute_input": "2025-04-30T09:25:31.024879Z",
     "iopub.status.busy": "2025-04-30T09:25:31.024879Z",
     "iopub.status.idle": "2025-04-30T09:25:31.040389Z",
     "shell.execute_reply": "2025-04-30T09:25:31.040389Z"
    }
   },
   "outputs": [
    {
     "data": {
      "text/html": [
       "<div>\n",
       "<style scoped>\n",
       "    .dataframe tbody tr th:only-of-type {\n",
       "        vertical-align: middle;\n",
       "    }\n",
       "\n",
       "    .dataframe tbody tr th {\n",
       "        vertical-align: top;\n",
       "    }\n",
       "\n",
       "    .dataframe thead th {\n",
       "        text-align: right;\n",
       "    }\n",
       "</style>\n",
       "<table border=\"1\" class=\"dataframe\">\n",
       "  <thead>\n",
       "    <tr style=\"text-align: right;\">\n",
       "      <th></th>\n",
       "      <th>Date</th>\n",
       "      <th>山东柴油裂解差</th>\n",
       "      <th>山东柴油裂解差_预测</th>\n",
       "    </tr>\n",
       "  </thead>\n",
       "  <tbody>\n",
       "    <tr>\n",
       "      <th>26</th>\n",
       "      <td>2025/05/31</td>\n",
       "      <td>NaN</td>\n",
       "      <td>503.709848</td>\n",
       "    </tr>\n",
       "    <tr>\n",
       "      <th>25</th>\n",
       "      <td>2025/04/30</td>\n",
       "      <td>622.7508</td>\n",
       "      <td>554.472819</td>\n",
       "    </tr>\n",
       "    <tr>\n",
       "      <th>24</th>\n",
       "      <td>2025/03/31</td>\n",
       "      <td>459.0120</td>\n",
       "      <td>464.328215</td>\n",
       "    </tr>\n",
       "    <tr>\n",
       "      <th>23</th>\n",
       "      <td>2025/02/28</td>\n",
       "      <td>660.7536</td>\n",
       "      <td>660.757929</td>\n",
       "    </tr>\n",
       "    <tr>\n",
       "      <th>22</th>\n",
       "      <td>2025/01/31</td>\n",
       "      <td>293.8440</td>\n",
       "      <td>164.910556</td>\n",
       "    </tr>\n",
       "  </tbody>\n",
       "</table>\n",
       "</div>"
      ],
      "text/plain": [
       "          Date   山东柴油裂解差  山东柴油裂解差_预测\n",
       "26  2025/05/31       NaN  503.709848\n",
       "25  2025/04/30  622.7508  554.472819\n",
       "24  2025/03/31  459.0120  464.328215\n",
       "23  2025/02/28  660.7536  660.757929\n",
       "22  2025/01/31  293.8440  164.910556"
      ]
     },
     "execution_count": 10,
     "metadata": {},
     "output_type": "execute_result"
    }
   ],
   "source": [
    "merged_df_monthly = sheet_daily[['Date','山东柴油裂解差', '山东柴油裂解差_预测']].copy()\n",
    "merged_df_monthly.loc[merged_df_monthly['Date'] <= '2024-10-1', '山东柴油裂解差_预测'] = None\n",
    "merged_df_monthly['Date'] = pd.to_datetime(merged_df_monthly['Date'])\n",
    "merged_df_monthly = merged_df_monthly.resample('ME', on='Date').last().reset_index()\n",
    "merged_df_monthly = merged_df_monthly.dropna(subset=['山东柴油裂解差', '山东柴油裂解差_预测'], how='all')\n",
    "merged_df_monthly =merged_df_monthly.sort_values('Date', ascending=False)\n",
    "merged_df_monthly['Date'] = merged_df_monthly['Date'].dt.strftime('%Y/%m/%d')\n",
    "merged_df_monthly.to_excel('eta/山东柴油裂解差(拟合残差版本)_月度数据.xlsx', index=False, float_format='%.2f')\n",
    "merged_df_monthly.head()"
   ]
  },
  {
   "cell_type": "markdown",
   "metadata": {},
   "source": [
    "---"
   ]
  },
  {
   "cell_type": "code",
   "execution_count": 11,
   "metadata": {
    "execution": {
     "iopub.execute_input": "2025-04-30T09:25:31.041408Z",
     "iopub.status.busy": "2025-04-30T09:25:31.041408Z",
     "iopub.status.idle": "2025-04-30T09:25:31.216961Z",
     "shell.execute_reply": "2025-04-30T09:25:31.216961Z"
    }
   },
   "outputs": [
    {
     "data": {
      "image/png": "[encoded data removed]",
      "text/plain": [
       "<Figure size 3000x800 with 1 Axes>"
      ]
     },
     "metadata": {},
     "output_type": "display_data"
    }
   ],
   "source": [
    "# 设置图形大小\n",
    "plt.figure(figsize=(30, 8))\n",
    "merged_df_daily_plot = merged_df_daily\n",
    "merged_df_daily_plot['Date'] = pd.to_datetime(merged_df_daily_plot['Date'])\n",
    "plt.plot(merged_df_daily_plot['Date'], merged_df_daily_plot['山东柴油裂解差'], color='blue', label='真实值')\n",
    "plt.plot(merged_df_daily_plot['Date'], merged_df_daily_plot['山东柴油裂解差_预测'], color='red', label='预测值')\n",
    "avline_date = pd.to_datetime(last_day)\n",
    "plt.axvline(x=avline_date, color='black', linestyle='--')\n",
    "plt.legend()\n",
    "plt.title('山东柴油裂解差预测')\n",
    "plt.xlabel('日期')\n",
    "plt.ylabel('值')\n",
    "plt.xticks(rotation=45)\n",
    "plt.grid(True)\n",
    "plt.tight_layout()\n",
    "plt.show()"
   ]
  },
  {
   "cell_type": "code",
   "execution_count": 12,
   "metadata": {
    "execution": {
     "iopub.execute_input": "2025-04-30T09:25:31.218182Z",
     "iopub.status.busy": "2025-04-30T09:25:31.218182Z",
     "iopub.status.idle": "2025-04-30T09:25:32.084023Z",
     "shell.execute_reply": "2025-04-30T09:25:32.084023Z"
    }
   },
   "outputs": [
    {
     "name": "stdout",
     "output_type": "stream",
     "text": [
      "成功更新 日度数据表 中的数据\n",
      "数据已成功更新到Excel文件\n"
     ]
    }
   ],
   "source": [
    "from Dcel import update_excel_data\n",
    "# 使用示例\n",
    "file_path = \"eta/1.汽柴煤油_数据上传.xlsx\"\n",
    "sheet_name = \"日度数据表\"\n",
    "identifier = \"山东柴油裂解差(拟合残差)\"\n",
    "\n",
    "# 调用函数更新数据\n",
    "success = update_excel_data(merged_df_daily, file_path, sheet_name, identifier)\n",
    "\n",
    "if success:\n",
    "    print(\"数据已成功更新到Excel文件\")\n",
    "else:\n",
    "    print(\"数据更新失败，请检查错误信息\")"
   ]
  },
  {
   "cell_type": "code",
   "execution_count": 13,
   "metadata": {
    "execution": {
     "iopub.execute_input": "2025-04-30T09:25:32.085236Z",
     "iopub.status.busy": "2025-04-30T09:25:32.085236Z",
     "iopub.status.idle": "2025-04-30T09:25:32.828070Z",
     "shell.execute_reply": "2025-04-30T09:25:32.828070Z"
    }
   },
   "outputs": [
    {
     "name": "stdout",
     "output_type": "stream",
     "text": [
      "已完成：插入/更新数据，并重新计算“方向/偏差率” (protected_date = 2025/04/30)\n",
      "数据已成功更新到Excel文件\n"
     ]
    }
   ],
   "source": [
    "from Lcel import update_excel_data\n",
    "file_path = \"eta/1.汽柴煤油_数据上传.xlsx\"\n",
    "sheet_name = \"详情页\"\n",
    "identifier = \"山东柴油裂解差(拟合残差)\"       # NEW: 新增日期标识符列的抬头\n",
    "# 调用函数更新数据\n",
    "success = update_excel_data(merged_df_monthly, file_path, sheet_name, identifier)\n",
    "\n",
    "if success:\n",
    "    print(\"数据已成功更新到Excel文件\")\n",
    "else:\n",
    "    print(\"数据更新失败，请检查错误信息\")\n"
   ]
  },
  {
   "cell_type": "code",
   "execution_count": null,
   "metadata": {},
   "outputs": [],
   "source": []
  }
 ],
 "metadata": {
  "kernelspec": {
   "display_name": "Python 3",
   "language": "python",
   "name": "python3"
  },
  "language_info": {
   "codemirror_mode": {
    "name": "ipython",
    "version": 3
   },
   "file_extension": ".py",
   "mimetype": "text/x-python",
   "name": "python",
   "nbconvert_exporter": "python",
   "pygments_lexer": "ipython3",
   "version": "3.12.10"
  }
 },
 "nbformat": 4,
 "nbformat_minor": 2
}
