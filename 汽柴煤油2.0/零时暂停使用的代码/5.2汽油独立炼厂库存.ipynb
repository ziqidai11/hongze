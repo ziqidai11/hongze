{
 "cells": [
  {
   "cell_type": "code",
   "execution_count": 1,
   "metadata": {
    "execution": {
     "iopub.execute_input": "2025-04-30T09:22:34.850814Z",
     "iopub.status.busy": "2025-04-30T09:22:34.850814Z",
     "iopub.status.idle": "2025-04-30T09:22:35.795372Z",
     "shell.execute_reply": "2025-04-30T09:22:35.795372Z"
    }
   },
   "outputs": [],
   "source": [
    "import pandas as pd\n",
    "import numpy as np\n",
    "from xgboost import XGBRegressor\n",
    "from sklearn.metrics import mean_squared_error, r2_score\n",
    "import matplotlib.pyplot as plt\n",
    "from sklearn.preprocessing import MinMaxScaler\n",
    "import pandas as pd\n",
    "from functools import reduce"
   ]
  },
  {
   "cell_type": "code",
   "execution_count": 2,
   "metadata": {
    "execution": {
     "iopub.execute_input": "2025-04-30T09:22:35.797410Z",
     "iopub.status.busy": "2025-04-30T09:22:35.796408Z",
     "iopub.status.idle": "2025-04-30T09:22:35.799759Z",
     "shell.execute_reply": "2025-04-30T09:22:35.799759Z"
    }
   },
   "outputs": [],
   "source": [
    "plt.rcParams['font.sans-serif'] = ['SimHei']  # 设置字体\n",
    "plt.rcParams['axes.unicode_minus'] = False  # 正常显示负号"
   ]
  },
  {
   "cell_type": "code",
   "execution_count": null,
   "metadata": {},
   "outputs": [],
   "source": [
    "# 获取当前文件所在目录的父目录\n",
    "import os\n",
    "import sys\n",
    "\n",
    "current_dir = os.getcwd()\n",
    "parent_dir = os.path.dirname(current_dir)\n",
    "\n",
    "if parent_dir not in sys.path:\n",
    "    sys.path.append(parent_dir)\n",
    "\n",
    "\n",
    "from Dtool import fill_missing_values, plot_factors_by_pattern, plot_comparison_multiple, reverse_column, plot_feature_importance,plot_predictions\n"
   ]
  },
  {
   "cell_type": "code",
   "execution_count": 3,
   "metadata": {
    "execution": {
     "iopub.execute_input": "2025-04-30T09:22:35.800997Z",
     "iopub.status.busy": "2025-04-30T09:22:35.800997Z",
     "iopub.status.idle": "2025-04-30T09:22:35.932383Z",
     "shell.execute_reply": "2025-04-30T09:22:35.932383Z"
    }
   },
   "outputs": [
    {
     "data": {
      "text/html": [
       "<div>\n",
       "<style scoped>\n",
       "    .dataframe tbody tr th:only-of-type {\n",
       "        vertical-align: middle;\n",
       "    }\n",
       "\n",
       "    .dataframe tbody tr th {\n",
       "        vertical-align: top;\n",
       "    }\n",
       "\n",
       "    .dataframe thead th {\n",
       "        text-align: right;\n",
       "    }\n",
       "</style>\n",
       "<table border=\"1\" class=\"dataframe\">\n",
       "  <thead>\n",
       "    <tr style=\"text-align: right;\">\n",
       "      <th></th>\n",
       "      <th>Date</th>\n",
       "      <th>中国独立炼厂汽油产量(预测/最新)</th>\n",
       "      <th>中国独立炼厂汽油库存</th>\n",
       "    </tr>\n",
       "  </thead>\n",
       "  <tbody>\n",
       "    <tr>\n",
       "      <th>268</th>\n",
       "      <td>2025-06-27</td>\n",
       "      <td>83.34</td>\n",
       "      <td>NaN</td>\n",
       "    </tr>\n",
       "    <tr>\n",
       "      <th>269</th>\n",
       "      <td>2025-07-04</td>\n",
       "      <td>83.34</td>\n",
       "      <td>NaN</td>\n",
       "    </tr>\n",
       "    <tr>\n",
       "      <th>270</th>\n",
       "      <td>2025-07-11</td>\n",
       "      <td>83.34</td>\n",
       "      <td>NaN</td>\n",
       "    </tr>\n",
       "    <tr>\n",
       "      <th>271</th>\n",
       "      <td>2025-07-18</td>\n",
       "      <td>83.34</td>\n",
       "      <td>NaN</td>\n",
       "    </tr>\n",
       "    <tr>\n",
       "      <th>272</th>\n",
       "      <td>2025-07-25</td>\n",
       "      <td>83.34</td>\n",
       "      <td>NaN</td>\n",
       "    </tr>\n",
       "  </tbody>\n",
       "</table>\n",
       "</div>"
      ],
      "text/plain": [
       "          Date  中国独立炼厂汽油产量(预测/最新)  中国独立炼厂汽油库存\n",
       "268 2025-06-27              83.34         NaN\n",
       "269 2025-07-04              83.34         NaN\n",
       "270 2025-07-11              83.34         NaN\n",
       "271 2025-07-18              83.34         NaN\n",
       "272 2025-07-25              83.34         NaN"
      ]
     },
     "execution_count": 3,
     "metadata": {},
     "output_type": "execute_result"
    }
   ],
   "source": [
    "file_path = 'data_input_auto/独立炼厂库存.xlsx'\n",
    "sheet = pd.ExcelFile(file_path).parse('Sheet1')\n",
    "sheet.rename(columns={'DataTime': 'Date'}, inplace=True)\n",
    "sheet['Date'] = pd.to_datetime(sheet['Date'], errors='coerce')\n",
    "sheet.tail()"
   ]
  },
  {
   "cell_type": "code",
   "execution_count": 4,
   "metadata": {
    "execution": {
     "iopub.execute_input": "2025-04-30T09:22:35.951933Z",
     "iopub.status.busy": "2025-04-30T09:22:35.951933Z",
     "iopub.status.idle": "2025-04-30T09:22:35.969502Z",
     "shell.execute_reply": "2025-04-30T09:22:35.969502Z"
    }
   },
   "outputs": [
    {
     "data": {
      "text/html": [
       "<div>\n",
       "<style scoped>\n",
       "    .dataframe tbody tr th:only-of-type {\n",
       "        vertical-align: middle;\n",
       "    }\n",
       "\n",
       "    .dataframe tbody tr th {\n",
       "        vertical-align: top;\n",
       "    }\n",
       "\n",
       "    .dataframe thead th {\n",
       "        text-align: right;\n",
       "    }\n",
       "</style>\n",
       "<table border=\"1\" class=\"dataframe\">\n",
       "  <thead>\n",
       "    <tr style=\"text-align: right;\">\n",
       "      <th></th>\n",
       "      <th>Date</th>\n",
       "      <th>中国独立炼厂汽油表需</th>\n",
       "    </tr>\n",
       "  </thead>\n",
       "  <tbody>\n",
       "    <tr>\n",
       "      <th>23</th>\n",
       "      <td>2025-05-26</td>\n",
       "      <td>85.552650</td>\n",
       "    </tr>\n",
       "    <tr>\n",
       "      <th>24</th>\n",
       "      <td>2025-05-27</td>\n",
       "      <td>85.381416</td>\n",
       "    </tr>\n",
       "    <tr>\n",
       "      <th>25</th>\n",
       "      <td>2025-05-28</td>\n",
       "      <td>85.372482</td>\n",
       "    </tr>\n",
       "    <tr>\n",
       "      <th>26</th>\n",
       "      <td>2025-05-29</td>\n",
       "      <td>85.749008</td>\n",
       "    </tr>\n",
       "    <tr>\n",
       "      <th>27</th>\n",
       "      <td>2025-05-30</td>\n",
       "      <td>85.749008</td>\n",
       "    </tr>\n",
       "  </tbody>\n",
       "</table>\n",
       "</div>"
      ],
      "text/plain": [
       "         Date  中国独立炼厂汽油表需\n",
       "23 2025-05-26   85.552650\n",
       "24 2025-05-27   85.381416\n",
       "25 2025-05-28   85.372482\n",
       "26 2025-05-29   85.749008\n",
       "27 2025-05-30   85.749008"
      ]
     },
     "execution_count": 4,
     "metadata": {},
     "output_type": "execute_result"
    }
   ],
   "source": [
    "file_path1 = 'data_output_auto/中国独立炼厂汽油表需.xlsx'\n",
    "sheet1 = pd.ExcelFile(file_path1).parse('Sheet1')\n",
    "sheet1.rename(columns={'DataTime': 'Date'}, inplace=True)\n",
    "sheet1['Date'] = pd.to_datetime(sheet1['Date'], errors='coerce')\n",
    "sheet1.tail()"
   ]
  },
  {
   "cell_type": "code",
   "execution_count": 5,
   "metadata": {
    "execution": {
     "iopub.execute_input": "2025-04-30T09:22:35.970518Z",
     "iopub.status.busy": "2025-04-30T09:22:35.970518Z",
     "iopub.status.idle": "2025-04-30T09:22:35.977588Z",
     "shell.execute_reply": "2025-04-30T09:22:35.977588Z"
    }
   },
   "outputs": [],
   "source": [
    "sheet['Date'] = pd.to_datetime(sheet['Date'])\n",
    "date_range = pd.date_range(start=sheet['Date'].min(), end=sheet['Date'].max(), freq='D')\n",
    "daily_df = pd.DataFrame({'Date': date_range})\n",
    "\n",
    "# 与原始数据合并,保留Date和中国独立炼厂汽油产量(预测/最新)列\n",
    "sheet_daily = pd.merge(daily_df, sheet[['Date', '中国独立炼厂汽油产量(预测/最新)']], on='Date', how='left')\n",
    "\n",
    "# 对中国独立炼厂汽油产量(预测/最新)进行线性插值填充\n",
    "sheet_daily['中国独立炼厂汽油产量(预测/最新)'] = sheet_daily['中国独立炼厂汽油产量(预测/最新)'].interpolate(method='linear')\n",
    "\n",
    "# 使用填充后的数据进行合并\n",
    "merged_df = pd.merge(sheet1, sheet_daily, on='Date', how='left')\n",
    "\n",
    "# 计算中国独立炼厂汽油库存\n",
    "merged_df['中国独立炼厂汽油库存_环差'] = merged_df['中国独立炼厂汽油产量(预测/最新)'] - merged_df['中国独立炼厂汽油表需']"
   ]
  },
  {
   "cell_type": "code",
   "execution_count": 6,
   "metadata": {
    "execution": {
     "iopub.execute_input": "2025-04-30T09:22:35.978606Z",
     "iopub.status.busy": "2025-04-30T09:22:35.978606Z",
     "iopub.status.idle": "2025-04-30T09:22:35.984038Z",
     "shell.execute_reply": "2025-04-30T09:22:35.984038Z"
    }
   },
   "outputs": [
    {
     "data": {
      "text/html": [
       "<div>\n",
       "<style scoped>\n",
       "    .dataframe tbody tr th:only-of-type {\n",
       "        vertical-align: middle;\n",
       "    }\n",
       "\n",
       "    .dataframe tbody tr th {\n",
       "        vertical-align: top;\n",
       "    }\n",
       "\n",
       "    .dataframe thead th {\n",
       "        text-align: right;\n",
       "    }\n",
       "</style>\n",
       "<table border=\"1\" class=\"dataframe\">\n",
       "  <thead>\n",
       "    <tr style=\"text-align: right;\">\n",
       "      <th></th>\n",
       "      <th>Date</th>\n",
       "      <th>中国独立炼厂汽油表需</th>\n",
       "      <th>中国独立炼厂汽油产量(预测/最新)</th>\n",
       "      <th>中国独立炼厂汽油库存_环差</th>\n",
       "    </tr>\n",
       "  </thead>\n",
       "  <tbody>\n",
       "    <tr>\n",
       "      <th>0</th>\n",
       "      <td>2025-05-03</td>\n",
       "      <td>87.645912</td>\n",
       "      <td>83.34</td>\n",
       "      <td>-4.305912</td>\n",
       "    </tr>\n",
       "    <tr>\n",
       "      <th>1</th>\n",
       "      <td>2025-05-04</td>\n",
       "      <td>87.030319</td>\n",
       "      <td>83.34</td>\n",
       "      <td>-3.690319</td>\n",
       "    </tr>\n",
       "    <tr>\n",
       "      <th>2</th>\n",
       "      <td>2025-05-05</td>\n",
       "      <td>86.534142</td>\n",
       "      <td>83.34</td>\n",
       "      <td>-3.194142</td>\n",
       "    </tr>\n",
       "    <tr>\n",
       "      <th>3</th>\n",
       "      <td>2025-05-06</td>\n",
       "      <td>85.599167</td>\n",
       "      <td>83.34</td>\n",
       "      <td>-2.259167</td>\n",
       "    </tr>\n",
       "    <tr>\n",
       "      <th>4</th>\n",
       "      <td>2025-05-07</td>\n",
       "      <td>85.374474</td>\n",
       "      <td>83.34</td>\n",
       "      <td>-2.034474</td>\n",
       "    </tr>\n",
       "  </tbody>\n",
       "</table>\n",
       "</div>"
      ],
      "text/plain": [
       "        Date  中国独立炼厂汽油表需  中国独立炼厂汽油产量(预测/最新)  中国独立炼厂汽油库存_环差\n",
       "0 2025-05-03   87.645912              83.34      -4.305912\n",
       "1 2025-05-04   87.030319              83.34      -3.690319\n",
       "2 2025-05-05   86.534142              83.34      -3.194142\n",
       "3 2025-05-06   85.599167              83.34      -2.259167\n",
       "4 2025-05-07   85.374474              83.34      -2.034474"
      ]
     },
     "execution_count": 6,
     "metadata": {},
     "output_type": "execute_result"
    }
   ],
   "source": [
    "merged_df.head()"
   ]
  },
  {
   "cell_type": "code",
   "execution_count": 7,
   "metadata": {
    "execution": {
     "iopub.execute_input": "2025-04-30T09:22:35.985050Z",
     "iopub.status.busy": "2025-04-30T09:22:35.985050Z",
     "iopub.status.idle": "2025-04-30T09:22:35.988159Z",
     "shell.execute_reply": "2025-04-30T09:22:35.988159Z"
    }
   },
   "outputs": [
    {
     "data": {
      "text/plain": [
       "\"\\n# 获取sheet中最后一个有效的中国独立炼厂汽油库存值\\nlast_valid_inventory = sheet.loc[sheet['中国独立炼厂汽油库存'].last_valid_index(), '中国独立炼厂汽油库存']\\n\\n# 初始化中国独立炼厂汽油库存列\\nmerged_df['中国独立炼厂汽油库存'] = None\\n\\n# 计算第一个库存值\\nmerged_df.iloc[0, merged_df.columns.get_loc('中国独立炼厂汽油库存')] = last_valid_inventory + merged_df.iloc[0]['中国独立炼厂汽油库存_环差']\\n\\n# 循环计算后续库存值\\nfor i in range(1, len(merged_df)):\\n    merged_df.iloc[i, merged_df.columns.get_loc('中国独立炼厂汽油库存')] = (\\n        merged_df.iloc[i-1]['中国独立炼厂汽油库存'] + \\n        merged_df.iloc[i]['中国独立炼厂汽油库存_环差']\\n    )\\nmerged_df.head()\\n\""
      ]
     },
     "execution_count": 7,
     "metadata": {},
     "output_type": "execute_result"
    }
   ],
   "source": [
    "'''\n",
    "# 获取sheet中最后一个有效的中国独立炼厂汽油库存值\n",
    "last_valid_inventory = sheet.loc[sheet['中国独立炼厂汽油库存'].last_valid_index(), '中国独立炼厂汽油库存']\n",
    "\n",
    "# 初始化中国独立炼厂汽油库存列\n",
    "merged_df['中国独立炼厂汽油库存'] = None\n",
    "\n",
    "# 计算第一个库存值\n",
    "merged_df.iloc[0, merged_df.columns.get_loc('中国独立炼厂汽油库存')] = last_valid_inventory + merged_df.iloc[0]['中国独立炼厂汽油库存_环差']\n",
    "\n",
    "# 循环计算后续库存值\n",
    "for i in range(1, len(merged_df)):\n",
    "    merged_df.iloc[i, merged_df.columns.get_loc('中国独立炼厂汽油库存')] = (\n",
    "        merged_df.iloc[i-1]['中国独立炼厂汽油库存'] + \n",
    "        merged_df.iloc[i]['中国独立炼厂汽油库存_环差']\n",
    "    )\n",
    "merged_df.head()\n",
    "'''"
   ]
  },
  {
   "cell_type": "code",
   "execution_count": 8,
   "metadata": {
    "execution": {
     "iopub.execute_input": "2025-04-30T09:22:35.989167Z",
     "iopub.status.busy": "2025-04-30T09:22:35.989167Z",
     "iopub.status.idle": "2025-04-30T09:22:35.994121Z",
     "shell.execute_reply": "2025-04-30T09:22:35.994121Z"
    }
   },
   "outputs": [
    {
     "data": {
      "text/html": [
       "<div>\n",
       "<style scoped>\n",
       "    .dataframe tbody tr th:only-of-type {\n",
       "        vertical-align: middle;\n",
       "    }\n",
       "\n",
       "    .dataframe tbody tr th {\n",
       "        vertical-align: top;\n",
       "    }\n",
       "\n",
       "    .dataframe thead th {\n",
       "        text-align: right;\n",
       "    }\n",
       "</style>\n",
       "<table border=\"1\" class=\"dataframe\">\n",
       "  <thead>\n",
       "    <tr style=\"text-align: right;\">\n",
       "      <th></th>\n",
       "      <th>Date</th>\n",
       "      <th>中国独立炼厂汽油表需</th>\n",
       "      <th>中国独立炼厂汽油产量(预测/最新)</th>\n",
       "      <th>中国独立炼厂汽油库存_环差</th>\n",
       "      <th>中国独立炼厂汽油库存</th>\n",
       "    </tr>\n",
       "  </thead>\n",
       "  <tbody>\n",
       "    <tr>\n",
       "      <th>0</th>\n",
       "      <td>2025-05-03</td>\n",
       "      <td>87.645912</td>\n",
       "      <td>83.34</td>\n",
       "      <td>-4.305912</td>\n",
       "      <td>81.694088</td>\n",
       "    </tr>\n",
       "    <tr>\n",
       "      <th>1</th>\n",
       "      <td>2025-05-04</td>\n",
       "      <td>87.030319</td>\n",
       "      <td>83.34</td>\n",
       "      <td>-3.690319</td>\n",
       "      <td>82.309681</td>\n",
       "    </tr>\n",
       "    <tr>\n",
       "      <th>2</th>\n",
       "      <td>2025-05-05</td>\n",
       "      <td>86.534142</td>\n",
       "      <td>83.34</td>\n",
       "      <td>-3.194142</td>\n",
       "      <td>82.805858</td>\n",
       "    </tr>\n",
       "    <tr>\n",
       "      <th>3</th>\n",
       "      <td>2025-05-06</td>\n",
       "      <td>85.599167</td>\n",
       "      <td>83.34</td>\n",
       "      <td>-2.259167</td>\n",
       "      <td>83.740833</td>\n",
       "    </tr>\n",
       "    <tr>\n",
       "      <th>4</th>\n",
       "      <td>2025-05-07</td>\n",
       "      <td>85.374474</td>\n",
       "      <td>83.34</td>\n",
       "      <td>-2.034474</td>\n",
       "      <td>83.965526</td>\n",
       "    </tr>\n",
       "  </tbody>\n",
       "</table>\n",
       "</div>"
      ],
      "text/plain": [
       "        Date  中国独立炼厂汽油表需  中国独立炼厂汽油产量(预测/最新)  中国独立炼厂汽油库存_环差  中国独立炼厂汽油库存\n",
       "0 2025-05-03   87.645912              83.34      -4.305912   81.694088\n",
       "1 2025-05-04   87.030319              83.34      -3.690319   82.309681\n",
       "2 2025-05-05   86.534142              83.34      -3.194142   82.805858\n",
       "3 2025-05-06   85.599167              83.34      -2.259167   83.740833\n",
       "4 2025-05-07   85.374474              83.34      -2.034474   83.965526"
      ]
     },
     "execution_count": 8,
     "metadata": {},
     "output_type": "execute_result"
    }
   ],
   "source": [
    "# 计算中国独立炼厂汽油库存,基准值设为86\n",
    "merged_df['中国独立炼厂汽油库存'] = 86 + merged_df['中国独立炼厂汽油库存_环差']\n",
    "merged_df.head()"
   ]
  },
  {
   "cell_type": "code",
   "execution_count": 9,
   "metadata": {
    "execution": {
     "iopub.execute_input": "2025-04-30T09:22:35.995180Z",
     "iopub.status.busy": "2025-04-30T09:22:35.995180Z",
     "iopub.status.idle": "2025-04-30T09:22:36.007493Z",
     "shell.execute_reply": "2025-04-30T09:22:36.007493Z"
    }
   },
   "outputs": [
    {
     "name": "stdout",
     "output_type": "stream",
     "text": [
      "中国独立炼厂汽油库存预测数据已保存\n"
     ]
    }
   ],
   "source": [
    "# 提取中国独立炼厂汽油库存数据\n",
    "库存_df = merged_df[['Date', '中国独立炼厂汽油库存']]\n",
    "\n",
    "库存_df.to_excel('data_output_auto/中国独立炼厂汽油库存预测.xlsx', index=False)\n",
    "print('中国独立炼厂汽油库存预测数据已保存')"
   ]
  },
  {
   "cell_type": "code",
   "execution_count": 10,
   "metadata": {
    "execution": {
     "iopub.execute_input": "2025-04-30T09:22:36.008801Z",
     "iopub.status.busy": "2025-04-30T09:22:36.008801Z",
     "iopub.status.idle": "2025-04-30T09:22:36.156758Z",
     "shell.execute_reply": "2025-04-30T09:22:36.156247Z"
    }
   },
   "outputs": [
    {
     "data": {
      "image/png": "[encoded data removed]",
      "text/plain": [
       "<Figure size 1200x600 with 1 Axes>"
      ]
     },
     "metadata": {},
     "output_type": "display_data"
    }
   ],
   "source": [
    "# 绘制库存数据图表\n",
    "import matplotlib.pyplot as plt\n",
    "plt.figure(figsize=(12, 6))\n",
    "plt.plot(库存_df['Date'], 库存_df['中国独立炼厂汽油库存'], '-', label='中国独立炼厂汽油库存')\n",
    "plt.grid(True)\n",
    "plt.title('中国独立炼厂汽油库存走势图')\n",
    "plt.xlabel('日期')\n",
    "plt.ylabel('库存')\n",
    "plt.xticks(rotation=45)\n",
    "plt.legend()\n",
    "plt.tight_layout()\n",
    "plt.show()\n"
   ]
  },
  {
   "cell_type": "markdown",
   "metadata": {},
   "source": [
    "---"
   ]
  },
  {
   "cell_type": "code",
   "execution_count": 11,
   "metadata": {
    "execution": {
     "iopub.execute_input": "2025-04-30T09:22:36.157774Z",
     "iopub.status.busy": "2025-04-30T09:22:36.157774Z",
     "iopub.status.idle": "2025-04-30T09:22:36.165651Z",
     "shell.execute_reply": "2025-04-30T09:22:36.165651Z"
    }
   },
   "outputs": [
    {
     "data": {
      "text/html": [
       "<div>\n",
       "<style scoped>\n",
       "    .dataframe tbody tr th:only-of-type {\n",
       "        vertical-align: middle;\n",
       "    }\n",
       "\n",
       "    .dataframe tbody tr th {\n",
       "        vertical-align: top;\n",
       "    }\n",
       "\n",
       "    .dataframe thead th {\n",
       "        text-align: right;\n",
       "    }\n",
       "</style>\n",
       "<table border=\"1\" class=\"dataframe\">\n",
       "  <thead>\n",
       "    <tr style=\"text-align: right;\">\n",
       "      <th></th>\n",
       "      <th>Date</th>\n",
       "      <th>中国独立炼厂汽油产量(预测/最新)</th>\n",
       "      <th>中国独立炼厂汽油库存</th>\n",
       "    </tr>\n",
       "  </thead>\n",
       "  <tbody>\n",
       "    <tr>\n",
       "      <th>0</th>\n",
       "      <td>2020-05-08</td>\n",
       "      <td>107.74</td>\n",
       "      <td>108.60</td>\n",
       "    </tr>\n",
       "    <tr>\n",
       "      <th>1</th>\n",
       "      <td>2020-05-15</td>\n",
       "      <td>106.00</td>\n",
       "      <td>104.71</td>\n",
       "    </tr>\n",
       "    <tr>\n",
       "      <th>2</th>\n",
       "      <td>2020-05-22</td>\n",
       "      <td>108.79</td>\n",
       "      <td>100.00</td>\n",
       "    </tr>\n",
       "    <tr>\n",
       "      <th>3</th>\n",
       "      <td>2020-05-29</td>\n",
       "      <td>111.10</td>\n",
       "      <td>90.20</td>\n",
       "    </tr>\n",
       "    <tr>\n",
       "      <th>4</th>\n",
       "      <td>2020-06-05</td>\n",
       "      <td>115.24</td>\n",
       "      <td>94.30</td>\n",
       "    </tr>\n",
       "    <tr>\n",
       "      <th>...</th>\n",
       "      <td>...</td>\n",
       "      <td>...</td>\n",
       "      <td>...</td>\n",
       "    </tr>\n",
       "    <tr>\n",
       "      <th>268</th>\n",
       "      <td>2025-06-27</td>\n",
       "      <td>83.34</td>\n",
       "      <td>NaN</td>\n",
       "    </tr>\n",
       "    <tr>\n",
       "      <th>269</th>\n",
       "      <td>2025-07-04</td>\n",
       "      <td>83.34</td>\n",
       "      <td>NaN</td>\n",
       "    </tr>\n",
       "    <tr>\n",
       "      <th>270</th>\n",
       "      <td>2025-07-11</td>\n",
       "      <td>83.34</td>\n",
       "      <td>NaN</td>\n",
       "    </tr>\n",
       "    <tr>\n",
       "      <th>271</th>\n",
       "      <td>2025-07-18</td>\n",
       "      <td>83.34</td>\n",
       "      <td>NaN</td>\n",
       "    </tr>\n",
       "    <tr>\n",
       "      <th>272</th>\n",
       "      <td>2025-07-25</td>\n",
       "      <td>83.34</td>\n",
       "      <td>NaN</td>\n",
       "    </tr>\n",
       "  </tbody>\n",
       "</table>\n",
       "<p>273 rows × 3 columns</p>\n",
       "</div>"
      ],
      "text/plain": [
       "          Date  中国独立炼厂汽油产量(预测/最新)  中国独立炼厂汽油库存\n",
       "0   2020-05-08             107.74      108.60\n",
       "1   2020-05-15             106.00      104.71\n",
       "2   2020-05-22             108.79      100.00\n",
       "3   2020-05-29             111.10       90.20\n",
       "4   2020-06-05             115.24       94.30\n",
       "..         ...                ...         ...\n",
       "268 2025-06-27              83.34         NaN\n",
       "269 2025-07-04              83.34         NaN\n",
       "270 2025-07-11              83.34         NaN\n",
       "271 2025-07-18              83.34         NaN\n",
       "272 2025-07-25              83.34         NaN\n",
       "\n",
       "[273 rows x 3 columns]"
      ]
     },
     "execution_count": 11,
     "metadata": {},
     "output_type": "execute_result"
    }
   ],
   "source": [
    "sheet"
   ]
  },
  {
   "cell_type": "code",
   "execution_count": 12,
   "metadata": {
    "execution": {
     "iopub.execute_input": "2025-04-30T09:22:36.166655Z",
     "iopub.status.busy": "2025-04-30T09:22:36.166655Z",
     "iopub.status.idle": "2025-04-30T09:22:36.173407Z",
     "shell.execute_reply": "2025-04-30T09:22:36.173407Z"
    }
   },
   "outputs": [],
   "source": [
    "sheet_kucun = sheet[['Date','中国独立炼厂汽油库存']].copy()\n",
    "# 将历史数据和预测数据合并\n",
    "库存_df_weekly = 库存_df.resample('W-MON', on='Date').mean()\n",
    "sheet_kucun = pd.merge(sheet_kucun, 库存_df_weekly, on='Date', how='outer')"
   ]
  },
  {
   "cell_type": "code",
   "execution_count": 13,
   "metadata": {
    "execution": {
     "iopub.execute_input": "2025-04-30T09:22:36.174710Z",
     "iopub.status.busy": "2025-04-30T09:22:36.174710Z",
     "iopub.status.idle": "2025-04-30T09:22:36.181411Z",
     "shell.execute_reply": "2025-04-30T09:22:36.181411Z"
    }
   },
   "outputs": [
    {
     "data": {
      "text/html": [
       "<div>\n",
       "<style scoped>\n",
       "    .dataframe tbody tr th:only-of-type {\n",
       "        vertical-align: middle;\n",
       "    }\n",
       "\n",
       "    .dataframe tbody tr th {\n",
       "        vertical-align: top;\n",
       "    }\n",
       "\n",
       "    .dataframe thead th {\n",
       "        text-align: right;\n",
       "    }\n",
       "</style>\n",
       "<table border=\"1\" class=\"dataframe\">\n",
       "  <thead>\n",
       "    <tr style=\"text-align: right;\">\n",
       "      <th></th>\n",
       "      <th>Date</th>\n",
       "      <th>中国独立炼厂汽油库存</th>\n",
       "      <th>中国独立炼厂汽油库存_预测</th>\n",
       "    </tr>\n",
       "  </thead>\n",
       "  <tbody>\n",
       "    <tr>\n",
       "      <th>0</th>\n",
       "      <td>2020-05-08</td>\n",
       "      <td>108.60</td>\n",
       "      <td>NaN</td>\n",
       "    </tr>\n",
       "    <tr>\n",
       "      <th>1</th>\n",
       "      <td>2020-05-15</td>\n",
       "      <td>104.71</td>\n",
       "      <td>NaN</td>\n",
       "    </tr>\n",
       "    <tr>\n",
       "      <th>2</th>\n",
       "      <td>2020-05-22</td>\n",
       "      <td>100.00</td>\n",
       "      <td>NaN</td>\n",
       "    </tr>\n",
       "    <tr>\n",
       "      <th>3</th>\n",
       "      <td>2020-05-29</td>\n",
       "      <td>90.20</td>\n",
       "      <td>NaN</td>\n",
       "    </tr>\n",
       "    <tr>\n",
       "      <th>4</th>\n",
       "      <td>2020-06-05</td>\n",
       "      <td>94.30</td>\n",
       "      <td>NaN</td>\n",
       "    </tr>\n",
       "    <tr>\n",
       "      <th>...</th>\n",
       "      <td>...</td>\n",
       "      <td>...</td>\n",
       "      <td>...</td>\n",
       "    </tr>\n",
       "    <tr>\n",
       "      <th>261</th>\n",
       "      <td>2025-05-05</td>\n",
       "      <td>NaN</td>\n",
       "      <td>82.269876</td>\n",
       "    </tr>\n",
       "    <tr>\n",
       "      <th>263</th>\n",
       "      <td>2025-05-12</td>\n",
       "      <td>NaN</td>\n",
       "      <td>83.233476</td>\n",
       "    </tr>\n",
       "    <tr>\n",
       "      <th>265</th>\n",
       "      <td>2025-05-19</td>\n",
       "      <td>NaN</td>\n",
       "      <td>82.969877</td>\n",
       "    </tr>\n",
       "    <tr>\n",
       "      <th>267</th>\n",
       "      <td>2025-05-26</td>\n",
       "      <td>NaN</td>\n",
       "      <td>83.622705</td>\n",
       "    </tr>\n",
       "    <tr>\n",
       "      <th>269</th>\n",
       "      <td>2025-06-02</td>\n",
       "      <td>NaN</td>\n",
       "      <td>83.777021</td>\n",
       "    </tr>\n",
       "  </tbody>\n",
       "</table>\n",
       "<p>266 rows × 3 columns</p>\n",
       "</div>"
      ],
      "text/plain": [
       "          Date  中国独立炼厂汽油库存  中国独立炼厂汽油库存_预测\n",
       "0   2020-05-08      108.60            NaN\n",
       "1   2020-05-15      104.71            NaN\n",
       "2   2020-05-22      100.00            NaN\n",
       "3   2020-05-29       90.20            NaN\n",
       "4   2020-06-05       94.30            NaN\n",
       "..         ...         ...            ...\n",
       "261 2025-05-05         NaN      82.269876\n",
       "263 2025-05-12         NaN      83.233476\n",
       "265 2025-05-19         NaN      82.969877\n",
       "267 2025-05-26         NaN      83.622705\n",
       "269 2025-06-02         NaN      83.777021\n",
       "\n",
       "[266 rows x 3 columns]"
      ]
     },
     "execution_count": 13,
     "metadata": {},
     "output_type": "execute_result"
    }
   ],
   "source": [
    "# 重命名列\n",
    "sheet_kucun = sheet_kucun.rename(columns={\n",
    "    '中国独立炼厂汽油库存_x': '中国独立炼厂汽油库存',\n",
    "    '中国独立炼厂汽油库存_y': '中国独立炼厂汽油库存_预测'\n",
    "})\n",
    "\n",
    "# 删除两列都为空的行\n",
    "sheet_kucun = sheet_kucun.dropna(subset=['中国独立炼厂汽油库存', '中国独立炼厂汽油库存_预测'], how='all')\n",
    "\n",
    "sheet_kucun"
   ]
  },
  {
   "cell_type": "code",
   "execution_count": 14,
   "metadata": {
    "execution": {
     "iopub.execute_input": "2025-04-30T09:22:36.182694Z",
     "iopub.status.busy": "2025-04-30T09:22:36.182694Z",
     "iopub.status.idle": "2025-04-30T09:22:36.283818Z",
     "shell.execute_reply": "2025-04-30T09:22:36.283818Z"
    }
   },
   "outputs": [
    {
     "data": {
      "image/png": "[encoded data removed]",
      "text/plain": [
       "<Figure size 1200x600 with 1 Axes>"
      ]
     },
     "metadata": {},
     "output_type": "display_data"
    }
   ],
   "source": [
    "# 绘制库存数据图表\n",
    "plt.figure(figsize=(12, 6))\n",
    "\n",
    "# 获取历史库存最后一个非空值和预测库存第一个非空值\n",
    "last_hist = sheet_kucun[sheet_kucun['中国独立炼厂汽油库存'].notna()]['中国独立炼厂汽油库存'].iloc[-1]\n",
    "first_pred = sheet_kucun[sheet_kucun['中国独立炼厂汽油库存_预测'].notna()]['中国独立炼厂汽油库存_预测'].iloc[0]\n",
    "\n",
    "# 获取对应的日期\n",
    "last_hist_date = sheet_kucun[sheet_kucun['中国独立炼厂汽油库存'].notna()]['Date'].iloc[-1]\n",
    "first_pred_date = sheet_kucun[sheet_kucun['中国独立炼厂汽油库存_预测'].notna()]['Date'].iloc[0]\n",
    "\n",
    "# 绘制主要数据\n",
    "plt.plot(sheet_kucun['Date'], sheet_kucun['中国独立炼厂汽油库存'], '-', label='历史库存', color='blue')\n",
    "plt.plot(sheet_kucun['Date'], sheet_kucun['中国独立炼厂汽油库存_预测'], '-', label='预测库存', color='red')\n",
    "\n",
    "# 绘制连接线\n",
    "plt.plot([last_hist_date, first_pred_date], [last_hist, first_pred], '-', color='red')\n",
    "\n",
    "plt.grid(True)\n",
    "plt.title('中国独立炼厂汽油库存走势图')\n",
    "plt.xlabel('日期')\n",
    "plt.ylabel('库存')\n",
    "plt.xticks(rotation=45)\n",
    "plt.legend()\n",
    "plt.tight_layout()\n",
    "plt.show()\n"
   ]
  },
  {
   "cell_type": "code",
   "execution_count": 15,
   "metadata": {
    "execution": {
     "iopub.execute_input": "2025-04-30T09:22:36.284854Z",
     "iopub.status.busy": "2025-04-30T09:22:36.284854Z",
     "iopub.status.idle": "2025-04-30T09:22:36.311137Z",
     "shell.execute_reply": "2025-04-30T09:22:36.311137Z"
    }
   },
   "outputs": [
    {
     "data": {
      "text/html": [
       "<div>\n",
       "<style scoped>\n",
       "    .dataframe tbody tr th:only-of-type {\n",
       "        vertical-align: middle;\n",
       "    }\n",
       "\n",
       "    .dataframe tbody tr th {\n",
       "        vertical-align: top;\n",
       "    }\n",
       "\n",
       "    .dataframe thead th {\n",
       "        text-align: right;\n",
       "    }\n",
       "</style>\n",
       "<table border=\"1\" class=\"dataframe\">\n",
       "  <thead>\n",
       "    <tr style=\"text-align: right;\">\n",
       "      <th></th>\n",
       "      <th>Date</th>\n",
       "      <th>中国独立炼厂汽油库存</th>\n",
       "      <th>中国独立炼厂汽油库存_预测</th>\n",
       "    </tr>\n",
       "  </thead>\n",
       "  <tbody>\n",
       "    <tr>\n",
       "      <th>269</th>\n",
       "      <td>2025/06/02</td>\n",
       "      <td>NaN</td>\n",
       "      <td>83.777021</td>\n",
       "    </tr>\n",
       "    <tr>\n",
       "      <th>267</th>\n",
       "      <td>2025/05/26</td>\n",
       "      <td>NaN</td>\n",
       "      <td>83.622705</td>\n",
       "    </tr>\n",
       "    <tr>\n",
       "      <th>265</th>\n",
       "      <td>2025/05/19</td>\n",
       "      <td>NaN</td>\n",
       "      <td>82.969877</td>\n",
       "    </tr>\n",
       "    <tr>\n",
       "      <th>263</th>\n",
       "      <td>2025/05/12</td>\n",
       "      <td>NaN</td>\n",
       "      <td>83.233476</td>\n",
       "    </tr>\n",
       "    <tr>\n",
       "      <th>261</th>\n",
       "      <td>2025/05/05</td>\n",
       "      <td>NaN</td>\n",
       "      <td>82.269876</td>\n",
       "    </tr>\n",
       "  </tbody>\n",
       "</table>\n",
       "</div>"
      ],
      "text/plain": [
       "           Date  中国独立炼厂汽油库存  中国独立炼厂汽油库存_预测\n",
       "269  2025/06/02         NaN      83.777021\n",
       "267  2025/05/26         NaN      83.622705\n",
       "265  2025/05/19         NaN      82.969877\n",
       "263  2025/05/12         NaN      83.233476\n",
       "261  2025/05/05         NaN      82.269876"
      ]
     },
     "execution_count": 15,
     "metadata": {},
     "output_type": "execute_result"
    }
   ],
   "source": [
    "merged_df_daily = sheet_kucun.sort_values('Date', ascending=False)\n",
    "merged_df_daily['Date'] = merged_df_daily['Date'].dt.strftime('%Y/%m/%d')\n",
    "merged_df_daily.to_excel('eta/汽油独立炼厂库存_合并数据.xlsx', index=False,float_format='%.2f')\n",
    "merged_df_daily.head()"
   ]
  },
  {
   "cell_type": "code",
   "execution_count": 16,
   "metadata": {
    "execution": {
     "iopub.execute_input": "2025-04-30T09:22:36.312206Z",
     "iopub.status.busy": "2025-04-30T09:22:36.312206Z",
     "iopub.status.idle": "2025-04-30T09:22:36.332332Z",
     "shell.execute_reply": "2025-04-30T09:22:36.332332Z"
    }
   },
   "outputs": [
    {
     "data": {
      "text/html": [
       "<div>\n",
       "<style scoped>\n",
       "    .dataframe tbody tr th:only-of-type {\n",
       "        vertical-align: middle;\n",
       "    }\n",
       "\n",
       "    .dataframe tbody tr th {\n",
       "        vertical-align: top;\n",
       "    }\n",
       "\n",
       "    .dataframe thead th {\n",
       "        text-align: right;\n",
       "    }\n",
       "</style>\n",
       "<table border=\"1\" class=\"dataframe\">\n",
       "  <thead>\n",
       "    <tr style=\"text-align: right;\">\n",
       "      <th></th>\n",
       "      <th>Date</th>\n",
       "      <th>中国独立炼厂汽油库存</th>\n",
       "      <th>中国独立炼厂汽油库存_预测</th>\n",
       "    </tr>\n",
       "  </thead>\n",
       "  <tbody>\n",
       "    <tr>\n",
       "      <th>61</th>\n",
       "      <td>2025/06/30</td>\n",
       "      <td>NaN</td>\n",
       "      <td>83.777021</td>\n",
       "    </tr>\n",
       "    <tr>\n",
       "      <th>60</th>\n",
       "      <td>2025/05/31</td>\n",
       "      <td>NaN</td>\n",
       "      <td>83.622705</td>\n",
       "    </tr>\n",
       "    <tr>\n",
       "      <th>59</th>\n",
       "      <td>2025/04/30</td>\n",
       "      <td>78.8272</td>\n",
       "      <td>NaN</td>\n",
       "    </tr>\n",
       "    <tr>\n",
       "      <th>58</th>\n",
       "      <td>2025/03/31</td>\n",
       "      <td>85.8672</td>\n",
       "      <td>NaN</td>\n",
       "    </tr>\n",
       "    <tr>\n",
       "      <th>57</th>\n",
       "      <td>2025/02/28</td>\n",
       "      <td>92.5280</td>\n",
       "      <td>NaN</td>\n",
       "    </tr>\n",
       "  </tbody>\n",
       "</table>\n",
       "</div>"
      ],
      "text/plain": [
       "          Date  中国独立炼厂汽油库存  中国独立炼厂汽油库存_预测\n",
       "61  2025/06/30         NaN      83.777021\n",
       "60  2025/05/31         NaN      83.622705\n",
       "59  2025/04/30     78.8272            NaN\n",
       "58  2025/03/31     85.8672            NaN\n",
       "57  2025/02/28     92.5280            NaN"
      ]
     },
     "execution_count": 16,
     "metadata": {},
     "output_type": "execute_result"
    }
   ],
   "source": [
    "merged_df_monthly = sheet_kucun.resample('ME', on='Date').last().reset_index()\n",
    "merged_df_monthly =merged_df_monthly.sort_values('Date', ascending=False)\n",
    "merged_df_monthly['Date'] = merged_df_monthly['Date'].dt.strftime('%Y/%m/%d')\n",
    "merged_df_monthly.to_excel('eta/汽油独立炼厂库存_月度数据.xlsx', index=False, float_format='%.2f')\n",
    "merged_df_monthly.head()"
   ]
  },
  {
   "cell_type": "code",
   "execution_count": 17,
   "metadata": {
    "execution": {
     "iopub.execute_input": "2025-04-30T09:22:36.333577Z",
     "iopub.status.busy": "2025-04-30T09:22:36.333577Z",
     "iopub.status.idle": "2025-04-30T09:22:37.189434Z",
     "shell.execute_reply": "2025-04-30T09:22:37.189434Z"
    }
   },
   "outputs": [
    {
     "name": "stdout",
     "output_type": "stream",
     "text": [
      "成功更新 日度数据表 中的数据\n",
      "数据已成功更新到Excel文件\n"
     ]
    }
   ],
   "source": [
    "from Dcel import update_excel_data\n",
    "# 使用示例\n",
    "file_path = \"eta/1.汽柴煤油_数据上传.xlsx\"\n",
    "sheet_name = \"日度数据表\"\n",
    "identifier = \"中国独立炼厂汽油库存\"\n",
    "\n",
    "# 调用函数更新数据\n",
    "success = update_excel_data(merged_df_daily, file_path, sheet_name, identifier)\n",
    "\n",
    "if success:\n",
    "    print(\"数据已成功更新到Excel文件\")\n",
    "else:\n",
    "    print(\"数据更新失败，请检查错误信息\")"
   ]
  },
  {
   "cell_type": "code",
   "execution_count": 18,
   "metadata": {
    "execution": {
     "iopub.execute_input": "2025-04-30T09:22:37.190508Z",
     "iopub.status.busy": "2025-04-30T09:22:37.190508Z",
     "iopub.status.idle": "2025-04-30T09:22:38.018322Z",
     "shell.execute_reply": "2025-04-30T09:22:38.017816Z"
    }
   },
   "outputs": [
    {
     "name": "stdout",
     "output_type": "stream",
     "text": [
      "已完成：插入/更新数据，并重新计算“方向/偏差率” (protected_date = 2025/04/30)\n",
      "数据已成功更新到Excel文件\n"
     ]
    }
   ],
   "source": [
    "from Lcel import update_excel_data\n",
    "file_path = \"eta/1.汽柴煤油_数据上传.xlsx\"\n",
    "sheet_name = \"详情页\"\n",
    "identifier = \"中国独立炼厂汽油库存\"\n",
    "# 调用函数更新数据\n",
    "success = update_excel_data(merged_df_monthly, file_path, sheet_name, identifier)\n",
    "\n",
    "if success:\n",
    "    print(\"数据已成功更新到Excel文件\")\n",
    "else:\n",
    "    print(\"数据更新失败，请检查错误信息\")\n"
   ]
  }
 ],
 "metadata": {
  "kernelspec": {
   "display_name": "Python 3",
   "language": "python",
   "name": "python3"
  },
  "language_info": {
   "codemirror_mode": {
    "name": "ipython",
    "version": 3
   },
   "file_extension": ".py",
   "mimetype": "text/x-python",
   "name": "python",
   "nbconvert_exporter": "python",
   "pygments_lexer": "ipython3",
   "version": "3.12.10"
  }
 },
 "nbformat": 4,
 "nbformat_minor": 2
}
