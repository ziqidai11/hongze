{
 "cells": [
  {
   "cell_type": "code",
   "execution_count": 1,
   "metadata": {
    "execution": {
     "iopub.execute_input": "2025-05-14T01:42:31.260275Z",
     "iopub.status.busy": "2025-05-14T01:42:31.260275Z",
     "iopub.status.idle": "2025-05-14T01:42:31.876052Z",
     "shell.execute_reply": "2025-05-14T01:42:31.876052Z"
    }
   },
   "outputs": [],
   "source": [
    "import pandas as pd\n",
    "import numpy as np\n",
    "import matplotlib.pyplot as plt"
   ]
  },
  {
   "cell_type": "code",
   "execution_count": 2,
   "metadata": {
    "execution": {
     "iopub.execute_input": "2025-05-14T01:42:31.878457Z",
     "iopub.status.busy": "2025-05-14T01:42:31.878457Z",
     "iopub.status.idle": "2025-05-14T01:42:32.407286Z",
     "shell.execute_reply": "2025-05-14T01:42:32.407286Z"
    }
   },
   "outputs": [],
   "source": [
    "# 获取当前文件所在目录的父目录\n",
    "import os\n",
    "import sys\n",
    "\n",
    "current_dir = os.getcwd()\n",
    "parent_dir = os.path.dirname(current_dir)\n",
    "\n",
    "if parent_dir not in sys.path:\n",
    "    sys.path.append(parent_dir)\n",
    "\n",
    "\n",
    "from Dtool import fill_missing_values, plot_factors_by_pattern, plot_comparison_multiple, reverse_column, plot_feature_importance,plot_predictions\n"
   ]
  },
  {
   "cell_type": "code",
   "execution_count": 3,
   "metadata": {
    "execution": {
     "iopub.execute_input": "2025-05-14T01:42:32.410781Z",
     "iopub.status.busy": "2025-05-14T01:42:32.409753Z",
     "iopub.status.idle": "2025-05-14T01:42:32.815890Z",
     "shell.execute_reply": "2025-05-14T01:42:32.814861Z"
    }
   },
   "outputs": [],
   "source": [
    "plt.rcParams['font.sans-serif'] = ['SimHei']  \n",
    "plt.rcParams['axes.unicode_minus'] = False \n",
    "######## 读取数据 ########\n",
    "sheet = pd.read_excel('data_input_auto/山东柴油裂解差Trend-F=0.2.xlsx', sheet_name='Sheet1').rename(columns={'DataTime': 'Date'})\n",
    "sheet.set_index('Date', inplace=True) \n",
    "sheet = sheet.reset_index().rename(columns={'index': 'Date'})"
   ]
  },
  {
   "cell_type": "code",
   "execution_count": 4,
   "metadata": {
    "execution": {
     "iopub.execute_input": "2025-05-14T01:42:32.818099Z",
     "iopub.status.busy": "2025-05-14T01:42:32.817057Z",
     "iopub.status.idle": "2025-05-14T01:42:32.824345Z",
     "shell.execute_reply": "2025-05-14T01:42:32.824345Z"
    }
   },
   "outputs": [
    {
     "name": "stdout",
     "output_type": "stream",
     "text": [
      "<class 'pandas.core.frame.DataFrame'>\n",
      "RangeIndex: 5232 entries, 0 to 5231\n",
      "Data columns (total 11 columns):\n",
      " #   Column                          Non-Null Count  Dtype         \n",
      "---  ------                          --------------  -----         \n",
      " 0   Date                            5232 non-null   datetime64[ns]\n",
      " 1   山东柴油裂解差Trend/F=0.2              3363 non-null   float64       \n",
      " 2   中国中央政府杠杆率同差                     116 non-null    float64       \n",
      " 3   申万行业指数：钢结构                      4365 non-null   float64       \n",
      " 4   固定资产投资本年施工项目计划总投资额:累计同比         310 non-null    float64       \n",
      " 5   M1同比                            356 non-null    float64       \n",
      " 6   工业企业营业收入利润率Trend（0.2）           91 non-null     float64       \n",
      " 7   南华工业品指数/250DMA同比                4851 non-null   float64       \n",
      " 8   居民用电12月移动均值同比                   212 non-null    float64       \n",
      " 9   地方政府专项债新增当月值(wind)/12MMATrend   74 non-null     float64       \n",
      " 10  山东柴油裂解差                         3363 non-null   float64       \n",
      "dtypes: datetime64[ns](1), float64(10)\n",
      "memory usage: 449.8 KB\n"
     ]
    }
   ],
   "source": [
    "sheet.info()"
   ]
  },
  {
   "cell_type": "code",
   "execution_count": 5,
   "metadata": {
    "execution": {
     "iopub.execute_input": "2025-05-14T01:42:32.854461Z",
     "iopub.status.busy": "2025-05-14T01:42:32.854461Z",
     "iopub.status.idle": "2025-05-14T01:42:32.866037Z",
     "shell.execute_reply": "2025-05-14T01:42:32.866037Z"
    }
   },
   "outputs": [
    {
     "data": {
      "text/html": [
       "<div>\n",
       "<style scoped>\n",
       "    .dataframe tbody tr th:only-of-type {\n",
       "        vertical-align: middle;\n",
       "    }\n",
       "\n",
       "    .dataframe tbody tr th {\n",
       "        vertical-align: top;\n",
       "    }\n",
       "\n",
       "    .dataframe thead th {\n",
       "        text-align: right;\n",
       "    }\n",
       "</style>\n",
       "<table border=\"1\" class=\"dataframe\">\n",
       "  <thead>\n",
       "    <tr style=\"text-align: right;\">\n",
       "      <th></th>\n",
       "      <th>Date</th>\n",
       "      <th>山东柴油裂解差Trend/F=0.2</th>\n",
       "      <th>中国中央政府杠杆率同差</th>\n",
       "      <th>申万行业指数：钢结构</th>\n",
       "      <th>固定资产投资本年施工项目计划总投资额:累计同比</th>\n",
       "      <th>M1同比</th>\n",
       "      <th>工业企业营业收入利润率Trend（0.2）</th>\n",
       "      <th>南华工业品指数/250DMA同比</th>\n",
       "      <th>居民用电12月移动均值同比</th>\n",
       "      <th>地方政府专项债新增当月值(wind)/12MMATrend</th>\n",
       "      <th>山东柴油裂解差</th>\n",
       "    </tr>\n",
       "  </thead>\n",
       "  <tbody>\n",
       "    <tr>\n",
       "      <th>5227</th>\n",
       "      <td>2025-05-07</td>\n",
       "      <td>408.718130</td>\n",
       "      <td>NaN</td>\n",
       "      <td>2207.78</td>\n",
       "      <td>NaN</td>\n",
       "      <td>NaN</td>\n",
       "      <td>NaN</td>\n",
       "      <td>-0.0118</td>\n",
       "      <td>NaN</td>\n",
       "      <td>NaN</td>\n",
       "      <td>719.1704</td>\n",
       "    </tr>\n",
       "    <tr>\n",
       "      <th>5228</th>\n",
       "      <td>2025-05-08</td>\n",
       "      <td>409.007920</td>\n",
       "      <td>NaN</td>\n",
       "      <td>2241.40</td>\n",
       "      <td>NaN</td>\n",
       "      <td>NaN</td>\n",
       "      <td>NaN</td>\n",
       "      <td>-0.0130</td>\n",
       "      <td>NaN</td>\n",
       "      <td>NaN</td>\n",
       "      <td>778.4567</td>\n",
       "    </tr>\n",
       "    <tr>\n",
       "      <th>5229</th>\n",
       "      <td>2025-05-09</td>\n",
       "      <td>409.299723</td>\n",
       "      <td>NaN</td>\n",
       "      <td>2212.20</td>\n",
       "      <td>NaN</td>\n",
       "      <td>NaN</td>\n",
       "      <td>NaN</td>\n",
       "      <td>-0.0142</td>\n",
       "      <td>NaN</td>\n",
       "      <td>NaN</td>\n",
       "      <td>728.7404</td>\n",
       "    </tr>\n",
       "    <tr>\n",
       "      <th>5230</th>\n",
       "      <td>2025-05-12</td>\n",
       "      <td>409.593531</td>\n",
       "      <td>NaN</td>\n",
       "      <td>2220.20</td>\n",
       "      <td>NaN</td>\n",
       "      <td>NaN</td>\n",
       "      <td>NaN</td>\n",
       "      <td>-0.0159</td>\n",
       "      <td>NaN</td>\n",
       "      <td>NaN</td>\n",
       "      <td>742.4251</td>\n",
       "    </tr>\n",
       "    <tr>\n",
       "      <th>5231</th>\n",
       "      <td>2025-05-13</td>\n",
       "      <td>409.889336</td>\n",
       "      <td>NaN</td>\n",
       "      <td>2245.41</td>\n",
       "      <td>NaN</td>\n",
       "      <td>NaN</td>\n",
       "      <td>NaN</td>\n",
       "      <td>-0.0167</td>\n",
       "      <td>NaN</td>\n",
       "      <td>NaN</td>\n",
       "      <td>793.8229</td>\n",
       "    </tr>\n",
       "  </tbody>\n",
       "</table>\n",
       "</div>"
      ],
      "text/plain": [
       "           Date  山东柴油裂解差Trend/F=0.2  中国中央政府杠杆率同差  申万行业指数：钢结构  \\\n",
       "5227 2025-05-07          408.718130          NaN     2207.78   \n",
       "5228 2025-05-08          409.007920          NaN     2241.40   \n",
       "5229 2025-05-09          409.299723          NaN     2212.20   \n",
       "5230 2025-05-12          409.593531          NaN     2220.20   \n",
       "5231 2025-05-13          409.889336          NaN     2245.41   \n",
       "\n",
       "      固定资产投资本年施工项目计划总投资额:累计同比  M1同比  工业企业营业收入利润率Trend（0.2）  南华工业品指数/250DMA同比  \\\n",
       "5227                      NaN   NaN                    NaN           -0.0118   \n",
       "5228                      NaN   NaN                    NaN           -0.0130   \n",
       "5229                      NaN   NaN                    NaN           -0.0142   \n",
       "5230                      NaN   NaN                    NaN           -0.0159   \n",
       "5231                      NaN   NaN                    NaN           -0.0167   \n",
       "\n",
       "      居民用电12月移动均值同比  地方政府专项债新增当月值(wind)/12MMATrend    山东柴油裂解差  \n",
       "5227            NaN                             NaN  719.1704  \n",
       "5228            NaN                             NaN  778.4567  \n",
       "5229            NaN                             NaN  728.7404  \n",
       "5230            NaN                             NaN  742.4251  \n",
       "5231            NaN                             NaN  793.8229  "
      ]
     },
     "execution_count": 5,
     "metadata": {},
     "output_type": "execute_result"
    }
   ],
   "source": [
    "sheet.tail()"
   ]
  },
  {
   "cell_type": "code",
   "execution_count": 6,
   "metadata": {
    "execution": {
     "iopub.execute_input": "2025-05-14T01:42:32.868562Z",
     "iopub.status.busy": "2025-05-14T01:42:32.868562Z",
     "iopub.status.idle": "2025-05-14T01:42:32.872068Z",
     "shell.execute_reply": "2025-05-14T01:42:32.872068Z"
    }
   },
   "outputs": [],
   "source": [
    "sheet =  sheet[['Date','山东柴油裂解差Trend/F=0.2','山东柴油裂解差']]\n",
    "sheet = sheet.dropna()"
   ]
  },
  {
   "cell_type": "code",
   "execution_count": 7,
   "metadata": {
    "execution": {
     "iopub.execute_input": "2025-05-14T01:42:32.873948Z",
     "iopub.status.busy": "2025-05-14T01:42:32.873948Z",
     "iopub.status.idle": "2025-05-14T01:42:33.063393Z",
     "shell.execute_reply": "2025-05-14T01:42:33.063393Z"
    }
   },
   "outputs": [
    {
     "name": "stdout",
     "output_type": "stream",
     "text": [
      "当前线性回归系数：斜率 = 0.267067, 截距 = 402.004354\n"
     ]
    },
    {
     "data": {
      "image/png": "[encoded data removed]",
      "text/plain": [
       "<Figure size 1500x600 with 1 Axes>"
      ]
     },
     "metadata": {},
     "output_type": "display_data"
    }
   ],
   "source": [
    "\n",
    "# 获取最后一个日期\n",
    "last_date = pd.to_datetime(sheet['Date'].iloc[-1])\n",
    "\n",
    "# 生成未来30个工作日\n",
    "future_dates = pd.date_range(start=last_date + pd.Timedelta(days=1), periods=45, freq='D')  # 生成45天以确保获得30个工作日\n",
    "future_dates = future_dates[future_dates.dayofweek < 5][:30]  # 只保留工作日并取前30天\n",
    "\n",
    "# 获取最后30个历史值用于线性回归\n",
    "last_values = sheet['山东柴油裂解差Trend/F=0.2'].tail(30).values\n",
    "x = np.arange(len(last_values))\n",
    "y = last_values\n",
    "\n",
    "# 进行线性回归\n",
    "z = np.polyfit(x, y, 1)\n",
    "p = np.poly1d(z)\n",
    "\n",
    "print(f\"当前线性回归系数：斜率 = {z[0]:.6f}, 截距 = {z[1]:.6f}\")\n",
    "\n",
    "# 预测未来30个值\n",
    "future_x = np.arange(len(last_values), len(last_values) + 30)\n",
    "future_values = p(future_x)\n",
    "\n",
    "# 创建预测数据框\n",
    "future_df = pd.DataFrame({\n",
    "    'Date': future_dates,\n",
    "    '山东柴油裂解差Trend/F=0.2': future_values\n",
    "})\n",
    "\n",
    "# 合并历史数据和预测数据\n",
    "sheet_with_predictions = pd.concat([sheet, future_df], ignore_index=True)\n",
    "# 筛选2020年之后的数据\n",
    "sheet_2020 = sheet[sheet['Date'] >= '2020-01-01']\n",
    "\n",
    "# 绘制结果\n",
    "plt.figure(figsize=(15, 6))\n",
    "plt.plot(sheet_2020['Date'], sheet_2020['山东柴油裂解差Trend/F=0.2'], label='2020年后历史数据')\n",
    "plt.plot(future_df['Date'], future_df['山东柴油裂解差Trend/F=0.2'], 'r--', label='预测数据')\n",
    "plt.title('山东柴油裂解差Trend/F=0.2 预测 (2020年后)')\n",
    "plt.xlabel('日期')\n",
    "plt.legend()\n",
    "plt.grid(True)\n",
    "plt.xticks(rotation=45)\n",
    "plt.tight_layout()\n",
    "plt.show()\n"
   ]
  },
  {
   "cell_type": "code",
   "execution_count": 8,
   "metadata": {
    "execution": {
     "iopub.execute_input": "2025-05-14T01:42:33.066459Z",
     "iopub.status.busy": "2025-05-14T01:42:33.066459Z",
     "iopub.status.idle": "2025-05-14T01:42:33.103492Z",
     "shell.execute_reply": "2025-05-14T01:42:33.102891Z"
    }
   },
   "outputs": [
    {
     "data": {
      "text/html": [
       "<div>\n",
       "<style scoped>\n",
       "    .dataframe tbody tr th:only-of-type {\n",
       "        vertical-align: middle;\n",
       "    }\n",
       "\n",
       "    .dataframe tbody tr th {\n",
       "        vertical-align: top;\n",
       "    }\n",
       "\n",
       "    .dataframe thead th {\n",
       "        text-align: right;\n",
       "    }\n",
       "</style>\n",
       "<table border=\"1\" class=\"dataframe\">\n",
       "  <thead>\n",
       "    <tr style=\"text-align: right;\">\n",
       "      <th></th>\n",
       "      <th>Date</th>\n",
       "      <th>预测值</th>\n",
       "      <th>山东柴油裂解差Trend/F=0.2</th>\n",
       "      <th>山东柴油裂解差</th>\n",
       "    </tr>\n",
       "  </thead>\n",
       "  <tbody>\n",
       "    <tr>\n",
       "      <th>605</th>\n",
       "      <td>2025-05-14</td>\n",
       "      <td>319.7683</td>\n",
       "      <td>410.016363</td>\n",
       "      <td>729.784663</td>\n",
       "    </tr>\n",
       "    <tr>\n",
       "      <th>606</th>\n",
       "      <td>2025-05-15</td>\n",
       "      <td>318.8870</td>\n",
       "      <td>410.283430</td>\n",
       "      <td>729.170430</td>\n",
       "    </tr>\n",
       "    <tr>\n",
       "      <th>607</th>\n",
       "      <td>2025-05-16</td>\n",
       "      <td>314.1422</td>\n",
       "      <td>410.550497</td>\n",
       "      <td>724.692697</td>\n",
       "    </tr>\n",
       "    <tr>\n",
       "      <th>608</th>\n",
       "      <td>2025-05-19</td>\n",
       "      <td>295.6244</td>\n",
       "      <td>410.817564</td>\n",
       "      <td>706.441964</td>\n",
       "    </tr>\n",
       "    <tr>\n",
       "      <th>609</th>\n",
       "      <td>2025-05-20</td>\n",
       "      <td>296.9009</td>\n",
       "      <td>411.084631</td>\n",
       "      <td>707.985531</td>\n",
       "    </tr>\n",
       "  </tbody>\n",
       "</table>\n",
       "</div>"
      ],
      "text/plain": [
       "          Date       预测值  山东柴油裂解差Trend/F=0.2     山东柴油裂解差\n",
       "605 2025-05-14  319.7683          410.016363  729.784663\n",
       "606 2025-05-15  318.8870          410.283430  729.170430\n",
       "607 2025-05-16  314.1422          410.550497  724.692697\n",
       "608 2025-05-19  295.6244          410.817564  706.441964\n",
       "609 2025-05-20  296.9009          411.084631  707.985531"
      ]
     },
     "execution_count": 8,
     "metadata": {},
     "output_type": "execute_result"
    }
   ],
   "source": [
    "########################   读取数据  #########################################\n",
    "sheet_non_trend = pd.read_excel('eta/山东柴油裂解差Non-Trend—F0.2_合并数据.xlsx', sheet_name='Sheet1')\n",
    "sheet_non_trend['Date'] = pd.to_datetime(sheet_non_trend['Date'])\n",
    "# trend + non-trend \n",
    "merged_df = pd.merge(\n",
    "    sheet_non_trend[['Date', '预测值']], \n",
    "    future_df[['Date', '山东柴油裂解差Trend/F=0.2']], \n",
    "    on='Date',\n",
    "    how='outer'\n",
    ")\n",
    "# 删除包含空值的行\n",
    "merged_df = merged_df.dropna()\n",
    "# 计算最终的\n",
    "merged_df['山东柴油裂解差'] = merged_df['预测值'] + merged_df['山东柴油裂解差Trend/F=0.2']\n",
    "merged_df.head() "
   ]
  },
  {
   "cell_type": "code",
   "execution_count": 9,
   "metadata": {
    "execution": {
     "iopub.execute_input": "2025-05-14T01:42:33.104809Z",
     "iopub.status.busy": "2025-05-14T01:42:33.104809Z",
     "iopub.status.idle": "2025-05-14T01:42:33.283675Z",
     "shell.execute_reply": "2025-05-14T01:42:33.283675Z"
    }
   },
   "outputs": [
    {
     "data": {
      "image/png": "[encoded data removed]",
      "text/plain": [
       "<Figure size 1500x600 with 1 Axes>"
      ]
     },
     "metadata": {},
     "output_type": "display_data"
    }
   ],
   "source": [
    "# 绘制最终走势图\n",
    "plt.figure(figsize=(15, 6))\n",
    "# 筛选2020年之后的数据\n",
    "sheet_2020 = sheet[sheet['Date'] >= '2024-01-01']\n",
    "# 绘制历史数据\n",
    "plt.plot(sheet_2020['Date'], sheet_2020['山东柴油裂解差'], label='历史走势', color='blue')\n",
    "# 添加垂直分隔线,标记历史数据和预测数据的分界点\n",
    "last_historical_date = sheet_2020['Date'].iloc[-1]\n",
    "plt.axvline(x=last_historical_date, color='gray', linestyle='--', label='历史/预测分界线')\n",
    "# 绘制预测数据\n",
    "plt.plot(merged_df['Date'], merged_df['山东柴油裂解差'], label='预测走势', color='red', linestyle='--')\n",
    "\n",
    "plt.title('山东柴油裂解差 历史与预测对比')\n",
    "plt.xlabel('日期')\n",
    "plt.ylabel('价格')\n",
    "plt.legend()\n",
    "plt.grid(True)\n",
    "plt.xticks(rotation=45)\n",
    "plt.tight_layout()\n",
    "plt.show()\n"
   ]
  },
  {
   "cell_type": "code",
   "execution_count": 10,
   "metadata": {
    "execution": {
     "iopub.execute_input": "2025-05-14T01:42:33.285930Z",
     "iopub.status.busy": "2025-05-14T01:42:33.285930Z",
     "iopub.status.idle": "2025-05-14T01:42:33.346576Z",
     "shell.execute_reply": "2025-05-14T01:42:33.346576Z"
    }
   },
   "outputs": [
    {
     "data": {
      "text/html": [
       "<div>\n",
       "<style scoped>\n",
       "    .dataframe tbody tr th:only-of-type {\n",
       "        vertical-align: middle;\n",
       "    }\n",
       "\n",
       "    .dataframe tbody tr th {\n",
       "        vertical-align: top;\n",
       "    }\n",
       "\n",
       "    .dataframe thead th {\n",
       "        text-align: right;\n",
       "    }\n",
       "</style>\n",
       "<table border=\"1\" class=\"dataframe\">\n",
       "  <thead>\n",
       "    <tr style=\"text-align: right;\">\n",
       "      <th></th>\n",
       "      <th>Date</th>\n",
       "      <th>实际值</th>\n",
       "      <th>山东柴油裂解差</th>\n",
       "    </tr>\n",
       "  </thead>\n",
       "  <tbody>\n",
       "    <tr>\n",
       "      <th>605</th>\n",
       "      <td>2025/06/10</td>\n",
       "      <td>NaN</td>\n",
       "      <td>685.700935</td>\n",
       "    </tr>\n",
       "    <tr>\n",
       "      <th>604</th>\n",
       "      <td>2025/06/09</td>\n",
       "      <td>NaN</td>\n",
       "      <td>685.433868</td>\n",
       "    </tr>\n",
       "    <tr>\n",
       "      <th>603</th>\n",
       "      <td>2025/06/06</td>\n",
       "      <td>NaN</td>\n",
       "      <td>685.166801</td>\n",
       "    </tr>\n",
       "    <tr>\n",
       "      <th>602</th>\n",
       "      <td>2025/06/05</td>\n",
       "      <td>NaN</td>\n",
       "      <td>731.666334</td>\n",
       "    </tr>\n",
       "    <tr>\n",
       "      <th>601</th>\n",
       "      <td>2025/06/04</td>\n",
       "      <td>NaN</td>\n",
       "      <td>732.789167</td>\n",
       "    </tr>\n",
       "    <tr>\n",
       "      <th>...</th>\n",
       "      <td>...</td>\n",
       "      <td>...</td>\n",
       "      <td>...</td>\n",
       "    </tr>\n",
       "    <tr>\n",
       "      <th>4</th>\n",
       "      <td>2023/01/09</td>\n",
       "      <td>771.0289</td>\n",
       "      <td>NaN</td>\n",
       "    </tr>\n",
       "    <tr>\n",
       "      <th>3</th>\n",
       "      <td>2023/01/06</td>\n",
       "      <td>707.9450</td>\n",
       "      <td>NaN</td>\n",
       "    </tr>\n",
       "    <tr>\n",
       "      <th>2</th>\n",
       "      <td>2023/01/05</td>\n",
       "      <td>717.9453</td>\n",
       "      <td>NaN</td>\n",
       "    </tr>\n",
       "    <tr>\n",
       "      <th>1</th>\n",
       "      <td>2023/01/04</td>\n",
       "      <td>634.5979</td>\n",
       "      <td>NaN</td>\n",
       "    </tr>\n",
       "    <tr>\n",
       "      <th>0</th>\n",
       "      <td>2023/01/03</td>\n",
       "      <td>367.8921</td>\n",
       "      <td>NaN</td>\n",
       "    </tr>\n",
       "  </tbody>\n",
       "</table>\n",
       "<p>606 rows × 3 columns</p>\n",
       "</div>"
      ],
      "text/plain": [
       "           Date       实际值     山东柴油裂解差\n",
       "605  2025/06/10       NaN  685.700935\n",
       "604  2025/06/09       NaN  685.433868\n",
       "603  2025/06/06       NaN  685.166801\n",
       "602  2025/06/05       NaN  731.666334\n",
       "601  2025/06/04       NaN  732.789167\n",
       "..          ...       ...         ...\n",
       "4    2023/01/09  771.0289         NaN\n",
       "3    2023/01/06  707.9450         NaN\n",
       "2    2023/01/05  717.9453         NaN\n",
       "1    2023/01/04  634.5979         NaN\n",
       "0    2023/01/03  367.8921         NaN\n",
       "\n",
       "[606 rows x 3 columns]"
      ]
     },
     "execution_count": 10,
     "metadata": {},
     "output_type": "execute_result"
    }
   ],
   "source": [
    "sheet_data_2023_shizhi = sheet[sheet['Date'].dt.year >= 2023][['Date', '山东柴油裂解差']]\n",
    "sheet_data_2023_shizhi.columns = ['Date', '实际值']\n",
    "future_df_shizhi = merged_df[['Date', '山东柴油裂解差']]\n",
    "merged_df_shizhi = pd.merge(sheet_data_2023_shizhi, future_df_shizhi, on='Date', how='outer')\n",
    "merged_df_shizhi = merged_df_shizhi.sort_values('Date', ascending=False)\n",
    "merged_df_shizhi['Date'] = merged_df_shizhi['Date'].dt.strftime('%Y/%m/%d')\n",
    "merged_df_shizhi.to_excel('eta/山东柴油裂解差_合并数据.xlsx', index=False,float_format='%.2f')\n",
    "merged_df_shizhi"
   ]
  },
  {
   "cell_type": "code",
   "execution_count": 11,
   "metadata": {
    "execution": {
     "iopub.execute_input": "2025-05-14T01:42:33.348896Z",
     "iopub.status.busy": "2025-05-14T01:42:33.348896Z",
     "iopub.status.idle": "2025-05-14T01:42:33.368621Z",
     "shell.execute_reply": "2025-05-14T01:42:33.368054Z"
    }
   },
   "outputs": [
    {
     "data": {
      "text/html": [
       "<div>\n",
       "<style scoped>\n",
       "    .dataframe tbody tr th:only-of-type {\n",
       "        vertical-align: middle;\n",
       "    }\n",
       "\n",
       "    .dataframe tbody tr th {\n",
       "        vertical-align: top;\n",
       "    }\n",
       "\n",
       "    .dataframe thead th {\n",
       "        text-align: right;\n",
       "    }\n",
       "</style>\n",
       "<table border=\"1\" class=\"dataframe\">\n",
       "  <thead>\n",
       "    <tr style=\"text-align: right;\">\n",
       "      <th></th>\n",
       "      <th>Date</th>\n",
       "      <th>实际值</th>\n",
       "      <th>山东柴油裂解差</th>\n",
       "    </tr>\n",
       "  </thead>\n",
       "  <tbody>\n",
       "    <tr>\n",
       "      <th>0</th>\n",
       "      <td>2025/06/30</td>\n",
       "      <td>NaN</td>\n",
       "      <td>685.700935</td>\n",
       "    </tr>\n",
       "    <tr>\n",
       "      <th>1</th>\n",
       "      <td>2025/05/31</td>\n",
       "      <td>793.8229</td>\n",
       "      <td>699.257566</td>\n",
       "    </tr>\n",
       "    <tr>\n",
       "      <th>2</th>\n",
       "      <td>2025/04/30</td>\n",
       "      <td>797.8931</td>\n",
       "      <td>NaN</td>\n",
       "    </tr>\n",
       "    <tr>\n",
       "      <th>3</th>\n",
       "      <td>2025/03/31</td>\n",
       "      <td>459.0120</td>\n",
       "      <td>NaN</td>\n",
       "    </tr>\n",
       "    <tr>\n",
       "      <th>4</th>\n",
       "      <td>2025/02/28</td>\n",
       "      <td>660.7536</td>\n",
       "      <td>NaN</td>\n",
       "    </tr>\n",
       "  </tbody>\n",
       "</table>\n",
       "</div>"
      ],
      "text/plain": [
       "         Date       实际值     山东柴油裂解差\n",
       "0  2025/06/30       NaN  685.700935\n",
       "1  2025/05/31  793.8229  699.257566\n",
       "2  2025/04/30  797.8931         NaN\n",
       "3  2025/03/31  459.0120         NaN\n",
       "4  2025/02/28  660.7536         NaN"
      ]
     },
     "execution_count": 11,
     "metadata": {},
     "output_type": "execute_result"
    }
   ],
   "source": [
    "# 将日期列转换为datetime格式\n",
    "merged_df_shizhi['Date'] = pd.to_datetime(merged_df_shizhi['Date'])\n",
    "# 按月份重采样并取每月最后一个交易日的数据\n",
    "monthly_df_shizhi = merged_df_shizhi.set_index('Date').resample('ME').last()\n",
    "monthly_df_shizhi = monthly_df_shizhi.sort_values('Date', ascending=False)\n",
    "# 重置索引并格式化日期\n",
    "monthly_df_shizhi = monthly_df_shizhi.reset_index()\n",
    "monthly_df_shizhi['Date'] = monthly_df_shizhi['Date'].dt.strftime('%Y/%m/%d')\n",
    "# 保存月度数据到Excel\n",
    "monthly_df_shizhi.to_excel('eta/山东柴油裂解差_月度数据.xlsx', index=False, float_format='%.2f')\n",
    "monthly_df_shizhi.head()"
   ]
  },
  {
   "cell_type": "markdown",
   "metadata": {},
   "source": [
    "---"
   ]
  },
  {
   "cell_type": "code",
   "execution_count": 12,
   "metadata": {
    "execution": {
     "iopub.execute_input": "2025-05-14T01:42:33.370306Z",
     "iopub.status.busy": "2025-05-14T01:42:33.370306Z",
     "iopub.status.idle": "2025-05-14T01:42:33.409966Z",
     "shell.execute_reply": "2025-05-14T01:42:33.409599Z"
    }
   },
   "outputs": [
    {
     "data": {
      "text/html": [
       "<div>\n",
       "<style scoped>\n",
       "    .dataframe tbody tr th:only-of-type {\n",
       "        vertical-align: middle;\n",
       "    }\n",
       "\n",
       "    .dataframe tbody tr th {\n",
       "        vertical-align: top;\n",
       "    }\n",
       "\n",
       "    .dataframe thead th {\n",
       "        text-align: right;\n",
       "    }\n",
       "</style>\n",
       "<table border=\"1\" class=\"dataframe\">\n",
       "  <thead>\n",
       "    <tr style=\"text-align: right;\">\n",
       "      <th></th>\n",
       "      <th>Date</th>\n",
       "      <th>实际值</th>\n",
       "      <th>山东柴油裂解差Trend/F=0.2</th>\n",
       "    </tr>\n",
       "  </thead>\n",
       "  <tbody>\n",
       "    <tr>\n",
       "      <th>615</th>\n",
       "      <td>2025/06/24</td>\n",
       "      <td>NaN</td>\n",
       "      <td>417.761305</td>\n",
       "    </tr>\n",
       "    <tr>\n",
       "      <th>614</th>\n",
       "      <td>2025/06/23</td>\n",
       "      <td>NaN</td>\n",
       "      <td>417.494238</td>\n",
       "    </tr>\n",
       "    <tr>\n",
       "      <th>613</th>\n",
       "      <td>2025/06/20</td>\n",
       "      <td>NaN</td>\n",
       "      <td>417.227171</td>\n",
       "    </tr>\n",
       "    <tr>\n",
       "      <th>612</th>\n",
       "      <td>2025/06/19</td>\n",
       "      <td>NaN</td>\n",
       "      <td>416.960104</td>\n",
       "    </tr>\n",
       "    <tr>\n",
       "      <th>611</th>\n",
       "      <td>2025/06/18</td>\n",
       "      <td>NaN</td>\n",
       "      <td>416.693037</td>\n",
       "    </tr>\n",
       "    <tr>\n",
       "      <th>...</th>\n",
       "      <td>...</td>\n",
       "      <td>...</td>\n",
       "      <td>...</td>\n",
       "    </tr>\n",
       "    <tr>\n",
       "      <th>4</th>\n",
       "      <td>2023/01/09</td>\n",
       "      <td>628.683773</td>\n",
       "      <td>NaN</td>\n",
       "    </tr>\n",
       "    <tr>\n",
       "      <th>3</th>\n",
       "      <td>2023/01/06</td>\n",
       "      <td>628.638902</td>\n",
       "      <td>NaN</td>\n",
       "    </tr>\n",
       "    <tr>\n",
       "      <th>2</th>\n",
       "      <td>2023/01/05</td>\n",
       "      <td>628.593417</td>\n",
       "      <td>NaN</td>\n",
       "    </tr>\n",
       "    <tr>\n",
       "      <th>1</th>\n",
       "      <td>2023/01/04</td>\n",
       "      <td>628.547359</td>\n",
       "      <td>NaN</td>\n",
       "    </tr>\n",
       "    <tr>\n",
       "      <th>0</th>\n",
       "      <td>2023/01/03</td>\n",
       "      <td>628.500764</td>\n",
       "      <td>NaN</td>\n",
       "    </tr>\n",
       "  </tbody>\n",
       "</table>\n",
       "<p>616 rows × 3 columns</p>\n",
       "</div>"
      ],
      "text/plain": [
       "           Date         实际值  山东柴油裂解差Trend/F=0.2\n",
       "615  2025/06/24         NaN          417.761305\n",
       "614  2025/06/23         NaN          417.494238\n",
       "613  2025/06/20         NaN          417.227171\n",
       "612  2025/06/19         NaN          416.960104\n",
       "611  2025/06/18         NaN          416.693037\n",
       "..          ...         ...                 ...\n",
       "4    2023/01/09  628.683773                 NaN\n",
       "3    2023/01/06  628.638902                 NaN\n",
       "2    2023/01/05  628.593417                 NaN\n",
       "1    2023/01/04  628.547359                 NaN\n",
       "0    2023/01/03  628.500764                 NaN\n",
       "\n",
       "[616 rows x 3 columns]"
      ]
     },
     "execution_count": 12,
     "metadata": {},
     "output_type": "execute_result"
    }
   ],
   "source": [
    "sheet_data_2023 = sheet[sheet['Date'].dt.year >= 2023][['Date', '山东柴油裂解差Trend/F=0.2']]\n",
    "sheet_data_2023.columns = ['Date', '实际值']\n",
    "merged_df_trend = pd.merge(sheet_data_2023, future_df, on='Date', how='outer')\n",
    "merged_df_trend = merged_df_trend.sort_values('Date', ascending=False)\n",
    "merged_df_trend['Date'] = merged_df_trend['Date'].dt.strftime('%Y/%m/%d')\n",
    "merged_df_trend.to_excel('eta/山东柴油裂解差Trend-F=0.2_合并数据.xlsx', index=False,float_format='%.2f')\n",
    "merged_df_trend"
   ]
  },
  {
   "cell_type": "code",
   "execution_count": 13,
   "metadata": {
    "execution": {
     "iopub.execute_input": "2025-05-14T01:42:33.410920Z",
     "iopub.status.busy": "2025-05-14T01:42:33.410920Z",
     "iopub.status.idle": "2025-05-14T01:42:33.430074Z",
     "shell.execute_reply": "2025-05-14T01:42:33.429868Z"
    }
   },
   "outputs": [
    {
     "data": {
      "text/html": [
       "<div>\n",
       "<style scoped>\n",
       "    .dataframe tbody tr th:only-of-type {\n",
       "        vertical-align: middle;\n",
       "    }\n",
       "\n",
       "    .dataframe tbody tr th {\n",
       "        vertical-align: top;\n",
       "    }\n",
       "\n",
       "    .dataframe thead th {\n",
       "        text-align: right;\n",
       "    }\n",
       "</style>\n",
       "<table border=\"1\" class=\"dataframe\">\n",
       "  <thead>\n",
       "    <tr style=\"text-align: right;\">\n",
       "      <th></th>\n",
       "      <th>Date</th>\n",
       "      <th>实际值</th>\n",
       "      <th>山东柴油裂解差Trend/F=0.2</th>\n",
       "    </tr>\n",
       "  </thead>\n",
       "  <tbody>\n",
       "    <tr>\n",
       "      <th>0</th>\n",
       "      <td>2025/06/30</td>\n",
       "      <td>NaN</td>\n",
       "      <td>417.761305</td>\n",
       "    </tr>\n",
       "    <tr>\n",
       "      <th>1</th>\n",
       "      <td>2025/05/31</td>\n",
       "      <td>409.889336</td>\n",
       "      <td>413.221166</td>\n",
       "    </tr>\n",
       "    <tr>\n",
       "      <th>2</th>\n",
       "      <td>2025/04/30</td>\n",
       "      <td>408.144620</td>\n",
       "      <td>NaN</td>\n",
       "    </tr>\n",
       "    <tr>\n",
       "      <th>3</th>\n",
       "      <td>2025/03/31</td>\n",
       "      <td>402.383839</td>\n",
       "      <td>NaN</td>\n",
       "    </tr>\n",
       "    <tr>\n",
       "      <th>4</th>\n",
       "      <td>2025/02/28</td>\n",
       "      <td>397.844846</td>\n",
       "      <td>NaN</td>\n",
       "    </tr>\n",
       "  </tbody>\n",
       "</table>\n",
       "</div>"
      ],
      "text/plain": [
       "         Date         实际值  山东柴油裂解差Trend/F=0.2\n",
       "0  2025/06/30         NaN          417.761305\n",
       "1  2025/05/31  409.889336          413.221166\n",
       "2  2025/04/30  408.144620                 NaN\n",
       "3  2025/03/31  402.383839                 NaN\n",
       "4  2025/02/28  397.844846                 NaN"
      ]
     },
     "execution_count": 13,
     "metadata": {},
     "output_type": "execute_result"
    }
   ],
   "source": [
    "# 将日期列转换为datetime格式\n",
    "merged_df_trend['Date'] = pd.to_datetime(merged_df_trend['Date'])\n",
    "# 按月份重采样并取每月最后一个交易日的数据\n",
    "monthly_df_trend = merged_df_trend.set_index('Date').resample('ME').last()\n",
    "monthly_df_trend = monthly_df_trend.sort_values('Date', ascending=False)\n",
    "# 重置索引并格式化日期\n",
    "monthly_df_trend = monthly_df_trend.reset_index()\n",
    "monthly_df_trend['Date'] = monthly_df_trend['Date'].dt.strftime('%Y/%m/%d')\n",
    "# 保存月度数据到Excel\n",
    "monthly_df_trend.to_excel('eta/山东柴油裂解差Trend-F=0.2_月度数据.xlsx', index=False, float_format='%.2f')\n",
    "monthly_df_trend.head()"
   ]
  },
  {
   "cell_type": "markdown",
   "metadata": {},
   "source": [
    "---"
   ]
  },
  {
   "cell_type": "code",
   "execution_count": 14,
   "metadata": {
    "execution": {
     "iopub.execute_input": "2025-05-14T01:42:33.432578Z",
     "iopub.status.busy": "2025-05-14T01:42:33.431139Z",
     "iopub.status.idle": "2025-05-14T01:42:34.293377Z",
     "shell.execute_reply": "2025-05-14T01:42:34.293377Z"
    }
   },
   "outputs": [
    {
     "name": "stdout",
     "output_type": "stream",
     "text": [
      "成功更新 日度数据表 中的数据\n",
      "数据已成功更新到Excel文件\n"
     ]
    }
   ],
   "source": [
    "from Dcel import update_excel_data\n",
    "# 使用示例\n",
    "file_path = \"eta/1.汽柴煤油_数据上传.xlsx\"\n",
    "sheet_name = \"日度数据表\"\n",
    "identifier = \"山东柴油裂解差Trend/F0.2\"\n",
    "\n",
    "# 调用函数更新数据\n",
    "success = update_excel_data(merged_df_trend, file_path, sheet_name, identifier)\n",
    "\n",
    "if success:\n",
    "    print(\"数据已成功更新到Excel文件\")\n",
    "else:\n",
    "    print(\"数据更新失败，请检查错误信息\")"
   ]
  },
  {
   "cell_type": "code",
   "execution_count": 15,
   "metadata": {
    "execution": {
     "iopub.execute_input": "2025-05-14T01:42:34.295500Z",
     "iopub.status.busy": "2025-05-14T01:42:34.295500Z",
     "iopub.status.idle": "2025-05-14T01:42:35.127387Z",
     "shell.execute_reply": "2025-05-14T01:42:35.127387Z"
    }
   },
   "outputs": [
    {
     "name": "stdout",
     "output_type": "stream",
     "text": [
      "成功更新 日度数据表 中的数据\n",
      "数据已成功更新到Excel文件\n"
     ]
    }
   ],
   "source": [
    "from Dcel import update_excel_data\n",
    "# 使用示例\n",
    "file_path = \"eta/1.汽柴煤油_数据上传.xlsx\"\n",
    "sheet_name = \"日度数据表\"\n",
    "identifier = \"山东柴油裂解差\"\n",
    "\n",
    "# 调用函数更新数据\n",
    "success = update_excel_data(merged_df_shizhi, file_path, sheet_name, identifier)\n",
    "\n",
    "if success:\n",
    "    print(\"数据已成功更新到Excel文件\")\n",
    "else:\n",
    "    print(\"数据更新失败，请检查错误信息\")"
   ]
  },
  {
   "cell_type": "code",
   "execution_count": 16,
   "metadata": {
    "execution": {
     "iopub.execute_input": "2025-05-14T01:42:35.129574Z",
     "iopub.status.busy": "2025-05-14T01:42:35.129574Z",
     "iopub.status.idle": "2025-05-14T01:42:35.943871Z",
     "shell.execute_reply": "2025-05-14T01:42:35.943871Z"
    }
   },
   "outputs": [
    {
     "name": "stdout",
     "output_type": "stream",
     "text": [
      "已完成：插入/更新数据，并重新计算“方向/偏差率” (protected_date = 2025/05/31)\n",
      "数据已成功更新到Excel文件\n"
     ]
    }
   ],
   "source": [
    "from Lcel import update_excel_data\n",
    "file_path = \"eta/1.汽柴煤油_数据上传.xlsx\"\n",
    "sheet_name = \"详情页\"\n",
    "identifier = \"山东柴油裂解差Trend/F0.2\"\n",
    "# 调用函数更新数据\n",
    "success = update_excel_data(monthly_df_trend, file_path, sheet_name, identifier)\n",
    "\n",
    "if success:\n",
    "    print(\"数据已成功更新到Excel文件\")\n",
    "else:\n",
    "    print(\"数据更新失败，请检查错误信息\")"
   ]
  },
  {
   "cell_type": "code",
   "execution_count": 17,
   "metadata": {
    "execution": {
     "iopub.execute_input": "2025-05-14T01:42:35.946912Z",
     "iopub.status.busy": "2025-05-14T01:42:35.945907Z",
     "iopub.status.idle": "2025-05-14T01:42:36.847849Z",
     "shell.execute_reply": "2025-05-14T01:42:36.847849Z"
    }
   },
   "outputs": [
    {
     "name": "stdout",
     "output_type": "stream",
     "text": [
      "已完成：插入/更新数据，并重新计算“方向/偏差率” (protected_date = 2025/05/31)\n",
      "数据已成功更新到Excel文件\n"
     ]
    }
   ],
   "source": [
    "from Lcel import update_excel_data\n",
    "file_path = \"eta/1.汽柴煤油_数据上传.xlsx\"\n",
    "sheet_name = \"详情页\"\n",
    "identifier = \"山东柴油裂解差\"\n",
    "# 调用函数更新数据\n",
    "success = update_excel_data(monthly_df_shizhi, file_path, sheet_name, identifier)\n",
    "\n",
    "if success:\n",
    "    print(\"数据已成功更新到Excel文件\")\n",
    "else:\n",
    "    print(\"数据更新失败，请检查错误信息\")"
   ]
  }
 ],
 "metadata": {
  "kernelspec": {
   "display_name": "Python 3",
   "language": "python",
   "name": "python3"
  },
  "language_info": {
   "codemirror_mode": {
    "name": "ipython",
    "version": 3
   },
   "file_extension": ".py",
   "mimetype": "text/x-python",
   "name": "python",
   "nbconvert_exporter": "python",
   "pygments_lexer": "ipython3",
   "version": "3.12.4"
  }
 },
 "nbformat": 4,
 "nbformat_minor": 2
}
