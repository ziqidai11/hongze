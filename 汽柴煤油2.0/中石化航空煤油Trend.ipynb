{
 "cells": [
  {
   "cell_type": "code",
   "execution_count": 1,
   "metadata": {
    "execution": {
     "iopub.execute_input": "2025-10-25T02:51:26.543288Z",
     "iopub.status.busy": "2025-10-25T02:51:26.543288Z",
     "iopub.status.idle": "2025-10-25T02:51:27.234161Z",
     "shell.execute_reply": "2025-10-25T02:51:27.234161Z"
    }
   },
   "outputs": [],
   "source": [
    "import pandas as pd\n",
    "import numpy as np\n",
    "import matplotlib.pyplot as plt\n",
    "from sklearn.linear_model import LinearRegression"
   ]
  },
  {
   "cell_type": "code",
   "execution_count": 2,
   "metadata": {
    "execution": {
     "iopub.execute_input": "2025-10-25T02:51:27.235205Z",
     "iopub.status.busy": "2025-10-25T02:51:27.235205Z",
     "iopub.status.idle": "2025-10-25T02:51:27.334063Z",
     "shell.execute_reply": "2025-10-25T02:51:27.334063Z"
    }
   },
   "outputs": [],
   "source": [
    "# 获取当前文件所在目录的父目录\n",
    "import os\n",
    "import sys\n",
    "\n",
    "current_dir = os.getcwd()\n",
    "parent_dir = os.path.dirname(current_dir)\n",
    "\n",
    "if parent_dir not in sys.path:\n",
    "    sys.path.append(parent_dir)\n",
    "\n",
    "\n",
    "from Dtool import fill_missing_values, plot_factors_by_pattern, plot_comparison_multiple, reverse_column, plot_feature_importance,plot_predictions\n"
   ]
  },
  {
   "cell_type": "code",
   "execution_count": 3,
   "metadata": {
    "execution": {
     "iopub.execute_input": "2025-10-25T02:51:27.335071Z",
     "iopub.status.busy": "2025-10-25T02:51:27.335071Z",
     "iopub.status.idle": "2025-10-25T02:51:27.484268Z",
     "shell.execute_reply": "2025-10-25T02:51:27.484268Z"
    }
   },
   "outputs": [
    {
     "data": {
      "text/plain": [
       "Index(['中石化航空煤油企业结算价', '中石化航空煤油企业结算价Trend/F0.2', 'WTI连1合约价格（路透）Trend/F=0.2'], dtype='object')"
      ]
     },
     "execution_count": 3,
     "metadata": {},
     "output_type": "execute_result"
    }
   ],
   "source": [
    "plt.rcParams['font.sans-serif'] = ['SimHei']  \n",
    "plt.rcParams['axes.unicode_minus'] = False \n",
    "######## 读取数据 ########\n",
    "sheet = pd.read_excel('data_input/中石化航空煤油企业结算价.xlsx', sheet_name='Sheet1').rename(columns={'DataTime': 'Date'})\n",
    "sheet.set_index('Date', inplace=True) \n",
    "last_day = sheet['中石化航空煤油企业结算价Trend/F0.2'].last_valid_index()\n",
    "\n",
    "sheet.columns  "
   ]
  },
  {
   "cell_type": "code",
   "execution_count": 4,
   "metadata": {
    "execution": {
     "iopub.execute_input": "2025-10-25T02:51:27.502514Z",
     "iopub.status.busy": "2025-10-25T02:51:27.502514Z",
     "iopub.status.idle": "2025-10-25T02:51:27.509877Z",
     "shell.execute_reply": "2025-10-25T02:51:27.509877Z"
    }
   },
   "outputs": [
    {
     "data": {
      "text/html": [
       "<div>\n",
       "<style scoped>\n",
       "    .dataframe tbody tr th:only-of-type {\n",
       "        vertical-align: middle;\n",
       "    }\n",
       "\n",
       "    .dataframe tbody tr th {\n",
       "        vertical-align: top;\n",
       "    }\n",
       "\n",
       "    .dataframe thead th {\n",
       "        text-align: right;\n",
       "    }\n",
       "</style>\n",
       "<table border=\"1\" class=\"dataframe\">\n",
       "  <thead>\n",
       "    <tr style=\"text-align: right;\">\n",
       "      <th></th>\n",
       "      <th>中石化航空煤油企业结算价</th>\n",
       "      <th>中石化航空煤油企业结算价Trend/F0.2</th>\n",
       "      <th>WTI连1合约价格（路透）Trend/F=0.2</th>\n",
       "    </tr>\n",
       "    <tr>\n",
       "      <th>Date</th>\n",
       "      <th></th>\n",
       "      <th></th>\n",
       "      <th></th>\n",
       "    </tr>\n",
       "  </thead>\n",
       "  <tbody>\n",
       "    <tr>\n",
       "      <th>2025-06-30</th>\n",
       "      <td>NaN</td>\n",
       "      <td>NaN</td>\n",
       "      <td>64.732682</td>\n",
       "    </tr>\n",
       "    <tr>\n",
       "      <th>2025-07-31</th>\n",
       "      <td>NaN</td>\n",
       "      <td>NaN</td>\n",
       "      <td>63.774109</td>\n",
       "    </tr>\n",
       "    <tr>\n",
       "      <th>2025-08-31</th>\n",
       "      <td>NaN</td>\n",
       "      <td>NaN</td>\n",
       "      <td>62.815092</td>\n",
       "    </tr>\n",
       "    <tr>\n",
       "      <th>2025-09-30</th>\n",
       "      <td>NaN</td>\n",
       "      <td>NaN</td>\n",
       "      <td>61.878231</td>\n",
       "    </tr>\n",
       "    <tr>\n",
       "      <th>2025-10-31</th>\n",
       "      <td>NaN</td>\n",
       "      <td>NaN</td>\n",
       "      <td>61.007284</td>\n",
       "    </tr>\n",
       "  </tbody>\n",
       "</table>\n",
       "</div>"
      ],
      "text/plain": [
       "            中石化航空煤油企业结算价  中石化航空煤油企业结算价Trend/F0.2  WTI连1合约价格（路透）Trend/F=0.2\n",
       "Date                                                                      \n",
       "2025-06-30           NaN                     NaN                 64.732682\n",
       "2025-07-31           NaN                     NaN                 63.774109\n",
       "2025-08-31           NaN                     NaN                 62.815092\n",
       "2025-09-30           NaN                     NaN                 61.878231\n",
       "2025-10-31           NaN                     NaN                 61.007284"
      ]
     },
     "execution_count": 4,
     "metadata": {},
     "output_type": "execute_result"
    }
   ],
   "source": [
    "sheet = sheet.resample('ME').mean()\n",
    "sheet.tail()"
   ]
  },
  {
   "cell_type": "code",
   "execution_count": 5,
   "metadata": {
    "execution": {
     "iopub.execute_input": "2025-10-25T02:51:27.510886Z",
     "iopub.status.busy": "2025-10-25T02:51:27.510886Z",
     "iopub.status.idle": "2025-10-25T02:51:27.620176Z",
     "shell.execute_reply": "2025-10-25T02:51:27.620176Z"
    }
   },
   "outputs": [
    {
     "data": {
      "image/png": "[encoded data removed]",
      "text/plain": [
       "<Figure size 1200x600 with 1 Axes>"
      ]
     },
     "metadata": {},
     "output_type": "display_data"
    }
   ],
   "source": [
    "# 准备训练数据\n",
    "sheet = sheet.reset_index().rename(columns={'index': 'Date'})\n",
    "sheet_daily = sheet.copy()\n",
    "sheet_daily['Date'] = pd.to_datetime(sheet_daily['Date'])\n",
    "train_data = sheet_daily[sheet_daily['Date'] <= last_day].copy().dropna()\n",
    "future_data = sheet_daily[sheet_daily['Date'] > last_day].copy()\n",
    "\n",
    "# 准备训练数据\n",
    "X_train = train_data['WTI连1合约价格（路透）Trend/F=0.2'].values.reshape(-1, 1)\n",
    "y_train = train_data['中石化航空煤油企业结算价Trend/F0.2'].values\n",
    "\n",
    "# 训练模型\n",
    "model = LinearRegression()\n",
    "model.fit(X_train, y_train)\n",
    "\n",
    "# 获取最后一个有效日期之后的预测数据\n",
    "future_X = future_data['WTI连1合约价格（路透）Trend/F=0.2'].values.reshape(-1, 1)\n",
    "future_predictions = model.predict(future_X)\n",
    "\n",
    "future_df = pd.DataFrame({\n",
    "    'Date': future_data['Date'],\n",
    "    '中石化航空煤油企业结算价Trend/F0.2': future_predictions\n",
    "})\n",
    "\n",
    "# 绘制图表展示\n",
    "train_data_2023 = train_data[train_data['Date'] >= '2023-01-01']\n",
    "plt.figure(figsize=(12, 6))\n",
    "# 绘制历史数据,选取2023年1月以后的数据\n",
    "plt.plot(train_data_2023['Date'], train_data_2023['中石化航空煤油企业结算价'], 'b-', label='历史数据', marker='o')\n",
    "# 连接历史数据最后一个点和预测数据第一个点\n",
    "plt.plot([train_data['Date'].iloc[-1], future_df['Date'].iloc[0]], \n",
    "         [train_data['中石化航空煤油企业结算价'].iloc[-1], future_df['中石化航空煤油企业结算价Trend/F0.2'].iloc[0]], 'r-')\n",
    "# 绘制预测数据\n",
    "plt.plot(future_df['Date'], future_df['中石化航空煤油企业结算价Trend/F0.2'], 'r-', label='趋势预测', marker='o')\n",
    "\n",
    "plt.title('中石化航空煤油企业结算价Trend 预测')\n",
    "plt.xlabel('日期')\n",
    "plt.ylabel('价格 (元/吨)')\n",
    "plt.legend()\n",
    "plt.grid(True)\n",
    "plt.xticks(rotation=45)\n",
    "plt.tight_layout()\n",
    "plt.show()"
   ]
  },
  {
   "cell_type": "markdown",
   "metadata": {},
   "source": [
    "---"
   ]
  },
  {
   "cell_type": "code",
   "execution_count": 6,
   "metadata": {
    "execution": {
     "iopub.execute_input": "2025-10-25T02:51:27.621339Z",
     "iopub.status.busy": "2025-10-25T02:51:27.621339Z",
     "iopub.status.idle": "2025-10-25T02:51:27.633127Z",
     "shell.execute_reply": "2025-10-25T02:51:27.633127Z"
    }
   },
   "outputs": [
    {
     "data": {
      "text/html": [
       "<div>\n",
       "<style scoped>\n",
       "    .dataframe tbody tr th:only-of-type {\n",
       "        vertical-align: middle;\n",
       "    }\n",
       "\n",
       "    .dataframe tbody tr th {\n",
       "        vertical-align: top;\n",
       "    }\n",
       "\n",
       "    .dataframe thead th {\n",
       "        text-align: right;\n",
       "    }\n",
       "</style>\n",
       "<table border=\"1\" class=\"dataframe\">\n",
       "  <thead>\n",
       "    <tr style=\"text-align: right;\">\n",
       "      <th></th>\n",
       "      <th>Date</th>\n",
       "      <th>预测值</th>\n",
       "      <th>中石化航空煤油企业结算价Trend/F0.2</th>\n",
       "      <th>中石化航空煤油企业结算价</th>\n",
       "    </tr>\n",
       "  </thead>\n",
       "  <tbody>\n",
       "    <tr>\n",
       "      <th>27</th>\n",
       "      <td>2025-04-30</td>\n",
       "      <td>36.2665</td>\n",
       "      <td>5261.725603</td>\n",
       "      <td>5297.992103</td>\n",
       "    </tr>\n",
       "    <tr>\n",
       "      <th>28</th>\n",
       "      <td>2025-05-31</td>\n",
       "      <td>-2.2537</td>\n",
       "      <td>5181.355829</td>\n",
       "      <td>5179.102129</td>\n",
       "    </tr>\n",
       "  </tbody>\n",
       "</table>\n",
       "</div>"
      ],
      "text/plain": [
       "         Date      预测值  中石化航空煤油企业结算价Trend/F0.2  中石化航空煤油企业结算价\n",
       "27 2025-04-30  36.2665             5261.725603   5297.992103\n",
       "28 2025-05-31  -2.2537             5181.355829   5179.102129"
      ]
     },
     "execution_count": 6,
     "metadata": {},
     "output_type": "execute_result"
    }
   ],
   "source": [
    "########################   读取数据  #########################################\n",
    "sheet_non_trend = pd.read_excel('eta/中石化航空煤油企业结算价Non-Trend—F0.2_合并数据.xlsx', sheet_name='Sheet1')\n",
    "sheet_non_trend['Date'] = pd.to_datetime(sheet_non_trend['Date'])\n",
    "# trend + non-trend \n",
    "merged_df = pd.merge(\n",
    "    sheet_non_trend[['Date', '预测值']], \n",
    "    future_df[['Date', '中石化航空煤油企业结算价Trend/F0.2']], \n",
    "    on='Date',\n",
    "    how='outer'\n",
    ")\n",
    "# 删除包含空值的行\n",
    "merged_df = merged_df.dropna()\n",
    "# 计算最终的\n",
    "merged_df['中石化航空煤油企业结算价'] = merged_df['预测值'] + merged_df['中石化航空煤油企业结算价Trend/F0.2']\n",
    "merged_df.tail() "
   ]
  },
  {
   "cell_type": "code",
   "execution_count": 7,
   "metadata": {
    "execution": {
     "iopub.execute_input": "2025-10-25T02:51:27.634138Z",
     "iopub.status.busy": "2025-10-25T02:51:27.634138Z",
     "iopub.status.idle": "2025-10-25T02:51:27.733130Z",
     "shell.execute_reply": "2025-10-25T02:51:27.732623Z"
    }
   },
   "outputs": [
    {
     "data": {
      "image/png": "[encoded data removed]",
      "text/plain": [
       "<Figure size 1500x600 with 1 Axes>"
      ]
     },
     "metadata": {},
     "output_type": "display_data"
    }
   ],
   "source": [
    "# 绘制最终走势图\n",
    "plt.figure(figsize=(15, 6))\n",
    "# 筛选2020年之后的数据\n",
    "sheet_2020 = sheet[sheet['Date'] >= '2023-01-01']\n",
    "plt.plot(sheet_2020['Date'], sheet_2020['中石化航空煤油企业结算价'], label='历史走势', color='blue')\n",
    "\n",
    "# 连接历史数据最后一个点和预测数据第一个点\n",
    "plt.plot([last_day, merged_df['Date'].iloc[0]], [sheet_2020[sheet_2020['Date'] == last_day]['中石化航空煤油企业结算价'].iloc[0], merged_df['中石化航空煤油企业结算价'].iloc[0]], 'r--')\n",
    "\n",
    "plt.plot(merged_df['Date'], merged_df['中石化航空煤油企业结算价'], label='预测走势', color='red', linestyle='--')\n",
    "plt.axvline(x=last_day, color='gray', linestyle='--', label='历史/预测分界线')\n",
    "plt.title('中石化航空煤油企业结算价 历史与预测对比')\n",
    "plt.xlabel('日期')\n",
    "plt.ylabel('价格')\n",
    "plt.legend()\n",
    "plt.grid(True)\n",
    "plt.xticks(rotation=45)\n",
    "plt.tight_layout()\n",
    "plt.show()\n"
   ]
  },
  {
   "cell_type": "code",
   "execution_count": 8,
   "metadata": {
    "execution": {
     "iopub.execute_input": "2025-10-25T02:51:27.734148Z",
     "iopub.status.busy": "2025-10-25T02:51:27.734148Z",
     "iopub.status.idle": "2025-10-25T02:51:27.746110Z",
     "shell.execute_reply": "2025-10-25T02:51:27.746110Z"
    }
   },
   "outputs": [
    {
     "data": {
      "text/html": [
       "<div>\n",
       "<style scoped>\n",
       "    .dataframe tbody tr th:only-of-type {\n",
       "        vertical-align: middle;\n",
       "    }\n",
       "\n",
       "    .dataframe tbody tr th {\n",
       "        vertical-align: top;\n",
       "    }\n",
       "\n",
       "    .dataframe thead th {\n",
       "        text-align: right;\n",
       "    }\n",
       "</style>\n",
       "<table border=\"1\" class=\"dataframe\">\n",
       "  <thead>\n",
       "    <tr style=\"text-align: right;\">\n",
       "      <th></th>\n",
       "      <th>Date</th>\n",
       "      <th>实际值</th>\n",
       "      <th>中石化航空煤油企业结算价</th>\n",
       "    </tr>\n",
       "  </thead>\n",
       "  <tbody>\n",
       "    <tr>\n",
       "      <th>33</th>\n",
       "      <td>2025/10/31</td>\n",
       "      <td>NaN</td>\n",
       "      <td>NaN</td>\n",
       "    </tr>\n",
       "    <tr>\n",
       "      <th>32</th>\n",
       "      <td>2025/09/30</td>\n",
       "      <td>NaN</td>\n",
       "      <td>NaN</td>\n",
       "    </tr>\n",
       "    <tr>\n",
       "      <th>31</th>\n",
       "      <td>2025/08/31</td>\n",
       "      <td>NaN</td>\n",
       "      <td>NaN</td>\n",
       "    </tr>\n",
       "    <tr>\n",
       "      <th>30</th>\n",
       "      <td>2025/07/31</td>\n",
       "      <td>NaN</td>\n",
       "      <td>NaN</td>\n",
       "    </tr>\n",
       "    <tr>\n",
       "      <th>29</th>\n",
       "      <td>2025/06/30</td>\n",
       "      <td>NaN</td>\n",
       "      <td>NaN</td>\n",
       "    </tr>\n",
       "  </tbody>\n",
       "</table>\n",
       "</div>"
      ],
      "text/plain": [
       "          Date  实际值  中石化航空煤油企业结算价\n",
       "33  2025/10/31  NaN           NaN\n",
       "32  2025/09/30  NaN           NaN\n",
       "31  2025/08/31  NaN           NaN\n",
       "30  2025/07/31  NaN           NaN\n",
       "29  2025/06/30  NaN           NaN"
      ]
     },
     "execution_count": 8,
     "metadata": {},
     "output_type": "execute_result"
    }
   ],
   "source": [
    "sheet_data_2023_shizhi = sheet[sheet['Date'].dt.year >= 2023][['Date', '中石化航空煤油企业结算价']]\n",
    "sheet_data_2023_shizhi.columns = ['Date', '实际值']\n",
    "future_df_shizhi = merged_df[['Date', '中石化航空煤油企业结算价']]\n",
    "merged_df_shizhi = pd.merge(sheet_data_2023_shizhi, future_df_shizhi, on='Date', how='outer')\n",
    "merged_df_shizhi = merged_df_shizhi.sort_values('Date', ascending=False)\n",
    "merged_df_shizhi['Date'] = merged_df_shizhi['Date'].dt.strftime('%Y/%m/%d')\n",
    "merged_df_shizhi.to_excel('eta/中石化航空煤油企业结算价_合并数据.xlsx', index=False,float_format='%.2f')\n",
    "merged_df_shizhi.head()"
   ]
  },
  {
   "cell_type": "code",
   "execution_count": 9,
   "metadata": {
    "execution": {
     "iopub.execute_input": "2025-10-25T02:51:27.746616Z",
     "iopub.status.busy": "2025-10-25T02:51:27.746616Z",
     "iopub.status.idle": "2025-10-25T02:51:27.757459Z",
     "shell.execute_reply": "2025-10-25T02:51:27.757459Z"
    }
   },
   "outputs": [
    {
     "data": {
      "text/html": [
       "<div>\n",
       "<style scoped>\n",
       "    .dataframe tbody tr th:only-of-type {\n",
       "        vertical-align: middle;\n",
       "    }\n",
       "\n",
       "    .dataframe tbody tr th {\n",
       "        vertical-align: top;\n",
       "    }\n",
       "\n",
       "    .dataframe thead th {\n",
       "        text-align: right;\n",
       "    }\n",
       "</style>\n",
       "<table border=\"1\" class=\"dataframe\">\n",
       "  <thead>\n",
       "    <tr style=\"text-align: right;\">\n",
       "      <th></th>\n",
       "      <th>Date</th>\n",
       "      <th>实际值</th>\n",
       "      <th>中石化航空煤油企业结算价</th>\n",
       "    </tr>\n",
       "  </thead>\n",
       "  <tbody>\n",
       "    <tr>\n",
       "      <th>0</th>\n",
       "      <td>2025/10/31</td>\n",
       "      <td>NaN</td>\n",
       "      <td>NaN</td>\n",
       "    </tr>\n",
       "    <tr>\n",
       "      <th>1</th>\n",
       "      <td>2025/09/30</td>\n",
       "      <td>NaN</td>\n",
       "      <td>NaN</td>\n",
       "    </tr>\n",
       "    <tr>\n",
       "      <th>2</th>\n",
       "      <td>2025/08/31</td>\n",
       "      <td>NaN</td>\n",
       "      <td>NaN</td>\n",
       "    </tr>\n",
       "    <tr>\n",
       "      <th>3</th>\n",
       "      <td>2025/07/31</td>\n",
       "      <td>NaN</td>\n",
       "      <td>NaN</td>\n",
       "    </tr>\n",
       "    <tr>\n",
       "      <th>4</th>\n",
       "      <td>2025/06/30</td>\n",
       "      <td>NaN</td>\n",
       "      <td>NaN</td>\n",
       "    </tr>\n",
       "  </tbody>\n",
       "</table>\n",
       "</div>"
      ],
      "text/plain": [
       "         Date  实际值  中石化航空煤油企业结算价\n",
       "0  2025/10/31  NaN           NaN\n",
       "1  2025/09/30  NaN           NaN\n",
       "2  2025/08/31  NaN           NaN\n",
       "3  2025/07/31  NaN           NaN\n",
       "4  2025/06/30  NaN           NaN"
      ]
     },
     "execution_count": 9,
     "metadata": {},
     "output_type": "execute_result"
    }
   ],
   "source": [
    "# 将日期列转换为datetime格式\n",
    "merged_df_shizhi['Date'] = pd.to_datetime(merged_df_shizhi['Date'])\n",
    "# 按月份重采样并取每月最后一个交易日的数据\n",
    "monthly_df_shizhi = merged_df_shizhi.set_index('Date').resample('ME').last()\n",
    "monthly_df_shizhi = monthly_df_shizhi.sort_values('Date', ascending=False)\n",
    "# 重置索引并格式化日期\n",
    "monthly_df_shizhi = monthly_df_shizhi.reset_index()\n",
    "monthly_df_shizhi['Date'] = monthly_df_shizhi['Date'].dt.strftime('%Y/%m/%d')\n",
    "# 保存月度数据到Excel\n",
    "monthly_df_shizhi.to_excel('eta/中石化航空煤油企业结算价_月度数据.xlsx', index=False, float_format='%.2f')\n",
    "monthly_df_shizhi.head()"
   ]
  },
  {
   "cell_type": "markdown",
   "metadata": {},
   "source": [
    "---"
   ]
  },
  {
   "cell_type": "code",
   "execution_count": 10,
   "metadata": {
    "execution": {
     "iopub.execute_input": "2025-10-25T02:51:27.757967Z",
     "iopub.status.busy": "2025-10-25T02:51:27.757967Z",
     "iopub.status.idle": "2025-10-25T02:51:27.768017Z",
     "shell.execute_reply": "2025-10-25T02:51:27.768017Z"
    }
   },
   "outputs": [
    {
     "data": {
      "text/html": [
       "<div>\n",
       "<style scoped>\n",
       "    .dataframe tbody tr th:only-of-type {\n",
       "        vertical-align: middle;\n",
       "    }\n",
       "\n",
       "    .dataframe tbody tr th {\n",
       "        vertical-align: top;\n",
       "    }\n",
       "\n",
       "    .dataframe thead th {\n",
       "        text-align: right;\n",
       "    }\n",
       "</style>\n",
       "<table border=\"1\" class=\"dataframe\">\n",
       "  <thead>\n",
       "    <tr style=\"text-align: right;\">\n",
       "      <th></th>\n",
       "      <th>Date</th>\n",
       "      <th>实际值</th>\n",
       "      <th>中石化航空煤油企业结算价Trend/F0.2</th>\n",
       "    </tr>\n",
       "  </thead>\n",
       "  <tbody>\n",
       "    <tr>\n",
       "      <th>33</th>\n",
       "      <td>2025/10/31</td>\n",
       "      <td>NaN</td>\n",
       "      <td>4788.071730</td>\n",
       "    </tr>\n",
       "    <tr>\n",
       "      <th>32</th>\n",
       "      <td>2025/09/30</td>\n",
       "      <td>NaN</td>\n",
       "      <td>4861.573770</td>\n",
       "    </tr>\n",
       "    <tr>\n",
       "      <th>31</th>\n",
       "      <td>2025/08/31</td>\n",
       "      <td>NaN</td>\n",
       "      <td>4940.638507</td>\n",
       "    </tr>\n",
       "    <tr>\n",
       "      <th>30</th>\n",
       "      <td>2025/07/31</td>\n",
       "      <td>NaN</td>\n",
       "      <td>5021.573073</td>\n",
       "    </tr>\n",
       "    <tr>\n",
       "      <th>29</th>\n",
       "      <td>2025/06/30</td>\n",
       "      <td>NaN</td>\n",
       "      <td>5102.470179</td>\n",
       "    </tr>\n",
       "  </tbody>\n",
       "</table>\n",
       "</div>"
      ],
      "text/plain": [
       "          Date  实际值  中石化航空煤油企业结算价Trend/F0.2\n",
       "33  2025/10/31  NaN             4788.071730\n",
       "32  2025/09/30  NaN             4861.573770\n",
       "31  2025/08/31  NaN             4940.638507\n",
       "30  2025/07/31  NaN             5021.573073\n",
       "29  2025/06/30  NaN             5102.470179"
      ]
     },
     "execution_count": 10,
     "metadata": {},
     "output_type": "execute_result"
    }
   ],
   "source": [
    "sheet_data_2023 = sheet[sheet['Date'].dt.year >= 2023][['Date', '中石化航空煤油企业结算价Trend/F0.2']]\n",
    "sheet_data_2023.columns = ['Date', '实际值']\n",
    "merged_df_trend = pd.merge(sheet_data_2023, future_df, on='Date', how='outer')\n",
    "merged_df_trend = merged_df_trend.sort_values('Date', ascending=False)\n",
    "merged_df_trend['Date'] = merged_df_trend['Date'].dt.strftime('%Y/%m/%d')\n",
    "merged_df_trend.to_excel('eta/中石化航空煤油企业结算价Trend-F0.2_合并数据.xlsx', index=False,float_format='%.2f')\n",
    "merged_df_trend.head()"
   ]
  },
  {
   "cell_type": "code",
   "execution_count": 11,
   "metadata": {
    "execution": {
     "iopub.execute_input": "2025-10-25T02:51:27.769534Z",
     "iopub.status.busy": "2025-10-25T02:51:27.768524Z",
     "iopub.status.idle": "2025-10-25T02:51:27.779789Z",
     "shell.execute_reply": "2025-10-25T02:51:27.779789Z"
    }
   },
   "outputs": [
    {
     "data": {
      "text/html": [
       "<div>\n",
       "<style scoped>\n",
       "    .dataframe tbody tr th:only-of-type {\n",
       "        vertical-align: middle;\n",
       "    }\n",
       "\n",
       "    .dataframe tbody tr th {\n",
       "        vertical-align: top;\n",
       "    }\n",
       "\n",
       "    .dataframe thead th {\n",
       "        text-align: right;\n",
       "    }\n",
       "</style>\n",
       "<table border=\"1\" class=\"dataframe\">\n",
       "  <thead>\n",
       "    <tr style=\"text-align: right;\">\n",
       "      <th></th>\n",
       "      <th>Date</th>\n",
       "      <th>实际值</th>\n",
       "      <th>中石化航空煤油企业结算价Trend/F0.2</th>\n",
       "    </tr>\n",
       "  </thead>\n",
       "  <tbody>\n",
       "    <tr>\n",
       "      <th>0</th>\n",
       "      <td>2025/10/31</td>\n",
       "      <td>NaN</td>\n",
       "      <td>4788.071730</td>\n",
       "    </tr>\n",
       "    <tr>\n",
       "      <th>1</th>\n",
       "      <td>2025/09/30</td>\n",
       "      <td>NaN</td>\n",
       "      <td>4861.573770</td>\n",
       "    </tr>\n",
       "    <tr>\n",
       "      <th>2</th>\n",
       "      <td>2025/08/31</td>\n",
       "      <td>NaN</td>\n",
       "      <td>4940.638507</td>\n",
       "    </tr>\n",
       "    <tr>\n",
       "      <th>3</th>\n",
       "      <td>2025/07/31</td>\n",
       "      <td>NaN</td>\n",
       "      <td>5021.573073</td>\n",
       "    </tr>\n",
       "    <tr>\n",
       "      <th>4</th>\n",
       "      <td>2025/06/30</td>\n",
       "      <td>NaN</td>\n",
       "      <td>5102.470179</td>\n",
       "    </tr>\n",
       "  </tbody>\n",
       "</table>\n",
       "</div>"
      ],
      "text/plain": [
       "         Date  实际值  中石化航空煤油企业结算价Trend/F0.2\n",
       "0  2025/10/31  NaN             4788.071730\n",
       "1  2025/09/30  NaN             4861.573770\n",
       "2  2025/08/31  NaN             4940.638507\n",
       "3  2025/07/31  NaN             5021.573073\n",
       "4  2025/06/30  NaN             5102.470179"
      ]
     },
     "execution_count": 11,
     "metadata": {},
     "output_type": "execute_result"
    }
   ],
   "source": [
    "# 将日期列转换为datetime格式\n",
    "merged_df_trend['Date'] = pd.to_datetime(merged_df_trend['Date'])\n",
    "# 按月份重采样并取每月最后一个交易日的数据\n",
    "monthly_df_trend = merged_df_trend.set_index('Date').resample('ME').last()\n",
    "monthly_df_trend = monthly_df_trend.sort_values('Date', ascending=False)\n",
    "# 重置索引并格式化日期\n",
    "monthly_df_trend = monthly_df_trend.reset_index()\n",
    "monthly_df_trend['Date'] = monthly_df_trend['Date'].dt.strftime('%Y/%m/%d')\n",
    "# 保存月度数据到Excel\n",
    "monthly_df_trend.to_excel('eta/中石化航空煤油企业结算价Trend-F0.2_月度数据.xlsx', index=False, float_format='%.4f')\n",
    "monthly_df_trend.head()"
   ]
  },
  {
   "cell_type": "markdown",
   "metadata": {},
   "source": [
    "---"
   ]
  },
  {
   "cell_type": "code",
   "execution_count": 12,
   "metadata": {
    "execution": {
     "iopub.execute_input": "2025-10-25T02:51:27.780801Z",
     "iopub.status.busy": "2025-10-25T02:51:27.780801Z",
     "iopub.status.idle": "2025-10-25T02:51:28.430860Z",
     "shell.execute_reply": "2025-10-25T02:51:28.430355Z"
    }
   },
   "outputs": [
    {
     "name": "stdout",
     "output_type": "stream",
     "text": [
      "成功更新 日度数据表 中的数据\n",
      "数据已成功更新到Excel文件\n"
     ]
    }
   ],
   "source": [
    "from Dcel import update_excel_data\n",
    "# 使用示例\n",
    "file_path = \"eta/1.汽柴煤油_数据上传.xlsx\"\n",
    "sheet_name = \"日度数据表\"\n",
    "identifier = \"中石化航空煤油企业结算价Trend/F0.2\"\n",
    "\n",
    "# 调用函数更新数据\n",
    "success = update_excel_data(merged_df_trend, file_path, sheet_name, identifier)\n",
    "\n",
    "if success:\n",
    "    print(\"数据已成功更新到Excel文件\")\n",
    "else:\n",
    "    print(\"数据更新失败，请检查错误信息\")"
   ]
  },
  {
   "cell_type": "code",
   "execution_count": 13,
   "metadata": {
    "execution": {
     "iopub.execute_input": "2025-10-25T02:51:28.431869Z",
     "iopub.status.busy": "2025-10-25T02:51:28.431869Z",
     "iopub.status.idle": "2025-10-25T02:51:28.434079Z",
     "shell.execute_reply": "2025-10-25T02:51:28.434079Z"
    }
   },
   "outputs": [
    {
     "data": {
      "text/plain": [
       "'\\nfrom Lcel import update_excel_data\\nfile_path = \"eta/1.汽柴煤油_数据上传.xlsx\"\\nsheet_name = \"详情页\"\\nidentifier = \"中石化航空煤油企业结算价Trend/F0.2\"       # NEW: 新增日期标识符列的抬头\\n# 调用函数更新数据\\nsuccess = update_excel_data(monthly_df_trend, file_path, sheet_name, identifier)\\n\\nif success:\\n    print(\"数据已成功更新到Excel文件\")\\nelse:\\n    print(\"数据更新失败，请检查错误信息\")\\n'"
      ]
     },
     "execution_count": 13,
     "metadata": {},
     "output_type": "execute_result"
    }
   ],
   "source": [
    "'''\n",
    "from Lcel import update_excel_data\n",
    "file_path = \"eta/1.汽柴煤油_数据上传.xlsx\"\n",
    "sheet_name = \"详情页\"\n",
    "identifier = \"中石化航空煤油企业结算价Trend/F0.2\"       # NEW: 新增日期标识符列的抬头\n",
    "# 调用函数更新数据\n",
    "success = update_excel_data(monthly_df_trend, file_path, sheet_name, identifier)\n",
    "\n",
    "if success:\n",
    "    print(\"数据已成功更新到Excel文件\")\n",
    "else:\n",
    "    print(\"数据更新失败，请检查错误信息\")\n",
    "'''"
   ]
  },
  {
   "cell_type": "code",
   "execution_count": 14,
   "metadata": {
    "execution": {
     "iopub.execute_input": "2025-10-25T02:51:28.435091Z",
     "iopub.status.busy": "2025-10-25T02:51:28.435091Z",
     "iopub.status.idle": "2025-10-25T02:51:29.130565Z",
     "shell.execute_reply": "2025-10-25T02:51:29.130565Z"
    }
   },
   "outputs": [
    {
     "name": "stdout",
     "output_type": "stream",
     "text": [
      "成功更新 日度数据表 中的数据\n",
      "数据已成功更新到Excel文件\n"
     ]
    }
   ],
   "source": [
    "from Dcel import update_excel_data\n",
    "# 使用示例\n",
    "file_path = \"eta/1.汽柴煤油_数据上传.xlsx\"\n",
    "sheet_name = \"日度数据表\"\n",
    "identifier = \"中石化航空煤油企业结算价\"\n",
    "\n",
    "# 调用函数更新数据\n",
    "success = update_excel_data(merged_df_shizhi, file_path, sheet_name, identifier)\n",
    "\n",
    "if success:\n",
    "    print(\"数据已成功更新到Excel文件\")\n",
    "else:\n",
    "    print(\"数据更新失败，请检查错误信息\")"
   ]
  },
  {
   "cell_type": "code",
   "execution_count": 15,
   "metadata": {
    "execution": {
     "iopub.execute_input": "2025-10-25T02:51:29.132078Z",
     "iopub.status.busy": "2025-10-25T02:51:29.131070Z",
     "iopub.status.idle": "2025-10-25T02:51:29.134098Z",
     "shell.execute_reply": "2025-10-25T02:51:29.134098Z"
    }
   },
   "outputs": [
    {
     "data": {
      "text/plain": [
       "'\\nfrom Lcel import update_excel_data\\nfile_path = \"eta/1.汽柴煤油_数据上传.xlsx\"\\nsheet_name = \"详情页\"\\nidentifier = \"中石化航空煤油企业结算价\"       # NEW: 新增日期标识符列的抬头\\n# 调用函数更新数据\\nsuccess = update_excel_data(monthly_df_shizhi, file_path, sheet_name, identifier)\\n\\nif success:\\n    print(\"数据已成功更新到Excel文件\")\\nelse:\\n    print(\"数据更新失败，请检查错误信息\")\\n'"
      ]
     },
     "execution_count": 15,
     "metadata": {},
     "output_type": "execute_result"
    }
   ],
   "source": [
    "'''\n",
    "from Lcel import update_excel_data\n",
    "file_path = \"eta/1.汽柴煤油_数据上传.xlsx\"\n",
    "sheet_name = \"详情页\"\n",
    "identifier = \"中石化航空煤油企业结算价\"       # NEW: 新增日期标识符列的抬头\n",
    "# 调用函数更新数据\n",
    "success = update_excel_data(monthly_df_shizhi, file_path, sheet_name, identifier)\n",
    "\n",
    "if success:\n",
    "    print(\"数据已成功更新到Excel文件\")\n",
    "else:\n",
    "    print(\"数据更新失败，请检查错误信息\")\n",
    "'''"
   ]
  }
 ],
 "metadata": {
  "kernelspec": {
   "display_name": "base",
   "language": "python",
   "name": "python3"
  },
  "language_info": {
   "codemirror_mode": {
    "name": "ipython",
    "version": 3
   },
   "file_extension": ".py",
   "mimetype": "text/x-python",
   "name": "python",
   "nbconvert_exporter": "python",
   "pygments_lexer": "ipython3",
   "version": "3.12.4"
  }
 },
 "nbformat": 4,
 "nbformat_minor": 2
}
