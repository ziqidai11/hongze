{
 "cells": [
  {
   "cell_type": "code",
   "execution_count": 1,
   "metadata": {
    "execution": {
     "iopub.execute_input": "2025-10-25T02:43:34.573896Z",
     "iopub.status.busy": "2025-10-25T02:43:34.573896Z",
     "iopub.status.idle": "2025-10-25T02:43:35.241741Z",
     "shell.execute_reply": "2025-10-25T02:43:35.241741Z"
    }
   },
   "outputs": [],
   "source": [
    "import pandas as pd\n",
    "import numpy as np\n",
    "import os\n",
    "import matplotlib.pyplot as plt\n",
    "import seaborn as sns\n"
   ]
  },
  {
   "cell_type": "code",
   "execution_count": 2,
   "metadata": {
    "execution": {
     "iopub.execute_input": "2025-10-25T02:43:35.243439Z",
     "iopub.status.busy": "2025-10-25T02:43:35.243439Z",
     "iopub.status.idle": "2025-10-25T02:43:35.325364Z",
     "shell.execute_reply": "2025-10-25T02:43:35.324856Z"
    }
   },
   "outputs": [],
   "source": [
    "# 获取当前文件所在目录的父目录\n",
    "import os\n",
    "import sys\n",
    "\n",
    "current_dir = os.getcwd()\n",
    "parent_dir = os.path.dirname(current_dir)\n",
    "\n",
    "if parent_dir not in sys.path:\n",
    "    sys.path.append(parent_dir)\n",
    "\n",
    "\n",
    "from Dtool import fill_missing_values, plot_factors_by_pattern, plot_comparison_multiple, reverse_column, plot_feature_importance,plot_predictions\n"
   ]
  },
  {
   "cell_type": "code",
   "execution_count": 3,
   "metadata": {
    "execution": {
     "iopub.execute_input": "2025-10-25T02:43:35.326402Z",
     "iopub.status.busy": "2025-10-25T02:43:35.326402Z",
     "iopub.status.idle": "2025-10-25T02:43:35.440059Z",
     "shell.execute_reply": "2025-10-25T02:43:35.440059Z"
    }
   },
   "outputs": [
    {
     "data": {
      "text/html": [
       "<div>\n",
       "<style scoped>\n",
       "    .dataframe tbody tr th:only-of-type {\n",
       "        vertical-align: middle;\n",
       "    }\n",
       "\n",
       "    .dataframe tbody tr th {\n",
       "        vertical-align: top;\n",
       "    }\n",
       "\n",
       "    .dataframe thead th {\n",
       "        text-align: right;\n",
       "    }\n",
       "</style>\n",
       "<table border=\"1\" class=\"dataframe\">\n",
       "  <thead>\n",
       "    <tr style=\"text-align: right;\">\n",
       "      <th></th>\n",
       "      <th>Date</th>\n",
       "      <th>Brent原油期货价格预测</th>\n",
       "    </tr>\n",
       "  </thead>\n",
       "  <tbody>\n",
       "    <tr>\n",
       "      <th>20</th>\n",
       "      <td>2025-10-27</td>\n",
       "      <td>64.5</td>\n",
       "    </tr>\n",
       "  </tbody>\n",
       "</table>\n",
       "</div>"
      ],
      "text/plain": [
       "         Date  Brent原油期货价格预测\n",
       "20 2025-10-27           64.5"
      ]
     },
     "execution_count": 3,
     "metadata": {},
     "output_type": "execute_result"
    }
   ],
   "source": [
    "# 尝试多个可能的文件路径\n",
    "file_paths = [\n",
    "    os.path.expanduser(\"~/Desktop/X-BASE/Wti模型3.0/eta/Brent原油价格_合并数据.xlsx\"),\n",
    "    os.path.expanduser(\"~/Desktop/弘则研究/Horizon-Insights/X-base/Wti模型3.0/eta/Brent原油价格_合并数据.xlsx\")\n",
    "]\n",
    "\n",
    "file_path = None\n",
    "for path in file_paths:\n",
    "    if os.path.isfile(path):  # 确保是文件而不是目录\n",
    "        file_path = path\n",
    "        break\n",
    "\n",
    "if file_path is None:\n",
    "    raise FileNotFoundError(\"未找到数据文件\")\n",
    "\n",
    "try:\n",
    "    sheet1 = pd.ExcelFile(file_path).parse('Sheet1')\n",
    "    sheet1['Date'] = pd.to_datetime(sheet1['Date'], errors='coerce')\n",
    "    sheet1 = sheet1.drop(columns=['布伦特原油期货价格'])\n",
    "    sheet1 = sheet1.dropna()\n",
    "    sheet1 = sheet1.sort_values('Date', ascending=True)\n",
    "    brent_forecast = sheet1.copy()\n",
    "except Exception as e:\n",
    "    raise Exception(f\"读取文件时出错: {str(e)}\")\n",
    "\n",
    "brent_forecast.head(1)\n"
   ]
  },
  {
   "cell_type": "code",
   "execution_count": 4,
   "metadata": {
    "execution": {
     "iopub.execute_input": "2025-10-25T02:43:35.458215Z",
     "iopub.status.busy": "2025-10-25T02:43:35.458215Z",
     "iopub.status.idle": "2025-10-25T02:43:35.481217Z",
     "shell.execute_reply": "2025-10-25T02:43:35.481217Z"
    }
   },
   "outputs": [
    {
     "data": {
      "text/html": [
       "<div>\n",
       "<style scoped>\n",
       "    .dataframe tbody tr th:only-of-type {\n",
       "        vertical-align: middle;\n",
       "    }\n",
       "\n",
       "    .dataframe tbody tr th {\n",
       "        vertical-align: top;\n",
       "    }\n",
       "\n",
       "    .dataframe thead th {\n",
       "        text-align: right;\n",
       "    }\n",
       "</style>\n",
       "<table border=\"1\" class=\"dataframe\">\n",
       "  <thead>\n",
       "    <tr style=\"text-align: right;\">\n",
       "      <th></th>\n",
       "      <th>Date</th>\n",
       "      <th>USDCNH:即期汇率_预测</th>\n",
       "    </tr>\n",
       "  </thead>\n",
       "  <tbody>\n",
       "    <tr>\n",
       "      <th>19</th>\n",
       "      <td>2025-10-27</td>\n",
       "      <td>7.123</td>\n",
       "    </tr>\n",
       "  </tbody>\n",
       "</table>\n",
       "</div>"
      ],
      "text/plain": [
       "         Date  USDCNH:即期汇率_预测\n",
       "19 2025-10-27           7.123"
      ]
     },
     "execution_count": 4,
     "metadata": {},
     "output_type": "execute_result"
    }
   ],
   "source": [
    "# 尝试多个可能的文件路径\n",
    "file_paths1 = [\n",
    "    os.path.expanduser(\"~/Desktop/X-BASE/宏观经济/eta/USDCNY即期汇率_合并数据.xlsx\"),\n",
    "    os.path.expanduser(\"~/Desktop/弘则研究/Horizon-Insights/X-base/宏观经济/eta/USDCNY即期汇率_合并数据.xlsx\")\n",
    "]\n",
    "\n",
    "file_path1 = None\n",
    "for path in file_paths1:\n",
    "    if os.path.isfile(path):  # 确保是文件而不是目录\n",
    "        file_path1 = path\n",
    "        break\n",
    "\n",
    "if file_path1 is None:\n",
    "    raise FileNotFoundError(\"未找到数据文件\")\n",
    "\n",
    "try:\n",
    "    sheet2 = pd.ExcelFile(file_path1).parse('Sheet1')\n",
    "    sheet2['Date'] = pd.to_datetime(sheet2['Date'], errors='coerce')\n",
    "    sheet2 = sheet2.drop(columns=['真实值'])\n",
    "    sheet2 = sheet2.dropna()\n",
    "    sheet2 = sheet2.sort_values('Date', ascending=True)\n",
    "    rmb_usd_forecast = sheet2.copy()\n",
    "except Exception as e:\n",
    "    raise Exception(f\"读取文件时出错: {str(e)}\")\n",
    "rmb_usd_forecast =  rmb_usd_forecast.rename(columns={'预测值':'USDCNH:即期汇率_预测'})\n",
    "rmb_usd_forecast.head(1)"
   ]
  },
  {
   "cell_type": "code",
   "execution_count": 5,
   "metadata": {
    "execution": {
     "iopub.execute_input": "2025-10-25T02:43:35.482230Z",
     "iopub.status.busy": "2025-10-25T02:43:35.482230Z",
     "iopub.status.idle": "2025-10-25T02:43:35.501999Z",
     "shell.execute_reply": "2025-10-25T02:43:35.501999Z"
    }
   },
   "outputs": [
    {
     "data": {
      "text/html": [
       "<div>\n",
       "<style scoped>\n",
       "    .dataframe tbody tr th:only-of-type {\n",
       "        vertical-align: middle;\n",
       "    }\n",
       "\n",
       "    .dataframe tbody tr th {\n",
       "        vertical-align: top;\n",
       "    }\n",
       "\n",
       "    .dataframe thead th {\n",
       "        text-align: right;\n",
       "    }\n",
       "</style>\n",
       "<table border=\"1\" class=\"dataframe\">\n",
       "  <thead>\n",
       "    <tr style=\"text-align: right;\">\n",
       "      <th></th>\n",
       "      <th>Date</th>\n",
       "      <th>山东汽油裂解差_预测</th>\n",
       "    </tr>\n",
       "  </thead>\n",
       "  <tbody>\n",
       "    <tr>\n",
       "      <th>19</th>\n",
       "      <td>2025-10-27</td>\n",
       "      <td>413.9</td>\n",
       "    </tr>\n",
       "  </tbody>\n",
       "</table>\n",
       "</div>"
      ],
      "text/plain": [
       "         Date  山东汽油裂解差_预测\n",
       "19 2025-10-27       413.9"
      ]
     },
     "execution_count": 5,
     "metadata": {},
     "output_type": "execute_result"
    }
   ],
   "source": [
    "gasoline_forecast = pd.ExcelFile('eta/汽油裂解差(多因子)_合并数据.xlsx').parse('Sheet1')\n",
    "gasoline_forecast['Date'] = pd.to_datetime(gasoline_forecast['Date'], errors='coerce')\n",
    "gasoline_forecast = gasoline_forecast.sort_values('Date', ascending=True)\n",
    "gasoline_forecast = gasoline_forecast.drop(columns=['真实值'])\n",
    "gasoline_forecast = gasoline_forecast.dropna()\n",
    "gasoline_forecast = gasoline_forecast.rename(columns={'预测值':'山东汽油裂解差_预测'})\n",
    "gasoline_forecast.head(1)"
   ]
  },
  {
   "cell_type": "code",
   "execution_count": 6,
   "metadata": {
    "execution": {
     "iopub.execute_input": "2025-10-25T02:43:35.502508Z",
     "iopub.status.busy": "2025-10-25T02:43:35.502508Z",
     "iopub.status.idle": "2025-10-25T02:43:35.522512Z",
     "shell.execute_reply": "2025-10-25T02:43:35.522512Z"
    }
   },
   "outputs": [
    {
     "data": {
      "text/html": [
       "<div>\n",
       "<style scoped>\n",
       "    .dataframe tbody tr th:only-of-type {\n",
       "        vertical-align: middle;\n",
       "    }\n",
       "\n",
       "    .dataframe tbody tr th {\n",
       "        vertical-align: top;\n",
       "    }\n",
       "\n",
       "    .dataframe thead th {\n",
       "        text-align: right;\n",
       "    }\n",
       "</style>\n",
       "<table border=\"1\" class=\"dataframe\">\n",
       "  <thead>\n",
       "    <tr style=\"text-align: right;\">\n",
       "      <th></th>\n",
       "      <th>Date</th>\n",
       "      <th>山东柴油裂解差_预测</th>\n",
       "    </tr>\n",
       "  </thead>\n",
       "  <tbody>\n",
       "    <tr>\n",
       "      <th>19</th>\n",
       "      <td>2025-10-27</td>\n",
       "      <td>479.3</td>\n",
       "    </tr>\n",
       "  </tbody>\n",
       "</table>\n",
       "</div>"
      ],
      "text/plain": [
       "         Date  山东柴油裂解差_预测\n",
       "19 2025-10-27       479.3"
      ]
     },
     "execution_count": 6,
     "metadata": {},
     "output_type": "execute_result"
    }
   ],
   "source": [
    "diesel_forecast = pd.ExcelFile('eta/山东柴油裂解差(多因子)_合并数据.xlsx').parse('Sheet1')\n",
    "diesel_forecast['Date'] = pd.to_datetime(diesel_forecast['Date'], errors='coerce')\n",
    "diesel_forecast = diesel_forecast.sort_values('Date', ascending=True)\n",
    "diesel_forecast = diesel_forecast.drop(columns=['真实值'])\n",
    "diesel_forecast = diesel_forecast.dropna()\n",
    "diesel_forecast = diesel_forecast.rename(columns={'预测值':'山东柴油裂解差_预测'})\n",
    "diesel_forecast.head(1)"
   ]
  },
  {
   "cell_type": "code",
   "execution_count": 7,
   "metadata": {
    "execution": {
     "iopub.execute_input": "2025-10-25T02:43:35.523520Z",
     "iopub.status.busy": "2025-10-25T02:43:35.523520Z",
     "iopub.status.idle": "2025-10-25T02:43:35.544092Z",
     "shell.execute_reply": "2025-10-25T02:43:35.544092Z"
    }
   },
   "outputs": [
    {
     "data": {
      "text/html": [
       "<div>\n",
       "<style scoped>\n",
       "    .dataframe tbody tr th:only-of-type {\n",
       "        vertical-align: middle;\n",
       "    }\n",
       "\n",
       "    .dataframe tbody tr th {\n",
       "        vertical-align: top;\n",
       "    }\n",
       "\n",
       "    .dataframe thead th {\n",
       "        text-align: right;\n",
       "    }\n",
       "</style>\n",
       "<table border=\"1\" class=\"dataframe\">\n",
       "  <thead>\n",
       "    <tr style=\"text-align: right;\">\n",
       "      <th></th>\n",
       "      <th>Date</th>\n",
       "      <th>新加坡航空煤油裂解价差_预测</th>\n",
       "    </tr>\n",
       "  </thead>\n",
       "  <tbody>\n",
       "    <tr>\n",
       "      <th>0</th>\n",
       "      <td>2025-11-21</td>\n",
       "      <td>19.35</td>\n",
       "    </tr>\n",
       "  </tbody>\n",
       "</table>\n",
       "</div>"
      ],
      "text/plain": [
       "        Date  新加坡航空煤油裂解价差_预测\n",
       "0 2025-11-21           19.35"
      ]
     },
     "execution_count": 7,
     "metadata": {},
     "output_type": "execute_result"
    }
   ],
   "source": [
    "kerosene_diesel_forecast = pd.ExcelFile('eta/新加坡航空煤油裂解价差_合并数据.xlsx').parse('Sheet1')\n",
    "kerosene_diesel_forecast['Date'] = pd.to_datetime(kerosene_diesel_forecast['Date'], errors='coerce')\n",
    "kerosene_diesel_forecast = kerosene_diesel_forecast.sort_values('Date', ascending=True)\n",
    "kerosene_diesel_forecast = kerosene_diesel_forecast.drop(columns=['新加坡航空煤油裂解价差'])\n",
    "kerosene_diesel_forecast = kerosene_diesel_forecast.dropna()\n",
    "kerosene_diesel_forecast.tail(1)"
   ]
  },
  {
   "cell_type": "code",
   "execution_count": 8,
   "metadata": {
    "execution": {
     "iopub.execute_input": "2025-10-25T02:43:35.544598Z",
     "iopub.status.busy": "2025-10-25T02:43:35.544598Z",
     "iopub.status.idle": "2025-10-25T02:43:35.552607Z",
     "shell.execute_reply": "2025-10-25T02:43:35.552607Z"
    }
   },
   "outputs": [
    {
     "data": {
      "text/html": [
       "<div>\n",
       "<style scoped>\n",
       "    .dataframe tbody tr th:only-of-type {\n",
       "        vertical-align: middle;\n",
       "    }\n",
       "\n",
       "    .dataframe tbody tr th {\n",
       "        vertical-align: top;\n",
       "    }\n",
       "\n",
       "    .dataframe thead th {\n",
       "        text-align: right;\n",
       "    }\n",
       "</style>\n",
       "<table border=\"1\" class=\"dataframe\">\n",
       "  <thead>\n",
       "    <tr style=\"text-align: right;\">\n",
       "      <th></th>\n",
       "      <th>Date</th>\n",
       "      <th>Brent原油期货价格预测</th>\n",
       "      <th>USDCNH:即期汇率_预测</th>\n",
       "      <th>山东汽油裂解差_预测</th>\n",
       "      <th>山东柴油裂解差_预测</th>\n",
       "      <th>新加坡航空煤油裂解价差_预测</th>\n",
       "    </tr>\n",
       "  </thead>\n",
       "  <tbody>\n",
       "    <tr>\n",
       "      <th>19</th>\n",
       "      <td>2025-11-21</td>\n",
       "      <td>53.96</td>\n",
       "      <td>7.1217</td>\n",
       "      <td>624.3</td>\n",
       "      <td>551.9</td>\n",
       "      <td>19.35</td>\n",
       "    </tr>\n",
       "  </tbody>\n",
       "</table>\n",
       "</div>"
      ],
      "text/plain": [
       "         Date  Brent原油期货价格预测  USDCNH:即期汇率_预测  山东汽油裂解差_预测  山东柴油裂解差_预测  \\\n",
       "19 2025-11-21          53.96          7.1217       624.3       551.9   \n",
       "\n",
       "    新加坡航空煤油裂解价差_预测  \n",
       "19           19.35  "
      ]
     },
     "execution_count": 8,
     "metadata": {},
     "output_type": "execute_result"
    }
   ],
   "source": [
    "# 统一日期格式\n",
    "brent_forecast['Date'] = pd.to_datetime(brent_forecast['Date'])\n",
    "rmb_usd_forecast['Date'] = pd.to_datetime(rmb_usd_forecast['Date']) \n",
    "gasoline_forecast['Date'] = pd.to_datetime(gasoline_forecast['Date'])\n",
    "diesel_forecast['Date'] = pd.to_datetime(diesel_forecast['Date'])\n",
    "kerosene_diesel_forecast['Date'] = pd.to_datetime(kerosene_diesel_forecast['Date'])\n",
    "\n",
    "\n",
    "# 合并所有预测数据,以日期为基准\n",
    "merged_forecast = pd.merge(brent_forecast, rmb_usd_forecast, on='Date', how='inner')\n",
    "merged_forecast = pd.merge(merged_forecast, gasoline_forecast, on='Date', how='inner')\n",
    "merged_forecast = pd.merge(merged_forecast, diesel_forecast, on='Date', how='inner')\n",
    "merged_forecast = pd.merge(merged_forecast, kerosene_diesel_forecast, on='Date', how='inner')\n",
    "\n",
    "# 按日期排序\n",
    "merged_forecast = merged_forecast.sort_values('Date')\n",
    "\n",
    "# 显示合并后的数据\n",
    "merged_forecast.tail(1)"
   ]
  },
  {
   "cell_type": "code",
   "execution_count": 9,
   "metadata": {
    "execution": {
     "iopub.execute_input": "2025-10-25T02:43:35.553115Z",
     "iopub.status.busy": "2025-10-25T02:43:35.553115Z",
     "iopub.status.idle": "2025-10-25T02:43:35.558731Z",
     "shell.execute_reply": "2025-10-25T02:43:35.558731Z"
    }
   },
   "outputs": [
    {
     "data": {
      "text/html": [
       "<div>\n",
       "<style scoped>\n",
       "    .dataframe tbody tr th:only-of-type {\n",
       "        vertical-align: middle;\n",
       "    }\n",
       "\n",
       "    .dataframe tbody tr th {\n",
       "        vertical-align: top;\n",
       "    }\n",
       "\n",
       "    .dataframe thead th {\n",
       "        text-align: right;\n",
       "    }\n",
       "</style>\n",
       "<table border=\"1\" class=\"dataframe\">\n",
       "  <thead>\n",
       "    <tr style=\"text-align: right;\">\n",
       "      <th></th>\n",
       "      <th>Date</th>\n",
       "      <th>Brent原油期货价格预测</th>\n",
       "      <th>USDCNH:即期汇率_预测</th>\n",
       "      <th>山东汽油裂解差_预测</th>\n",
       "      <th>山东柴油裂解差_预测</th>\n",
       "      <th>新加坡航空煤油裂解价差_预测</th>\n",
       "      <th>汽油价格预测</th>\n",
       "      <th>柴油价格预测</th>\n",
       "      <th>航空煤油新加坡FOB价格_预测</th>\n",
       "    </tr>\n",
       "  </thead>\n",
       "  <tbody>\n",
       "    <tr>\n",
       "      <th>19</th>\n",
       "      <td>2025-11-21</td>\n",
       "      <td>53.96</td>\n",
       "      <td>7.1217</td>\n",
       "      <td>624.3</td>\n",
       "      <td>551.9</td>\n",
       "      <td>19.35</td>\n",
       "      <td>3441.123212</td>\n",
       "      <td>3368.723212</td>\n",
       "      <td>73.31</td>\n",
       "    </tr>\n",
       "  </tbody>\n",
       "</table>\n",
       "</div>"
      ],
      "text/plain": [
       "         Date  Brent原油期货价格预测  USDCNH:即期汇率_预测  山东汽油裂解差_预测  山东柴油裂解差_预测  \\\n",
       "19 2025-11-21          53.96          7.1217       624.3       551.9   \n",
       "\n",
       "    新加坡航空煤油裂解价差_预测       汽油价格预测       柴油价格预测  航空煤油新加坡FOB价格_预测  \n",
       "19           19.35  3441.123212  3368.723212            73.31  "
      ]
     },
     "execution_count": 9,
     "metadata": {},
     "output_type": "execute_result"
    }
   ],
   "source": [
    "# 计算汽油价格预测\n",
    "merged_forecast['汽油价格预测'] = merged_forecast['山东汽油裂解差_预测'] + merged_forecast['Brent原油期货价格预测'] * merged_forecast['USDCNH:即期汇率_预测'] * 7.33\n",
    "merged_forecast['柴油价格预测'] = merged_forecast['山东柴油裂解差_预测'] + merged_forecast['Brent原油期货价格预测'] * merged_forecast['USDCNH:即期汇率_预测'] * 7.33\n",
    "merged_forecast['航空煤油新加坡FOB价格_预测'] = merged_forecast['新加坡航空煤油裂解价差_预测'] + merged_forecast['Brent原油期货价格预测']\n",
    "\n",
    "merged_forecast.tail(1)"
   ]
  },
  {
   "cell_type": "code",
   "execution_count": 10,
   "metadata": {
    "execution": {
     "iopub.execute_input": "2025-10-25T02:43:35.559237Z",
     "iopub.status.busy": "2025-10-25T02:43:35.559237Z",
     "iopub.status.idle": "2025-10-25T02:43:35.562282Z",
     "shell.execute_reply": "2025-10-25T02:43:35.562282Z"
    }
   },
   "outputs": [],
   "source": [
    "def solve_A_汽油(c, B):\n",
    "    # 计算常数部分\n",
    "    right_side = 2109.76 * 1.12 + c\n",
    "    # 计算分母\n",
    "    denominator = (1 - 0.12 * B) / (1 + B)\n",
    "    # 计算 A 的值\n",
    "    A = right_side / denominator\n",
    "    return A\n",
    "\n",
    "def solve_A_柴油(c, B):\n",
    "    # 计算右侧常数部分\n",
    "    right_side = 1411.2 * 1.12 + c\n",
    "    # 计算分母\n",
    "    denominator = (1 - 0.12 * B) / (1 + B)\n",
    "    # 计算 A 的值\n",
    "    A = right_side / denominator\n",
    "    return A"
   ]
  },
  {
   "cell_type": "code",
   "execution_count": 11,
   "metadata": {
    "execution": {
     "iopub.execute_input": "2025-10-25T02:43:35.563291Z",
     "iopub.status.busy": "2025-10-25T02:43:35.563291Z",
     "iopub.status.idle": "2025-10-25T02:43:35.568450Z",
     "shell.execute_reply": "2025-10-25T02:43:35.568450Z"
    }
   },
   "outputs": [
    {
     "data": {
      "text/html": [
       "<div>\n",
       "<style scoped>\n",
       "    .dataframe tbody tr th:only-of-type {\n",
       "        vertical-align: middle;\n",
       "    }\n",
       "\n",
       "    .dataframe tbody tr th {\n",
       "        vertical-align: top;\n",
       "    }\n",
       "\n",
       "    .dataframe thead th {\n",
       "        text-align: right;\n",
       "    }\n",
       "</style>\n",
       "<table border=\"1\" class=\"dataframe\">\n",
       "  <thead>\n",
       "    <tr style=\"text-align: right;\">\n",
       "      <th></th>\n",
       "      <th>Date</th>\n",
       "      <th>Brent原油期货价格预测</th>\n",
       "      <th>USDCNH:即期汇率_预测</th>\n",
       "      <th>山东汽油裂解差_预测</th>\n",
       "      <th>山东柴油裂解差_预测</th>\n",
       "      <th>新加坡航空煤油裂解价差_预测</th>\n",
       "      <th>汽油价格预测</th>\n",
       "      <th>柴油价格预测</th>\n",
       "      <th>航空煤油新加坡FOB价格_预测</th>\n",
       "      <th>汽油价格预测_市价</th>\n",
       "      <th>柴油价格预测_市价</th>\n",
       "    </tr>\n",
       "  </thead>\n",
       "  <tbody>\n",
       "    <tr>\n",
       "      <th>19</th>\n",
       "      <td>2025-11-21</td>\n",
       "      <td>53.96</td>\n",
       "      <td>7.1217</td>\n",
       "      <td>624.3</td>\n",
       "      <td>551.9</td>\n",
       "      <td>19.35</td>\n",
       "      <td>3441.123212</td>\n",
       "      <td>3368.723212</td>\n",
       "      <td>73.31</td>\n",
       "      <td>6662.516746</td>\n",
       "      <td>5681.300233</td>\n",
       "    </tr>\n",
       "  </tbody>\n",
       "</table>\n",
       "</div>"
      ],
      "text/plain": [
       "         Date  Brent原油期货价格预测  USDCNH:即期汇率_预测  山东汽油裂解差_预测  山东柴油裂解差_预测  \\\n",
       "19 2025-11-21          53.96          7.1217       624.3       551.9   \n",
       "\n",
       "    新加坡航空煤油裂解价差_预测       汽油价格预测       柴油价格预测  航空煤油新加坡FOB价格_预测    汽油价格预测_市价  \\\n",
       "19           19.35  3441.123212  3368.723212            73.31  6662.516746   \n",
       "\n",
       "      柴油价格预测_市价  \n",
       "19  5681.300233  "
      ]
     },
     "execution_count": 11,
     "metadata": {},
     "output_type": "execute_result"
    }
   ],
   "source": [
    "# 计算 市价\n",
    "merged_forecast['汽油价格预测_市价'] = merged_forecast['汽油价格预测'].apply(lambda x: solve_A_汽油(x, 0.13))\n",
    "merged_forecast['柴油价格预测_市价'] = merged_forecast['柴油价格预测'].apply(lambda x: solve_A_柴油(x, 0.13))\n",
    "merged_forecast.tail(1)"
   ]
  },
  {
   "cell_type": "code",
   "execution_count": 12,
   "metadata": {
    "execution": {
     "iopub.execute_input": "2025-10-25T02:43:35.569464Z",
     "iopub.status.busy": "2025-10-25T02:43:35.569464Z",
     "iopub.status.idle": "2025-10-25T02:43:35.697235Z",
     "shell.execute_reply": "2025-10-25T02:43:35.697235Z"
    }
   },
   "outputs": [
    {
     "data": {
      "text/html": [
       "<div>\n",
       "<style scoped>\n",
       "    .dataframe tbody tr th:only-of-type {\n",
       "        vertical-align: middle;\n",
       "    }\n",
       "\n",
       "    .dataframe tbody tr th {\n",
       "        vertical-align: top;\n",
       "    }\n",
       "\n",
       "    .dataframe thead th {\n",
       "        text-align: right;\n",
       "    }\n",
       "</style>\n",
       "<table border=\"1\" class=\"dataframe\">\n",
       "  <thead>\n",
       "    <tr style=\"text-align: right;\">\n",
       "      <th></th>\n",
       "      <th>Date</th>\n",
       "      <th>Brent原油期货连1合约价格/路透</th>\n",
       "      <th>山东92#汽油净价</th>\n",
       "      <th>山东0#柴油净价</th>\n",
       "      <th>航空煤油新加坡FOB价格</th>\n",
       "      <th>柴油：国六：0#：市场价：山东（日）</th>\n",
       "      <th>汽油：国六：92#：市场价：山东（日）</th>\n",
       "    </tr>\n",
       "  </thead>\n",
       "  <tbody>\n",
       "    <tr>\n",
       "      <th>4575</th>\n",
       "      <td>2025-10-24</td>\n",
       "      <td>65.94</td>\n",
       "      <td>3892.8001</td>\n",
       "      <td>3958.2305</td>\n",
       "      <td>NaN</td>\n",
       "      <td>6358.0</td>\n",
       "      <td>7181.0</td>\n",
       "    </tr>\n",
       "  </tbody>\n",
       "</table>\n",
       "</div>"
      ],
      "text/plain": [
       "           Date  Brent原油期货连1合约价格/路透  山东92#汽油净价   山东0#柴油净价  航空煤油新加坡FOB价格  \\\n",
       "4575 2025-10-24               65.94  3892.8001  3958.2305           NaN   \n",
       "\n",
       "      柴油：国六：0#：市场价：山东（日）  汽油：国六：92#：市场价：山东（日）  \n",
       "4575              6358.0               7181.0  "
      ]
     },
     "execution_count": 12,
     "metadata": {},
     "output_type": "execute_result"
    }
   ],
   "source": [
    "# 读取历史数据\n",
    "historical_data = pd.read_excel('data_input_auto/Brent-汽油-柴油-新加坡煤油.xlsx').rename(columns={'DataTime': 'Date'})\n",
    "historical_data = historical_data[historical_data['Date'] >= '2023-01-01']\n",
    "historical_data = historical_data.rename(columns={'ICE Europe Brent Crude M1':'布伦特原油现货价格'})\n",
    "# 显示历史数据\n",
    "historical_data.tail(1)"
   ]
  },
  {
   "cell_type": "code",
   "execution_count": 13,
   "metadata": {
    "execution": {
     "iopub.execute_input": "2025-10-25T02:43:35.698854Z",
     "iopub.status.busy": "2025-10-25T02:43:35.697743Z",
     "iopub.status.idle": "2025-10-25T02:43:35.704187Z",
     "shell.execute_reply": "2025-10-25T02:43:35.704187Z"
    }
   },
   "outputs": [
    {
     "data": {
      "text/html": [
       "<div>\n",
       "<style scoped>\n",
       "    .dataframe tbody tr th:only-of-type {\n",
       "        vertical-align: middle;\n",
       "    }\n",
       "\n",
       "    .dataframe tbody tr th {\n",
       "        vertical-align: top;\n",
       "    }\n",
       "\n",
       "    .dataframe thead th {\n",
       "        text-align: right;\n",
       "    }\n",
       "</style>\n",
       "<table border=\"1\" class=\"dataframe\">\n",
       "  <thead>\n",
       "    <tr style=\"text-align: right;\">\n",
       "      <th></th>\n",
       "      <th>Date</th>\n",
       "      <th>Brent原油期货连1合约价格/路透</th>\n",
       "      <th>山东92#汽油净价</th>\n",
       "      <th>山东0#柴油净价</th>\n",
       "      <th>航空煤油新加坡FOB价格</th>\n",
       "      <th>柴油：国六：0#：市场价：山东（日）</th>\n",
       "      <th>汽油：国六：92#：市场价：山东（日）</th>\n",
       "      <th>汽油价格_市价</th>\n",
       "      <th>柴油价格_市价</th>\n",
       "    </tr>\n",
       "  </thead>\n",
       "  <tbody>\n",
       "    <tr>\n",
       "      <th>4575</th>\n",
       "      <td>2025-10-24</td>\n",
       "      <td>65.94</td>\n",
       "      <td>3892.8001</td>\n",
       "      <td>3958.2305</td>\n",
       "      <td>NaN</td>\n",
       "      <td>6358.0</td>\n",
       "      <td>7181.0</td>\n",
       "      <td>7180.999969</td>\n",
       "      <td>6357.999985</td>\n",
       "    </tr>\n",
       "  </tbody>\n",
       "</table>\n",
       "</div>"
      ],
      "text/plain": [
       "           Date  Brent原油期货连1合约价格/路透  山东92#汽油净价   山东0#柴油净价  航空煤油新加坡FOB价格  \\\n",
       "4575 2025-10-24               65.94  3892.8001  3958.2305           NaN   \n",
       "\n",
       "      柴油：国六：0#：市场价：山东（日）  汽油：国六：92#：市场价：山东（日）      汽油价格_市价      柴油价格_市价  \n",
       "4575              6358.0               7181.0  7180.999969  6357.999985  "
      ]
     },
     "execution_count": 13,
     "metadata": {},
     "output_type": "execute_result"
    }
   ],
   "source": [
    "# 将历史数据\n",
    "historical_monthly = historical_data.copy()\n",
    "historical_monthly['Date'] = pd.to_datetime(historical_monthly['Date'])\n",
    "# 净价 到 市价\n",
    "historical_monthly['汽油价格_市价'] = historical_monthly['山东92#汽油净价'].apply(lambda x: solve_A_汽油(x, 0.13))\n",
    "historical_monthly['柴油价格_市价'] = historical_monthly['山东0#柴油净价'].apply(lambda x: solve_A_柴油(x, 0.13))\n",
    "historical_monthly.tail(1)"
   ]
  },
  {
   "cell_type": "code",
   "execution_count": 14,
   "metadata": {
    "execution": {
     "iopub.execute_input": "2025-10-25T02:43:35.705198Z",
     "iopub.status.busy": "2025-10-25T02:43:35.705198Z",
     "iopub.status.idle": "2025-10-25T02:43:35.754159Z",
     "shell.execute_reply": "2025-10-25T02:43:35.754159Z"
    }
   },
   "outputs": [
    {
     "data": {
      "text/html": [
       "<div>\n",
       "<style scoped>\n",
       "    .dataframe tbody tr th:only-of-type {\n",
       "        vertical-align: middle;\n",
       "    }\n",
       "\n",
       "    .dataframe tbody tr th {\n",
       "        vertical-align: top;\n",
       "    }\n",
       "\n",
       "    .dataframe thead th {\n",
       "        text-align: right;\n",
       "    }\n",
       "</style>\n",
       "<table border=\"1\" class=\"dataframe\">\n",
       "  <thead>\n",
       "    <tr style=\"text-align: right;\">\n",
       "      <th></th>\n",
       "      <th>Date</th>\n",
       "      <th>汽油价格_市价</th>\n",
       "      <th>汽油价格预测_市价</th>\n",
       "      <th>柴油价格_市价</th>\n",
       "      <th>柴油价格预测_市价</th>\n",
       "      <th>航空煤油新加坡FOB价格</th>\n",
       "      <th>航空煤油新加坡FOB价格_预测</th>\n",
       "    </tr>\n",
       "  </thead>\n",
       "  <tbody>\n",
       "    <tr>\n",
       "      <th>774</th>\n",
       "      <td>2025/11/21</td>\n",
       "      <td>NaN</td>\n",
       "      <td>6662.516746</td>\n",
       "      <td>NaN</td>\n",
       "      <td>5681.300233</td>\n",
       "      <td>NaN</td>\n",
       "      <td>73.31</td>\n",
       "    </tr>\n",
       "    <tr>\n",
       "      <th>773</th>\n",
       "      <td>2025/11/20</td>\n",
       "      <td>NaN</td>\n",
       "      <td>6657.206782</td>\n",
       "      <td>NaN</td>\n",
       "      <td>5689.420784</td>\n",
       "      <td>NaN</td>\n",
       "      <td>73.39</td>\n",
       "    </tr>\n",
       "  </tbody>\n",
       "</table>\n",
       "</div>"
      ],
      "text/plain": [
       "           Date  汽油价格_市价    汽油价格预测_市价  柴油价格_市价    柴油价格预测_市价  航空煤油新加坡FOB价格  \\\n",
       "774  2025/11/21      NaN  6662.516746      NaN  5681.300233           NaN   \n",
       "773  2025/11/20      NaN  6657.206782      NaN  5689.420784           NaN   \n",
       "\n",
       "     航空煤油新加坡FOB价格_预测  \n",
       "774            73.31  \n",
       "773            73.39  "
      ]
     },
     "execution_count": 14,
     "metadata": {},
     "output_type": "execute_result"
    }
   ],
   "source": [
    "# 将 historical_monthly 的 Date 列转换为 datetime 类型\n",
    "historical_monthly['Date'] = pd.to_datetime(historical_monthly['Date'])\n",
    "\n",
    "# 将 merged_forecast 的 Date 列转换为 datetime 类型\n",
    "merged_forecast['Date'] = pd.to_datetime(merged_forecast['Date'])\n",
    "\n",
    "# 合并数据集并选择指定列\n",
    "combined_data = pd.merge(\n",
    "    merged_forecast[['Date', '汽油价格预测_市价', '柴油价格预测_市价', '航空煤油新加坡FOB价格_预测']],\n",
    "    historical_monthly[['Date', '汽油价格_市价', '柴油价格_市价', '航空煤油新加坡FOB价格']],\n",
    "    on='Date',\n",
    "    how='outer'\n",
    ")[['Date', '汽油价格_市价', '汽油价格预测_市价', '柴油价格_市价', '柴油价格预测_市价', \n",
    "   '航空煤油新加坡FOB价格', '航空煤油新加坡FOB价格_预测']]\n",
    "\n",
    "# 按日期降序排序\n",
    "combined_data = combined_data.sort_values(by='Date', ascending=False)\n",
    "combined_data_1 = combined_data.copy()\n",
    "# 将日期格式转换为年/月/日格式  \n",
    "combined_data_1['Date'] = combined_data_1['Date'].dt.strftime('%Y/%m/%d')\n",
    "# 保存合并后的数据到 Excel 文件\n",
    "combined_data_1.to_excel('eta/2024年成油品价格_日度数据_多因子.xlsx', index=False, float_format='%.0f')\n",
    "# 显示合并后的数据的前几行\n",
    "combined_data_1.head(2)"
   ]
  },
  {
   "cell_type": "code",
   "execution_count": 15,
   "metadata": {
    "execution": {
     "iopub.execute_input": "2025-10-25T02:43:35.755171Z",
     "iopub.status.busy": "2025-10-25T02:43:35.755171Z",
     "iopub.status.idle": "2025-10-25T02:43:35.770269Z",
     "shell.execute_reply": "2025-10-25T02:43:35.770269Z"
    }
   },
   "outputs": [
    {
     "data": {
      "text/html": [
       "<div>\n",
       "<style scoped>\n",
       "    .dataframe tbody tr th:only-of-type {\n",
       "        vertical-align: middle;\n",
       "    }\n",
       "\n",
       "    .dataframe tbody tr th {\n",
       "        vertical-align: top;\n",
       "    }\n",
       "\n",
       "    .dataframe thead th {\n",
       "        text-align: right;\n",
       "    }\n",
       "</style>\n",
       "<table border=\"1\" class=\"dataframe\">\n",
       "  <thead>\n",
       "    <tr style=\"text-align: right;\">\n",
       "      <th></th>\n",
       "      <th>Date</th>\n",
       "      <th>汽油价格_市价</th>\n",
       "      <th>汽油价格预测_市价</th>\n",
       "      <th>柴油价格_市价</th>\n",
       "      <th>柴油价格预测_市价</th>\n",
       "      <th>航空煤油新加坡FOB价格</th>\n",
       "      <th>航空煤油新加坡FOB价格_预测</th>\n",
       "    </tr>\n",
       "  </thead>\n",
       "  <tbody>\n",
       "    <tr>\n",
       "      <th>34</th>\n",
       "      <td>2025/11/30</td>\n",
       "      <td>NaN</td>\n",
       "      <td>6924.637178</td>\n",
       "      <td>NaN</td>\n",
       "      <td>5920.378338</td>\n",
       "      <td>NaN</td>\n",
       "      <td>76.682667</td>\n",
       "    </tr>\n",
       "    <tr>\n",
       "      <th>33</th>\n",
       "      <td>2025/10/31</td>\n",
       "      <td>7297.384609</td>\n",
       "      <td>7175.361534</td>\n",
       "      <td>6313.846161</td>\n",
       "      <td>6297.364850</td>\n",
       "      <td>86.010625</td>\n",
       "      <td>84.040000</td>\n",
       "    </tr>\n",
       "  </tbody>\n",
       "</table>\n",
       "</div>"
      ],
      "text/plain": [
       "          Date      汽油价格_市价    汽油价格预测_市价      柴油价格_市价    柴油价格预测_市价  \\\n",
       "34  2025/11/30          NaN  6924.637178          NaN  5920.378338   \n",
       "33  2025/10/31  7297.384609  7175.361534  6313.846161  6297.364850   \n",
       "\n",
       "    航空煤油新加坡FOB价格  航空煤油新加坡FOB价格_预测  \n",
       "34           NaN        76.682667  \n",
       "33     86.010625        84.040000  "
      ]
     },
     "execution_count": 15,
     "metadata": {},
     "output_type": "execute_result"
    }
   ],
   "source": [
    "combined_data_1_monthly = combined_data_1.copy()\n",
    "\n",
    "# 将Date列转换为datetime格式\n",
    "combined_data_1_monthly['Date'] = pd.to_datetime(combined_data_1_monthly['Date'])\n",
    "combined_data_1_monthly = combined_data_1_monthly.sort_values(by='Date', ascending=True)\n",
    "combined_data_1_monthly = combined_data_1_monthly.set_index('Date')\n",
    "combined_data_1_monthly = combined_data_1_monthly.resample('ME').mean()\n",
    "combined_data_1_monthly.reset_index(inplace=True)\n",
    "combined_data_1_monthly = combined_data_1_monthly.sort_values('Date', ascending=False)\n",
    "combined_data_1_monthly['Date'] = combined_data_1_monthly['Date'].dt.strftime('%Y/%m/%d')\n",
    "combined_data_1_monthly.to_excel('eta/2024年成油品价格_月度数据_多因子.xlsx', index=False, float_format='%.0f')\n",
    "\n",
    "# 显示合并后的数据的前几行\n",
    "combined_data_1_monthly.head(2)"
   ]
  },
  {
   "cell_type": "code",
   "execution_count": 16,
   "metadata": {
    "execution": {
     "iopub.execute_input": "2025-10-25T02:43:35.770775Z",
     "iopub.status.busy": "2025-10-25T02:43:35.770775Z",
     "iopub.status.idle": "2025-10-25T02:43:35.774067Z",
     "shell.execute_reply": "2025-10-25T02:43:35.774067Z"
    }
   },
   "outputs": [],
   "source": [
    "split_data = combined_data_1.copy()\n",
    "# 创建汽油价格对比数据框\n",
    "df_gasoline = split_data[['Date', '汽油价格_市价', '汽油价格预测_市价']].copy()\n",
    "# 创建柴油价格对比数据框 \n",
    "df_diesel = split_data[['Date', '柴油价格_市价', '柴油价格预测_市价']].copy()\n",
    "# 创建煤油价格对比数据框\n",
    "df_kerosene = split_data[['Date','航空煤油新加坡FOB价格', '航空煤油新加坡FOB价格_预测']].copy()"
   ]
  },
  {
   "cell_type": "code",
   "execution_count": 17,
   "metadata": {
    "execution": {
     "iopub.execute_input": "2025-10-25T02:43:35.775076Z",
     "iopub.status.busy": "2025-10-25T02:43:35.775076Z",
     "iopub.status.idle": "2025-10-25T02:43:35.777597Z",
     "shell.execute_reply": "2025-10-25T02:43:35.777597Z"
    }
   },
   "outputs": [],
   "source": [
    "split_data_monthly = combined_data_1_monthly.copy()\n",
    "# 创建汽油价格对比数据框\n",
    "df_gasoline_monthly = split_data_monthly[['Date', '汽油价格_市价', '汽油价格预测_市价']].copy()\n",
    "# 创建柴油价格对比数据框 \n",
    "df_diesel_monthly = split_data_monthly[['Date', '柴油价格_市价', '柴油价格预测_市价']].copy()\n",
    "# 创建煤油价格对比数据框\n",
    "df_kerosene_monthly = split_data_monthly[['Date', '航空煤油新加坡FOB价格', '航空煤油新加坡FOB价格_预测']].copy()"
   ]
  },
  {
   "cell_type": "code",
   "execution_count": 18,
   "metadata": {
    "execution": {
     "iopub.execute_input": "2025-10-25T02:43:35.778102Z",
     "iopub.status.busy": "2025-10-25T02:43:35.778102Z",
     "iopub.status.idle": "2025-10-25T02:43:35.784218Z",
     "shell.execute_reply": "2025-10-25T02:43:35.784218Z"
    }
   },
   "outputs": [
    {
     "data": {
      "text/html": [
       "<div>\n",
       "<style scoped>\n",
       "    .dataframe tbody tr th:only-of-type {\n",
       "        vertical-align: middle;\n",
       "    }\n",
       "\n",
       "    .dataframe tbody tr th {\n",
       "        vertical-align: top;\n",
       "    }\n",
       "\n",
       "    .dataframe thead th {\n",
       "        text-align: right;\n",
       "    }\n",
       "</style>\n",
       "<table border=\"1\" class=\"dataframe\">\n",
       "  <thead>\n",
       "    <tr style=\"text-align: right;\">\n",
       "      <th></th>\n",
       "      <th>Date</th>\n",
       "      <th>Brent原油期货连1合约价格/路透</th>\n",
       "      <th>山东92#汽油净价</th>\n",
       "      <th>山东0#柴油净价</th>\n",
       "      <th>航空煤油新加坡FOB价格</th>\n",
       "      <th>柴油：国六：0#：市场价：山东（日）</th>\n",
       "      <th>汽油：国六：92#：市场价：山东（日）</th>\n",
       "    </tr>\n",
       "  </thead>\n",
       "  <tbody>\n",
       "    <tr>\n",
       "      <th>3821</th>\n",
       "      <td>2023-01-03</td>\n",
       "      <td>82.10</td>\n",
       "      <td>4338.8292</td>\n",
       "      <td>4668.2181</td>\n",
       "      <td>116.06</td>\n",
       "      <td>7173.0</td>\n",
       "      <td>7693.0</td>\n",
       "    </tr>\n",
       "    <tr>\n",
       "      <th>3822</th>\n",
       "      <td>2023-01-04</td>\n",
       "      <td>77.84</td>\n",
       "      <td>4344.0561</td>\n",
       "      <td>4665.6047</td>\n",
       "      <td>108.50</td>\n",
       "      <td>7170.0</td>\n",
       "      <td>7699.0</td>\n",
       "    </tr>\n",
       "    <tr>\n",
       "      <th>3823</th>\n",
       "      <td>2023-01-05</td>\n",
       "      <td>78.69</td>\n",
       "      <td>4294.4005</td>\n",
       "      <td>4620.3048</td>\n",
       "      <td>108.58</td>\n",
       "      <td>7118.0</td>\n",
       "      <td>7642.0</td>\n",
       "    </tr>\n",
       "    <tr>\n",
       "      <th>3824</th>\n",
       "      <td>2023-01-06</td>\n",
       "      <td>78.57</td>\n",
       "      <td>4297.0139</td>\n",
       "      <td>4607.2376</td>\n",
       "      <td>107.03</td>\n",
       "      <td>7103.0</td>\n",
       "      <td>7645.0</td>\n",
       "    </tr>\n",
       "    <tr>\n",
       "      <th>3825</th>\n",
       "      <td>2023-01-09</td>\n",
       "      <td>79.65</td>\n",
       "      <td>4671.6086</td>\n",
       "      <td>4717.0025</td>\n",
       "      <td>109.80</td>\n",
       "      <td>7229.0</td>\n",
       "      <td>8075.0</td>\n",
       "    </tr>\n",
       "    <tr>\n",
       "      <th>...</th>\n",
       "      <td>...</td>\n",
       "      <td>...</td>\n",
       "      <td>...</td>\n",
       "      <td>...</td>\n",
       "      <td>...</td>\n",
       "      <td>...</td>\n",
       "      <td>...</td>\n",
       "    </tr>\n",
       "    <tr>\n",
       "      <th>4571</th>\n",
       "      <td>2025-10-20</td>\n",
       "      <td>61.01</td>\n",
       "      <td>3913.7077</td>\n",
       "      <td>3854.5636</td>\n",
       "      <td>NaN</td>\n",
       "      <td>6239.0</td>\n",
       "      <td>7205.0</td>\n",
       "    </tr>\n",
       "    <tr>\n",
       "      <th>4572</th>\n",
       "      <td>2025-10-21</td>\n",
       "      <td>61.32</td>\n",
       "      <td>3881.4752</td>\n",
       "      <td>3844.1098</td>\n",
       "      <td>84.04</td>\n",
       "      <td>6227.0</td>\n",
       "      <td>7168.0</td>\n",
       "    </tr>\n",
       "    <tr>\n",
       "      <th>4573</th>\n",
       "      <td>2025-10-22</td>\n",
       "      <td>62.59</td>\n",
       "      <td>3854.4695</td>\n",
       "      <td>3862.4040</td>\n",
       "      <td>85.63</td>\n",
       "      <td>6248.0</td>\n",
       "      <td>7137.0</td>\n",
       "    </tr>\n",
       "    <tr>\n",
       "      <th>4574</th>\n",
       "      <td>2025-10-23</td>\n",
       "      <td>65.99</td>\n",
       "      <td>3864.0522</td>\n",
       "      <td>3906.8326</td>\n",
       "      <td>89.45</td>\n",
       "      <td>6299.0</td>\n",
       "      <td>7148.0</td>\n",
       "    </tr>\n",
       "    <tr>\n",
       "      <th>4575</th>\n",
       "      <td>2025-10-24</td>\n",
       "      <td>65.94</td>\n",
       "      <td>3892.8001</td>\n",
       "      <td>3958.2305</td>\n",
       "      <td>NaN</td>\n",
       "      <td>6358.0</td>\n",
       "      <td>7181.0</td>\n",
       "    </tr>\n",
       "  </tbody>\n",
       "</table>\n",
       "<p>755 rows × 7 columns</p>\n",
       "</div>"
      ],
      "text/plain": [
       "           Date  Brent原油期货连1合约价格/路透  山东92#汽油净价   山东0#柴油净价  航空煤油新加坡FOB价格  \\\n",
       "3821 2023-01-03               82.10  4338.8292  4668.2181        116.06   \n",
       "3822 2023-01-04               77.84  4344.0561  4665.6047        108.50   \n",
       "3823 2023-01-05               78.69  4294.4005  4620.3048        108.58   \n",
       "3824 2023-01-06               78.57  4297.0139  4607.2376        107.03   \n",
       "3825 2023-01-09               79.65  4671.6086  4717.0025        109.80   \n",
       "...         ...                 ...        ...        ...           ...   \n",
       "4571 2025-10-20               61.01  3913.7077  3854.5636           NaN   \n",
       "4572 2025-10-21               61.32  3881.4752  3844.1098         84.04   \n",
       "4573 2025-10-22               62.59  3854.4695  3862.4040         85.63   \n",
       "4574 2025-10-23               65.99  3864.0522  3906.8326         89.45   \n",
       "4575 2025-10-24               65.94  3892.8001  3958.2305           NaN   \n",
       "\n",
       "      柴油：国六：0#：市场价：山东（日）  汽油：国六：92#：市场价：山东（日）  \n",
       "3821              7173.0               7693.0  \n",
       "3822              7170.0               7699.0  \n",
       "3823              7118.0               7642.0  \n",
       "3824              7103.0               7645.0  \n",
       "3825              7229.0               8075.0  \n",
       "...                  ...                  ...  \n",
       "4571              6239.0               7205.0  \n",
       "4572              6227.0               7168.0  \n",
       "4573              6248.0               7137.0  \n",
       "4574              6299.0               7148.0  \n",
       "4575              6358.0               7181.0  \n",
       "\n",
       "[755 rows x 7 columns]"
      ]
     },
     "execution_count": 18,
     "metadata": {},
     "output_type": "execute_result"
    }
   ],
   "source": [
    "historical_data"
   ]
  },
  {
   "cell_type": "code",
   "execution_count": 19,
   "metadata": {
    "execution": {
     "iopub.execute_input": "2025-10-25T02:43:35.785227Z",
     "iopub.status.busy": "2025-10-25T02:43:35.785227Z",
     "iopub.status.idle": "2025-10-25T02:43:36.058907Z",
     "shell.execute_reply": "2025-10-25T02:43:36.058907Z"
    }
   },
   "outputs": [
    {
     "data": {
      "image/png": "[encoded data removed]",
      "text/plain": [
       "<Figure size 1500x1800 with 4 Axes>"
      ]
     },
     "metadata": {},
     "output_type": "display_data"
    }
   ],
   "source": [
    "# 设置中文字体\n",
    "plt.rcParams['font.sans-serif'] = ['SimHei']  # 用来正常显示中文标签\n",
    "plt.rcParams['axes.unicode_minus'] = False  # 用来正常显示负号\n",
    "\n",
    "# 创建子图\n",
    "fig, axes = plt.subplots(4, 1, figsize=(15, 18))\n",
    "\n",
    "# 对数据按日期升序排序\n",
    "df_gasoline_sorted = df_gasoline.sort_values('Date')\n",
    "df_diesel_sorted = df_diesel.sort_values('Date')\n",
    "df_kerosene_sorted = df_kerosene.sort_values('Date')\n",
    "\n",
    "# 将日期转换为datetime格式以便更好地显示\n",
    "df_gasoline_sorted['Date'] = pd.to_datetime(df_gasoline_sorted['Date'])\n",
    "df_diesel_sorted['Date'] = pd.to_datetime(df_diesel_sorted['Date'])\n",
    "df_kerosene_sorted['Date'] = pd.to_datetime(df_kerosene_sorted['Date'])\n",
    "\n",
    "\n",
    "merged_forecast['Date'] = pd.to_datetime(merged_forecast['Date'])\n",
    "historical_data['Date'] = pd.to_datetime(historical_data['Date'])\n",
    "\n",
    "# 汽油价格对比图\n",
    "axes[0].plot(df_gasoline_sorted['Date'], df_gasoline_sorted['汽油价格_市价'], \n",
    "             label='实际价格')\n",
    "axes[0].plot(df_gasoline_sorted['Date'], df_gasoline_sorted['汽油价格预测_市价'], \n",
    "             label='预测价格', linestyle='--')\n",
    "axes[0].set_title('汽油价格对比')\n",
    "axes[0].set_ylabel('价格 (元/吨)')\n",
    "axes[0].legend()\n",
    "axes[0].grid(True)\n",
    "\n",
    "# 柴油价格对比图\n",
    "axes[1].plot(df_diesel_sorted['Date'], df_diesel_sorted['柴油价格_市价'], \n",
    "             label='实际价格')\n",
    "axes[1].plot(df_diesel_sorted['Date'], df_diesel_sorted['柴油价格预测_市价'], \n",
    "             label='预测价格', linestyle='--')\n",
    "axes[1].set_title('柴油价格对比')\n",
    "axes[1].set_ylabel('价格 (元/吨)')\n",
    "axes[1].legend()\n",
    "axes[1].grid(True)\n",
    "\n",
    "# 航煤价格对比图\n",
    "axes[2].plot(df_kerosene_sorted['Date'], df_kerosene_sorted['航空煤油新加坡FOB价格'], \n",
    "             label='实际价格')\n",
    "axes[2].plot(df_kerosene_sorted['Date'], df_kerosene_sorted['航空煤油新加坡FOB价格_预测'], \n",
    "             label='预测价格', linestyle='--')\n",
    "axes[2].set_title('航空煤油价格对比')\n",
    "axes[2].set_xlabel('日期')\n",
    "axes[2].set_ylabel('价格 (美元/桶)')\n",
    "axes[2].legend()\n",
    "axes[2].grid(True)\n",
    "\n",
    "\n",
    "# 航煤价格对比图\n",
    "axes[3].plot(historical_data['Date'], historical_data['Brent原油期货连1合约价格/路透'], \n",
    "             label='实际价格')\n",
    "axes[3].plot(merged_forecast['Date'], merged_forecast['Brent原油期货价格预测'], \n",
    "             label='预测价格', linestyle='--')\n",
    "axes[3].set_title('Brent原油期货价格对比')\n",
    "axes[3].set_xlabel('日期')\n",
    "axes[3].set_ylabel('价格 (美元/桶)')\n",
    "axes[3].legend()\n",
    "axes[3].grid(True)\n",
    "# 调整布局并显示\n",
    "plt.show()\n"
   ]
  },
  {
   "cell_type": "markdown",
   "metadata": {},
   "source": [
    "---"
   ]
  },
  {
   "cell_type": "code",
   "execution_count": 20,
   "metadata": {
    "execution": {
     "iopub.execute_input": "2025-10-25T02:43:36.059916Z",
     "iopub.status.busy": "2025-10-25T02:43:36.059916Z",
     "iopub.status.idle": "2025-10-25T02:43:36.831196Z",
     "shell.execute_reply": "2025-10-25T02:43:36.831196Z"
    }
   },
   "outputs": [
    {
     "name": "stdout",
     "output_type": "stream",
     "text": [
      "成功更新 日度数据表 中的数据\n",
      "数据已成功更新到Excel文件\n"
     ]
    }
   ],
   "source": [
    "from Dcel import update_excel_data\n",
    "# 使用示例\n",
    "file_path = \"eta/1.汽柴煤油_数据上传.xlsx\"\n",
    "sheet_name = \"日度数据表\"\n",
    "identifier = \"汽油价格预测市价(多因子)\"\n",
    "\n",
    "# 调用函数更新数据\n",
    "success = update_excel_data(df_gasoline, file_path, sheet_name, identifier)\n",
    "\n",
    "if success:\n",
    "    print(\"数据已成功更新到Excel文件\")\n",
    "else:\n",
    "    print(\"数据更新失败，请检查错误信息\")"
   ]
  },
  {
   "cell_type": "code",
   "execution_count": 21,
   "metadata": {
    "execution": {
     "iopub.execute_input": "2025-10-25T02:43:36.832378Z",
     "iopub.status.busy": "2025-10-25T02:43:36.832378Z",
     "iopub.status.idle": "2025-10-25T02:43:38.348499Z",
     "shell.execute_reply": "2025-10-25T02:43:38.348499Z"
    }
   },
   "outputs": [
    {
     "name": "stdout",
     "output_type": "stream",
     "text": [
      "数据过滤完成: 保留 23 条数据（2024/01/31 之后），按时间倒序排列\n"
     ]
    },
    {
     "name": "stdout",
     "output_type": "stream",
     "text": [
      "已完成：插入/更新数据，并重新计算'方向/偏差率' (protected_date = 2025/10/31, cutoff_date = 2024/01/31)\n",
      "数据已成功更新到Excel文件\n"
     ]
    }
   ],
   "source": [
    "from Lcel import update_excel_data\n",
    "file_path = \"eta/1.汽柴煤油_数据上传.xlsx\"\n",
    "sheet_name = \"详情页\"\n",
    "identifier = \"汽油价格预测市价(多因子)\"      # NEW: 新增日期标识符列的抬头\n",
    "# 调用函数更新数据\n",
    "success = update_excel_data(df_gasoline_monthly, file_path, sheet_name, identifier)\n",
    "\n",
    "if success:\n",
    "    print(\"数据已成功更新到Excel文件\")\n",
    "else:\n",
    "    print(\"数据更新失败，请检查错误信息\")"
   ]
  },
  {
   "cell_type": "code",
   "execution_count": 22,
   "metadata": {
    "execution": {
     "iopub.execute_input": "2025-10-25T02:43:38.349007Z",
     "iopub.status.busy": "2025-10-25T02:43:38.349007Z",
     "iopub.status.idle": "2025-10-25T02:43:38.355443Z",
     "shell.execute_reply": "2025-10-25T02:43:38.355443Z"
    }
   },
   "outputs": [
    {
     "name": "stdout",
     "output_type": "stream",
     "text": [
      "          Date      预测叠加_汽油\n",
      "30  2025/07/31  7854.000028\n",
      "31  2025/08/31  7592.000047\n",
      "32  2025/09/30  7471.000051\n",
      "33  2025/10/31  7260.489813\n",
      "34  2025/11/30  6662.516746\n"
     ]
    }
   ],
   "source": [
    "count_prediction1 = df_gasoline.copy()\n",
    "# 将实际值和预测值合并为一列\n",
    "count_prediction1['预测叠加_汽油'] = count_prediction1['汽油价格_市价'].fillna(count_prediction1['汽油价格预测_市价'])\n",
    "# 将日期列转换为datetime格式\n",
    "count_prediction1['Date'] = pd.to_datetime(count_prediction1['Date'])\n",
    "# 设置日期为索引\n",
    "count_prediction1.set_index('Date', inplace=True)\n",
    "# 获取每月最后一天的数据\n",
    "count_monthly_data1 = count_prediction1.resample('ME').last()\n",
    "# 重置索引并格式化日期\n",
    "count_monthly_data1 = count_monthly_data1.reset_index()\n",
    "count_monthly_data1['Date'] = count_monthly_data1['Date'].dt.strftime('%Y/%m/%d')\n",
    "# 显示结果\n",
    "print(count_monthly_data1[['Date', '预测叠加_汽油']].tail())"
   ]
  },
  {
   "cell_type": "markdown",
   "metadata": {},
   "source": [
    "---"
   ]
  },
  {
   "cell_type": "code",
   "execution_count": 23,
   "metadata": {
    "execution": {
     "iopub.execute_input": "2025-10-25T02:43:38.356574Z",
     "iopub.status.busy": "2025-10-25T02:43:38.356574Z",
     "iopub.status.idle": "2025-10-25T02:43:39.080470Z",
     "shell.execute_reply": "2025-10-25T02:43:39.080470Z"
    }
   },
   "outputs": [
    {
     "name": "stdout",
     "output_type": "stream",
     "text": [
      "成功更新 日度数据表 中的数据\n",
      "数据已成功更新到Excel文件\n"
     ]
    }
   ],
   "source": [
    "from Dcel import update_excel_data\n",
    "# 使用示例\n",
    "file_path = \"eta/1.汽柴煤油_数据上传.xlsx\"\n",
    "sheet_name = \"日度数据表\"\n",
    "identifier = \"柴油价格预测市价(多因子)\"\n",
    "\n",
    "# 调用函数更新数据\n",
    "success = update_excel_data(df_diesel, file_path, sheet_name, identifier)\n",
    "\n",
    "if success:\n",
    "    print(\"数据已成功更新到Excel文件\")\n",
    "else:\n",
    "    print(\"数据更新失败，请检查错误信息\")"
   ]
  },
  {
   "cell_type": "code",
   "execution_count": 24,
   "metadata": {
    "execution": {
     "iopub.execute_input": "2025-10-25T02:43:39.081509Z",
     "iopub.status.busy": "2025-10-25T02:43:39.081509Z",
     "iopub.status.idle": "2025-10-25T02:43:40.600577Z",
     "shell.execute_reply": "2025-10-25T02:43:40.600577Z"
    }
   },
   "outputs": [
    {
     "name": "stdout",
     "output_type": "stream",
     "text": [
      "数据过滤完成: 保留 23 条数据（2024/01/31 之后），按时间倒序排列\n"
     ]
    },
    {
     "name": "stdout",
     "output_type": "stream",
     "text": [
      "已完成：插入/更新数据，并重新计算'方向/偏差率' (protected_date = 2025/10/31, cutoff_date = 2024/01/31)\n",
      "数据已成功更新到Excel文件\n"
     ]
    }
   ],
   "source": [
    "from Lcel import update_excel_data\n",
    "file_path = \"eta/1.汽柴煤油_数据上传.xlsx\"\n",
    "sheet_name = \"详情页\"\n",
    "identifier = \"柴油价格预测市价(多因子)\"      # NEW: 新增日期标识符列的抬头\n",
    "# 调用函数更新数据\n",
    "success = update_excel_data(df_diesel_monthly, file_path, sheet_name, identifier)\n",
    "\n",
    "if success:\n",
    "    print(\"数据已成功更新到Excel文件\")\n",
    "else:\n",
    "    print(\"数据更新失败，请检查错误信息\")"
   ]
  },
  {
   "cell_type": "code",
   "execution_count": 25,
   "metadata": {
    "execution": {
     "iopub.execute_input": "2025-10-25T02:43:40.601977Z",
     "iopub.status.busy": "2025-10-25T02:43:40.601977Z",
     "iopub.status.idle": "2025-10-25T02:43:40.607601Z",
     "shell.execute_reply": "2025-10-25T02:43:40.607601Z"
    }
   },
   "outputs": [
    {
     "name": "stdout",
     "output_type": "stream",
     "text": [
      "          Date      预测叠加_柴油\n",
      "30  2025/07/31  6720.000030\n",
      "31  2025/08/31  6466.000045\n",
      "32  2025/09/30  6460.999990\n",
      "33  2025/10/31  6320.253592\n",
      "34  2025/11/30  5681.300233\n"
     ]
    }
   ],
   "source": [
    "count_prediction = df_diesel.copy()\n",
    "# 将实际值和预测值合并为一列\n",
    "count_prediction['预测叠加_柴油'] = count_prediction['柴油价格_市价'].fillna(count_prediction['柴油价格预测_市价'])\n",
    "# 将日期列转换为datetime格式\n",
    "count_prediction['Date'] = pd.to_datetime(count_prediction['Date'])\n",
    "# 设置日期为索引\n",
    "count_prediction.set_index('Date', inplace=True)\n",
    "# 获取每月最后一天的数据\n",
    "count_monthly_data = count_prediction.resample('ME').last()\n",
    "# 重置索引并格式化日期\n",
    "count_monthly_data = count_monthly_data.reset_index()\n",
    "count_monthly_data['Date'] = count_monthly_data['Date'].dt.strftime('%Y/%m/%d')\n",
    "# 显示结果\n",
    "print(count_monthly_data[['Date', '预测叠加_柴油']].tail())\n"
   ]
  },
  {
   "cell_type": "markdown",
   "metadata": {},
   "source": [
    "---"
   ]
  },
  {
   "cell_type": "code",
   "execution_count": null,
   "metadata": {},
   "outputs": [],
   "source": []
  },
  {
   "cell_type": "code",
   "execution_count": 26,
   "metadata": {
    "execution": {
     "iopub.execute_input": "2025-10-25T02:43:40.608108Z",
     "iopub.status.busy": "2025-10-25T02:43:40.608108Z",
     "iopub.status.idle": "2025-10-25T02:43:41.432747Z",
     "shell.execute_reply": "2025-10-25T02:43:41.432747Z"
    }
   },
   "outputs": [
    {
     "name": "stdout",
     "output_type": "stream",
     "text": [
      "成功更新 日度数据表 中的数据\n",
      "数据已成功更新到Excel文件\n"
     ]
    }
   ],
   "source": [
    "from Dcel import update_excel_data\n",
    "# 使用示例\n",
    "file_path = \"eta/1.汽柴煤油_数据上传.xlsx\"\n",
    "sheet_name = \"日度数据表\"\n",
    "identifier = \"航空煤油新加坡FOB价格\"\n",
    "\n",
    "# 调用函数更新数据\n",
    "success = update_excel_data(df_kerosene, file_path, sheet_name, identifier)\n",
    "\n",
    "if success:\n",
    "    print(\"数据已成功更新到Excel文件\")\n",
    "else:\n",
    "    print(\"数据更新失败，请检查错误信息\")"
   ]
  },
  {
   "cell_type": "code",
   "execution_count": 27,
   "metadata": {
    "execution": {
     "iopub.execute_input": "2025-10-25T02:43:41.434271Z",
     "iopub.status.busy": "2025-10-25T02:43:41.434271Z",
     "iopub.status.idle": "2025-10-25T02:43:42.980363Z",
     "shell.execute_reply": "2025-10-25T02:43:42.980363Z"
    }
   },
   "outputs": [
    {
     "name": "stdout",
     "output_type": "stream",
     "text": [
      "数据过滤完成: 保留 23 条数据（2024/01/31 之后），按时间倒序排列\n"
     ]
    },
    {
     "name": "stdout",
     "output_type": "stream",
     "text": [
      "已完成：插入/更新数据，并重新计算'方向/偏差率' (protected_date = 2025/10/31, cutoff_date = 2024/01/31)\n",
      "数据已成功更新到Excel文件\n"
     ]
    }
   ],
   "source": [
    "from Lcel import update_excel_data\n",
    "file_path = \"eta/1.汽柴煤油_数据上传.xlsx\"\n",
    "sheet_name = \"详情页\"\n",
    "identifier = \"航空煤油新加坡FOB价格\"     # NEW: 新增日期标识符列的抬头\n",
    "# 调用函数更新数据\n",
    "success = update_excel_data(df_kerosene_monthly, file_path, sheet_name, identifier)\n",
    "\n",
    "if success:\n",
    "    print(\"数据已成功更新到Excel文件\")\n",
    "else:\n",
    "    print(\"数据更新失败，请检查错误信息\")"
   ]
  },
  {
   "cell_type": "code",
   "execution_count": null,
   "metadata": {},
   "outputs": [],
   "source": []
  }
 ],
 "metadata": {
  "kernelspec": {
   "display_name": "base",
   "language": "python",
   "name": "python3"
  },
  "language_info": {
   "codemirror_mode": {
    "name": "ipython",
    "version": 3
   },
   "file_extension": ".py",
   "mimetype": "text/x-python",
   "name": "python",
   "nbconvert_exporter": "python",
   "pygments_lexer": "ipython3",
   "version": "3.12.4"
  }
 },
 "nbformat": 4,
 "nbformat_minor": 2
}
